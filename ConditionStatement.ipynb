{
 "cells": [
  {
   "cell_type": "code",
   "execution_count": 2,
   "metadata": {},
   "outputs": [
    {
     "name": "stdout",
     "output_type": "stream",
     "text": [
      "Fail hoga\n"
     ]
    }
   ],
   "source": [
    "pdhai = \"Nahi Kari hai\"\n",
    "\n",
    "if pdhai == \"Kari hai\" :\n",
    "    print(\"Pass Hoga\")\n",
    "else :\n",
    "    print(\"Fail hoga\")"
   ]
  },
  {
   "cell_type": "code",
   "execution_count": 4,
   "metadata": {},
   "outputs": [
    {
     "name": "stdout",
     "output_type": "stream",
     "text": [
      "1\n"
     ]
    }
   ],
   "source": [
    "# reminder \n",
    "num1 =112345 \n",
    "rem = num1 % 2\n",
    "print(rem)"
   ]
  },
  {
   "cell_type": "code",
   "execution_count": 6,
   "metadata": {},
   "outputs": [
    {
     "name": "stdout",
     "output_type": "stream",
     "text": [
      "Even\n"
     ]
    }
   ],
   "source": [
    "# Even or ODD\n",
    "num = 12346\n",
    "reminder = num % 2\n",
    "if reminder == 0 :\n",
    "    print(\"Even\")\n",
    "else :\n",
    "    print(\"odd\")"
   ]
  },
  {
   "cell_type": "code",
   "execution_count": 7,
   "metadata": {},
   "outputs": [
    {
     "name": "stdout",
     "output_type": "stream",
     "text": [
      "Not a Multiple\n"
     ]
    }
   ],
   "source": [
    "# Check whether a number is multiple of 5\n",
    "num = 12346\n",
    "reminder = num % 5\n",
    "if reminder == 0 :\n",
    "    print(\"Multiple of 5 \")\n",
    "else :\n",
    "    print(\"Not a Multiple\")"
   ]
  },
  {
   "cell_type": "code",
   "execution_count": 11,
   "metadata": {},
   "outputs": [
    {
     "name": "stdout",
     "output_type": "stream",
     "text": [
      "8\n"
     ]
    }
   ],
   "source": [
    "number =12345678\n",
    "# lastDigit = number // 10 # Wrong\n",
    "\n",
    "lastDigit = number % 10  # this is the formula of Last digit\n",
    "print(lastDigit)"
   ]
  },
  {
   "cell_type": "code",
   "execution_count": 12,
   "metadata": {},
   "outputs": [
    {
     "name": "stdout",
     "output_type": "stream",
     "text": [
      "last digit is Even\n"
     ]
    }
   ],
   "source": [
    "number = 123456\n",
    "lastDigit= number % 10 # Eq 1\n",
    "reminderby2 = lastDigit % 2 # Eq 2\n",
    "\n",
    "if reminderby2 == 0 : # eq 3\n",
    "    print(\"last digit is Even\")\n",
    "else:\n",
    "    print(\"Last digit is odd\")\n",
    "\n",
    "\n"
   ]
  },
  {
   "cell_type": "code",
   "execution_count": null,
   "metadata": {},
   "outputs": [],
   "source": [
    "number = 123456\n",
    "\n",
    "\n",
    "if number % 10 % 2 == 0 : #  complex method of doing same thing as above\n",
    "    print(\"last digit is Even\")\n",
    "else:\n",
    "    print(\"Last digit is odd\")"
   ]
  },
  {
   "cell_type": "code",
   "execution_count": null,
   "metadata": {},
   "outputs": [],
   "source": [
    "# Even or ODD\n",
    "num = 12346\n",
    "\n",
    "if num % 2 == 0 : # same as above\n",
    "    print(\"Even\")\n",
    "else :\n",
    "    print(\"odd\")"
   ]
  }
 ],
 "metadata": {
  "kernelspec": {
   "display_name": "Python 3",
   "language": "python",
   "name": "python3"
  },
  "language_info": {
   "codemirror_mode": {
    "name": "ipython",
    "version": 3
   },
   "file_extension": ".py",
   "mimetype": "text/x-python",
   "name": "python",
   "nbconvert_exporter": "python",
   "pygments_lexer": "ipython3",
   "version": "3.12.1"
  }
 },
 "nbformat": 4,
 "nbformat_minor": 2
}
