{
 "cells": [
  {
   "cell_type": "code",
   "execution_count": 1,
   "metadata": {},
   "outputs": [
    {
     "name": "stdout",
     "output_type": "stream",
     "text": [
      "Requirement already satisfied: numpy in /Library/Frameworks/Python.framework/Versions/3.12/lib/python3.12/site-packages (1.26.4)\n",
      "\n",
      "\u001b[1m[\u001b[0m\u001b[34;49mnotice\u001b[0m\u001b[1;39;49m]\u001b[0m\u001b[39;49m A new release of pip is available: \u001b[0m\u001b[31;49m23.2.1\u001b[0m\u001b[39;49m -> \u001b[0m\u001b[32;49m25.0.1\u001b[0m\n",
      "\u001b[1m[\u001b[0m\u001b[34;49mnotice\u001b[0m\u001b[1;39;49m]\u001b[0m\u001b[39;49m To update, run: \u001b[0m\u001b[32;49mpython3 -m pip install --upgrade pip\u001b[0m\n",
      "Note: you may need to restart the kernel to use updated packages.\n",
      "Requirement already satisfied: pandas in /Library/Frameworks/Python.framework/Versions/3.12/lib/python3.12/site-packages (2.2.2)\n",
      "Requirement already satisfied: numpy>=1.26.0 in /Library/Frameworks/Python.framework/Versions/3.12/lib/python3.12/site-packages (from pandas) (1.26.4)\n",
      "Requirement already satisfied: python-dateutil>=2.8.2 in /Users/macpc/Library/Python/3.12/lib/python/site-packages (from pandas) (2.9.0.post0)\n",
      "Requirement already satisfied: pytz>=2020.1 in /Library/Frameworks/Python.framework/Versions/3.12/lib/python3.12/site-packages (from pandas) (2024.1)\n",
      "Requirement already satisfied: tzdata>=2022.7 in /Library/Frameworks/Python.framework/Versions/3.12/lib/python3.12/site-packages (from pandas) (2024.1)\n",
      "Requirement already satisfied: six>=1.5 in /Users/macpc/Library/Python/3.12/lib/python/site-packages (from python-dateutil>=2.8.2->pandas) (1.16.0)\n",
      "\n",
      "\u001b[1m[\u001b[0m\u001b[34;49mnotice\u001b[0m\u001b[1;39;49m]\u001b[0m\u001b[39;49m A new release of pip is available: \u001b[0m\u001b[31;49m23.2.1\u001b[0m\u001b[39;49m -> \u001b[0m\u001b[32;49m25.0.1\u001b[0m\n",
      "\u001b[1m[\u001b[0m\u001b[34;49mnotice\u001b[0m\u001b[1;39;49m]\u001b[0m\u001b[39;49m To update, run: \u001b[0m\u001b[32;49mpython3 -m pip install --upgrade pip\u001b[0m\n",
      "Note: you may need to restart the kernel to use updated packages.\n",
      "Requirement already satisfied: matplotlib in /Library/Frameworks/Python.framework/Versions/3.12/lib/python3.12/site-packages (3.9.2)\n",
      "Requirement already satisfied: contourpy>=1.0.1 in /Library/Frameworks/Python.framework/Versions/3.12/lib/python3.12/site-packages (from matplotlib) (1.3.0)\n",
      "Requirement already satisfied: cycler>=0.10 in /Library/Frameworks/Python.framework/Versions/3.12/lib/python3.12/site-packages (from matplotlib) (0.12.1)\n",
      "Requirement already satisfied: fonttools>=4.22.0 in /Library/Frameworks/Python.framework/Versions/3.12/lib/python3.12/site-packages (from matplotlib) (4.54.1)\n",
      "Requirement already satisfied: kiwisolver>=1.3.1 in /Library/Frameworks/Python.framework/Versions/3.12/lib/python3.12/site-packages (from matplotlib) (1.4.7)\n",
      "Requirement already satisfied: numpy>=1.23 in /Library/Frameworks/Python.framework/Versions/3.12/lib/python3.12/site-packages (from matplotlib) (1.26.4)\n",
      "Requirement already satisfied: packaging>=20.0 in /Users/macpc/Library/Python/3.12/lib/python/site-packages (from matplotlib) (24.0)\n",
      "Requirement already satisfied: pillow>=8 in /Library/Frameworks/Python.framework/Versions/3.12/lib/python3.12/site-packages (from matplotlib) (11.0.0)\n",
      "Requirement already satisfied: pyparsing>=2.3.1 in /Library/Frameworks/Python.framework/Versions/3.12/lib/python3.12/site-packages (from matplotlib) (3.2.0)\n",
      "Requirement already satisfied: python-dateutil>=2.7 in /Users/macpc/Library/Python/3.12/lib/python/site-packages (from matplotlib) (2.9.0.post0)\n",
      "Requirement already satisfied: six>=1.5 in /Users/macpc/Library/Python/3.12/lib/python/site-packages (from python-dateutil>=2.7->matplotlib) (1.16.0)\n",
      "\n",
      "\u001b[1m[\u001b[0m\u001b[34;49mnotice\u001b[0m\u001b[1;39;49m]\u001b[0m\u001b[39;49m A new release of pip is available: \u001b[0m\u001b[31;49m23.2.1\u001b[0m\u001b[39;49m -> \u001b[0m\u001b[32;49m25.0.1\u001b[0m\n",
      "\u001b[1m[\u001b[0m\u001b[34;49mnotice\u001b[0m\u001b[1;39;49m]\u001b[0m\u001b[39;49m To update, run: \u001b[0m\u001b[32;49mpython3 -m pip install --upgrade pip\u001b[0m\n",
      "Note: you may need to restart the kernel to use updated packages.\n",
      "Requirement already satisfied: seaborn in /Library/Frameworks/Python.framework/Versions/3.12/lib/python3.12/site-packages (0.13.2)\n",
      "Requirement already satisfied: numpy!=1.24.0,>=1.20 in /Library/Frameworks/Python.framework/Versions/3.12/lib/python3.12/site-packages (from seaborn) (1.26.4)\n",
      "Requirement already satisfied: pandas>=1.2 in /Library/Frameworks/Python.framework/Versions/3.12/lib/python3.12/site-packages (from seaborn) (2.2.2)\n",
      "Requirement already satisfied: matplotlib!=3.6.1,>=3.4 in /Library/Frameworks/Python.framework/Versions/3.12/lib/python3.12/site-packages (from seaborn) (3.9.2)\n",
      "Requirement already satisfied: contourpy>=1.0.1 in /Library/Frameworks/Python.framework/Versions/3.12/lib/python3.12/site-packages (from matplotlib!=3.6.1,>=3.4->seaborn) (1.3.0)\n",
      "Requirement already satisfied: cycler>=0.10 in /Library/Frameworks/Python.framework/Versions/3.12/lib/python3.12/site-packages (from matplotlib!=3.6.1,>=3.4->seaborn) (0.12.1)\n",
      "Requirement already satisfied: fonttools>=4.22.0 in /Library/Frameworks/Python.framework/Versions/3.12/lib/python3.12/site-packages (from matplotlib!=3.6.1,>=3.4->seaborn) (4.54.1)\n",
      "Requirement already satisfied: kiwisolver>=1.3.1 in /Library/Frameworks/Python.framework/Versions/3.12/lib/python3.12/site-packages (from matplotlib!=3.6.1,>=3.4->seaborn) (1.4.7)\n",
      "Requirement already satisfied: packaging>=20.0 in /Users/macpc/Library/Python/3.12/lib/python/site-packages (from matplotlib!=3.6.1,>=3.4->seaborn) (24.0)\n",
      "Requirement already satisfied: pillow>=8 in /Library/Frameworks/Python.framework/Versions/3.12/lib/python3.12/site-packages (from matplotlib!=3.6.1,>=3.4->seaborn) (11.0.0)\n",
      "Requirement already satisfied: pyparsing>=2.3.1 in /Library/Frameworks/Python.framework/Versions/3.12/lib/python3.12/site-packages (from matplotlib!=3.6.1,>=3.4->seaborn) (3.2.0)\n",
      "Requirement already satisfied: python-dateutil>=2.7 in /Users/macpc/Library/Python/3.12/lib/python/site-packages (from matplotlib!=3.6.1,>=3.4->seaborn) (2.9.0.post0)\n",
      "Requirement already satisfied: pytz>=2020.1 in /Library/Frameworks/Python.framework/Versions/3.12/lib/python3.12/site-packages (from pandas>=1.2->seaborn) (2024.1)\n",
      "Requirement already satisfied: tzdata>=2022.7 in /Library/Frameworks/Python.framework/Versions/3.12/lib/python3.12/site-packages (from pandas>=1.2->seaborn) (2024.1)\n",
      "Requirement already satisfied: six>=1.5 in /Users/macpc/Library/Python/3.12/lib/python/site-packages (from python-dateutil>=2.7->matplotlib!=3.6.1,>=3.4->seaborn) (1.16.0)\n",
      "\n",
      "\u001b[1m[\u001b[0m\u001b[34;49mnotice\u001b[0m\u001b[1;39;49m]\u001b[0m\u001b[39;49m A new release of pip is available: \u001b[0m\u001b[31;49m23.2.1\u001b[0m\u001b[39;49m -> \u001b[0m\u001b[32;49m25.0.1\u001b[0m\n",
      "\u001b[1m[\u001b[0m\u001b[34;49mnotice\u001b[0m\u001b[1;39;49m]\u001b[0m\u001b[39;49m To update, run: \u001b[0m\u001b[32;49mpython3 -m pip install --upgrade pip\u001b[0m\n",
      "Note: you may need to restart the kernel to use updated packages.\n",
      "Requirement already satisfied: plotly in /Library/Frameworks/Python.framework/Versions/3.12/lib/python3.12/site-packages (5.24.1)\n",
      "Requirement already satisfied: tenacity>=6.2.0 in /Library/Frameworks/Python.framework/Versions/3.12/lib/python3.12/site-packages (from plotly) (9.0.0)\n",
      "Requirement already satisfied: packaging in /Users/macpc/Library/Python/3.12/lib/python/site-packages (from plotly) (24.0)\n",
      "\n",
      "\u001b[1m[\u001b[0m\u001b[34;49mnotice\u001b[0m\u001b[1;39;49m]\u001b[0m\u001b[39;49m A new release of pip is available: \u001b[0m\u001b[31;49m23.2.1\u001b[0m\u001b[39;49m -> \u001b[0m\u001b[32;49m25.0.1\u001b[0m\n",
      "\u001b[1m[\u001b[0m\u001b[34;49mnotice\u001b[0m\u001b[1;39;49m]\u001b[0m\u001b[39;49m To update, run: \u001b[0m\u001b[32;49mpython3 -m pip install --upgrade pip\u001b[0m\n",
      "Note: you may need to restart the kernel to use updated packages.\n"
     ]
    }
   ],
   "source": [
    "%pip install numpy\n",
    "%pip install pandas\n",
    "%pip install matplotlib\n",
    "%pip install seaborn\n",
    "%pip install plotly"
   ]
  },
  {
   "cell_type": "code",
   "execution_count": 2,
   "metadata": {},
   "outputs": [],
   "source": [
    "import numpy as np \n",
    "import pandas as pd \n",
    "import matplotlib.pyplot as plt \n",
    "import seaborn as sns \n"
   ]
  },
  {
   "cell_type": "code",
   "execution_count": 3,
   "metadata": {},
   "outputs": [],
   "source": [
    "data = pd.read_csv(\"../sales_data.csv\")"
   ]
  },
  {
   "cell_type": "code",
   "execution_count": 4,
   "metadata": {},
   "outputs": [
    {
     "data": {
      "text/html": [
       "<div>\n",
       "<style scoped>\n",
       "    .dataframe tbody tr th:only-of-type {\n",
       "        vertical-align: middle;\n",
       "    }\n",
       "\n",
       "    .dataframe tbody tr th {\n",
       "        vertical-align: top;\n",
       "    }\n",
       "\n",
       "    .dataframe thead th {\n",
       "        text-align: right;\n",
       "    }\n",
       "</style>\n",
       "<table border=\"1\" class=\"dataframe\">\n",
       "  <thead>\n",
       "    <tr style=\"text-align: right;\">\n",
       "      <th></th>\n",
       "      <th>date</th>\n",
       "      <th>product</th>\n",
       "      <th>category</th>\n",
       "      <th>price</th>\n",
       "      <th>quantity</th>\n",
       "      <th>revenue</th>\n",
       "    </tr>\n",
       "  </thead>\n",
       "  <tbody>\n",
       "    <tr>\n",
       "      <th>0</th>\n",
       "      <td>2022-01-01</td>\n",
       "      <td>Smartphone</td>\n",
       "      <td>Electronics</td>\n",
       "      <td>600.0</td>\n",
       "      <td>10.0</td>\n",
       "      <td>6000.0</td>\n",
       "    </tr>\n",
       "    <tr>\n",
       "      <th>1</th>\n",
       "      <td>2022-01-01</td>\n",
       "      <td>Laptop</td>\n",
       "      <td>Electronics</td>\n",
       "      <td>1200.0</td>\n",
       "      <td>5.0</td>\n",
       "      <td>6000.0</td>\n",
       "    </tr>\n",
       "    <tr>\n",
       "      <th>2</th>\n",
       "      <td>2022-01-02</td>\n",
       "      <td>T-Shirt</td>\n",
       "      <td>Clothing</td>\n",
       "      <td>20.0</td>\n",
       "      <td>50.0</td>\n",
       "      <td>1000.0</td>\n",
       "    </tr>\n",
       "    <tr>\n",
       "      <th>3</th>\n",
       "      <td>2022-01-03</td>\n",
       "      <td>Headphones</td>\n",
       "      <td>Electronics</td>\n",
       "      <td>100.0</td>\n",
       "      <td>20.0</td>\n",
       "      <td>2000.0</td>\n",
       "    </tr>\n",
       "    <tr>\n",
       "      <th>4</th>\n",
       "      <td>2022-01-04</td>\n",
       "      <td>T-Shirt</td>\n",
       "      <td>Clothing</td>\n",
       "      <td>20.0</td>\n",
       "      <td>25.0</td>\n",
       "      <td>500.0</td>\n",
       "    </tr>\n",
       "    <tr>\n",
       "      <th>...</th>\n",
       "      <td>...</td>\n",
       "      <td>...</td>\n",
       "      <td>...</td>\n",
       "      <td>...</td>\n",
       "      <td>...</td>\n",
       "      <td>...</td>\n",
       "    </tr>\n",
       "    <tr>\n",
       "      <th>364</th>\n",
       "      <td>2022-12-27</td>\n",
       "      <td>Watch</td>\n",
       "      <td>Accessories</td>\n",
       "      <td>150.0</td>\n",
       "      <td>5.0</td>\n",
       "      <td>750.0</td>\n",
       "    </tr>\n",
       "    <tr>\n",
       "      <th>365</th>\n",
       "      <td>2022-12-28</td>\n",
       "      <td>Coat</td>\n",
       "      <td>Clothing</td>\n",
       "      <td>100.0</td>\n",
       "      <td>5.0</td>\n",
       "      <td>500.0</td>\n",
       "    </tr>\n",
       "    <tr>\n",
       "      <th>366</th>\n",
       "      <td>2022-12-29</td>\n",
       "      <td>Headphones</td>\n",
       "      <td>Electronics</td>\n",
       "      <td>100.0</td>\n",
       "      <td>10.0</td>\n",
       "      <td>1000.0</td>\n",
       "    </tr>\n",
       "    <tr>\n",
       "      <th>367</th>\n",
       "      <td>2022-12-30</td>\n",
       "      <td>Smartphone</td>\n",
       "      <td>Electronics</td>\n",
       "      <td>600.0</td>\n",
       "      <td>11.0</td>\n",
       "      <td>6600.0</td>\n",
       "    </tr>\n",
       "    <tr>\n",
       "      <th>368</th>\n",
       "      <td>2022-12-31</td>\n",
       "      <td>Hoodie</td>\n",
       "      <td>Clothing</td>\n",
       "      <td>40.0</td>\n",
       "      <td>30.0</td>\n",
       "      <td>1200.0</td>\n",
       "    </tr>\n",
       "  </tbody>\n",
       "</table>\n",
       "<p>369 rows × 6 columns</p>\n",
       "</div>"
      ],
      "text/plain": [
       "           date     product     category   price  quantity  revenue\n",
       "0    2022-01-01  Smartphone  Electronics   600.0      10.0   6000.0\n",
       "1    2022-01-01      Laptop  Electronics  1200.0       5.0   6000.0\n",
       "2    2022-01-02     T-Shirt     Clothing    20.0      50.0   1000.0\n",
       "3    2022-01-03  Headphones  Electronics   100.0      20.0   2000.0\n",
       "4    2022-01-04     T-Shirt     Clothing    20.0      25.0    500.0\n",
       "..          ...         ...          ...     ...       ...      ...\n",
       "364  2022-12-27       Watch  Accessories   150.0       5.0    750.0\n",
       "365  2022-12-28        Coat     Clothing   100.0       5.0    500.0\n",
       "366  2022-12-29  Headphones  Electronics   100.0      10.0   1000.0\n",
       "367  2022-12-30  Smartphone  Electronics   600.0      11.0   6600.0\n",
       "368  2022-12-31      Hoodie     Clothing    40.0      30.0   1200.0\n",
       "\n",
       "[369 rows x 6 columns]"
      ]
     },
     "execution_count": 4,
     "metadata": {},
     "output_type": "execute_result"
    }
   ],
   "source": [
    "data"
   ]
  },
  {
   "cell_type": "code",
   "execution_count": 5,
   "metadata": {},
   "outputs": [
    {
     "data": {
      "text/plain": [
       "0      2022-01-01\n",
       "1      2022-01-01\n",
       "2      2022-01-02\n",
       "3      2022-01-03\n",
       "4      2022-01-04\n",
       "          ...    \n",
       "364    2022-12-27\n",
       "365    2022-12-28\n",
       "366    2022-12-29\n",
       "367    2022-12-30\n",
       "368    2022-12-31\n",
       "Name: date, Length: 369, dtype: object"
      ]
     },
     "execution_count": 5,
     "metadata": {},
     "output_type": "execute_result"
    }
   ],
   "source": [
    "data[\"date\"]"
   ]
  },
  {
   "cell_type": "code",
   "execution_count": 6,
   "metadata": {},
   "outputs": [
    {
     "data": {
      "text/plain": [
       "0      Electronics\n",
       "1      Electronics\n",
       "2         Clothing\n",
       "3      Electronics\n",
       "4         Clothing\n",
       "          ...     \n",
       "364    Accessories\n",
       "365       Clothing\n",
       "366    Electronics\n",
       "367    Electronics\n",
       "368       Clothing\n",
       "Name: category, Length: 369, dtype: object"
      ]
     },
     "execution_count": 6,
     "metadata": {},
     "output_type": "execute_result"
    }
   ],
   "source": [
    "data[\"category\"]"
   ]
  },
  {
   "cell_type": "code",
   "execution_count": 7,
   "metadata": {},
   "outputs": [
    {
     "name": "stdout",
     "output_type": "stream",
     "text": [
      "<class 'pandas.core.frame.DataFrame'>\n",
      "RangeIndex: 369 entries, 0 to 368\n",
      "Data columns (total 6 columns):\n",
      " #   Column    Non-Null Count  Dtype  \n",
      "---  ------    --------------  -----  \n",
      " 0   date      369 non-null    object \n",
      " 1   product   369 non-null    object \n",
      " 2   category  369 non-null    object \n",
      " 3   price     367 non-null    float64\n",
      " 4   quantity  368 non-null    float64\n",
      " 5   revenue   368 non-null    float64\n",
      "dtypes: float64(3), object(3)\n",
      "memory usage: 17.4+ KB\n"
     ]
    }
   ],
   "source": [
    "data.info()"
   ]
  },
  {
   "cell_type": "code",
   "execution_count": 8,
   "metadata": {},
   "outputs": [
    {
     "name": "stderr",
     "output_type": "stream",
     "text": [
      "/var/folders/dy/q69lm6yx7cg8tqqkmwwbbzmm0000gn/T/ipykernel_7509/1468394833.py:1: FutureWarning: ChainedAssignmentError: behaviour will change in pandas 3.0!\n",
      "You are setting values through chained assignment. Currently this works in certain cases, but when using Copy-on-Write (which will become the default behaviour in pandas 3.0) this will never work to update the original DataFrame or Series, because the intermediate object on which we are setting values will behave as a copy.\n",
      "A typical example is when you are setting values in a column of a DataFrame, like:\n",
      "\n",
      "df[\"col\"][row_indexer] = value\n",
      "\n",
      "Use `df.loc[row_indexer, \"col\"] = values` instead, to perform the assignment in a single step and ensure this keeps updating the original `df`.\n",
      "\n",
      "See the caveats in the documentation: https://pandas.pydata.org/pandas-docs/stable/user_guide/indexing.html#returning-a-view-versus-a-copy\n",
      "\n",
      "  data[\"price\"][data[\"price\"] == None] = data[\"revenue\"] / data[\"quantity\"]\n",
      "/var/folders/dy/q69lm6yx7cg8tqqkmwwbbzmm0000gn/T/ipykernel_7509/1468394833.py:1: SettingWithCopyWarning: \n",
      "A value is trying to be set on a copy of a slice from a DataFrame\n",
      "\n",
      "See the caveats in the documentation: https://pandas.pydata.org/pandas-docs/stable/user_guide/indexing.html#returning-a-view-versus-a-copy\n",
      "  data[\"price\"][data[\"price\"] == None] = data[\"revenue\"] / data[\"quantity\"]\n"
     ]
    }
   ],
   "source": [
    "data[\"price\"][data[\"price\"] == None] = data[\"revenue\"] / data[\"quantity\"]"
   ]
  },
  {
   "cell_type": "code",
   "execution_count": null,
   "metadata": {},
   "outputs": [],
   "source": []
  },
  {
   "cell_type": "code",
   "execution_count": 9,
   "metadata": {},
   "outputs": [
    {
     "data": {
      "text/plain": [
       "date        0\n",
       "product     0\n",
       "category    0\n",
       "price       2\n",
       "quantity    1\n",
       "revenue     1\n",
       "dtype: int64"
      ]
     },
     "execution_count": 9,
     "metadata": {},
     "output_type": "execute_result"
    }
   ],
   "source": [
    "data.isnull().sum()"
   ]
  },
  {
   "cell_type": "code",
   "execution_count": 10,
   "metadata": {},
   "outputs": [
    {
     "data": {
      "text/plain": [
       "0      False\n",
       "1      False\n",
       "2      False\n",
       "3      False\n",
       "4      False\n",
       "       ...  \n",
       "364    False\n",
       "365    False\n",
       "366    False\n",
       "367    False\n",
       "368    False\n",
       "Name: price, Length: 369, dtype: bool"
      ]
     },
     "execution_count": 10,
     "metadata": {},
     "output_type": "execute_result"
    }
   ],
   "source": [
    "data[\"price\"].isnull()"
   ]
  },
  {
   "cell_type": "code",
   "execution_count": 11,
   "metadata": {},
   "outputs": [
    {
     "name": "stderr",
     "output_type": "stream",
     "text": [
      "/var/folders/dy/q69lm6yx7cg8tqqkmwwbbzmm0000gn/T/ipykernel_7509/2456093757.py:1: FutureWarning: ChainedAssignmentError: behaviour will change in pandas 3.0!\n",
      "You are setting values through chained assignment. Currently this works in certain cases, but when using Copy-on-Write (which will become the default behaviour in pandas 3.0) this will never work to update the original DataFrame or Series, because the intermediate object on which we are setting values will behave as a copy.\n",
      "A typical example is when you are setting values in a column of a DataFrame, like:\n",
      "\n",
      "df[\"col\"][row_indexer] = value\n",
      "\n",
      "Use `df.loc[row_indexer, \"col\"] = values` instead, to perform the assignment in a single step and ensure this keeps updating the original `df`.\n",
      "\n",
      "See the caveats in the documentation: https://pandas.pydata.org/pandas-docs/stable/user_guide/indexing.html#returning-a-view-versus-a-copy\n",
      "\n",
      "  data[\"price\"][data[\"price\"].isnull()] = data[\"revenue\"] / data[\"quantity\"]\n",
      "/var/folders/dy/q69lm6yx7cg8tqqkmwwbbzmm0000gn/T/ipykernel_7509/2456093757.py:1: SettingWithCopyWarning: \n",
      "A value is trying to be set on a copy of a slice from a DataFrame\n",
      "\n",
      "See the caveats in the documentation: https://pandas.pydata.org/pandas-docs/stable/user_guide/indexing.html#returning-a-view-versus-a-copy\n",
      "  data[\"price\"][data[\"price\"].isnull()] = data[\"revenue\"] / data[\"quantity\"]\n"
     ]
    }
   ],
   "source": [
    "data[\"price\"][data[\"price\"].isnull()] = data[\"revenue\"] / data[\"quantity\"]"
   ]
  },
  {
   "cell_type": "code",
   "execution_count": 12,
   "metadata": {},
   "outputs": [
    {
     "data": {
      "text/plain": [
       "30.0"
      ]
     },
     "execution_count": 12,
     "metadata": {},
     "output_type": "execute_result"
    }
   ],
   "source": [
    "data[\"price\"][320]"
   ]
  },
  {
   "cell_type": "code",
   "execution_count": 13,
   "metadata": {},
   "outputs": [
    {
     "data": {
      "text/plain": [
       "0"
      ]
     },
     "execution_count": 13,
     "metadata": {},
     "output_type": "execute_result"
    }
   ],
   "source": [
    "data[\"price\"].isnull().sum()"
   ]
  },
  {
   "cell_type": "code",
   "execution_count": 14,
   "metadata": {},
   "outputs": [
    {
     "name": "stderr",
     "output_type": "stream",
     "text": [
      "/var/folders/dy/q69lm6yx7cg8tqqkmwwbbzmm0000gn/T/ipykernel_7509/792893271.py:1: FutureWarning: ChainedAssignmentError: behaviour will change in pandas 3.0!\n",
      "You are setting values through chained assignment. Currently this works in certain cases, but when using Copy-on-Write (which will become the default behaviour in pandas 3.0) this will never work to update the original DataFrame or Series, because the intermediate object on which we are setting values will behave as a copy.\n",
      "A typical example is when you are setting values in a column of a DataFrame, like:\n",
      "\n",
      "df[\"col\"][row_indexer] = value\n",
      "\n",
      "Use `df.loc[row_indexer, \"col\"] = values` instead, to perform the assignment in a single step and ensure this keeps updating the original `df`.\n",
      "\n",
      "See the caveats in the documentation: https://pandas.pydata.org/pandas-docs/stable/user_guide/indexing.html#returning-a-view-versus-a-copy\n",
      "\n",
      "  data[\"quantity\"][data[\"quantity\"].isnull()] = data[\"revenue\"]/ data[\"price\"]\n",
      "/var/folders/dy/q69lm6yx7cg8tqqkmwwbbzmm0000gn/T/ipykernel_7509/792893271.py:1: SettingWithCopyWarning: \n",
      "A value is trying to be set on a copy of a slice from a DataFrame\n",
      "\n",
      "See the caveats in the documentation: https://pandas.pydata.org/pandas-docs/stable/user_guide/indexing.html#returning-a-view-versus-a-copy\n",
      "  data[\"quantity\"][data[\"quantity\"].isnull()] = data[\"revenue\"]/ data[\"price\"]\n"
     ]
    }
   ],
   "source": [
    "data[\"quantity\"][data[\"quantity\"].isnull()] = data[\"revenue\"]/ data[\"price\"]"
   ]
  },
  {
   "cell_type": "code",
   "execution_count": 15,
   "metadata": {},
   "outputs": [
    {
     "data": {
      "text/plain": [
       "0"
      ]
     },
     "execution_count": 15,
     "metadata": {},
     "output_type": "execute_result"
    }
   ],
   "source": [
    "data[\"quantity\"].isnull().sum()"
   ]
  },
  {
   "cell_type": "code",
   "execution_count": 16,
   "metadata": {},
   "outputs": [
    {
     "name": "stderr",
     "output_type": "stream",
     "text": [
      "/var/folders/dy/q69lm6yx7cg8tqqkmwwbbzmm0000gn/T/ipykernel_7509/3071423418.py:1: FutureWarning: ChainedAssignmentError: behaviour will change in pandas 3.0!\n",
      "You are setting values through chained assignment. Currently this works in certain cases, but when using Copy-on-Write (which will become the default behaviour in pandas 3.0) this will never work to update the original DataFrame or Series, because the intermediate object on which we are setting values will behave as a copy.\n",
      "A typical example is when you are setting values in a column of a DataFrame, like:\n",
      "\n",
      "df[\"col\"][row_indexer] = value\n",
      "\n",
      "Use `df.loc[row_indexer, \"col\"] = values` instead, to perform the assignment in a single step and ensure this keeps updating the original `df`.\n",
      "\n",
      "See the caveats in the documentation: https://pandas.pydata.org/pandas-docs/stable/user_guide/indexing.html#returning-a-view-versus-a-copy\n",
      "\n",
      "  data[\"revenue\"][data[\"revenue\"].isnull()] = data[\"price\"] * data[\"quantity\"]\n",
      "/var/folders/dy/q69lm6yx7cg8tqqkmwwbbzmm0000gn/T/ipykernel_7509/3071423418.py:1: SettingWithCopyWarning: \n",
      "A value is trying to be set on a copy of a slice from a DataFrame\n",
      "\n",
      "See the caveats in the documentation: https://pandas.pydata.org/pandas-docs/stable/user_guide/indexing.html#returning-a-view-versus-a-copy\n",
      "  data[\"revenue\"][data[\"revenue\"].isnull()] = data[\"price\"] * data[\"quantity\"]\n"
     ]
    }
   ],
   "source": [
    "data[\"revenue\"][data[\"revenue\"].isnull()] = data[\"price\"] * data[\"quantity\"]"
   ]
  },
  {
   "cell_type": "code",
   "execution_count": 17,
   "metadata": {},
   "outputs": [
    {
     "data": {
      "text/plain": [
       "0"
      ]
     },
     "execution_count": 17,
     "metadata": {},
     "output_type": "execute_result"
    }
   ],
   "source": [
    "data[\"revenue\"].isnull().sum()"
   ]
  },
  {
   "cell_type": "code",
   "execution_count": 18,
   "metadata": {},
   "outputs": [
    {
     "name": "stdout",
     "output_type": "stream",
     "text": [
      "<class 'pandas.core.frame.DataFrame'>\n",
      "RangeIndex: 369 entries, 0 to 368\n",
      "Data columns (total 6 columns):\n",
      " #   Column    Non-Null Count  Dtype  \n",
      "---  ------    --------------  -----  \n",
      " 0   date      369 non-null    object \n",
      " 1   product   369 non-null    object \n",
      " 2   category  369 non-null    object \n",
      " 3   price     369 non-null    float64\n",
      " 4   quantity  369 non-null    float64\n",
      " 5   revenue   369 non-null    float64\n",
      "dtypes: float64(3), object(3)\n",
      "memory usage: 17.4+ KB\n"
     ]
    }
   ],
   "source": [
    "data.info()"
   ]
  },
  {
   "cell_type": "code",
   "execution_count": 19,
   "metadata": {},
   "outputs": [],
   "source": [
    "data[\"price\"] = data[\"price\"].astype(np.int64)\n",
    "data[\"quantity\"] = data[\"quantity\"].astype(np.int64)\n",
    "data[\"revenue\"] = data[\"revenue\"].astype(np.int64)"
   ]
  },
  {
   "cell_type": "code",
   "execution_count": 20,
   "metadata": {},
   "outputs": [
    {
     "name": "stdout",
     "output_type": "stream",
     "text": [
      "<class 'pandas.core.frame.DataFrame'>\n",
      "RangeIndex: 369 entries, 0 to 368\n",
      "Data columns (total 6 columns):\n",
      " #   Column    Non-Null Count  Dtype \n",
      "---  ------    --------------  ----- \n",
      " 0   date      369 non-null    object\n",
      " 1   product   369 non-null    object\n",
      " 2   category  369 non-null    object\n",
      " 3   price     369 non-null    int64 \n",
      " 4   quantity  369 non-null    int64 \n",
      " 5   revenue   369 non-null    int64 \n",
      "dtypes: int64(3), object(3)\n",
      "memory usage: 17.4+ KB\n"
     ]
    }
   ],
   "source": [
    "data.info()"
   ]
  },
  {
   "cell_type": "code",
   "execution_count": 21,
   "metadata": {},
   "outputs": [],
   "source": [
    "data[\"date\"] = pd.to_datetime(data[\"date\"])"
   ]
  },
  {
   "cell_type": "code",
   "execution_count": 22,
   "metadata": {},
   "outputs": [
    {
     "name": "stdout",
     "output_type": "stream",
     "text": [
      "<class 'pandas.core.frame.DataFrame'>\n",
      "RangeIndex: 369 entries, 0 to 368\n",
      "Data columns (total 6 columns):\n",
      " #   Column    Non-Null Count  Dtype         \n",
      "---  ------    --------------  -----         \n",
      " 0   date      369 non-null    datetime64[ns]\n",
      " 1   product   369 non-null    object        \n",
      " 2   category  369 non-null    object        \n",
      " 3   price     369 non-null    int64         \n",
      " 4   quantity  369 non-null    int64         \n",
      " 5   revenue   369 non-null    int64         \n",
      "dtypes: datetime64[ns](1), int64(3), object(2)\n",
      "memory usage: 17.4+ KB\n"
     ]
    }
   ],
   "source": [
    "data.info()"
   ]
  },
  {
   "cell_type": "code",
   "execution_count": 23,
   "metadata": {},
   "outputs": [
    {
     "data": {
      "text/html": [
       "<div>\n",
       "<style scoped>\n",
       "    .dataframe tbody tr th:only-of-type {\n",
       "        vertical-align: middle;\n",
       "    }\n",
       "\n",
       "    .dataframe tbody tr th {\n",
       "        vertical-align: top;\n",
       "    }\n",
       "\n",
       "    .dataframe thead th {\n",
       "        text-align: right;\n",
       "    }\n",
       "</style>\n",
       "<table border=\"1\" class=\"dataframe\">\n",
       "  <thead>\n",
       "    <tr style=\"text-align: right;\">\n",
       "      <th></th>\n",
       "      <th>date</th>\n",
       "      <th>price</th>\n",
       "      <th>quantity</th>\n",
       "      <th>revenue</th>\n",
       "    </tr>\n",
       "  </thead>\n",
       "  <tbody>\n",
       "    <tr>\n",
       "      <th>count</th>\n",
       "      <td>369</td>\n",
       "      <td>369.000000</td>\n",
       "      <td>369.000000</td>\n",
       "      <td>369.000000</td>\n",
       "    </tr>\n",
       "    <tr>\n",
       "      <th>mean</th>\n",
       "      <td>2022-07-01 15:05:21.951219456</td>\n",
       "      <td>210.569106</td>\n",
       "      <td>14.555556</td>\n",
       "      <td>2060.514905</td>\n",
       "    </tr>\n",
       "    <tr>\n",
       "      <th>min</th>\n",
       "      <td>2022-01-01 00:00:00</td>\n",
       "      <td>20.000000</td>\n",
       "      <td>3.000000</td>\n",
       "      <td>300.000000</td>\n",
       "    </tr>\n",
       "    <tr>\n",
       "      <th>25%</th>\n",
       "      <td>2022-04-01 00:00:00</td>\n",
       "      <td>50.000000</td>\n",
       "      <td>8.000000</td>\n",
       "      <td>800.000000</td>\n",
       "    </tr>\n",
       "    <tr>\n",
       "      <th>50%</th>\n",
       "      <td>2022-07-02 00:00:00</td>\n",
       "      <td>100.000000</td>\n",
       "      <td>12.000000</td>\n",
       "      <td>1200.000000</td>\n",
       "    </tr>\n",
       "    <tr>\n",
       "      <th>75%</th>\n",
       "      <td>2022-10-01 00:00:00</td>\n",
       "      <td>200.000000</td>\n",
       "      <td>20.000000</td>\n",
       "      <td>2400.000000</td>\n",
       "    </tr>\n",
       "    <tr>\n",
       "      <th>max</th>\n",
       "      <td>2022-12-31 00:00:00</td>\n",
       "      <td>1200.000000</td>\n",
       "      <td>50.000000</td>\n",
       "      <td>7200.000000</td>\n",
       "    </tr>\n",
       "    <tr>\n",
       "      <th>std</th>\n",
       "      <td>NaN</td>\n",
       "      <td>226.934800</td>\n",
       "      <td>8.586059</td>\n",
       "      <td>1908.335265</td>\n",
       "    </tr>\n",
       "  </tbody>\n",
       "</table>\n",
       "</div>"
      ],
      "text/plain": [
       "                                date        price    quantity      revenue\n",
       "count                            369   369.000000  369.000000   369.000000\n",
       "mean   2022-07-01 15:05:21.951219456   210.569106   14.555556  2060.514905\n",
       "min              2022-01-01 00:00:00    20.000000    3.000000   300.000000\n",
       "25%              2022-04-01 00:00:00    50.000000    8.000000   800.000000\n",
       "50%              2022-07-02 00:00:00   100.000000   12.000000  1200.000000\n",
       "75%              2022-10-01 00:00:00   200.000000   20.000000  2400.000000\n",
       "max              2022-12-31 00:00:00  1200.000000   50.000000  7200.000000\n",
       "std                              NaN   226.934800    8.586059  1908.335265"
      ]
     },
     "execution_count": 23,
     "metadata": {},
     "output_type": "execute_result"
    }
   ],
   "source": [
    "data.describe()"
   ]
  },
  {
   "cell_type": "code",
   "execution_count": 24,
   "metadata": {},
   "outputs": [
    {
     "data": {
      "text/plain": [
       "7200"
      ]
     },
     "execution_count": 24,
     "metadata": {},
     "output_type": "execute_result"
    }
   ],
   "source": [
    "data[\"revenue\"].max()"
   ]
  },
  {
   "cell_type": "code",
   "execution_count": 25,
   "metadata": {},
   "outputs": [
    {
     "data": {
      "text/plain": [
       "210.5691056910569"
      ]
     },
     "execution_count": 25,
     "metadata": {},
     "output_type": "execute_result"
    }
   ],
   "source": [
    "data[\"price\"].mean()"
   ]
  },
  {
   "cell_type": "code",
   "execution_count": 26,
   "metadata": {},
   "outputs": [
    {
     "data": {
      "text/plain": [
       "category\n",
       "Accessories    106700\n",
       "Bags            19500\n",
       "Bgas              900\n",
       "Clohting         1200\n",
       "Clothing        94350\n",
       "Electronics    516080\n",
       "Shoes           20640\n",
       "Shoeses           960\n",
       "Name: revenue, dtype: int64"
      ]
     },
     "execution_count": 26,
     "metadata": {},
     "output_type": "execute_result"
    }
   ],
   "source": [
    "data.groupby(\"category\")[\"revenue\"].sum()"
   ]
  },
  {
   "cell_type": "code",
   "execution_count": 27,
   "metadata": {},
   "outputs": [
    {
     "data": {
      "text/plain": [
       "product\n",
       "Backpack        50.0\n",
       "Coat           100.0\n",
       "Headphones     100.0\n",
       "Hoodie          40.0\n",
       "Jeans           50.0\n",
       "Laptop        1200.0\n",
       "Smartphone     600.0\n",
       "Smartwatch     200.0\n",
       "Sneakers        80.0\n",
       "Speaker         80.0\n",
       "T-Shirt         20.0\n",
       "Tablet         400.0\n",
       "Wallet          30.0\n",
       "Watch          150.0\n",
       "Name: price, dtype: float64"
      ]
     },
     "execution_count": 27,
     "metadata": {},
     "output_type": "execute_result"
    }
   ],
   "source": [
    "data.groupby(\"product\")[\"price\"].mean()"
   ]
  },
  {
   "cell_type": "code",
   "execution_count": 28,
   "metadata": {},
   "outputs": [
    {
     "data": {
      "text/plain": [
       "1200.0"
      ]
     },
     "execution_count": 28,
     "metadata": {},
     "output_type": "execute_result"
    }
   ],
   "source": [
    "data[\"price\"][data[\"product\"]==\"Laptop\"].mean() # select avg(price) from data where product = laptop"
   ]
  },
  {
   "cell_type": "code",
   "execution_count": 29,
   "metadata": {},
   "outputs": [
    {
     "data": {
      "text/html": [
       "<div>\n",
       "<style scoped>\n",
       "    .dataframe tbody tr th:only-of-type {\n",
       "        vertical-align: middle;\n",
       "    }\n",
       "\n",
       "    .dataframe tbody tr th {\n",
       "        vertical-align: top;\n",
       "    }\n",
       "\n",
       "    .dataframe thead th {\n",
       "        text-align: right;\n",
       "    }\n",
       "</style>\n",
       "<table border=\"1\" class=\"dataframe\">\n",
       "  <thead>\n",
       "    <tr style=\"text-align: right;\">\n",
       "      <th></th>\n",
       "      <th>price</th>\n",
       "      <th>product</th>\n",
       "      <th>revenue</th>\n",
       "    </tr>\n",
       "  </thead>\n",
       "  <tbody>\n",
       "    <tr>\n",
       "      <th>16</th>\n",
       "      <td>50</td>\n",
       "      <td>Jeans</td>\n",
       "      <td>1000</td>\n",
       "    </tr>\n",
       "    <tr>\n",
       "      <th>32</th>\n",
       "      <td>50</td>\n",
       "      <td>Jeans</td>\n",
       "      <td>750</td>\n",
       "    </tr>\n",
       "    <tr>\n",
       "      <th>42</th>\n",
       "      <td>50</td>\n",
       "      <td>Jeans</td>\n",
       "      <td>500</td>\n",
       "    </tr>\n",
       "    <tr>\n",
       "      <th>58</th>\n",
       "      <td>50</td>\n",
       "      <td>Jeans</td>\n",
       "      <td>900</td>\n",
       "    </tr>\n",
       "    <tr>\n",
       "      <th>69</th>\n",
       "      <td>50</td>\n",
       "      <td>Jeans</td>\n",
       "      <td>1250</td>\n",
       "    </tr>\n",
       "    <tr>\n",
       "      <th>86</th>\n",
       "      <td>50</td>\n",
       "      <td>Jeans</td>\n",
       "      <td>1000</td>\n",
       "    </tr>\n",
       "    <tr>\n",
       "      <th>100</th>\n",
       "      <td>50</td>\n",
       "      <td>Jeans</td>\n",
       "      <td>500</td>\n",
       "    </tr>\n",
       "    <tr>\n",
       "      <th>117</th>\n",
       "      <td>50</td>\n",
       "      <td>Jeans</td>\n",
       "      <td>750</td>\n",
       "    </tr>\n",
       "    <tr>\n",
       "      <th>131</th>\n",
       "      <td>50</td>\n",
       "      <td>Jeans</td>\n",
       "      <td>1250</td>\n",
       "    </tr>\n",
       "    <tr>\n",
       "      <th>147</th>\n",
       "      <td>50</td>\n",
       "      <td>Jeans</td>\n",
       "      <td>1000</td>\n",
       "    </tr>\n",
       "    <tr>\n",
       "      <th>161</th>\n",
       "      <td>50</td>\n",
       "      <td>Jeans</td>\n",
       "      <td>500</td>\n",
       "    </tr>\n",
       "    <tr>\n",
       "      <th>178</th>\n",
       "      <td>50</td>\n",
       "      <td>Jeans</td>\n",
       "      <td>750</td>\n",
       "    </tr>\n",
       "    <tr>\n",
       "      <th>192</th>\n",
       "      <td>50</td>\n",
       "      <td>Jeans</td>\n",
       "      <td>1250</td>\n",
       "    </tr>\n",
       "    <tr>\n",
       "      <th>208</th>\n",
       "      <td>50</td>\n",
       "      <td>Jeans</td>\n",
       "      <td>1000</td>\n",
       "    </tr>\n",
       "    <tr>\n",
       "      <th>222</th>\n",
       "      <td>50</td>\n",
       "      <td>Jeans</td>\n",
       "      <td>500</td>\n",
       "    </tr>\n",
       "    <tr>\n",
       "      <th>239</th>\n",
       "      <td>50</td>\n",
       "      <td>Jeans</td>\n",
       "      <td>750</td>\n",
       "    </tr>\n",
       "    <tr>\n",
       "      <th>253</th>\n",
       "      <td>50</td>\n",
       "      <td>Jeans</td>\n",
       "      <td>1250</td>\n",
       "    </tr>\n",
       "    <tr>\n",
       "      <th>269</th>\n",
       "      <td>50</td>\n",
       "      <td>Jeans</td>\n",
       "      <td>1000</td>\n",
       "    </tr>\n",
       "    <tr>\n",
       "      <th>284</th>\n",
       "      <td>50</td>\n",
       "      <td>Jeans</td>\n",
       "      <td>500</td>\n",
       "    </tr>\n",
       "    <tr>\n",
       "      <th>301</th>\n",
       "      <td>50</td>\n",
       "      <td>Jeans</td>\n",
       "      <td>750</td>\n",
       "    </tr>\n",
       "    <tr>\n",
       "      <th>315</th>\n",
       "      <td>50</td>\n",
       "      <td>Jeans</td>\n",
       "      <td>1250</td>\n",
       "    </tr>\n",
       "    <tr>\n",
       "      <th>331</th>\n",
       "      <td>50</td>\n",
       "      <td>Jeans</td>\n",
       "      <td>1000</td>\n",
       "    </tr>\n",
       "    <tr>\n",
       "      <th>345</th>\n",
       "      <td>50</td>\n",
       "      <td>Jeans</td>\n",
       "      <td>500</td>\n",
       "    </tr>\n",
       "    <tr>\n",
       "      <th>362</th>\n",
       "      <td>50</td>\n",
       "      <td>Jeans</td>\n",
       "      <td>750</td>\n",
       "    </tr>\n",
       "  </tbody>\n",
       "</table>\n",
       "</div>"
      ],
      "text/plain": [
       "     price product  revenue\n",
       "16      50   Jeans     1000\n",
       "32      50   Jeans      750\n",
       "42      50   Jeans      500\n",
       "58      50   Jeans      900\n",
       "69      50   Jeans     1250\n",
       "86      50   Jeans     1000\n",
       "100     50   Jeans      500\n",
       "117     50   Jeans      750\n",
       "131     50   Jeans     1250\n",
       "147     50   Jeans     1000\n",
       "161     50   Jeans      500\n",
       "178     50   Jeans      750\n",
       "192     50   Jeans     1250\n",
       "208     50   Jeans     1000\n",
       "222     50   Jeans      500\n",
       "239     50   Jeans      750\n",
       "253     50   Jeans     1250\n",
       "269     50   Jeans     1000\n",
       "284     50   Jeans      500\n",
       "301     50   Jeans      750\n",
       "315     50   Jeans     1250\n",
       "331     50   Jeans     1000\n",
       "345     50   Jeans      500\n",
       "362     50   Jeans      750"
      ]
     },
     "execution_count": 29,
     "metadata": {},
     "output_type": "execute_result"
    }
   ],
   "source": [
    "# select price, category from data where product = jeans\n",
    "data[[\"price\",\"product\",\"revenue\"]][data[\"product\"]==\"Jeans\"]"
   ]
  },
  {
   "cell_type": "code",
   "execution_count": 30,
   "metadata": {},
   "outputs": [
    {
     "data": {
      "text/html": [
       "<div>\n",
       "<style scoped>\n",
       "    .dataframe tbody tr th:only-of-type {\n",
       "        vertical-align: middle;\n",
       "    }\n",
       "\n",
       "    .dataframe tbody tr th {\n",
       "        vertical-align: top;\n",
       "    }\n",
       "\n",
       "    .dataframe thead th {\n",
       "        text-align: right;\n",
       "    }\n",
       "</style>\n",
       "<table border=\"1\" class=\"dataframe\">\n",
       "  <thead>\n",
       "    <tr style=\"text-align: right;\">\n",
       "      <th></th>\n",
       "      <th>price</th>\n",
       "      <th>product</th>\n",
       "      <th>revenue</th>\n",
       "    </tr>\n",
       "  </thead>\n",
       "  <tbody>\n",
       "    <tr>\n",
       "      <th>0</th>\n",
       "      <td>600</td>\n",
       "      <td>Smartphone</td>\n",
       "      <td>6000</td>\n",
       "    </tr>\n",
       "    <tr>\n",
       "      <th>1</th>\n",
       "      <td>1200</td>\n",
       "      <td>Laptop</td>\n",
       "      <td>6000</td>\n",
       "    </tr>\n",
       "    <tr>\n",
       "      <th>2</th>\n",
       "      <td>20</td>\n",
       "      <td>T-Shirt</td>\n",
       "      <td>1000</td>\n",
       "    </tr>\n",
       "    <tr>\n",
       "      <th>3</th>\n",
       "      <td>100</td>\n",
       "      <td>Headphones</td>\n",
       "      <td>2000</td>\n",
       "    </tr>\n",
       "    <tr>\n",
       "      <th>4</th>\n",
       "      <td>20</td>\n",
       "      <td>T-Shirt</td>\n",
       "      <td>500</td>\n",
       "    </tr>\n",
       "    <tr>\n",
       "      <th>...</th>\n",
       "      <td>...</td>\n",
       "      <td>...</td>\n",
       "      <td>...</td>\n",
       "    </tr>\n",
       "    <tr>\n",
       "      <th>364</th>\n",
       "      <td>150</td>\n",
       "      <td>Watch</td>\n",
       "      <td>750</td>\n",
       "    </tr>\n",
       "    <tr>\n",
       "      <th>365</th>\n",
       "      <td>100</td>\n",
       "      <td>Coat</td>\n",
       "      <td>500</td>\n",
       "    </tr>\n",
       "    <tr>\n",
       "      <th>366</th>\n",
       "      <td>100</td>\n",
       "      <td>Headphones</td>\n",
       "      <td>1000</td>\n",
       "    </tr>\n",
       "    <tr>\n",
       "      <th>367</th>\n",
       "      <td>600</td>\n",
       "      <td>Smartphone</td>\n",
       "      <td>6600</td>\n",
       "    </tr>\n",
       "    <tr>\n",
       "      <th>368</th>\n",
       "      <td>40</td>\n",
       "      <td>Hoodie</td>\n",
       "      <td>1200</td>\n",
       "    </tr>\n",
       "  </tbody>\n",
       "</table>\n",
       "<p>369 rows × 3 columns</p>\n",
       "</div>"
      ],
      "text/plain": [
       "     price     product  revenue\n",
       "0      600  Smartphone     6000\n",
       "1     1200      Laptop     6000\n",
       "2       20     T-Shirt     1000\n",
       "3      100  Headphones     2000\n",
       "4       20     T-Shirt      500\n",
       "..     ...         ...      ...\n",
       "364    150       Watch      750\n",
       "365    100        Coat      500\n",
       "366    100  Headphones     1000\n",
       "367    600  Smartphone     6600\n",
       "368     40      Hoodie     1200\n",
       "\n",
       "[369 rows x 3 columns]"
      ]
     },
     "execution_count": 30,
     "metadata": {},
     "output_type": "execute_result"
    }
   ],
   "source": [
    "# select price, category from data\n",
    "data[[\"price\",\"product\",\"revenue\"]]"
   ]
  },
  {
   "cell_type": "code",
   "execution_count": 31,
   "metadata": {},
   "outputs": [
    {
     "data": {
      "text/html": [
       "<div>\n",
       "<style scoped>\n",
       "    .dataframe tbody tr th:only-of-type {\n",
       "        vertical-align: middle;\n",
       "    }\n",
       "\n",
       "    .dataframe tbody tr th {\n",
       "        vertical-align: top;\n",
       "    }\n",
       "\n",
       "    .dataframe thead th {\n",
       "        text-align: right;\n",
       "    }\n",
       "</style>\n",
       "<table border=\"1\" class=\"dataframe\">\n",
       "  <thead>\n",
       "    <tr style=\"text-align: right;\">\n",
       "      <th></th>\n",
       "      <th>date</th>\n",
       "      <th>product</th>\n",
       "      <th>category</th>\n",
       "      <th>price</th>\n",
       "      <th>quantity</th>\n",
       "      <th>revenue</th>\n",
       "    </tr>\n",
       "  </thead>\n",
       "  <tbody>\n",
       "    <tr>\n",
       "      <th>0</th>\n",
       "      <td>2022-01-01</td>\n",
       "      <td>Smartphone</td>\n",
       "      <td>Electronics</td>\n",
       "      <td>600</td>\n",
       "      <td>10</td>\n",
       "      <td>6000</td>\n",
       "    </tr>\n",
       "    <tr>\n",
       "      <th>1</th>\n",
       "      <td>2022-01-01</td>\n",
       "      <td>Laptop</td>\n",
       "      <td>Electronics</td>\n",
       "      <td>1200</td>\n",
       "      <td>5</td>\n",
       "      <td>6000</td>\n",
       "    </tr>\n",
       "    <tr>\n",
       "      <th>2</th>\n",
       "      <td>2022-01-02</td>\n",
       "      <td>T-Shirt</td>\n",
       "      <td>Clothing</td>\n",
       "      <td>20</td>\n",
       "      <td>50</td>\n",
       "      <td>1000</td>\n",
       "    </tr>\n",
       "    <tr>\n",
       "      <th>3</th>\n",
       "      <td>2022-01-03</td>\n",
       "      <td>Headphones</td>\n",
       "      <td>Electronics</td>\n",
       "      <td>100</td>\n",
       "      <td>20</td>\n",
       "      <td>2000</td>\n",
       "    </tr>\n",
       "    <tr>\n",
       "      <th>4</th>\n",
       "      <td>2022-01-04</td>\n",
       "      <td>T-Shirt</td>\n",
       "      <td>Clothing</td>\n",
       "      <td>20</td>\n",
       "      <td>25</td>\n",
       "      <td>500</td>\n",
       "    </tr>\n",
       "    <tr>\n",
       "      <th>...</th>\n",
       "      <td>...</td>\n",
       "      <td>...</td>\n",
       "      <td>...</td>\n",
       "      <td>...</td>\n",
       "      <td>...</td>\n",
       "      <td>...</td>\n",
       "    </tr>\n",
       "    <tr>\n",
       "      <th>364</th>\n",
       "      <td>2022-12-27</td>\n",
       "      <td>Watch</td>\n",
       "      <td>Accessories</td>\n",
       "      <td>150</td>\n",
       "      <td>5</td>\n",
       "      <td>750</td>\n",
       "    </tr>\n",
       "    <tr>\n",
       "      <th>365</th>\n",
       "      <td>2022-12-28</td>\n",
       "      <td>Coat</td>\n",
       "      <td>Clothing</td>\n",
       "      <td>100</td>\n",
       "      <td>5</td>\n",
       "      <td>500</td>\n",
       "    </tr>\n",
       "    <tr>\n",
       "      <th>366</th>\n",
       "      <td>2022-12-29</td>\n",
       "      <td>Headphones</td>\n",
       "      <td>Electronics</td>\n",
       "      <td>100</td>\n",
       "      <td>10</td>\n",
       "      <td>1000</td>\n",
       "    </tr>\n",
       "    <tr>\n",
       "      <th>367</th>\n",
       "      <td>2022-12-30</td>\n",
       "      <td>Smartphone</td>\n",
       "      <td>Electronics</td>\n",
       "      <td>600</td>\n",
       "      <td>11</td>\n",
       "      <td>6600</td>\n",
       "    </tr>\n",
       "    <tr>\n",
       "      <th>368</th>\n",
       "      <td>2022-12-31</td>\n",
       "      <td>Hoodie</td>\n",
       "      <td>Clothing</td>\n",
       "      <td>40</td>\n",
       "      <td>30</td>\n",
       "      <td>1200</td>\n",
       "    </tr>\n",
       "  </tbody>\n",
       "</table>\n",
       "<p>369 rows × 6 columns</p>\n",
       "</div>"
      ],
      "text/plain": [
       "          date     product     category  price  quantity  revenue\n",
       "0   2022-01-01  Smartphone  Electronics    600        10     6000\n",
       "1   2022-01-01      Laptop  Electronics   1200         5     6000\n",
       "2   2022-01-02     T-Shirt     Clothing     20        50     1000\n",
       "3   2022-01-03  Headphones  Electronics    100        20     2000\n",
       "4   2022-01-04     T-Shirt     Clothing     20        25      500\n",
       "..         ...         ...          ...    ...       ...      ...\n",
       "364 2022-12-27       Watch  Accessories    150         5      750\n",
       "365 2022-12-28        Coat     Clothing    100         5      500\n",
       "366 2022-12-29  Headphones  Electronics    100        10     1000\n",
       "367 2022-12-30  Smartphone  Electronics    600        11     6600\n",
       "368 2022-12-31      Hoodie     Clothing     40        30     1200\n",
       "\n",
       "[369 rows x 6 columns]"
      ]
     },
     "execution_count": 31,
     "metadata": {},
     "output_type": "execute_result"
    }
   ],
   "source": [
    "data"
   ]
  },
  {
   "cell_type": "code",
   "execution_count": 32,
   "metadata": {},
   "outputs": [],
   "source": [
    "data[\"quarter\"] = data[\"date\"].dt.quarter"
   ]
  },
  {
   "cell_type": "code",
   "execution_count": 33,
   "metadata": {},
   "outputs": [
    {
     "data": {
      "text/html": [
       "<div>\n",
       "<style scoped>\n",
       "    .dataframe tbody tr th:only-of-type {\n",
       "        vertical-align: middle;\n",
       "    }\n",
       "\n",
       "    .dataframe tbody tr th {\n",
       "        vertical-align: top;\n",
       "    }\n",
       "\n",
       "    .dataframe thead th {\n",
       "        text-align: right;\n",
       "    }\n",
       "</style>\n",
       "<table border=\"1\" class=\"dataframe\">\n",
       "  <thead>\n",
       "    <tr style=\"text-align: right;\">\n",
       "      <th></th>\n",
       "      <th>date</th>\n",
       "      <th>product</th>\n",
       "      <th>category</th>\n",
       "      <th>price</th>\n",
       "      <th>quantity</th>\n",
       "      <th>revenue</th>\n",
       "      <th>quarter</th>\n",
       "    </tr>\n",
       "  </thead>\n",
       "  <tbody>\n",
       "    <tr>\n",
       "      <th>0</th>\n",
       "      <td>2022-01-01</td>\n",
       "      <td>Smartphone</td>\n",
       "      <td>Electronics</td>\n",
       "      <td>600</td>\n",
       "      <td>10</td>\n",
       "      <td>6000</td>\n",
       "      <td>1</td>\n",
       "    </tr>\n",
       "    <tr>\n",
       "      <th>1</th>\n",
       "      <td>2022-01-01</td>\n",
       "      <td>Laptop</td>\n",
       "      <td>Electronics</td>\n",
       "      <td>1200</td>\n",
       "      <td>5</td>\n",
       "      <td>6000</td>\n",
       "      <td>1</td>\n",
       "    </tr>\n",
       "    <tr>\n",
       "      <th>2</th>\n",
       "      <td>2022-01-02</td>\n",
       "      <td>T-Shirt</td>\n",
       "      <td>Clothing</td>\n",
       "      <td>20</td>\n",
       "      <td>50</td>\n",
       "      <td>1000</td>\n",
       "      <td>1</td>\n",
       "    </tr>\n",
       "    <tr>\n",
       "      <th>3</th>\n",
       "      <td>2022-01-03</td>\n",
       "      <td>Headphones</td>\n",
       "      <td>Electronics</td>\n",
       "      <td>100</td>\n",
       "      <td>20</td>\n",
       "      <td>2000</td>\n",
       "      <td>1</td>\n",
       "    </tr>\n",
       "    <tr>\n",
       "      <th>4</th>\n",
       "      <td>2022-01-04</td>\n",
       "      <td>T-Shirt</td>\n",
       "      <td>Clothing</td>\n",
       "      <td>20</td>\n",
       "      <td>25</td>\n",
       "      <td>500</td>\n",
       "      <td>1</td>\n",
       "    </tr>\n",
       "    <tr>\n",
       "      <th>...</th>\n",
       "      <td>...</td>\n",
       "      <td>...</td>\n",
       "      <td>...</td>\n",
       "      <td>...</td>\n",
       "      <td>...</td>\n",
       "      <td>...</td>\n",
       "      <td>...</td>\n",
       "    </tr>\n",
       "    <tr>\n",
       "      <th>364</th>\n",
       "      <td>2022-12-27</td>\n",
       "      <td>Watch</td>\n",
       "      <td>Accessories</td>\n",
       "      <td>150</td>\n",
       "      <td>5</td>\n",
       "      <td>750</td>\n",
       "      <td>4</td>\n",
       "    </tr>\n",
       "    <tr>\n",
       "      <th>365</th>\n",
       "      <td>2022-12-28</td>\n",
       "      <td>Coat</td>\n",
       "      <td>Clothing</td>\n",
       "      <td>100</td>\n",
       "      <td>5</td>\n",
       "      <td>500</td>\n",
       "      <td>4</td>\n",
       "    </tr>\n",
       "    <tr>\n",
       "      <th>366</th>\n",
       "      <td>2022-12-29</td>\n",
       "      <td>Headphones</td>\n",
       "      <td>Electronics</td>\n",
       "      <td>100</td>\n",
       "      <td>10</td>\n",
       "      <td>1000</td>\n",
       "      <td>4</td>\n",
       "    </tr>\n",
       "    <tr>\n",
       "      <th>367</th>\n",
       "      <td>2022-12-30</td>\n",
       "      <td>Smartphone</td>\n",
       "      <td>Electronics</td>\n",
       "      <td>600</td>\n",
       "      <td>11</td>\n",
       "      <td>6600</td>\n",
       "      <td>4</td>\n",
       "    </tr>\n",
       "    <tr>\n",
       "      <th>368</th>\n",
       "      <td>2022-12-31</td>\n",
       "      <td>Hoodie</td>\n",
       "      <td>Clothing</td>\n",
       "      <td>40</td>\n",
       "      <td>30</td>\n",
       "      <td>1200</td>\n",
       "      <td>4</td>\n",
       "    </tr>\n",
       "  </tbody>\n",
       "</table>\n",
       "<p>369 rows × 7 columns</p>\n",
       "</div>"
      ],
      "text/plain": [
       "          date     product     category  price  quantity  revenue  quarter\n",
       "0   2022-01-01  Smartphone  Electronics    600        10     6000        1\n",
       "1   2022-01-01      Laptop  Electronics   1200         5     6000        1\n",
       "2   2022-01-02     T-Shirt     Clothing     20        50     1000        1\n",
       "3   2022-01-03  Headphones  Electronics    100        20     2000        1\n",
       "4   2022-01-04     T-Shirt     Clothing     20        25      500        1\n",
       "..         ...         ...          ...    ...       ...      ...      ...\n",
       "364 2022-12-27       Watch  Accessories    150         5      750        4\n",
       "365 2022-12-28        Coat     Clothing    100         5      500        4\n",
       "366 2022-12-29  Headphones  Electronics    100        10     1000        4\n",
       "367 2022-12-30  Smartphone  Electronics    600        11     6600        4\n",
       "368 2022-12-31      Hoodie     Clothing     40        30     1200        4\n",
       "\n",
       "[369 rows x 7 columns]"
      ]
     },
     "execution_count": 33,
     "metadata": {},
     "output_type": "execute_result"
    }
   ],
   "source": [
    "data"
   ]
  },
  {
   "cell_type": "code",
   "execution_count": 34,
   "metadata": {},
   "outputs": [],
   "source": [
    "data[\"month\"] = data[\"date\"].dt.month"
   ]
  },
  {
   "cell_type": "code",
   "execution_count": 35,
   "metadata": {},
   "outputs": [
    {
     "data": {
      "text/html": [
       "<div>\n",
       "<style scoped>\n",
       "    .dataframe tbody tr th:only-of-type {\n",
       "        vertical-align: middle;\n",
       "    }\n",
       "\n",
       "    .dataframe tbody tr th {\n",
       "        vertical-align: top;\n",
       "    }\n",
       "\n",
       "    .dataframe thead th {\n",
       "        text-align: right;\n",
       "    }\n",
       "</style>\n",
       "<table border=\"1\" class=\"dataframe\">\n",
       "  <thead>\n",
       "    <tr style=\"text-align: right;\">\n",
       "      <th></th>\n",
       "      <th>date</th>\n",
       "      <th>product</th>\n",
       "      <th>category</th>\n",
       "      <th>price</th>\n",
       "      <th>quantity</th>\n",
       "      <th>revenue</th>\n",
       "      <th>quarter</th>\n",
       "      <th>month</th>\n",
       "    </tr>\n",
       "  </thead>\n",
       "  <tbody>\n",
       "    <tr>\n",
       "      <th>0</th>\n",
       "      <td>2022-01-01</td>\n",
       "      <td>Smartphone</td>\n",
       "      <td>Electronics</td>\n",
       "      <td>600</td>\n",
       "      <td>10</td>\n",
       "      <td>6000</td>\n",
       "      <td>1</td>\n",
       "      <td>1</td>\n",
       "    </tr>\n",
       "    <tr>\n",
       "      <th>1</th>\n",
       "      <td>2022-01-01</td>\n",
       "      <td>Laptop</td>\n",
       "      <td>Electronics</td>\n",
       "      <td>1200</td>\n",
       "      <td>5</td>\n",
       "      <td>6000</td>\n",
       "      <td>1</td>\n",
       "      <td>1</td>\n",
       "    </tr>\n",
       "    <tr>\n",
       "      <th>2</th>\n",
       "      <td>2022-01-02</td>\n",
       "      <td>T-Shirt</td>\n",
       "      <td>Clothing</td>\n",
       "      <td>20</td>\n",
       "      <td>50</td>\n",
       "      <td>1000</td>\n",
       "      <td>1</td>\n",
       "      <td>1</td>\n",
       "    </tr>\n",
       "    <tr>\n",
       "      <th>3</th>\n",
       "      <td>2022-01-03</td>\n",
       "      <td>Headphones</td>\n",
       "      <td>Electronics</td>\n",
       "      <td>100</td>\n",
       "      <td>20</td>\n",
       "      <td>2000</td>\n",
       "      <td>1</td>\n",
       "      <td>1</td>\n",
       "    </tr>\n",
       "    <tr>\n",
       "      <th>4</th>\n",
       "      <td>2022-01-04</td>\n",
       "      <td>T-Shirt</td>\n",
       "      <td>Clothing</td>\n",
       "      <td>20</td>\n",
       "      <td>25</td>\n",
       "      <td>500</td>\n",
       "      <td>1</td>\n",
       "      <td>1</td>\n",
       "    </tr>\n",
       "    <tr>\n",
       "      <th>...</th>\n",
       "      <td>...</td>\n",
       "      <td>...</td>\n",
       "      <td>...</td>\n",
       "      <td>...</td>\n",
       "      <td>...</td>\n",
       "      <td>...</td>\n",
       "      <td>...</td>\n",
       "      <td>...</td>\n",
       "    </tr>\n",
       "    <tr>\n",
       "      <th>364</th>\n",
       "      <td>2022-12-27</td>\n",
       "      <td>Watch</td>\n",
       "      <td>Accessories</td>\n",
       "      <td>150</td>\n",
       "      <td>5</td>\n",
       "      <td>750</td>\n",
       "      <td>4</td>\n",
       "      <td>12</td>\n",
       "    </tr>\n",
       "    <tr>\n",
       "      <th>365</th>\n",
       "      <td>2022-12-28</td>\n",
       "      <td>Coat</td>\n",
       "      <td>Clothing</td>\n",
       "      <td>100</td>\n",
       "      <td>5</td>\n",
       "      <td>500</td>\n",
       "      <td>4</td>\n",
       "      <td>12</td>\n",
       "    </tr>\n",
       "    <tr>\n",
       "      <th>366</th>\n",
       "      <td>2022-12-29</td>\n",
       "      <td>Headphones</td>\n",
       "      <td>Electronics</td>\n",
       "      <td>100</td>\n",
       "      <td>10</td>\n",
       "      <td>1000</td>\n",
       "      <td>4</td>\n",
       "      <td>12</td>\n",
       "    </tr>\n",
       "    <tr>\n",
       "      <th>367</th>\n",
       "      <td>2022-12-30</td>\n",
       "      <td>Smartphone</td>\n",
       "      <td>Electronics</td>\n",
       "      <td>600</td>\n",
       "      <td>11</td>\n",
       "      <td>6600</td>\n",
       "      <td>4</td>\n",
       "      <td>12</td>\n",
       "    </tr>\n",
       "    <tr>\n",
       "      <th>368</th>\n",
       "      <td>2022-12-31</td>\n",
       "      <td>Hoodie</td>\n",
       "      <td>Clothing</td>\n",
       "      <td>40</td>\n",
       "      <td>30</td>\n",
       "      <td>1200</td>\n",
       "      <td>4</td>\n",
       "      <td>12</td>\n",
       "    </tr>\n",
       "  </tbody>\n",
       "</table>\n",
       "<p>369 rows × 8 columns</p>\n",
       "</div>"
      ],
      "text/plain": [
       "          date     product     category  price  quantity  revenue  quarter  \\\n",
       "0   2022-01-01  Smartphone  Electronics    600        10     6000        1   \n",
       "1   2022-01-01      Laptop  Electronics   1200         5     6000        1   \n",
       "2   2022-01-02     T-Shirt     Clothing     20        50     1000        1   \n",
       "3   2022-01-03  Headphones  Electronics    100        20     2000        1   \n",
       "4   2022-01-04     T-Shirt     Clothing     20        25      500        1   \n",
       "..         ...         ...          ...    ...       ...      ...      ...   \n",
       "364 2022-12-27       Watch  Accessories    150         5      750        4   \n",
       "365 2022-12-28        Coat     Clothing    100         5      500        4   \n",
       "366 2022-12-29  Headphones  Electronics    100        10     1000        4   \n",
       "367 2022-12-30  Smartphone  Electronics    600        11     6600        4   \n",
       "368 2022-12-31      Hoodie     Clothing     40        30     1200        4   \n",
       "\n",
       "     month  \n",
       "0        1  \n",
       "1        1  \n",
       "2        1  \n",
       "3        1  \n",
       "4        1  \n",
       "..     ...  \n",
       "364     12  \n",
       "365     12  \n",
       "366     12  \n",
       "367     12  \n",
       "368     12  \n",
       "\n",
       "[369 rows x 8 columns]"
      ]
     },
     "execution_count": 35,
     "metadata": {},
     "output_type": "execute_result"
    }
   ],
   "source": [
    "data"
   ]
  },
  {
   "cell_type": "code",
   "execution_count": 36,
   "metadata": {},
   "outputs": [],
   "source": [
    "data[\"month_name\"] = data[\"date\"].dt.month_name()"
   ]
  },
  {
   "cell_type": "code",
   "execution_count": 37,
   "metadata": {},
   "outputs": [
    {
     "data": {
      "text/html": [
       "<div>\n",
       "<style scoped>\n",
       "    .dataframe tbody tr th:only-of-type {\n",
       "        vertical-align: middle;\n",
       "    }\n",
       "\n",
       "    .dataframe tbody tr th {\n",
       "        vertical-align: top;\n",
       "    }\n",
       "\n",
       "    .dataframe thead th {\n",
       "        text-align: right;\n",
       "    }\n",
       "</style>\n",
       "<table border=\"1\" class=\"dataframe\">\n",
       "  <thead>\n",
       "    <tr style=\"text-align: right;\">\n",
       "      <th></th>\n",
       "      <th>date</th>\n",
       "      <th>product</th>\n",
       "      <th>category</th>\n",
       "      <th>price</th>\n",
       "      <th>quantity</th>\n",
       "      <th>revenue</th>\n",
       "      <th>quarter</th>\n",
       "      <th>month</th>\n",
       "      <th>month_name</th>\n",
       "    </tr>\n",
       "  </thead>\n",
       "  <tbody>\n",
       "    <tr>\n",
       "      <th>0</th>\n",
       "      <td>2022-01-01</td>\n",
       "      <td>Smartphone</td>\n",
       "      <td>Electronics</td>\n",
       "      <td>600</td>\n",
       "      <td>10</td>\n",
       "      <td>6000</td>\n",
       "      <td>1</td>\n",
       "      <td>1</td>\n",
       "      <td>January</td>\n",
       "    </tr>\n",
       "    <tr>\n",
       "      <th>1</th>\n",
       "      <td>2022-01-01</td>\n",
       "      <td>Laptop</td>\n",
       "      <td>Electronics</td>\n",
       "      <td>1200</td>\n",
       "      <td>5</td>\n",
       "      <td>6000</td>\n",
       "      <td>1</td>\n",
       "      <td>1</td>\n",
       "      <td>January</td>\n",
       "    </tr>\n",
       "    <tr>\n",
       "      <th>2</th>\n",
       "      <td>2022-01-02</td>\n",
       "      <td>T-Shirt</td>\n",
       "      <td>Clothing</td>\n",
       "      <td>20</td>\n",
       "      <td>50</td>\n",
       "      <td>1000</td>\n",
       "      <td>1</td>\n",
       "      <td>1</td>\n",
       "      <td>January</td>\n",
       "    </tr>\n",
       "    <tr>\n",
       "      <th>3</th>\n",
       "      <td>2022-01-03</td>\n",
       "      <td>Headphones</td>\n",
       "      <td>Electronics</td>\n",
       "      <td>100</td>\n",
       "      <td>20</td>\n",
       "      <td>2000</td>\n",
       "      <td>1</td>\n",
       "      <td>1</td>\n",
       "      <td>January</td>\n",
       "    </tr>\n",
       "    <tr>\n",
       "      <th>4</th>\n",
       "      <td>2022-01-04</td>\n",
       "      <td>T-Shirt</td>\n",
       "      <td>Clothing</td>\n",
       "      <td>20</td>\n",
       "      <td>25</td>\n",
       "      <td>500</td>\n",
       "      <td>1</td>\n",
       "      <td>1</td>\n",
       "      <td>January</td>\n",
       "    </tr>\n",
       "    <tr>\n",
       "      <th>...</th>\n",
       "      <td>...</td>\n",
       "      <td>...</td>\n",
       "      <td>...</td>\n",
       "      <td>...</td>\n",
       "      <td>...</td>\n",
       "      <td>...</td>\n",
       "      <td>...</td>\n",
       "      <td>...</td>\n",
       "      <td>...</td>\n",
       "    </tr>\n",
       "    <tr>\n",
       "      <th>364</th>\n",
       "      <td>2022-12-27</td>\n",
       "      <td>Watch</td>\n",
       "      <td>Accessories</td>\n",
       "      <td>150</td>\n",
       "      <td>5</td>\n",
       "      <td>750</td>\n",
       "      <td>4</td>\n",
       "      <td>12</td>\n",
       "      <td>December</td>\n",
       "    </tr>\n",
       "    <tr>\n",
       "      <th>365</th>\n",
       "      <td>2022-12-28</td>\n",
       "      <td>Coat</td>\n",
       "      <td>Clothing</td>\n",
       "      <td>100</td>\n",
       "      <td>5</td>\n",
       "      <td>500</td>\n",
       "      <td>4</td>\n",
       "      <td>12</td>\n",
       "      <td>December</td>\n",
       "    </tr>\n",
       "    <tr>\n",
       "      <th>366</th>\n",
       "      <td>2022-12-29</td>\n",
       "      <td>Headphones</td>\n",
       "      <td>Electronics</td>\n",
       "      <td>100</td>\n",
       "      <td>10</td>\n",
       "      <td>1000</td>\n",
       "      <td>4</td>\n",
       "      <td>12</td>\n",
       "      <td>December</td>\n",
       "    </tr>\n",
       "    <tr>\n",
       "      <th>367</th>\n",
       "      <td>2022-12-30</td>\n",
       "      <td>Smartphone</td>\n",
       "      <td>Electronics</td>\n",
       "      <td>600</td>\n",
       "      <td>11</td>\n",
       "      <td>6600</td>\n",
       "      <td>4</td>\n",
       "      <td>12</td>\n",
       "      <td>December</td>\n",
       "    </tr>\n",
       "    <tr>\n",
       "      <th>368</th>\n",
       "      <td>2022-12-31</td>\n",
       "      <td>Hoodie</td>\n",
       "      <td>Clothing</td>\n",
       "      <td>40</td>\n",
       "      <td>30</td>\n",
       "      <td>1200</td>\n",
       "      <td>4</td>\n",
       "      <td>12</td>\n",
       "      <td>December</td>\n",
       "    </tr>\n",
       "  </tbody>\n",
       "</table>\n",
       "<p>369 rows × 9 columns</p>\n",
       "</div>"
      ],
      "text/plain": [
       "          date     product     category  price  quantity  revenue  quarter  \\\n",
       "0   2022-01-01  Smartphone  Electronics    600        10     6000        1   \n",
       "1   2022-01-01      Laptop  Electronics   1200         5     6000        1   \n",
       "2   2022-01-02     T-Shirt     Clothing     20        50     1000        1   \n",
       "3   2022-01-03  Headphones  Electronics    100        20     2000        1   \n",
       "4   2022-01-04     T-Shirt     Clothing     20        25      500        1   \n",
       "..         ...         ...          ...    ...       ...      ...      ...   \n",
       "364 2022-12-27       Watch  Accessories    150         5      750        4   \n",
       "365 2022-12-28        Coat     Clothing    100         5      500        4   \n",
       "366 2022-12-29  Headphones  Electronics    100        10     1000        4   \n",
       "367 2022-12-30  Smartphone  Electronics    600        11     6600        4   \n",
       "368 2022-12-31      Hoodie     Clothing     40        30     1200        4   \n",
       "\n",
       "     month month_name  \n",
       "0        1    January  \n",
       "1        1    January  \n",
       "2        1    January  \n",
       "3        1    January  \n",
       "4        1    January  \n",
       "..     ...        ...  \n",
       "364     12   December  \n",
       "365     12   December  \n",
       "366     12   December  \n",
       "367     12   December  \n",
       "368     12   December  \n",
       "\n",
       "[369 rows x 9 columns]"
      ]
     },
     "execution_count": 37,
     "metadata": {},
     "output_type": "execute_result"
    }
   ],
   "source": [
    "data"
   ]
  },
  {
   "cell_type": "code",
   "execution_count": 38,
   "metadata": {},
   "outputs": [
    {
     "data": {
      "text/plain": [
       "month_name\n",
       "April        57800\n",
       "August       65260\n",
       "December     64010\n",
       "February     53740\n",
       "January      65800\n",
       "July         69510\n",
       "June         58660\n",
       "March        62560\n",
       "May          69510\n",
       "November     64110\n",
       "October      66460\n",
       "September    62910\n",
       "Name: revenue, dtype: int64"
      ]
     },
     "execution_count": 38,
     "metadata": {},
     "output_type": "execute_result"
    }
   ],
   "source": [
    "data.groupby(\"month_name\")[\"revenue\"].sum()"
   ]
  },
  {
   "cell_type": "code",
   "execution_count": 39,
   "metadata": {},
   "outputs": [],
   "source": [
    "import matplotlib.pyplot as plt"
   ]
  },
  {
   "cell_type": "code",
   "execution_count": 56,
   "metadata": {},
   "outputs": [
    {
     "data": {
      "image/png": "[encoded data removed]",
      "text/plain": [
       "<Figure size 1200x600 with 1 Axes>"
      ]
     },
     "metadata": {},
     "output_type": "display_data"
    }
   ],
   "source": [
    "plt.figure(figsize=(12,6))\n",
    "barlabel =plt.bar(data[\"product\"],data[\"revenue\"], color =[\"red\",\"green\",\"blue\",\"yellow\"])\n",
    "plt.bar_label( barlabel,label_type=\"center\")\n",
    "plt.xlabel(\"Category\",size=24)\n",
    "plt.ylabel(\"Revenue\" ,size=24)\n",
    "plt.title(\"Category VS Revenue\")\n",
    "plt.xticks(size=14,rotation=90 )\n",
    "plt.yticks(size=14, rotation=60)\n",
    "plt.show()"
   ]
  },
  {
   "cell_type": "code",
   "execution_count": 59,
   "metadata": {},
   "outputs": [
    {
     "ename": "TypeError",
     "evalue": "can only concatenate str (not \"int\") to str",
     "output_type": "error",
     "traceback": [
      "\u001b[0;31m---------------------------------------------------------------------------\u001b[0m",
      "\u001b[0;31mTypeError\u001b[0m                                 Traceback (most recent call last)",
      "\u001b[1;32m/Volumes/Avinash/Python project/PythonJan/AppliedPython/Sale_analysis.ipynb Cell 42\u001b[0m line \u001b[0;36m3\n\u001b[1;32m      <a href='vscode-notebook-cell:/Volumes/Avinash/Python%20project/PythonJan/AppliedPython/Sale_analysis.ipynb#X56sZmlsZQ%3D%3D?line=0'>1</a>\u001b[0m plt\u001b[39m.\u001b[39mfigure(figsize\u001b[39m=\u001b[39m(\u001b[39m12\u001b[39m,\u001b[39m6\u001b[39m))\n\u001b[1;32m      <a href='vscode-notebook-cell:/Volumes/Avinash/Python%20project/PythonJan/AppliedPython/Sale_analysis.ipynb#X56sZmlsZQ%3D%3D?line=1'>2</a>\u001b[0m figure ,ax \u001b[39m=\u001b[39mplt\u001b[39m.\u001b[39msubplots(subplot_kw \u001b[39m=\u001b[39m{\u001b[39m\"\u001b[39m\u001b[39mprojection\u001b[39m\u001b[39m\"\u001b[39m: \u001b[39m\"\u001b[39m\u001b[39m3d\u001b[39m\u001b[39m\"\u001b[39m})\n\u001b[0;32m----> <a href='vscode-notebook-cell:/Volumes/Avinash/Python%20project/PythonJan/AppliedPython/Sale_analysis.ipynb#X56sZmlsZQ%3D%3D?line=2'>3</a>\u001b[0m barlabel \u001b[39m=\u001b[39max\u001b[39m.\u001b[39;49mbar3d(data[\u001b[39m\"\u001b[39;49m\u001b[39mproduct\u001b[39;49m\u001b[39m\"\u001b[39;49m],data[\u001b[39m\"\u001b[39;49m\u001b[39mproduct\u001b[39;49m\u001b[39m\"\u001b[39;49m],data[\u001b[39m\"\u001b[39;49m\u001b[39mproduct\u001b[39;49m\u001b[39m\"\u001b[39;49m],data[\u001b[39m\"\u001b[39;49m\u001b[39mrevenue\u001b[39;49m\u001b[39m\"\u001b[39;49m],data[\u001b[39m\"\u001b[39;49m\u001b[39mprice\u001b[39;49m\u001b[39m\"\u001b[39;49m],data[\u001b[39m\"\u001b[39;49m\u001b[39mquantity\u001b[39;49m\u001b[39m\"\u001b[39;49m], color \u001b[39m=\u001b[39;49m[\u001b[39m\"\u001b[39;49m\u001b[39mred\u001b[39;49m\u001b[39m\"\u001b[39;49m,\u001b[39m\"\u001b[39;49m\u001b[39mgreen\u001b[39;49m\u001b[39m\"\u001b[39;49m,\u001b[39m\"\u001b[39;49m\u001b[39mblue\u001b[39;49m\u001b[39m\"\u001b[39;49m,\u001b[39m\"\u001b[39;49m\u001b[39myellow\u001b[39;49m\u001b[39m\"\u001b[39;49m])\n\u001b[1;32m      <a href='vscode-notebook-cell:/Volumes/Avinash/Python%20project/PythonJan/AppliedPython/Sale_analysis.ipynb#X56sZmlsZQ%3D%3D?line=3'>4</a>\u001b[0m plt\u001b[39m.\u001b[39mbar_label( barlabel,label_type\u001b[39m=\u001b[39m\u001b[39m\"\u001b[39m\u001b[39mcenter\u001b[39m\u001b[39m\"\u001b[39m)\n\u001b[1;32m      <a href='vscode-notebook-cell:/Volumes/Avinash/Python%20project/PythonJan/AppliedPython/Sale_analysis.ipynb#X56sZmlsZQ%3D%3D?line=4'>5</a>\u001b[0m plt\u001b[39m.\u001b[39mxlabel(\u001b[39m\"\u001b[39m\u001b[39mCategory\u001b[39m\u001b[39m\"\u001b[39m,size\u001b[39m=\u001b[39m\u001b[39m24\u001b[39m)\n",
      "File \u001b[0;32m/Library/Frameworks/Python.framework/Versions/3.12/lib/python3.12/site-packages/matplotlib/__init__.py:1473\u001b[0m, in \u001b[0;36m_preprocess_data.<locals>.inner\u001b[0;34m(ax, data, *args, **kwargs)\u001b[0m\n\u001b[1;32m   1470\u001b[0m \u001b[39m@functools\u001b[39m\u001b[39m.\u001b[39mwraps(func)\n\u001b[1;32m   1471\u001b[0m \u001b[39mdef\u001b[39;00m \u001b[39minner\u001b[39m(ax, \u001b[39m*\u001b[39margs, data\u001b[39m=\u001b[39m\u001b[39mNone\u001b[39;00m, \u001b[39m*\u001b[39m\u001b[39m*\u001b[39mkwargs):\n\u001b[1;32m   1472\u001b[0m     \u001b[39mif\u001b[39;00m data \u001b[39mis\u001b[39;00m \u001b[39mNone\u001b[39;00m:\n\u001b[0;32m-> 1473\u001b[0m         \u001b[39mreturn\u001b[39;00m func(\n\u001b[1;32m   1474\u001b[0m             ax,\n\u001b[1;32m   1475\u001b[0m             \u001b[39m*\u001b[39;49m\u001b[39mmap\u001b[39;49m(sanitize_sequence, args),\n\u001b[1;32m   1476\u001b[0m             \u001b[39m*\u001b[39;49m\u001b[39m*\u001b[39;49m{k: sanitize_sequence(v) \u001b[39mfor\u001b[39;49;00m k, v \u001b[39min\u001b[39;49;00m kwargs\u001b[39m.\u001b[39;49mitems()})\n\u001b[1;32m   1478\u001b[0m     bound \u001b[39m=\u001b[39m new_sig\u001b[39m.\u001b[39mbind(ax, \u001b[39m*\u001b[39margs, \u001b[39m*\u001b[39m\u001b[39m*\u001b[39mkwargs)\n\u001b[1;32m   1479\u001b[0m     auto_label \u001b[39m=\u001b[39m (bound\u001b[39m.\u001b[39marguments\u001b[39m.\u001b[39mget(label_namer)\n\u001b[1;32m   1480\u001b[0m                   \u001b[39mor\u001b[39;00m bound\u001b[39m.\u001b[39mkwargs\u001b[39m.\u001b[39mget(label_namer))\n",
      "File \u001b[0;32m/Library/Frameworks/Python.framework/Versions/3.12/lib/python3.12/site-packages/mpl_toolkits/mplot3d/axes3d.py:2841\u001b[0m, in \u001b[0;36mAxes3D.bar3d\u001b[0;34m(self, x, y, z, dx, dy, dz, color, zsort, shade, lightsource, *args, **kwargs)\u001b[0m\n\u001b[1;32m   2838\u001b[0m x, y, z, dx, dy, dz \u001b[39m=\u001b[39m np\u001b[39m.\u001b[39mbroadcast_arrays(\n\u001b[1;32m   2839\u001b[0m     np\u001b[39m.\u001b[39matleast_1d(x), y, z, dx, dy, dz)\n\u001b[1;32m   2840\u001b[0m minx \u001b[39m=\u001b[39m np\u001b[39m.\u001b[39mmin(x)\n\u001b[0;32m-> 2841\u001b[0m maxx \u001b[39m=\u001b[39m np\u001b[39m.\u001b[39mmax(x \u001b[39m+\u001b[39;49m dx)\n\u001b[1;32m   2842\u001b[0m miny \u001b[39m=\u001b[39m np\u001b[39m.\u001b[39mmin(y)\n\u001b[1;32m   2843\u001b[0m maxy \u001b[39m=\u001b[39m np\u001b[39m.\u001b[39mmax(y \u001b[39m+\u001b[39m dy)\n",
      "\u001b[0;31mTypeError\u001b[0m: can only concatenate str (not \"int\") to str"
     ]
    },
    {
     "data": {
      "text/plain": [
       "<Figure size 1200x600 with 0 Axes>"
      ]
     },
     "metadata": {},
     "output_type": "display_data"
    },
    {
     "data": {
      "image/png": "[encoded data removed]",
      "text/plain": [
       "<Figure size 640x480 with 1 Axes>"
      ]
     },
     "metadata": {},
     "output_type": "display_data"
    }
   ],
   "source": [
    "plt.figure(figsize=(12,6))\n",
    "figure ,ax =plt.subplots(subplot_kw ={\"projection\": \"3d\"})\n",
    "barlabel =ax.bar3d(data[\"product\"],data[\"product\"],data[\"product\"],data[\"revenue\"],data[\"price\"],data[\"quantity\"], color =[\"red\",\"green\",\"blue\",\"yellow\"])\n",
    "plt.bar_label( barlabel,label_type=\"center\")\n",
    "plt.xlabel(\"Category\",size=24)\n",
    "plt.ylabel(\"Revenue\" ,size=24)\n",
    "plt.title(\"Category VS Revenue\")\n",
    "plt.xticks(size=14,rotation=90 )\n",
    "plt.yticks(size=14, rotation=60)\n",
    "plt.show()"
   ]
  },
  {
   "cell_type": "code",
   "execution_count": null,
   "metadata": {},
   "outputs": [],
   "source": []
  }
 ],
 "metadata": {
  "kernelspec": {
   "display_name": "Python 3",
   "language": "python",
   "name": "python3"
  },
  "language_info": {
   "codemirror_mode": {
    "name": "ipython",
    "version": 3
   },
   "file_extension": ".py",
   "mimetype": "text/x-python",
   "name": "python",
   "nbconvert_exporter": "python",
   "pygments_lexer": "ipython3",
   "version": "3.12.1"
  }
 },
 "nbformat": 4,
 "nbformat_minor": 2
}
