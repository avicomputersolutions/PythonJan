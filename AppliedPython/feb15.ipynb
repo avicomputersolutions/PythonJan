{
 "cells": [
  {
   "cell_type": "code",
   "execution_count": 1,
   "metadata": {},
   "outputs": [],
   "source": [
    "import numpy as np \n",
    "import pandas as pd"
   ]
  },
  {
   "cell_type": "code",
   "execution_count": 2,
   "metadata": {},
   "outputs": [],
   "source": [
    "df = pd.read_csv(\"../sales_data.csv\")"
   ]
  },
  {
   "cell_type": "code",
   "execution_count": 4,
   "metadata": {},
   "outputs": [
    {
     "data": {
      "text/html": [
       "<div>\n",
       "<style scoped>\n",
       "    .dataframe tbody tr th:only-of-type {\n",
       "        vertical-align: middle;\n",
       "    }\n",
       "\n",
       "    .dataframe tbody tr th {\n",
       "        vertical-align: top;\n",
       "    }\n",
       "\n",
       "    .dataframe thead th {\n",
       "        text-align: right;\n",
       "    }\n",
       "</style>\n",
       "<table border=\"1\" class=\"dataframe\">\n",
       "  <thead>\n",
       "    <tr style=\"text-align: right;\">\n",
       "      <th></th>\n",
       "      <th>date</th>\n",
       "      <th>product</th>\n",
       "      <th>category</th>\n",
       "      <th>price</th>\n",
       "      <th>quantity</th>\n",
       "      <th>revenue</th>\n",
       "    </tr>\n",
       "  </thead>\n",
       "  <tbody>\n",
       "    <tr>\n",
       "      <th>0</th>\n",
       "      <td>2022-01-01</td>\n",
       "      <td>Smartphone</td>\n",
       "      <td>Electronics</td>\n",
       "      <td>600.0</td>\n",
       "      <td>10.0</td>\n",
       "      <td>6000.0</td>\n",
       "    </tr>\n",
       "    <tr>\n",
       "      <th>1</th>\n",
       "      <td>2022-01-01</td>\n",
       "      <td>Laptop</td>\n",
       "      <td>Electronics</td>\n",
       "      <td>1200.0</td>\n",
       "      <td>5.0</td>\n",
       "      <td>6000.0</td>\n",
       "    </tr>\n",
       "    <tr>\n",
       "      <th>2</th>\n",
       "      <td>2022-01-02</td>\n",
       "      <td>T-Shirt</td>\n",
       "      <td>Clothing</td>\n",
       "      <td>20.0</td>\n",
       "      <td>50.0</td>\n",
       "      <td>1000.0</td>\n",
       "    </tr>\n",
       "    <tr>\n",
       "      <th>3</th>\n",
       "      <td>2022-01-03</td>\n",
       "      <td>Headphones</td>\n",
       "      <td>Electronics</td>\n",
       "      <td>100.0</td>\n",
       "      <td>20.0</td>\n",
       "      <td>2000.0</td>\n",
       "    </tr>\n",
       "    <tr>\n",
       "      <th>4</th>\n",
       "      <td>2022-01-04</td>\n",
       "      <td>T-Shirt</td>\n",
       "      <td>Clothing</td>\n",
       "      <td>20.0</td>\n",
       "      <td>25.0</td>\n",
       "      <td>500.0</td>\n",
       "    </tr>\n",
       "  </tbody>\n",
       "</table>\n",
       "</div>"
      ],
      "text/plain": [
       "         date     product     category   price  quantity  revenue\n",
       "0  2022-01-01  Smartphone  Electronics   600.0      10.0   6000.0\n",
       "1  2022-01-01      Laptop  Electronics  1200.0       5.0   6000.0\n",
       "2  2022-01-02     T-Shirt     Clothing    20.0      50.0   1000.0\n",
       "3  2022-01-03  Headphones  Electronics   100.0      20.0   2000.0\n",
       "4  2022-01-04     T-Shirt     Clothing    20.0      25.0    500.0"
      ]
     },
     "execution_count": 4,
     "metadata": {},
     "output_type": "execute_result"
    }
   ],
   "source": [
    "df.head(5)"
   ]
  },
  {
   "cell_type": "code",
   "execution_count": 5,
   "metadata": {},
   "outputs": [
    {
     "data": {
      "text/html": [
       "<div>\n",
       "<style scoped>\n",
       "    .dataframe tbody tr th:only-of-type {\n",
       "        vertical-align: middle;\n",
       "    }\n",
       "\n",
       "    .dataframe tbody tr th {\n",
       "        vertical-align: top;\n",
       "    }\n",
       "\n",
       "    .dataframe thead th {\n",
       "        text-align: right;\n",
       "    }\n",
       "</style>\n",
       "<table border=\"1\" class=\"dataframe\">\n",
       "  <thead>\n",
       "    <tr style=\"text-align: right;\">\n",
       "      <th></th>\n",
       "      <th>date</th>\n",
       "      <th>product</th>\n",
       "      <th>category</th>\n",
       "      <th>price</th>\n",
       "      <th>quantity</th>\n",
       "      <th>revenue</th>\n",
       "    </tr>\n",
       "  </thead>\n",
       "  <tbody>\n",
       "    <tr>\n",
       "      <th>364</th>\n",
       "      <td>2022-12-27</td>\n",
       "      <td>Watch</td>\n",
       "      <td>Accessories</td>\n",
       "      <td>150.0</td>\n",
       "      <td>5.0</td>\n",
       "      <td>750.0</td>\n",
       "    </tr>\n",
       "    <tr>\n",
       "      <th>365</th>\n",
       "      <td>2022-12-28</td>\n",
       "      <td>Coat</td>\n",
       "      <td>Clothing</td>\n",
       "      <td>100.0</td>\n",
       "      <td>5.0</td>\n",
       "      <td>500.0</td>\n",
       "    </tr>\n",
       "    <tr>\n",
       "      <th>366</th>\n",
       "      <td>2022-12-29</td>\n",
       "      <td>Headphones</td>\n",
       "      <td>Electronics</td>\n",
       "      <td>100.0</td>\n",
       "      <td>10.0</td>\n",
       "      <td>1000.0</td>\n",
       "    </tr>\n",
       "    <tr>\n",
       "      <th>367</th>\n",
       "      <td>2022-12-30</td>\n",
       "      <td>Smartphone</td>\n",
       "      <td>Electronics</td>\n",
       "      <td>600.0</td>\n",
       "      <td>11.0</td>\n",
       "      <td>6600.0</td>\n",
       "    </tr>\n",
       "    <tr>\n",
       "      <th>368</th>\n",
       "      <td>2022-12-31</td>\n",
       "      <td>Hoodie</td>\n",
       "      <td>Clothing</td>\n",
       "      <td>40.0</td>\n",
       "      <td>30.0</td>\n",
       "      <td>1200.0</td>\n",
       "    </tr>\n",
       "  </tbody>\n",
       "</table>\n",
       "</div>"
      ],
      "text/plain": [
       "           date     product     category  price  quantity  revenue\n",
       "364  2022-12-27       Watch  Accessories  150.0       5.0    750.0\n",
       "365  2022-12-28        Coat     Clothing  100.0       5.0    500.0\n",
       "366  2022-12-29  Headphones  Electronics  100.0      10.0   1000.0\n",
       "367  2022-12-30  Smartphone  Electronics  600.0      11.0   6600.0\n",
       "368  2022-12-31      Hoodie     Clothing   40.0      30.0   1200.0"
      ]
     },
     "execution_count": 5,
     "metadata": {},
     "output_type": "execute_result"
    }
   ],
   "source": [
    "df.tail(5)"
   ]
  },
  {
   "cell_type": "code",
   "execution_count": 6,
   "metadata": {},
   "outputs": [
    {
     "data": {
      "text/plain": [
       "date        0\n",
       "product     0\n",
       "category    0\n",
       "price       2\n",
       "quantity    1\n",
       "revenue     1\n",
       "dtype: int64"
      ]
     },
     "execution_count": 6,
     "metadata": {},
     "output_type": "execute_result"
    }
   ],
   "source": [
    "df.isnull().sum()"
   ]
  },
  {
   "cell_type": "code",
   "execution_count": 7,
   "metadata": {},
   "outputs": [
    {
     "data": {
      "text/html": [
       "<div>\n",
       "<style scoped>\n",
       "    .dataframe tbody tr th:only-of-type {\n",
       "        vertical-align: middle;\n",
       "    }\n",
       "\n",
       "    .dataframe tbody tr th {\n",
       "        vertical-align: top;\n",
       "    }\n",
       "\n",
       "    .dataframe thead th {\n",
       "        text-align: right;\n",
       "    }\n",
       "</style>\n",
       "<table border=\"1\" class=\"dataframe\">\n",
       "  <thead>\n",
       "    <tr style=\"text-align: right;\">\n",
       "      <th></th>\n",
       "      <th>date</th>\n",
       "      <th>product</th>\n",
       "      <th>category</th>\n",
       "      <th>price</th>\n",
       "      <th>quantity</th>\n",
       "      <th>revenue</th>\n",
       "    </tr>\n",
       "  </thead>\n",
       "  <tbody>\n",
       "    <tr>\n",
       "      <th>193</th>\n",
       "      <td>2022-07-11</td>\n",
       "      <td>Watch</td>\n",
       "      <td>Accessories</td>\n",
       "      <td>NaN</td>\n",
       "      <td>15.0</td>\n",
       "      <td>2250.0</td>\n",
       "    </tr>\n",
       "    <tr>\n",
       "      <th>320</th>\n",
       "      <td>2022-11-13</td>\n",
       "      <td>Wallet</td>\n",
       "      <td>Accessories</td>\n",
       "      <td>NaN</td>\n",
       "      <td>35.0</td>\n",
       "      <td>1050.0</td>\n",
       "    </tr>\n",
       "  </tbody>\n",
       "</table>\n",
       "</div>"
      ],
      "text/plain": [
       "           date product     category  price  quantity  revenue\n",
       "193  2022-07-11   Watch  Accessories    NaN      15.0   2250.0\n",
       "320  2022-11-13  Wallet  Accessories    NaN      35.0   1050.0"
      ]
     },
     "execution_count": 7,
     "metadata": {},
     "output_type": "execute_result"
    }
   ],
   "source": [
    "df[df[\"price\"].isnull()]"
   ]
  },
  {
   "cell_type": "code",
   "execution_count": 8,
   "metadata": {},
   "outputs": [
    {
     "name": "stderr",
     "output_type": "stream",
     "text": [
      "/var/folders/dy/q69lm6yx7cg8tqqkmwwbbzmm0000gn/T/ipykernel_10803/1200409500.py:1: FutureWarning: ChainedAssignmentError: behaviour will change in pandas 3.0!\n",
      "You are setting values through chained assignment. Currently this works in certain cases, but when using Copy-on-Write (which will become the default behaviour in pandas 3.0) this will never work to update the original DataFrame or Series, because the intermediate object on which we are setting values will behave as a copy.\n",
      "A typical example is when you are setting values in a column of a DataFrame, like:\n",
      "\n",
      "df[\"col\"][row_indexer] = value\n",
      "\n",
      "Use `df.loc[row_indexer, \"col\"] = values` instead, to perform the assignment in a single step and ensure this keeps updating the original `df`.\n",
      "\n",
      "See the caveats in the documentation: https://pandas.pydata.org/pandas-docs/stable/user_guide/indexing.html#returning-a-view-versus-a-copy\n",
      "\n",
      "  df[\"price\"][df[\"price\"].isnull()] = df[\"revenue\"] / df[\"quantity\"]\n",
      "/var/folders/dy/q69lm6yx7cg8tqqkmwwbbzmm0000gn/T/ipykernel_10803/1200409500.py:1: SettingWithCopyWarning: \n",
      "A value is trying to be set on a copy of a slice from a DataFrame\n",
      "\n",
      "See the caveats in the documentation: https://pandas.pydata.org/pandas-docs/stable/user_guide/indexing.html#returning-a-view-versus-a-copy\n",
      "  df[\"price\"][df[\"price\"].isnull()] = df[\"revenue\"] / df[\"quantity\"]\n"
     ]
    }
   ],
   "source": [
    "df[\"price\"][df[\"price\"].isnull()] = df[\"revenue\"] / df[\"quantity\"]"
   ]
  },
  {
   "cell_type": "code",
   "execution_count": 9,
   "metadata": {},
   "outputs": [
    {
     "data": {
      "text/plain": [
       "date        0\n",
       "product     0\n",
       "category    0\n",
       "price       0\n",
       "quantity    1\n",
       "revenue     1\n",
       "dtype: int64"
      ]
     },
     "execution_count": 9,
     "metadata": {},
     "output_type": "execute_result"
    }
   ],
   "source": [
    "df.isnull().sum()"
   ]
  },
  {
   "cell_type": "code",
   "execution_count": 10,
   "metadata": {},
   "outputs": [
    {
     "name": "stderr",
     "output_type": "stream",
     "text": [
      "/var/folders/dy/q69lm6yx7cg8tqqkmwwbbzmm0000gn/T/ipykernel_10803/2694337121.py:1: FutureWarning: ChainedAssignmentError: behaviour will change in pandas 3.0!\n",
      "You are setting values through chained assignment. Currently this works in certain cases, but when using Copy-on-Write (which will become the default behaviour in pandas 3.0) this will never work to update the original DataFrame or Series, because the intermediate object on which we are setting values will behave as a copy.\n",
      "A typical example is when you are setting values in a column of a DataFrame, like:\n",
      "\n",
      "df[\"col\"][row_indexer] = value\n",
      "\n",
      "Use `df.loc[row_indexer, \"col\"] = values` instead, to perform the assignment in a single step and ensure this keeps updating the original `df`.\n",
      "\n",
      "See the caveats in the documentation: https://pandas.pydata.org/pandas-docs/stable/user_guide/indexing.html#returning-a-view-versus-a-copy\n",
      "\n",
      "  df[\"quantity\"][df[\"quantity\"].isnull()] = df[\"revenue\"] / df[\"price\"]\n",
      "/var/folders/dy/q69lm6yx7cg8tqqkmwwbbzmm0000gn/T/ipykernel_10803/2694337121.py:1: SettingWithCopyWarning: \n",
      "A value is trying to be set on a copy of a slice from a DataFrame\n",
      "\n",
      "See the caveats in the documentation: https://pandas.pydata.org/pandas-docs/stable/user_guide/indexing.html#returning-a-view-versus-a-copy\n",
      "  df[\"quantity\"][df[\"quantity\"].isnull()] = df[\"revenue\"] / df[\"price\"]\n"
     ]
    }
   ],
   "source": [
    "df[\"quantity\"][df[\"quantity\"].isnull()] = df[\"revenue\"] / df[\"price\"]"
   ]
  },
  {
   "cell_type": "code",
   "execution_count": 11,
   "metadata": {},
   "outputs": [
    {
     "data": {
      "text/plain": [
       "date        0\n",
       "product     0\n",
       "category    0\n",
       "price       0\n",
       "quantity    0\n",
       "revenue     1\n",
       "dtype: int64"
      ]
     },
     "execution_count": 11,
     "metadata": {},
     "output_type": "execute_result"
    }
   ],
   "source": [
    "df.isnull().sum()"
   ]
  },
  {
   "cell_type": "code",
   "execution_count": 12,
   "metadata": {},
   "outputs": [
    {
     "name": "stderr",
     "output_type": "stream",
     "text": [
      "/var/folders/dy/q69lm6yx7cg8tqqkmwwbbzmm0000gn/T/ipykernel_10803/3173015606.py:1: FutureWarning: ChainedAssignmentError: behaviour will change in pandas 3.0!\n",
      "You are setting values through chained assignment. Currently this works in certain cases, but when using Copy-on-Write (which will become the default behaviour in pandas 3.0) this will never work to update the original DataFrame or Series, because the intermediate object on which we are setting values will behave as a copy.\n",
      "A typical example is when you are setting values in a column of a DataFrame, like:\n",
      "\n",
      "df[\"col\"][row_indexer] = value\n",
      "\n",
      "Use `df.loc[row_indexer, \"col\"] = values` instead, to perform the assignment in a single step and ensure this keeps updating the original `df`.\n",
      "\n",
      "See the caveats in the documentation: https://pandas.pydata.org/pandas-docs/stable/user_guide/indexing.html#returning-a-view-versus-a-copy\n",
      "\n",
      "  df[\"revenue\"][df[\"revenue\"].isnull()] = df[\"quantity\"] * df[\"price\"]\n",
      "/var/folders/dy/q69lm6yx7cg8tqqkmwwbbzmm0000gn/T/ipykernel_10803/3173015606.py:1: SettingWithCopyWarning: \n",
      "A value is trying to be set on a copy of a slice from a DataFrame\n",
      "\n",
      "See the caveats in the documentation: https://pandas.pydata.org/pandas-docs/stable/user_guide/indexing.html#returning-a-view-versus-a-copy\n",
      "  df[\"revenue\"][df[\"revenue\"].isnull()] = df[\"quantity\"] * df[\"price\"]\n"
     ]
    }
   ],
   "source": [
    "df[\"revenue\"][df[\"revenue\"].isnull()] = df[\"quantity\"] * df[\"price\"]"
   ]
  },
  {
   "cell_type": "code",
   "execution_count": 13,
   "metadata": {},
   "outputs": [
    {
     "data": {
      "text/plain": [
       "date        0\n",
       "product     0\n",
       "category    0\n",
       "price       0\n",
       "quantity    0\n",
       "revenue     0\n",
       "dtype: int64"
      ]
     },
     "execution_count": 13,
     "metadata": {},
     "output_type": "execute_result"
    }
   ],
   "source": [
    "df.isnull().sum()"
   ]
  },
  {
   "cell_type": "code",
   "execution_count": 14,
   "metadata": {},
   "outputs": [
    {
     "name": "stdout",
     "output_type": "stream",
     "text": [
      "<class 'pandas.core.frame.DataFrame'>\n",
      "RangeIndex: 369 entries, 0 to 368\n",
      "Data columns (total 6 columns):\n",
      " #   Column    Non-Null Count  Dtype  \n",
      "---  ------    --------------  -----  \n",
      " 0   date      369 non-null    object \n",
      " 1   product   369 non-null    object \n",
      " 2   category  369 non-null    object \n",
      " 3   price     369 non-null    float64\n",
      " 4   quantity  369 non-null    float64\n",
      " 5   revenue   369 non-null    float64\n",
      "dtypes: float64(3), object(3)\n",
      "memory usage: 17.4+ KB\n"
     ]
    }
   ],
   "source": [
    "df.info()"
   ]
  },
  {
   "cell_type": "code",
   "execution_count": 15,
   "metadata": {},
   "outputs": [],
   "source": [
    "df[\"price\"]= df[\"price\"].astype(\"int64\")\n",
    "df[\"quantity\"]= df[\"quantity\"].astype(\"int64\")\n",
    "df[\"revenue\"]= df[\"revenue\"].astype(\"int64\")"
   ]
  },
  {
   "cell_type": "code",
   "execution_count": 16,
   "metadata": {},
   "outputs": [
    {
     "name": "stdout",
     "output_type": "stream",
     "text": [
      "<class 'pandas.core.frame.DataFrame'>\n",
      "RangeIndex: 369 entries, 0 to 368\n",
      "Data columns (total 6 columns):\n",
      " #   Column    Non-Null Count  Dtype \n",
      "---  ------    --------------  ----- \n",
      " 0   date      369 non-null    object\n",
      " 1   product   369 non-null    object\n",
      " 2   category  369 non-null    object\n",
      " 3   price     369 non-null    int64 \n",
      " 4   quantity  369 non-null    int64 \n",
      " 5   revenue   369 non-null    int64 \n",
      "dtypes: int64(3), object(3)\n",
      "memory usage: 17.4+ KB\n"
     ]
    }
   ],
   "source": [
    "df.info()"
   ]
  },
  {
   "cell_type": "code",
   "execution_count": 17,
   "metadata": {},
   "outputs": [
    {
     "data": {
      "text/plain": [
       "1"
      ]
     },
     "execution_count": 17,
     "metadata": {},
     "output_type": "execute_result"
    }
   ],
   "source": [
    "df.duplicated().sum()"
   ]
  },
  {
   "cell_type": "code",
   "execution_count": 19,
   "metadata": {},
   "outputs": [],
   "source": [
    "df = df.drop_duplicates()"
   ]
  },
  {
   "cell_type": "code",
   "execution_count": 20,
   "metadata": {},
   "outputs": [
    {
     "data": {
      "text/plain": [
       "0"
      ]
     },
     "execution_count": 20,
     "metadata": {},
     "output_type": "execute_result"
    }
   ],
   "source": [
    "df.duplicated().sum()"
   ]
  },
  {
   "cell_type": "code",
   "execution_count": 21,
   "metadata": {},
   "outputs": [
    {
     "data": {
      "text/plain": [
       "array(['Electronics', 'Clothing', 'Accessories', 'Bags', 'Shoes',\n",
       "       'Clohting', 'Bgas', 'Shoeses'], dtype=object)"
      ]
     },
     "execution_count": 21,
     "metadata": {},
     "output_type": "execute_result"
    }
   ],
   "source": [
    "df[\"category\"].unique()"
   ]
  },
  {
   "cell_type": "code",
   "execution_count": 22,
   "metadata": {},
   "outputs": [
    {
     "name": "stderr",
     "output_type": "stream",
     "text": [
      "/var/folders/dy/q69lm6yx7cg8tqqkmwwbbzmm0000gn/T/ipykernel_10803/1937869388.py:2: SettingWithCopyWarning: \n",
      "A value is trying to be set on a copy of a slice from a DataFrame\n",
      "\n",
      "See the caveats in the documentation: https://pandas.pydata.org/pandas-docs/stable/user_guide/indexing.html#returning-a-view-versus-a-copy\n",
      "  df[\"category\"][df[\"category\"]==\"Bgas\"] = \"Bags\"\n",
      "/var/folders/dy/q69lm6yx7cg8tqqkmwwbbzmm0000gn/T/ipykernel_10803/1937869388.py:3: SettingWithCopyWarning: \n",
      "A value is trying to be set on a copy of a slice from a DataFrame\n",
      "\n",
      "See the caveats in the documentation: https://pandas.pydata.org/pandas-docs/stable/user_guide/indexing.html#returning-a-view-versus-a-copy\n",
      "  df[\"category\"][df[\"category\"]==\"Shoeses\"] = \"Shoes\"\n"
     ]
    }
   ],
   "source": [
    "df[\"category\"][df[\"category\"]==\"Clohting\"] = \"Clothing\"\n",
    "df[\"category\"][df[\"category\"]==\"Bgas\"] = \"Bags\"\n",
    "df[\"category\"][df[\"category\"]==\"Shoeses\"] = \"Shoes\""
   ]
  },
  {
   "cell_type": "code",
   "execution_count": 23,
   "metadata": {},
   "outputs": [
    {
     "data": {
      "text/plain": [
       "array(['Electronics', 'Clothing', 'Accessories', 'Bags', 'Shoes'],\n",
       "      dtype=object)"
      ]
     },
     "execution_count": 23,
     "metadata": {},
     "output_type": "execute_result"
    }
   ],
   "source": [
    "df[\"category\"].unique()"
   ]
  },
  {
   "cell_type": "code",
   "execution_count": 24,
   "metadata": {},
   "outputs": [
    {
     "data": {
      "text/plain": [
       "array(['Smartphone', 'Laptop', 'T-Shirt', 'Headphones', 'Watch', 'Tablet',\n",
       "       'Coat', 'Smartwatch', 'Speaker', 'Backpack', 'Hoodie', 'Sneakers',\n",
       "       'Wallet', 'Jeans'], dtype=object)"
      ]
     },
     "execution_count": 24,
     "metadata": {},
     "output_type": "execute_result"
    }
   ],
   "source": [
    "df[\"product\"].unique()"
   ]
  },
  {
   "cell_type": "code",
   "execution_count": 25,
   "metadata": {},
   "outputs": [
    {
     "data": {
      "text/plain": [
       "array(['2022-01-01', '2022-01-02', '2022-01-03', '2022-01-04',\n",
       "       '2022-01-05', '2022-01-06', '2022-01-07', '2022-01-08',\n",
       "       '2022-01-09', '2022-01-10', '2022-01-11', '2022-01-12',\n",
       "       '2022-01-13', '2022-01-14', '2022-01-15', '2022-01-16',\n",
       "       '2022-01-17', '2022-01-18', '2022-01-19', '2022-01-20',\n",
       "       '2022-01-21', '2022-01-22', '2022-01-23', '2022-01-24',\n",
       "       '2022-01-25', '2022-01-26', '2022-01-27', '2022-01-28',\n",
       "       '2022-01-29', '2022-01-30', '2022-01-31', '2022-02-01',\n",
       "       '2022-02-02', '2022-02-03', '2022-02-04', '2022-02-05',\n",
       "       '2022-02-06', '2022-02-07', '2022-02-08', '2022-02-09',\n",
       "       '2022-02-10', '2022-02-11', '2022-02-12', '2022-02-13',\n",
       "       '2022-02-14', '2022-02-15', '2022-02-16', '2022-02-17',\n",
       "       '2022-02-18', '2022-02-19', '2022-02-20', '2022-02-21',\n",
       "       '2022-02-22', '2022-02-23', '2022-02-24', '2022-02-25',\n",
       "       '2022-02-26', '2022-02-27', '2022-02-28', '2022-03-01',\n",
       "       '2022-03-02', '2022-03-03', '2022-03-04', '2022-03-05',\n",
       "       '2022-03-06', '2022-03-07', '2022-03-08', '2022-03-09',\n",
       "       '2022-03-10', '2022-03-11', '2022-03-12', '2022-03-13',\n",
       "       '2022-03-14', '2022-03-15', '2022-03-16', '2022-03-17',\n",
       "       '2022-03-18', '2022-03-19', '2022-03-20', '2022-03-21',\n",
       "       '2022-03-22', '2022-03-23', '2022-03-24', '2022-03-25',\n",
       "       '2022-03-26', '2022-03-27', '2022-03-28', '2022-03-29',\n",
       "       '2022-03-30', '2022-03-31', '2022-04-01', '2022-04-02',\n",
       "       '2022-04-03', '2022-04-04', '2022-04-05', '2022-04-06',\n",
       "       '2022-04-07', '2022-04-08', '2022-04-09', '2022-04-10',\n",
       "       '2022-04-11', '2022-04-12', '2022-04-13', '2022-04-14',\n",
       "       '2022-04-15', '2022-04-16', '2022-04-17', '2022-04-18',\n",
       "       '2022-04-19', '2022-04-20', '2022-04-21', '2022-04-22',\n",
       "       '2022-04-23', '2022-04-24', '2022-04-25', '2022-04-26',\n",
       "       '2022-04-27', '2022-04-28', '2022-04-29', '2022-04-30',\n",
       "       '2022-05-01', '2022-05-02', '2022-05-03', '2022-05-04',\n",
       "       '2022-05-05', '2022-05-06', '2022-05-07', '2022-05-08',\n",
       "       '2022-05-09', '2022-05-10', '2022-05-11', '2022-05-12',\n",
       "       '2022-05-13', '2022-05-14', '2022-05-15', '2022-05-16',\n",
       "       '2022-05-17', '2022-05-18', '2022-05-19', '2022-05-20',\n",
       "       '2022-05-21', '2022-05-22', '2022-05-23', '2022-05-24',\n",
       "       '2022-05-25', '2022-05-26', '2022-05-27', '2022-05-28',\n",
       "       '2022-05-29', '2022-05-30', '2022-05-31', '2022-06-01',\n",
       "       '2022-06-02', '2022-06-03', '2022-06-04', '2022-06-05',\n",
       "       '2022-06-06', '2022-06-07', '2022-06-08', '2022-06-09',\n",
       "       '2022-06-10', '2022-06-11', '2022-06-12', '2022-06-13',\n",
       "       '2022-06-14', '2022-06-15', '2022-06-16', '2022-06-17',\n",
       "       '2022-06-18', '2022-06-19', '2022-06-20', '2022-06-21',\n",
       "       '2022-06-22', '2022-06-23', '2022-06-24', '2022-06-25',\n",
       "       '2022-06-26', '2022-06-27', '2022-06-28', '2022-06-29',\n",
       "       '2022-06-30', '2022-07-01', '2022-07-02', '2022-07-03',\n",
       "       '2022-07-04', '2022-07-05', '2022-07-06', '2022-07-07',\n",
       "       '2022-07-08', '2022-07-09', '2022-07-10', '2022-07-11',\n",
       "       '2022-07-12', '2022-07-13', '2022-07-14', '2022-07-15',\n",
       "       '2022-07-16', '2022-07-17', '2022-07-18', '2022-07-19',\n",
       "       '2022-07-20', '2022-07-21', '2022-07-22', '2022-07-23',\n",
       "       '2022-07-24', '2022-07-25', '2022-07-26', '2022-07-27',\n",
       "       '2022-07-28', '2022-07-29', '2022-07-30', '2022-07-31',\n",
       "       '2022-08-01', '2022-08-02', '2022-08-03', '2022-08-04',\n",
       "       '2022-08-05', '2022-08-06', '2022-08-07', '2022-08-08',\n",
       "       '2022-08-09', '2022-08-10', '2022-08-11', '2022-08-12',\n",
       "       '2022-08-13', '2022-08-14', '2022-08-15', '2022-08-16',\n",
       "       '2022-08-17', '2022-08-18', '2022-08-19', '2022-08-20',\n",
       "       '2022-08-21', '2022-08-22', '2022-08-23', '2022-08-24',\n",
       "       '2022-08-25', '2022-08-26', '2022-08-27', '2022-08-28',\n",
       "       '2022-08-29', '2022-08-30', '2022-08-31', '2022-09-01',\n",
       "       '2022-09-02', '2022-09-03', '2022-09-04', '2022-09-05',\n",
       "       '2022-09-06', '2022-09-07', '2022-09-08', '2022-09-09',\n",
       "       '2022-09-10', '2022-09-11', '2022-09-12', '2022-09-13',\n",
       "       '2022-09-14', '2022-09-15', '2022-09-16', '2022-09-17',\n",
       "       '2022-09-18', '2022-09-19', '2022-09-20', '2022-09-21',\n",
       "       '2022-09-22', '2022-09-23', '2022-09-24', '2022-09-25',\n",
       "       '2022-09-26', '2022-09-27', '2022-09-28', '2022-09-29',\n",
       "       '2022-09-30', '2022-10-01', '2022-10-02', '2022-10-03',\n",
       "       '2022-10-04', '2022-10-05', '2022-10-06', '2022-10-07',\n",
       "       '2022-10-08', '2022-10-09', '2022-10-10', '2022-10-11',\n",
       "       '2022-10-12', '2022-10-13', '2022-10-14', '2022-10-15',\n",
       "       '2022-10-16', '2022-10-17', '2022-10-18', '2022-10-19',\n",
       "       '2022-10-20', '2022-10-21', '2022-10-22', '2022-10-23',\n",
       "       '2022-10-24', '2022-10-25', '2022-10-26', '2022-10-27',\n",
       "       '2022-10-28', '2022-10-29', '2022-10-30', '2022-10-31',\n",
       "       '2022-11-01', '2022-11-02', '2022-11-03', '2022-11-04',\n",
       "       '2022-11-05', '2022-11-06', '2022-11-07', '2022-11-08',\n",
       "       '2022-11-09', '2022-11-10', '2022-11-11', '2022-11-12',\n",
       "       '2022-11-13', '2022-11-14', '2022-11-15', '2022-11-16',\n",
       "       '2022-11-17', '2022-11-18', '2022-11-19', '2022-11-20',\n",
       "       '2022-11-21', '2022-11-22', '2022-11-23', '2022-11-24',\n",
       "       '2022-11-25', '2022-11-26', '2022-11-27', '2022-11-28',\n",
       "       '2022-11-29', '2022-11-30', '2022-12-01', '2022-12-02',\n",
       "       '2022-12-03', '2022-12-04', '2022-12-05', '2022-12-06',\n",
       "       '2022-12-07', '2022-12-08', '2022-12-09', '2022-12-10',\n",
       "       '2022-12-11', '2022-12-12', '2022-12-13', '2022-12-14',\n",
       "       '2022-12-15', '2022-12-16', '2022-12-17', '2022-12-18',\n",
       "       '2022-12-19', '2022-12-20', '2022-12-21', '2022-12-22',\n",
       "       '2022-12-23', '2022-12-24', '2022-12-25', '2022-12-26',\n",
       "       '2022-12-27', '2022-12-28', '2022-12-29', '2022-12-30',\n",
       "       '2022-12-31'], dtype=object)"
      ]
     },
     "execution_count": 25,
     "metadata": {},
     "output_type": "execute_result"
    }
   ],
   "source": [
    "df[\"date\"].unique()"
   ]
  },
  {
   "cell_type": "code",
   "execution_count": 26,
   "metadata": {},
   "outputs": [
    {
     "data": {
      "text/plain": [
       "759130"
      ]
     },
     "execution_count": 26,
     "metadata": {},
     "output_type": "execute_result"
    }
   ],
   "source": [
    "# Total turnover \n",
    "df[\"revenue\"].sum()"
   ]
  },
  {
   "cell_type": "code",
   "execution_count": 27,
   "metadata": {},
   "outputs": [
    {
     "data": {
      "text/plain": [
       "434400"
      ]
     },
     "execution_count": 27,
     "metadata": {},
     "output_type": "execute_result"
    }
   ],
   "source": [
    "df.groupby(\"product\")[\"revenue\"].sum().max()"
   ]
  },
  {
   "cell_type": "code",
   "execution_count": 31,
   "metadata": {},
   "outputs": [],
   "source": [
    "rvbyCat=df.groupby(\"product\")[\"revenue\"].sum()"
   ]
  },
  {
   "cell_type": "code",
   "execution_count": 37,
   "metadata": {},
   "outputs": [
    {
     "data": {
      "text/plain": [
       "product\n",
       "Smartphone    434400\n",
       "Name: revenue, dtype: int64"
      ]
     },
     "execution_count": 37,
     "metadata": {},
     "output_type": "execute_result"
    }
   ],
   "source": [
    "rvbyCat[rvbyCat == rvbyCat.max()]"
   ]
  },
  {
   "cell_type": "code",
   "execution_count": 38,
   "metadata": {},
   "outputs": [],
   "source": [
    "avgpriceByPro= df.groupby(\"product\")[\"price\"].mean()"
   ]
  },
  {
   "cell_type": "code",
   "execution_count": 39,
   "metadata": {},
   "outputs": [
    {
     "data": {
      "text/plain": [
       "product\n",
       "Backpack        50.0\n",
       "Coat           100.0\n",
       "Headphones     100.0\n",
       "Hoodie          40.0\n",
       "Jeans           50.0\n",
       "Laptop        1200.0\n",
       "Smartphone     600.0\n",
       "Smartwatch     200.0\n",
       "Sneakers        80.0\n",
       "Speaker         80.0\n",
       "T-Shirt         20.0\n",
       "Tablet         400.0\n",
       "Wallet          30.0\n",
       "Watch          150.0\n",
       "Name: price, dtype: float64"
      ]
     },
     "execution_count": 39,
     "metadata": {},
     "output_type": "execute_result"
    }
   ],
   "source": [
    "avgpriceByPro"
   ]
  },
  {
   "cell_type": "code",
   "execution_count": 40,
   "metadata": {},
   "outputs": [],
   "source": [
    "tqbyPro= df.groupby(\"product\")[\"quantity\"].sum()"
   ]
  },
  {
   "cell_type": "code",
   "execution_count": 41,
   "metadata": {},
   "outputs": [
    {
     "data": {
      "text/plain": [
       "product\n",
       "Backpack       408\n",
       "Coat           338\n",
       "Headphones     180\n",
       "Hoodie         495\n",
       "Jeans          413\n",
       "Laptop           5\n",
       "Smartphone     724\n",
       "Smartwatch     304\n",
       "Sneakers       270\n",
       "Speaker        496\n",
       "T-Shirt       1005\n",
       "Tablet          45\n",
       "Wallet         440\n",
       "Watch          218\n",
       "Name: quantity, dtype: int64"
      ]
     },
     "execution_count": 41,
     "metadata": {},
     "output_type": "execute_result"
    }
   ],
   "source": [
    "tqbyPro"
   ]
  },
  {
   "cell_type": "code",
   "execution_count": 42,
   "metadata": {},
   "outputs": [],
   "source": [
    "catByreve = df.groupby(\"category\")[\"revenue\"].sum()"
   ]
  },
  {
   "cell_type": "code",
   "execution_count": 43,
   "metadata": {},
   "outputs": [
    {
     "data": {
      "text/plain": [
       "category\n",
       "Electronics    516080\n",
       "Name: revenue, dtype: int64"
      ]
     },
     "execution_count": 43,
     "metadata": {},
     "output_type": "execute_result"
    }
   ],
   "source": [
    "catByreve[catByreve == catByreve.max()]"
   ]
  },
  {
   "cell_type": "code",
   "execution_count": 44,
   "metadata": {},
   "outputs": [],
   "source": [
    "avgrev = df.groupby(\"quantity\")[\"revenue\"].mean()"
   ]
  },
  {
   "cell_type": "code",
   "execution_count": 45,
   "metadata": {},
   "outputs": [
    {
     "data": {
      "text/plain": [
       "quantity\n",
       "3     1200.000000\n",
       "4     1600.000000\n",
       "5      940.740741\n",
       "6     3000.000000\n",
       "7     4078.260870\n",
       "8     1302.500000\n",
       "9     4500.000000\n",
       "10    2573.170732\n",
       "11    6600.000000\n",
       "12    3403.333333\n",
       "15    1015.625000\n",
       "18    1245.000000\n",
       "20    1075.000000\n",
       "22    1760.000000\n",
       "25    1108.695652\n",
       "30     920.000000\n",
       "35     840.000000\n",
       "40    1100.000000\n",
       "50    1000.000000\n",
       "Name: revenue, dtype: float64"
      ]
     },
     "execution_count": 45,
     "metadata": {},
     "output_type": "execute_result"
    }
   ],
   "source": [
    "avgrev"
   ]
  },
  {
   "cell_type": "code",
   "execution_count": 46,
   "metadata": {},
   "outputs": [
    {
     "name": "stdout",
     "output_type": "stream",
     "text": [
      "<class 'pandas.core.frame.DataFrame'>\n",
      "Index: 368 entries, 0 to 368\n",
      "Data columns (total 6 columns):\n",
      " #   Column    Non-Null Count  Dtype \n",
      "---  ------    --------------  ----- \n",
      " 0   date      368 non-null    object\n",
      " 1   product   368 non-null    object\n",
      " 2   category  368 non-null    object\n",
      " 3   price     368 non-null    int64 \n",
      " 4   quantity  368 non-null    int64 \n",
      " 5   revenue   368 non-null    int64 \n",
      "dtypes: int64(3), object(3)\n",
      "memory usage: 20.1+ KB\n"
     ]
    }
   ],
   "source": [
    "df.info()"
   ]
  },
  {
   "cell_type": "code",
   "execution_count": 47,
   "metadata": {},
   "outputs": [],
   "source": [
    "df[\"date\"] = pd.to_datetime(df[\"date\"])"
   ]
  },
  {
   "cell_type": "code",
   "execution_count": 48,
   "metadata": {},
   "outputs": [],
   "source": [
    "df[\"quarter\"] = df[\"date\"].dt.quarter"
   ]
  },
  {
   "cell_type": "code",
   "execution_count": 49,
   "metadata": {},
   "outputs": [
    {
     "data": {
      "text/html": [
       "<div>\n",
       "<style scoped>\n",
       "    .dataframe tbody tr th:only-of-type {\n",
       "        vertical-align: middle;\n",
       "    }\n",
       "\n",
       "    .dataframe tbody tr th {\n",
       "        vertical-align: top;\n",
       "    }\n",
       "\n",
       "    .dataframe thead th {\n",
       "        text-align: right;\n",
       "    }\n",
       "</style>\n",
       "<table border=\"1\" class=\"dataframe\">\n",
       "  <thead>\n",
       "    <tr style=\"text-align: right;\">\n",
       "      <th></th>\n",
       "      <th>date</th>\n",
       "      <th>product</th>\n",
       "      <th>category</th>\n",
       "      <th>price</th>\n",
       "      <th>quantity</th>\n",
       "      <th>revenue</th>\n",
       "      <th>quarter</th>\n",
       "    </tr>\n",
       "  </thead>\n",
       "  <tbody>\n",
       "    <tr>\n",
       "      <th>0</th>\n",
       "      <td>2022-01-01</td>\n",
       "      <td>Smartphone</td>\n",
       "      <td>Electronics</td>\n",
       "      <td>600</td>\n",
       "      <td>10</td>\n",
       "      <td>6000</td>\n",
       "      <td>1</td>\n",
       "    </tr>\n",
       "    <tr>\n",
       "      <th>1</th>\n",
       "      <td>2022-01-01</td>\n",
       "      <td>Laptop</td>\n",
       "      <td>Electronics</td>\n",
       "      <td>1200</td>\n",
       "      <td>5</td>\n",
       "      <td>6000</td>\n",
       "      <td>1</td>\n",
       "    </tr>\n",
       "    <tr>\n",
       "      <th>2</th>\n",
       "      <td>2022-01-02</td>\n",
       "      <td>T-Shirt</td>\n",
       "      <td>Clothing</td>\n",
       "      <td>20</td>\n",
       "      <td>50</td>\n",
       "      <td>1000</td>\n",
       "      <td>1</td>\n",
       "    </tr>\n",
       "    <tr>\n",
       "      <th>3</th>\n",
       "      <td>2022-01-03</td>\n",
       "      <td>Headphones</td>\n",
       "      <td>Electronics</td>\n",
       "      <td>100</td>\n",
       "      <td>20</td>\n",
       "      <td>2000</td>\n",
       "      <td>1</td>\n",
       "    </tr>\n",
       "    <tr>\n",
       "      <th>4</th>\n",
       "      <td>2022-01-04</td>\n",
       "      <td>T-Shirt</td>\n",
       "      <td>Clothing</td>\n",
       "      <td>20</td>\n",
       "      <td>25</td>\n",
       "      <td>500</td>\n",
       "      <td>1</td>\n",
       "    </tr>\n",
       "  </tbody>\n",
       "</table>\n",
       "</div>"
      ],
      "text/plain": [
       "        date     product     category  price  quantity  revenue  quarter\n",
       "0 2022-01-01  Smartphone  Electronics    600        10     6000        1\n",
       "1 2022-01-01      Laptop  Electronics   1200         5     6000        1\n",
       "2 2022-01-02     T-Shirt     Clothing     20        50     1000        1\n",
       "3 2022-01-03  Headphones  Electronics    100        20     2000        1\n",
       "4 2022-01-04     T-Shirt     Clothing     20        25      500        1"
      ]
     },
     "execution_count": 49,
     "metadata": {},
     "output_type": "execute_result"
    }
   ],
   "source": [
    "df.head(5)"
   ]
  },
  {
   "cell_type": "code",
   "execution_count": 50,
   "metadata": {},
   "outputs": [],
   "source": [
    "revQuat= df.groupby(\"quarter\")[\"revenue\"].sum()"
   ]
  },
  {
   "cell_type": "code",
   "execution_count": 51,
   "metadata": {},
   "outputs": [
    {
     "data": {
      "text/plain": [
       "quarter\n",
       "1    182100\n",
       "2    185970\n",
       "3    197680\n",
       "4    193380\n",
       "Name: revenue, dtype: int64"
      ]
     },
     "execution_count": 51,
     "metadata": {},
     "output_type": "execute_result"
    }
   ],
   "source": [
    "revQuat"
   ]
  },
  {
   "cell_type": "code",
   "execution_count": null,
   "metadata": {},
   "outputs": [],
   "source": []
  }
 ],
 "metadata": {
  "kernelspec": {
   "display_name": "Python 3",
   "language": "python",
   "name": "python3"
  },
  "language_info": {
   "codemirror_mode": {
    "name": "ipython",
    "version": 3
   },
   "file_extension": ".py",
   "mimetype": "text/x-python",
   "name": "python",
   "nbconvert_exporter": "python",
   "pygments_lexer": "ipython3",
   "version": "3.12.1"
  }
 },
 "nbformat": 4,
 "nbformat_minor": 2
}
