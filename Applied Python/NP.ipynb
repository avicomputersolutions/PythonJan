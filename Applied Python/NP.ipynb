{
 "cells": [
  {
   "cell_type": "code",
   "execution_count": 1,
   "metadata": {},
   "outputs": [
    {
     "name": "stdout",
     "output_type": "stream",
     "text": [
      "Requirement already satisfied: numpy in /Library/Frameworks/Python.framework/Versions/3.12/lib/python3.12/site-packages (1.26.4)\n",
      "\n",
      "\u001b[1m[\u001b[0m\u001b[34;49mnotice\u001b[0m\u001b[1;39;49m]\u001b[0m\u001b[39;49m A new release of pip is available: \u001b[0m\u001b[31;49m23.2.1\u001b[0m\u001b[39;49m -> \u001b[0m\u001b[32;49m25.0\u001b[0m\n",
      "\u001b[1m[\u001b[0m\u001b[34;49mnotice\u001b[0m\u001b[1;39;49m]\u001b[0m\u001b[39;49m To update, run: \u001b[0m\u001b[32;49mpython3 -m pip install --upgrade pip\u001b[0m\n",
      "Note: you may need to restart the kernel to use updated packages.\n",
      "Requirement already satisfied: pandas in /Library/Frameworks/Python.framework/Versions/3.12/lib/python3.12/site-packages (2.2.2)\n",
      "Requirement already satisfied: numpy>=1.26.0 in /Library/Frameworks/Python.framework/Versions/3.12/lib/python3.12/site-packages (from pandas) (1.26.4)\n",
      "Requirement already satisfied: python-dateutil>=2.8.2 in /Users/macpc/Library/Python/3.12/lib/python/site-packages (from pandas) (2.9.0.post0)\n",
      "Requirement already satisfied: pytz>=2020.1 in /Library/Frameworks/Python.framework/Versions/3.12/lib/python3.12/site-packages (from pandas) (2024.1)\n",
      "Requirement already satisfied: tzdata>=2022.7 in /Library/Frameworks/Python.framework/Versions/3.12/lib/python3.12/site-packages (from pandas) (2024.1)\n",
      "Requirement already satisfied: six>=1.5 in /Users/macpc/Library/Python/3.12/lib/python/site-packages (from python-dateutil>=2.8.2->pandas) (1.16.0)\n",
      "\n",
      "\u001b[1m[\u001b[0m\u001b[34;49mnotice\u001b[0m\u001b[1;39;49m]\u001b[0m\u001b[39;49m A new release of pip is available: \u001b[0m\u001b[31;49m23.2.1\u001b[0m\u001b[39;49m -> \u001b[0m\u001b[32;49m25.0\u001b[0m\n",
      "\u001b[1m[\u001b[0m\u001b[34;49mnotice\u001b[0m\u001b[1;39;49m]\u001b[0m\u001b[39;49m To update, run: \u001b[0m\u001b[32;49mpython3 -m pip install --upgrade pip\u001b[0m\n",
      "Note: you may need to restart the kernel to use updated packages.\n"
     ]
    }
   ],
   "source": [
    "%pip install numpy\n",
    "%pip install pandas"
   ]
  },
  {
   "cell_type": "code",
   "execution_count": 2,
   "metadata": {},
   "outputs": [],
   "source": [
    "# Create table employee(........)\n",
    "import numpy as np \n",
    "import pandas as pd \n",
    "employee = pd.DataFrame({\n",
    "    \"emp_id\":[],\n",
    "    \"emp_name\":[],\n",
    "    \"job_name\":[],\n",
    "    \"manger_id\":[],\n",
    "    \"hire_date\":[],\n",
    "    \"salary\":[],\n",
    "    \"commision\":[]\n",
    "})"
   ]
  },
  {
   "cell_type": "code",
   "execution_count": 3,
   "metadata": {},
   "outputs": [],
   "source": [
    "# select * from employee\n",
    "emp_id = [68319, 66928, 67832, 65646, 67858, 69062, 63679, 64989, 65271, 66564, 68454, 68736, 69000, 69324]\n",
    "emp_name = [\"KAYLING\", \"BLAZE\", \"CLARE\", \"JONAS\", \"SCARLET\", \"FRANK\", \"SANDRINE\", \"ADELYN\", \"WADE\", \"MADDEN\", \"TUCKER\", \"ADNRES\", \"JULIUS\", \"MARKER\"]\n",
    "job_name = [\"PRESIDENT\", \"MANAGER\", \"MANAGER\", \"MANAGER\", \"ANALYST\", \"ANALYST\", \"CLERK\", \"SALESMAN\", \"SALESMAN\", \"SALESMAN\", \"SALESMAN\", \"CLERK\", \"CLERK\", \"CLERK\"]\n",
    "manager_id = [None, 68319, 68319, 68319, 65646, 65646, 69062, 66928, 66928, 66928, 66928, 67858, 66928, 67832]\n",
    "hire_date = [\"1991-11-18\", \"1991-05-01\", \"1991-06-09\", \"1991-04-02\", \"1997-04-19\", \"1991-12-03\", \"1990-12-18\", \"1991-02-20\", \"1991-02-22\", \"1991-09-28\", \"1991-09-08\", \"1997-05-23\", \"1991-12-03\", \"1992-01-23\"]\n",
    "salary = [6000.00, 2750.00, 2550.00, 2957.00, 3100.00, 3100.00, 900.00, 1700.00, 1350.00, 1350.00, 1600.00, 1200.00, 1050.00, 1400.00]\n",
    "commission = [None, None, None, None, None, None, None, 400.00, 600.00, 1500.00, 0.00, None, None, None]\n",
    "dep_id = [1001, 3001, 1001, 2001, 2001, 2001, 2001, 3001, 3001, 3001, 3001, 2001, 3001, 1001]\n",
    "\n",
    "# Print example"
   ]
  },
  {
   "cell_type": "code",
   "execution_count": 4,
   "metadata": {},
   "outputs": [],
   "source": [
    "employee[\"emp_id\"] = emp_id\n",
    "employee[\"emp_name\"]= emp_name\n",
    "employee[\"job_name\"]= job_name\n",
    "employee[\"manger_id\"] = manager_id\n",
    "employee[\"hire_date\"] = hire_date\n",
    "employee[\"salary\"] = salary\n",
    "employee[\"commision\"] = commission"
   ]
  },
  {
   "cell_type": "code",
   "execution_count": 5,
   "metadata": {},
   "outputs": [
    {
     "data": {
      "text/html": [
       "<div>\n",
       "<style scoped>\n",
       "    .dataframe tbody tr th:only-of-type {\n",
       "        vertical-align: middle;\n",
       "    }\n",
       "\n",
       "    .dataframe tbody tr th {\n",
       "        vertical-align: top;\n",
       "    }\n",
       "\n",
       "    .dataframe thead th {\n",
       "        text-align: right;\n",
       "    }\n",
       "</style>\n",
       "<table border=\"1\" class=\"dataframe\">\n",
       "  <thead>\n",
       "    <tr style=\"text-align: right;\">\n",
       "      <th></th>\n",
       "      <th>emp_id</th>\n",
       "      <th>emp_name</th>\n",
       "      <th>job_name</th>\n",
       "      <th>manger_id</th>\n",
       "      <th>hire_date</th>\n",
       "      <th>salary</th>\n",
       "      <th>commision</th>\n",
       "    </tr>\n",
       "  </thead>\n",
       "  <tbody>\n",
       "    <tr>\n",
       "      <th>0</th>\n",
       "      <td>68319</td>\n",
       "      <td>KAYLING</td>\n",
       "      <td>PRESIDENT</td>\n",
       "      <td>NaN</td>\n",
       "      <td>1991-11-18</td>\n",
       "      <td>6000.0</td>\n",
       "      <td>NaN</td>\n",
       "    </tr>\n",
       "    <tr>\n",
       "      <th>1</th>\n",
       "      <td>66928</td>\n",
       "      <td>BLAZE</td>\n",
       "      <td>MANAGER</td>\n",
       "      <td>68319.0</td>\n",
       "      <td>1991-05-01</td>\n",
       "      <td>2750.0</td>\n",
       "      <td>NaN</td>\n",
       "    </tr>\n",
       "    <tr>\n",
       "      <th>2</th>\n",
       "      <td>67832</td>\n",
       "      <td>CLARE</td>\n",
       "      <td>MANAGER</td>\n",
       "      <td>68319.0</td>\n",
       "      <td>1991-06-09</td>\n",
       "      <td>2550.0</td>\n",
       "      <td>NaN</td>\n",
       "    </tr>\n",
       "    <tr>\n",
       "      <th>3</th>\n",
       "      <td>65646</td>\n",
       "      <td>JONAS</td>\n",
       "      <td>MANAGER</td>\n",
       "      <td>68319.0</td>\n",
       "      <td>1991-04-02</td>\n",
       "      <td>2957.0</td>\n",
       "      <td>NaN</td>\n",
       "    </tr>\n",
       "    <tr>\n",
       "      <th>4</th>\n",
       "      <td>67858</td>\n",
       "      <td>SCARLET</td>\n",
       "      <td>ANALYST</td>\n",
       "      <td>65646.0</td>\n",
       "      <td>1997-04-19</td>\n",
       "      <td>3100.0</td>\n",
       "      <td>NaN</td>\n",
       "    </tr>\n",
       "    <tr>\n",
       "      <th>5</th>\n",
       "      <td>69062</td>\n",
       "      <td>FRANK</td>\n",
       "      <td>ANALYST</td>\n",
       "      <td>65646.0</td>\n",
       "      <td>1991-12-03</td>\n",
       "      <td>3100.0</td>\n",
       "      <td>NaN</td>\n",
       "    </tr>\n",
       "    <tr>\n",
       "      <th>6</th>\n",
       "      <td>63679</td>\n",
       "      <td>SANDRINE</td>\n",
       "      <td>CLERK</td>\n",
       "      <td>69062.0</td>\n",
       "      <td>1990-12-18</td>\n",
       "      <td>900.0</td>\n",
       "      <td>NaN</td>\n",
       "    </tr>\n",
       "    <tr>\n",
       "      <th>7</th>\n",
       "      <td>64989</td>\n",
       "      <td>ADELYN</td>\n",
       "      <td>SALESMAN</td>\n",
       "      <td>66928.0</td>\n",
       "      <td>1991-02-20</td>\n",
       "      <td>1700.0</td>\n",
       "      <td>400.0</td>\n",
       "    </tr>\n",
       "    <tr>\n",
       "      <th>8</th>\n",
       "      <td>65271</td>\n",
       "      <td>WADE</td>\n",
       "      <td>SALESMAN</td>\n",
       "      <td>66928.0</td>\n",
       "      <td>1991-02-22</td>\n",
       "      <td>1350.0</td>\n",
       "      <td>600.0</td>\n",
       "    </tr>\n",
       "    <tr>\n",
       "      <th>9</th>\n",
       "      <td>66564</td>\n",
       "      <td>MADDEN</td>\n",
       "      <td>SALESMAN</td>\n",
       "      <td>66928.0</td>\n",
       "      <td>1991-09-28</td>\n",
       "      <td>1350.0</td>\n",
       "      <td>1500.0</td>\n",
       "    </tr>\n",
       "    <tr>\n",
       "      <th>10</th>\n",
       "      <td>68454</td>\n",
       "      <td>TUCKER</td>\n",
       "      <td>SALESMAN</td>\n",
       "      <td>66928.0</td>\n",
       "      <td>1991-09-08</td>\n",
       "      <td>1600.0</td>\n",
       "      <td>0.0</td>\n",
       "    </tr>\n",
       "    <tr>\n",
       "      <th>11</th>\n",
       "      <td>68736</td>\n",
       "      <td>ADNRES</td>\n",
       "      <td>CLERK</td>\n",
       "      <td>67858.0</td>\n",
       "      <td>1997-05-23</td>\n",
       "      <td>1200.0</td>\n",
       "      <td>NaN</td>\n",
       "    </tr>\n",
       "    <tr>\n",
       "      <th>12</th>\n",
       "      <td>69000</td>\n",
       "      <td>JULIUS</td>\n",
       "      <td>CLERK</td>\n",
       "      <td>66928.0</td>\n",
       "      <td>1991-12-03</td>\n",
       "      <td>1050.0</td>\n",
       "      <td>NaN</td>\n",
       "    </tr>\n",
       "    <tr>\n",
       "      <th>13</th>\n",
       "      <td>69324</td>\n",
       "      <td>MARKER</td>\n",
       "      <td>CLERK</td>\n",
       "      <td>67832.0</td>\n",
       "      <td>1992-01-23</td>\n",
       "      <td>1400.0</td>\n",
       "      <td>NaN</td>\n",
       "    </tr>\n",
       "  </tbody>\n",
       "</table>\n",
       "</div>"
      ],
      "text/plain": [
       "    emp_id  emp_name   job_name  manger_id   hire_date  salary  commision\n",
       "0    68319   KAYLING  PRESIDENT        NaN  1991-11-18  6000.0        NaN\n",
       "1    66928     BLAZE    MANAGER    68319.0  1991-05-01  2750.0        NaN\n",
       "2    67832     CLARE    MANAGER    68319.0  1991-06-09  2550.0        NaN\n",
       "3    65646     JONAS    MANAGER    68319.0  1991-04-02  2957.0        NaN\n",
       "4    67858   SCARLET    ANALYST    65646.0  1997-04-19  3100.0        NaN\n",
       "5    69062     FRANK    ANALYST    65646.0  1991-12-03  3100.0        NaN\n",
       "6    63679  SANDRINE      CLERK    69062.0  1990-12-18   900.0        NaN\n",
       "7    64989    ADELYN   SALESMAN    66928.0  1991-02-20  1700.0      400.0\n",
       "8    65271      WADE   SALESMAN    66928.0  1991-02-22  1350.0      600.0\n",
       "9    66564    MADDEN   SALESMAN    66928.0  1991-09-28  1350.0     1500.0\n",
       "10   68454    TUCKER   SALESMAN    66928.0  1991-09-08  1600.0        0.0\n",
       "11   68736    ADNRES      CLERK    67858.0  1997-05-23  1200.0        NaN\n",
       "12   69000    JULIUS      CLERK    66928.0  1991-12-03  1050.0        NaN\n",
       "13   69324    MARKER      CLERK    67832.0  1992-01-23  1400.0        NaN"
      ]
     },
     "execution_count": 5,
     "metadata": {},
     "output_type": "execute_result"
    }
   ],
   "source": [
    "employee"
   ]
  },
  {
   "cell_type": "code",
   "execution_count": 6,
   "metadata": {},
   "outputs": [],
   "source": [
    "\n",
    "employee.to_excel(\"Emplyee.xlsx\",index=False)"
   ]
  },
  {
   "cell_type": "code",
   "execution_count": 7,
   "metadata": {},
   "outputs": [],
   "source": [
    "emp =pd.read_excel(\"Emplyee.xlsx\")"
   ]
  },
  {
   "cell_type": "code",
   "execution_count": 8,
   "metadata": {},
   "outputs": [
    {
     "data": {
      "text/html": [
       "<div>\n",
       "<style scoped>\n",
       "    .dataframe tbody tr th:only-of-type {\n",
       "        vertical-align: middle;\n",
       "    }\n",
       "\n",
       "    .dataframe tbody tr th {\n",
       "        vertical-align: top;\n",
       "    }\n",
       "\n",
       "    .dataframe thead th {\n",
       "        text-align: right;\n",
       "    }\n",
       "</style>\n",
       "<table border=\"1\" class=\"dataframe\">\n",
       "  <thead>\n",
       "    <tr style=\"text-align: right;\">\n",
       "      <th></th>\n",
       "      <th>emp_id</th>\n",
       "      <th>emp_name</th>\n",
       "      <th>job_name</th>\n",
       "      <th>manger_id</th>\n",
       "      <th>hire_date</th>\n",
       "      <th>salary</th>\n",
       "      <th>commision</th>\n",
       "    </tr>\n",
       "  </thead>\n",
       "  <tbody>\n",
       "    <tr>\n",
       "      <th>0</th>\n",
       "      <td>68319</td>\n",
       "      <td>KAYLING</td>\n",
       "      <td>PRESIDENT</td>\n",
       "      <td>NaN</td>\n",
       "      <td>1991-11-18</td>\n",
       "      <td>6000</td>\n",
       "      <td>NaN</td>\n",
       "    </tr>\n",
       "    <tr>\n",
       "      <th>1</th>\n",
       "      <td>66928</td>\n",
       "      <td>BLAZE</td>\n",
       "      <td>MANAGER</td>\n",
       "      <td>68319.0</td>\n",
       "      <td>1991-05-01</td>\n",
       "      <td>2750</td>\n",
       "      <td>NaN</td>\n",
       "    </tr>\n",
       "    <tr>\n",
       "      <th>2</th>\n",
       "      <td>67832</td>\n",
       "      <td>CLARE</td>\n",
       "      <td>MANAGER</td>\n",
       "      <td>68319.0</td>\n",
       "      <td>1991-06-09</td>\n",
       "      <td>2550</td>\n",
       "      <td>NaN</td>\n",
       "    </tr>\n",
       "    <tr>\n",
       "      <th>3</th>\n",
       "      <td>65646</td>\n",
       "      <td>JONAS</td>\n",
       "      <td>MANAGER</td>\n",
       "      <td>68319.0</td>\n",
       "      <td>1991-04-02</td>\n",
       "      <td>2957</td>\n",
       "      <td>NaN</td>\n",
       "    </tr>\n",
       "    <tr>\n",
       "      <th>4</th>\n",
       "      <td>67858</td>\n",
       "      <td>SCARLET</td>\n",
       "      <td>ANALYST</td>\n",
       "      <td>65646.0</td>\n",
       "      <td>1997-04-19</td>\n",
       "      <td>3100</td>\n",
       "      <td>NaN</td>\n",
       "    </tr>\n",
       "    <tr>\n",
       "      <th>5</th>\n",
       "      <td>69062</td>\n",
       "      <td>FRANK</td>\n",
       "      <td>ANALYST</td>\n",
       "      <td>65646.0</td>\n",
       "      <td>1991-12-03</td>\n",
       "      <td>3100</td>\n",
       "      <td>NaN</td>\n",
       "    </tr>\n",
       "    <tr>\n",
       "      <th>6</th>\n",
       "      <td>63679</td>\n",
       "      <td>SANDRINE</td>\n",
       "      <td>CLERK</td>\n",
       "      <td>69062.0</td>\n",
       "      <td>1990-12-18</td>\n",
       "      <td>900</td>\n",
       "      <td>NaN</td>\n",
       "    </tr>\n",
       "    <tr>\n",
       "      <th>7</th>\n",
       "      <td>64989</td>\n",
       "      <td>ADELYN</td>\n",
       "      <td>SALESMAN</td>\n",
       "      <td>66928.0</td>\n",
       "      <td>1991-02-20</td>\n",
       "      <td>1700</td>\n",
       "      <td>400.0</td>\n",
       "    </tr>\n",
       "    <tr>\n",
       "      <th>8</th>\n",
       "      <td>65271</td>\n",
       "      <td>WADE</td>\n",
       "      <td>SALESMAN</td>\n",
       "      <td>66928.0</td>\n",
       "      <td>1991-02-22</td>\n",
       "      <td>1350</td>\n",
       "      <td>600.0</td>\n",
       "    </tr>\n",
       "    <tr>\n",
       "      <th>9</th>\n",
       "      <td>66564</td>\n",
       "      <td>MADDEN</td>\n",
       "      <td>SALESMAN</td>\n",
       "      <td>66928.0</td>\n",
       "      <td>1991-09-28</td>\n",
       "      <td>1350</td>\n",
       "      <td>1500.0</td>\n",
       "    </tr>\n",
       "    <tr>\n",
       "      <th>10</th>\n",
       "      <td>68454</td>\n",
       "      <td>TUCKER</td>\n",
       "      <td>SALESMAN</td>\n",
       "      <td>66928.0</td>\n",
       "      <td>1991-09-08</td>\n",
       "      <td>1600</td>\n",
       "      <td>0.0</td>\n",
       "    </tr>\n",
       "    <tr>\n",
       "      <th>11</th>\n",
       "      <td>68736</td>\n",
       "      <td>ADNRES</td>\n",
       "      <td>CLERK</td>\n",
       "      <td>67858.0</td>\n",
       "      <td>1997-05-23</td>\n",
       "      <td>1200</td>\n",
       "      <td>NaN</td>\n",
       "    </tr>\n",
       "    <tr>\n",
       "      <th>12</th>\n",
       "      <td>69000</td>\n",
       "      <td>JULIUS</td>\n",
       "      <td>CLERK</td>\n",
       "      <td>66928.0</td>\n",
       "      <td>1991-12-03</td>\n",
       "      <td>1050</td>\n",
       "      <td>NaN</td>\n",
       "    </tr>\n",
       "    <tr>\n",
       "      <th>13</th>\n",
       "      <td>69324</td>\n",
       "      <td>MARKER</td>\n",
       "      <td>CLERK</td>\n",
       "      <td>67832.0</td>\n",
       "      <td>1992-01-23</td>\n",
       "      <td>1400</td>\n",
       "      <td>NaN</td>\n",
       "    </tr>\n",
       "  </tbody>\n",
       "</table>\n",
       "</div>"
      ],
      "text/plain": [
       "    emp_id  emp_name   job_name  manger_id   hire_date  salary  commision\n",
       "0    68319   KAYLING  PRESIDENT        NaN  1991-11-18    6000        NaN\n",
       "1    66928     BLAZE    MANAGER    68319.0  1991-05-01    2750        NaN\n",
       "2    67832     CLARE    MANAGER    68319.0  1991-06-09    2550        NaN\n",
       "3    65646     JONAS    MANAGER    68319.0  1991-04-02    2957        NaN\n",
       "4    67858   SCARLET    ANALYST    65646.0  1997-04-19    3100        NaN\n",
       "5    69062     FRANK    ANALYST    65646.0  1991-12-03    3100        NaN\n",
       "6    63679  SANDRINE      CLERK    69062.0  1990-12-18     900        NaN\n",
       "7    64989    ADELYN   SALESMAN    66928.0  1991-02-20    1700      400.0\n",
       "8    65271      WADE   SALESMAN    66928.0  1991-02-22    1350      600.0\n",
       "9    66564    MADDEN   SALESMAN    66928.0  1991-09-28    1350     1500.0\n",
       "10   68454    TUCKER   SALESMAN    66928.0  1991-09-08    1600        0.0\n",
       "11   68736    ADNRES      CLERK    67858.0  1997-05-23    1200        NaN\n",
       "12   69000    JULIUS      CLERK    66928.0  1991-12-03    1050        NaN\n",
       "13   69324    MARKER      CLERK    67832.0  1992-01-23    1400        NaN"
      ]
     },
     "execution_count": 8,
     "metadata": {},
     "output_type": "execute_result"
    }
   ],
   "source": [
    "emp"
   ]
  },
  {
   "cell_type": "code",
   "execution_count": 9,
   "metadata": {},
   "outputs": [
    {
     "data": {
      "text/html": [
       "<div>\n",
       "<style scoped>\n",
       "    .dataframe tbody tr th:only-of-type {\n",
       "        vertical-align: middle;\n",
       "    }\n",
       "\n",
       "    .dataframe tbody tr th {\n",
       "        vertical-align: top;\n",
       "    }\n",
       "\n",
       "    .dataframe thead th {\n",
       "        text-align: right;\n",
       "    }\n",
       "</style>\n",
       "<table border=\"1\" class=\"dataframe\">\n",
       "  <thead>\n",
       "    <tr style=\"text-align: right;\">\n",
       "      <th></th>\n",
       "      <th>emp_id</th>\n",
       "      <th>emp_name</th>\n",
       "      <th>job_name</th>\n",
       "      <th>manger_id</th>\n",
       "      <th>hire_date</th>\n",
       "      <th>salary</th>\n",
       "      <th>commision</th>\n",
       "    </tr>\n",
       "  </thead>\n",
       "  <tbody>\n",
       "    <tr>\n",
       "      <th>0</th>\n",
       "      <td>68319</td>\n",
       "      <td>KAYLING</td>\n",
       "      <td>PRESIDENT</td>\n",
       "      <td>NaN</td>\n",
       "      <td>1991-11-18</td>\n",
       "      <td>6000</td>\n",
       "      <td>NaN</td>\n",
       "    </tr>\n",
       "    <tr>\n",
       "      <th>1</th>\n",
       "      <td>66928</td>\n",
       "      <td>BLAZE</td>\n",
       "      <td>MANAGER</td>\n",
       "      <td>68319.0</td>\n",
       "      <td>1991-05-01</td>\n",
       "      <td>2750</td>\n",
       "      <td>NaN</td>\n",
       "    </tr>\n",
       "    <tr>\n",
       "      <th>2</th>\n",
       "      <td>67832</td>\n",
       "      <td>CLARE</td>\n",
       "      <td>MANAGER</td>\n",
       "      <td>68319.0</td>\n",
       "      <td>1991-06-09</td>\n",
       "      <td>2550</td>\n",
       "      <td>NaN</td>\n",
       "    </tr>\n",
       "    <tr>\n",
       "      <th>3</th>\n",
       "      <td>65646</td>\n",
       "      <td>JONAS</td>\n",
       "      <td>MANAGER</td>\n",
       "      <td>68319.0</td>\n",
       "      <td>1991-04-02</td>\n",
       "      <td>2957</td>\n",
       "      <td>NaN</td>\n",
       "    </tr>\n",
       "    <tr>\n",
       "      <th>4</th>\n",
       "      <td>67858</td>\n",
       "      <td>SCARLET</td>\n",
       "      <td>ANALYST</td>\n",
       "      <td>65646.0</td>\n",
       "      <td>1997-04-19</td>\n",
       "      <td>3100</td>\n",
       "      <td>NaN</td>\n",
       "    </tr>\n",
       "    <tr>\n",
       "      <th>5</th>\n",
       "      <td>69062</td>\n",
       "      <td>FRANK</td>\n",
       "      <td>ANALYST</td>\n",
       "      <td>65646.0</td>\n",
       "      <td>1991-12-03</td>\n",
       "      <td>3100</td>\n",
       "      <td>NaN</td>\n",
       "    </tr>\n",
       "    <tr>\n",
       "      <th>6</th>\n",
       "      <td>63679</td>\n",
       "      <td>SANDRINE</td>\n",
       "      <td>CLERK</td>\n",
       "      <td>69062.0</td>\n",
       "      <td>1990-12-18</td>\n",
       "      <td>900</td>\n",
       "      <td>NaN</td>\n",
       "    </tr>\n",
       "    <tr>\n",
       "      <th>7</th>\n",
       "      <td>64989</td>\n",
       "      <td>ADELYN</td>\n",
       "      <td>SALESMAN</td>\n",
       "      <td>66928.0</td>\n",
       "      <td>1991-02-20</td>\n",
       "      <td>1700</td>\n",
       "      <td>400.0</td>\n",
       "    </tr>\n",
       "    <tr>\n",
       "      <th>8</th>\n",
       "      <td>65271</td>\n",
       "      <td>WADE</td>\n",
       "      <td>SALESMAN</td>\n",
       "      <td>66928.0</td>\n",
       "      <td>1991-02-22</td>\n",
       "      <td>1350</td>\n",
       "      <td>600.0</td>\n",
       "    </tr>\n",
       "    <tr>\n",
       "      <th>9</th>\n",
       "      <td>66564</td>\n",
       "      <td>MADDEN</td>\n",
       "      <td>SALESMAN</td>\n",
       "      <td>66928.0</td>\n",
       "      <td>1991-09-28</td>\n",
       "      <td>1350</td>\n",
       "      <td>1500.0</td>\n",
       "    </tr>\n",
       "    <tr>\n",
       "      <th>10</th>\n",
       "      <td>68454</td>\n",
       "      <td>TUCKER</td>\n",
       "      <td>SALESMAN</td>\n",
       "      <td>66928.0</td>\n",
       "      <td>1991-09-08</td>\n",
       "      <td>1600</td>\n",
       "      <td>0.0</td>\n",
       "    </tr>\n",
       "    <tr>\n",
       "      <th>11</th>\n",
       "      <td>68736</td>\n",
       "      <td>ADNRES</td>\n",
       "      <td>CLERK</td>\n",
       "      <td>67858.0</td>\n",
       "      <td>1997-05-23</td>\n",
       "      <td>1200</td>\n",
       "      <td>NaN</td>\n",
       "    </tr>\n",
       "    <tr>\n",
       "      <th>12</th>\n",
       "      <td>69000</td>\n",
       "      <td>JULIUS</td>\n",
       "      <td>CLERK</td>\n",
       "      <td>66928.0</td>\n",
       "      <td>1991-12-03</td>\n",
       "      <td>1050</td>\n",
       "      <td>NaN</td>\n",
       "    </tr>\n",
       "    <tr>\n",
       "      <th>13</th>\n",
       "      <td>69324</td>\n",
       "      <td>MARKER</td>\n",
       "      <td>CLERK</td>\n",
       "      <td>67832.0</td>\n",
       "      <td>1992-01-23</td>\n",
       "      <td>1400</td>\n",
       "      <td>NaN</td>\n",
       "    </tr>\n",
       "  </tbody>\n",
       "</table>\n",
       "</div>"
      ],
      "text/plain": [
       "    emp_id  emp_name   job_name  manger_id   hire_date  salary  commision\n",
       "0    68319   KAYLING  PRESIDENT        NaN  1991-11-18    6000        NaN\n",
       "1    66928     BLAZE    MANAGER    68319.0  1991-05-01    2750        NaN\n",
       "2    67832     CLARE    MANAGER    68319.0  1991-06-09    2550        NaN\n",
       "3    65646     JONAS    MANAGER    68319.0  1991-04-02    2957        NaN\n",
       "4    67858   SCARLET    ANALYST    65646.0  1997-04-19    3100        NaN\n",
       "5    69062     FRANK    ANALYST    65646.0  1991-12-03    3100        NaN\n",
       "6    63679  SANDRINE      CLERK    69062.0  1990-12-18     900        NaN\n",
       "7    64989    ADELYN   SALESMAN    66928.0  1991-02-20    1700      400.0\n",
       "8    65271      WADE   SALESMAN    66928.0  1991-02-22    1350      600.0\n",
       "9    66564    MADDEN   SALESMAN    66928.0  1991-09-28    1350     1500.0\n",
       "10   68454    TUCKER   SALESMAN    66928.0  1991-09-08    1600        0.0\n",
       "11   68736    ADNRES      CLERK    67858.0  1997-05-23    1200        NaN\n",
       "12   69000    JULIUS      CLERK    66928.0  1991-12-03    1050        NaN\n",
       "13   69324    MARKER      CLERK    67832.0  1992-01-23    1400        NaN"
      ]
     },
     "execution_count": 9,
     "metadata": {},
     "output_type": "execute_result"
    }
   ],
   "source": [
    "# select * from emp\n",
    "emp"
   ]
  },
  {
   "cell_type": "code",
   "execution_count": 10,
   "metadata": {},
   "outputs": [
    {
     "data": {
      "text/plain": [
       "0      KAYLING\n",
       "1        BLAZE\n",
       "2        CLARE\n",
       "3        JONAS\n",
       "4      SCARLET\n",
       "5        FRANK\n",
       "6     SANDRINE\n",
       "7       ADELYN\n",
       "8         WADE\n",
       "9       MADDEN\n",
       "10      TUCKER\n",
       "11      ADNRES\n",
       "12      JULIUS\n",
       "13      MARKER\n",
       "Name: emp_name, dtype: object"
      ]
     },
     "execution_count": 10,
     "metadata": {},
     "output_type": "execute_result"
    }
   ],
   "source": [
    "# select emp_name  from emp\n",
    "emp[\"emp_name\"]"
   ]
  },
  {
   "cell_type": "code",
   "execution_count": 11,
   "metadata": {},
   "outputs": [
    {
     "data": {
      "text/html": [
       "<div>\n",
       "<style scoped>\n",
       "    .dataframe tbody tr th:only-of-type {\n",
       "        vertical-align: middle;\n",
       "    }\n",
       "\n",
       "    .dataframe tbody tr th {\n",
       "        vertical-align: top;\n",
       "    }\n",
       "\n",
       "    .dataframe thead th {\n",
       "        text-align: right;\n",
       "    }\n",
       "</style>\n",
       "<table border=\"1\" class=\"dataframe\">\n",
       "  <thead>\n",
       "    <tr style=\"text-align: right;\">\n",
       "      <th></th>\n",
       "      <th>emp_name</th>\n",
       "      <th>job_name</th>\n",
       "    </tr>\n",
       "  </thead>\n",
       "  <tbody>\n",
       "    <tr>\n",
       "      <th>0</th>\n",
       "      <td>KAYLING</td>\n",
       "      <td>PRESIDENT</td>\n",
       "    </tr>\n",
       "    <tr>\n",
       "      <th>1</th>\n",
       "      <td>BLAZE</td>\n",
       "      <td>MANAGER</td>\n",
       "    </tr>\n",
       "    <tr>\n",
       "      <th>2</th>\n",
       "      <td>CLARE</td>\n",
       "      <td>MANAGER</td>\n",
       "    </tr>\n",
       "    <tr>\n",
       "      <th>3</th>\n",
       "      <td>JONAS</td>\n",
       "      <td>MANAGER</td>\n",
       "    </tr>\n",
       "    <tr>\n",
       "      <th>4</th>\n",
       "      <td>SCARLET</td>\n",
       "      <td>ANALYST</td>\n",
       "    </tr>\n",
       "    <tr>\n",
       "      <th>5</th>\n",
       "      <td>FRANK</td>\n",
       "      <td>ANALYST</td>\n",
       "    </tr>\n",
       "    <tr>\n",
       "      <th>6</th>\n",
       "      <td>SANDRINE</td>\n",
       "      <td>CLERK</td>\n",
       "    </tr>\n",
       "    <tr>\n",
       "      <th>7</th>\n",
       "      <td>ADELYN</td>\n",
       "      <td>SALESMAN</td>\n",
       "    </tr>\n",
       "    <tr>\n",
       "      <th>8</th>\n",
       "      <td>WADE</td>\n",
       "      <td>SALESMAN</td>\n",
       "    </tr>\n",
       "    <tr>\n",
       "      <th>9</th>\n",
       "      <td>MADDEN</td>\n",
       "      <td>SALESMAN</td>\n",
       "    </tr>\n",
       "    <tr>\n",
       "      <th>10</th>\n",
       "      <td>TUCKER</td>\n",
       "      <td>SALESMAN</td>\n",
       "    </tr>\n",
       "    <tr>\n",
       "      <th>11</th>\n",
       "      <td>ADNRES</td>\n",
       "      <td>CLERK</td>\n",
       "    </tr>\n",
       "    <tr>\n",
       "      <th>12</th>\n",
       "      <td>JULIUS</td>\n",
       "      <td>CLERK</td>\n",
       "    </tr>\n",
       "    <tr>\n",
       "      <th>13</th>\n",
       "      <td>MARKER</td>\n",
       "      <td>CLERK</td>\n",
       "    </tr>\n",
       "  </tbody>\n",
       "</table>\n",
       "</div>"
      ],
      "text/plain": [
       "    emp_name   job_name\n",
       "0    KAYLING  PRESIDENT\n",
       "1      BLAZE    MANAGER\n",
       "2      CLARE    MANAGER\n",
       "3      JONAS    MANAGER\n",
       "4    SCARLET    ANALYST\n",
       "5      FRANK    ANALYST\n",
       "6   SANDRINE      CLERK\n",
       "7     ADELYN   SALESMAN\n",
       "8       WADE   SALESMAN\n",
       "9     MADDEN   SALESMAN\n",
       "10    TUCKER   SALESMAN\n",
       "11    ADNRES      CLERK\n",
       "12    JULIUS      CLERK\n",
       "13    MARKER      CLERK"
      ]
     },
     "execution_count": 11,
     "metadata": {},
     "output_type": "execute_result"
    }
   ],
   "source": [
    "# select emp_name, job_name  from emp\n",
    "emp[[\"emp_name\",\"job_name\"]]"
   ]
  },
  {
   "cell_type": "code",
   "execution_count": 12,
   "metadata": {},
   "outputs": [
    {
     "data": {
      "text/plain": [
       "6000"
      ]
     },
     "execution_count": 12,
     "metadata": {},
     "output_type": "execute_result"
    }
   ],
   "source": [
    "# select max(salary) from emp\n",
    "emp[\"salary\"].max()"
   ]
  },
  {
   "cell_type": "code",
   "execution_count": 13,
   "metadata": {},
   "outputs": [
    {
     "data": {
      "text/plain": [
       "900"
      ]
     },
     "execution_count": 13,
     "metadata": {},
     "output_type": "execute_result"
    }
   ],
   "source": [
    "# select min(salary) from emp\n",
    "emp[\"salary\"].min()"
   ]
  },
  {
   "cell_type": "code",
   "execution_count": 14,
   "metadata": {},
   "outputs": [
    {
     "data": {
      "text/plain": [
       "2214.785714285714"
      ]
     },
     "execution_count": 14,
     "metadata": {},
     "output_type": "execute_result"
    }
   ],
   "source": [
    "# select avg(salary) from emp\n",
    "emp[\"salary\"].mean()"
   ]
  },
  {
   "cell_type": "code",
   "execution_count": 15,
   "metadata": {},
   "outputs": [
    {
     "data": {
      "text/plain": [
       "1650.0"
      ]
     },
     "execution_count": 15,
     "metadata": {},
     "output_type": "execute_result"
    }
   ],
   "source": [
    "# select median(salary) from emp\n",
    "emp[\"salary\"].median()"
   ]
  },
  {
   "cell_type": "code",
   "execution_count": 16,
   "metadata": {},
   "outputs": [
    {
     "data": {
      "text/plain": [
       "14"
      ]
     },
     "execution_count": 16,
     "metadata": {},
     "output_type": "execute_result"
    }
   ],
   "source": [
    "#selec count(emp_name) from emp\n",
    "len(emp[\"emp_name\"])"
   ]
  },
  {
   "cell_type": "code",
   "execution_count": 17,
   "metadata": {},
   "outputs": [
    {
     "data": {
      "text/plain": [
       "array(['PRESIDENT', 'MANAGER', 'ANALYST', 'CLERK', 'SALESMAN'],\n",
       "      dtype=object)"
      ]
     },
     "execution_count": 17,
     "metadata": {},
     "output_type": "execute_result"
    }
   ],
   "source": [
    "#select distinct(job_name) from emp\n",
    "emp[\"job_name\"].unique()"
   ]
  },
  {
   "cell_type": "code",
   "execution_count": 18,
   "metadata": {},
   "outputs": [
    {
     "data": {
      "text/plain": [
       "5"
      ]
     },
     "execution_count": 18,
     "metadata": {},
     "output_type": "execute_result"
    }
   ],
   "source": [
    "#select count(distinct(job_name)) from emp\n",
    "len(emp[\"job_name\"].unique())"
   ]
  },
  {
   "cell_type": "code",
   "execution_count": 19,
   "metadata": {},
   "outputs": [
    {
     "data": {
      "text/plain": [
       "31007"
      ]
     },
     "execution_count": 19,
     "metadata": {},
     "output_type": "execute_result"
    }
   ],
   "source": [
    "# select sum(salary) from emp\n",
    "emp[\"salary\"].sum()"
   ]
  },
  {
   "cell_type": "code",
   "execution_count": 20,
   "metadata": {},
   "outputs": [
    {
     "data": {
      "text/plain": [
       "4    SCARLET\n",
       "5      FRANK\n",
       "Name: emp_name, dtype: object"
      ]
     },
     "execution_count": 20,
     "metadata": {},
     "output_type": "execute_result"
    }
   ],
   "source": [
    "# select emp_name from emp where job_name = \"Analyst\"\n",
    "emp[\"emp_name\"][emp[\"job_name\"]==\"ANALYST\"]"
   ]
  },
  {
   "cell_type": "code",
   "execution_count": 21,
   "metadata": {},
   "outputs": [],
   "source": [
    "emp[\"hire_date\"] = pd.to_datetime(emp[\"hire_date\"])"
   ]
  },
  {
   "cell_type": "code",
   "execution_count": 22,
   "metadata": {},
   "outputs": [
    {
     "data": {
      "text/plain": [
       "0      November\n",
       "1           May\n",
       "2          June\n",
       "3         April\n",
       "4         April\n",
       "5      December\n",
       "6      December\n",
       "7      February\n",
       "8      February\n",
       "9     September\n",
       "10    September\n",
       "11          May\n",
       "12     December\n",
       "13      January\n",
       "Name: hire_date, dtype: object"
      ]
     },
     "execution_count": 22,
     "metadata": {},
     "output_type": "execute_result"
    }
   ],
   "source": [
    "emp[\"hire_date\"].dt.month_name()"
   ]
  },
  {
   "cell_type": "code",
   "execution_count": 23,
   "metadata": {},
   "outputs": [
    {
     "data": {
      "text/html": [
       "<div>\n",
       "<style scoped>\n",
       "    .dataframe tbody tr th:only-of-type {\n",
       "        vertical-align: middle;\n",
       "    }\n",
       "\n",
       "    .dataframe tbody tr th {\n",
       "        vertical-align: top;\n",
       "    }\n",
       "\n",
       "    .dataframe thead th {\n",
       "        text-align: right;\n",
       "    }\n",
       "</style>\n",
       "<table border=\"1\" class=\"dataframe\">\n",
       "  <thead>\n",
       "    <tr style=\"text-align: right;\">\n",
       "      <th></th>\n",
       "      <th>emp_id</th>\n",
       "      <th>emp_name</th>\n",
       "      <th>job_name</th>\n",
       "      <th>manger_id</th>\n",
       "      <th>hire_date</th>\n",
       "      <th>salary</th>\n",
       "      <th>commision</th>\n",
       "    </tr>\n",
       "  </thead>\n",
       "  <tbody>\n",
       "    <tr>\n",
       "      <th>1</th>\n",
       "      <td>66928</td>\n",
       "      <td>BLAZE</td>\n",
       "      <td>MANAGER</td>\n",
       "      <td>68319.0</td>\n",
       "      <td>1991-05-01</td>\n",
       "      <td>2750</td>\n",
       "      <td>NaN</td>\n",
       "    </tr>\n",
       "    <tr>\n",
       "      <th>11</th>\n",
       "      <td>68736</td>\n",
       "      <td>ADNRES</td>\n",
       "      <td>CLERK</td>\n",
       "      <td>67858.0</td>\n",
       "      <td>1997-05-23</td>\n",
       "      <td>1200</td>\n",
       "      <td>NaN</td>\n",
       "    </tr>\n",
       "  </tbody>\n",
       "</table>\n",
       "</div>"
      ],
      "text/plain": [
       "    emp_id emp_name job_name  manger_id  hire_date  salary  commision\n",
       "1    66928    BLAZE  MANAGER    68319.0 1991-05-01    2750        NaN\n",
       "11   68736   ADNRES    CLERK    67858.0 1997-05-23    1200        NaN"
      ]
     },
     "execution_count": 23,
     "metadata": {},
     "output_type": "execute_result"
    }
   ],
   "source": [
    "emp[emp[\"hire_date\"].dt.month == 5]"
   ]
  },
  {
   "cell_type": "code",
   "execution_count": 24,
   "metadata": {},
   "outputs": [
    {
     "data": {
      "text/html": [
       "<div>\n",
       "<style scoped>\n",
       "    .dataframe tbody tr th:only-of-type {\n",
       "        vertical-align: middle;\n",
       "    }\n",
       "\n",
       "    .dataframe tbody tr th {\n",
       "        vertical-align: top;\n",
       "    }\n",
       "\n",
       "    .dataframe thead th {\n",
       "        text-align: right;\n",
       "    }\n",
       "</style>\n",
       "<table border=\"1\" class=\"dataframe\">\n",
       "  <thead>\n",
       "    <tr style=\"text-align: right;\">\n",
       "      <th></th>\n",
       "      <th>emp_id</th>\n",
       "      <th>emp_name</th>\n",
       "      <th>job_name</th>\n",
       "      <th>manger_id</th>\n",
       "      <th>hire_date</th>\n",
       "      <th>salary</th>\n",
       "      <th>commision</th>\n",
       "    </tr>\n",
       "  </thead>\n",
       "  <tbody>\n",
       "    <tr>\n",
       "      <th>4</th>\n",
       "      <td>67858</td>\n",
       "      <td>SCARLET</td>\n",
       "      <td>ANALYST</td>\n",
       "      <td>65646.0</td>\n",
       "      <td>1997-04-19</td>\n",
       "      <td>3100</td>\n",
       "      <td>NaN</td>\n",
       "    </tr>\n",
       "    <tr>\n",
       "      <th>11</th>\n",
       "      <td>68736</td>\n",
       "      <td>ADNRES</td>\n",
       "      <td>CLERK</td>\n",
       "      <td>67858.0</td>\n",
       "      <td>1997-05-23</td>\n",
       "      <td>1200</td>\n",
       "      <td>NaN</td>\n",
       "    </tr>\n",
       "    <tr>\n",
       "      <th>13</th>\n",
       "      <td>69324</td>\n",
       "      <td>MARKER</td>\n",
       "      <td>CLERK</td>\n",
       "      <td>67832.0</td>\n",
       "      <td>1992-01-23</td>\n",
       "      <td>1400</td>\n",
       "      <td>NaN</td>\n",
       "    </tr>\n",
       "  </tbody>\n",
       "</table>\n",
       "</div>"
      ],
      "text/plain": [
       "    emp_id emp_name job_name  manger_id  hire_date  salary  commision\n",
       "4    67858  SCARLET  ANALYST    65646.0 1997-04-19    3100        NaN\n",
       "11   68736   ADNRES    CLERK    67858.0 1997-05-23    1200        NaN\n",
       "13   69324   MARKER    CLERK    67832.0 1992-01-23    1400        NaN"
      ]
     },
     "execution_count": 24,
     "metadata": {},
     "output_type": "execute_result"
    }
   ],
   "source": [
    "emp[emp[\"hire_date\"].dt.year >  1991]"
   ]
  },
  {
   "cell_type": "code",
   "execution_count": 25,
   "metadata": {},
   "outputs": [
    {
     "data": {
      "text/html": [
       "<div>\n",
       "<style scoped>\n",
       "    .dataframe tbody tr th:only-of-type {\n",
       "        vertical-align: middle;\n",
       "    }\n",
       "\n",
       "    .dataframe tbody tr th {\n",
       "        vertical-align: top;\n",
       "    }\n",
       "\n",
       "    .dataframe thead th {\n",
       "        text-align: right;\n",
       "    }\n",
       "</style>\n",
       "<table border=\"1\" class=\"dataframe\">\n",
       "  <thead>\n",
       "    <tr style=\"text-align: right;\">\n",
       "      <th></th>\n",
       "      <th>emp_id</th>\n",
       "      <th>emp_name</th>\n",
       "      <th>job_name</th>\n",
       "      <th>manger_id</th>\n",
       "      <th>hire_date</th>\n",
       "      <th>salary</th>\n",
       "      <th>commision</th>\n",
       "    </tr>\n",
       "  </thead>\n",
       "  <tbody>\n",
       "    <tr>\n",
       "      <th>0</th>\n",
       "      <td>68319</td>\n",
       "      <td>KAYLING</td>\n",
       "      <td>PRESIDENT</td>\n",
       "      <td>NaN</td>\n",
       "      <td>1991-11-18</td>\n",
       "      <td>6000</td>\n",
       "      <td>NaN</td>\n",
       "    </tr>\n",
       "    <tr>\n",
       "      <th>1</th>\n",
       "      <td>66928</td>\n",
       "      <td>BLAZE</td>\n",
       "      <td>MANAGER</td>\n",
       "      <td>68319.0</td>\n",
       "      <td>1991-05-01</td>\n",
       "      <td>2750</td>\n",
       "      <td>NaN</td>\n",
       "    </tr>\n",
       "    <tr>\n",
       "      <th>2</th>\n",
       "      <td>67832</td>\n",
       "      <td>CLARE</td>\n",
       "      <td>MANAGER</td>\n",
       "      <td>68319.0</td>\n",
       "      <td>1991-06-09</td>\n",
       "      <td>2550</td>\n",
       "      <td>NaN</td>\n",
       "    </tr>\n",
       "    <tr>\n",
       "      <th>3</th>\n",
       "      <td>65646</td>\n",
       "      <td>JONAS</td>\n",
       "      <td>MANAGER</td>\n",
       "      <td>68319.0</td>\n",
       "      <td>1991-04-02</td>\n",
       "      <td>2957</td>\n",
       "      <td>NaN</td>\n",
       "    </tr>\n",
       "    <tr>\n",
       "      <th>5</th>\n",
       "      <td>69062</td>\n",
       "      <td>FRANK</td>\n",
       "      <td>ANALYST</td>\n",
       "      <td>65646.0</td>\n",
       "      <td>1991-12-03</td>\n",
       "      <td>3100</td>\n",
       "      <td>NaN</td>\n",
       "    </tr>\n",
       "    <tr>\n",
       "      <th>7</th>\n",
       "      <td>64989</td>\n",
       "      <td>ADELYN</td>\n",
       "      <td>SALESMAN</td>\n",
       "      <td>66928.0</td>\n",
       "      <td>1991-02-20</td>\n",
       "      <td>1700</td>\n",
       "      <td>400.0</td>\n",
       "    </tr>\n",
       "    <tr>\n",
       "      <th>8</th>\n",
       "      <td>65271</td>\n",
       "      <td>WADE</td>\n",
       "      <td>SALESMAN</td>\n",
       "      <td>66928.0</td>\n",
       "      <td>1991-02-22</td>\n",
       "      <td>1350</td>\n",
       "      <td>600.0</td>\n",
       "    </tr>\n",
       "    <tr>\n",
       "      <th>9</th>\n",
       "      <td>66564</td>\n",
       "      <td>MADDEN</td>\n",
       "      <td>SALESMAN</td>\n",
       "      <td>66928.0</td>\n",
       "      <td>1991-09-28</td>\n",
       "      <td>1350</td>\n",
       "      <td>1500.0</td>\n",
       "    </tr>\n",
       "    <tr>\n",
       "      <th>10</th>\n",
       "      <td>68454</td>\n",
       "      <td>TUCKER</td>\n",
       "      <td>SALESMAN</td>\n",
       "      <td>66928.0</td>\n",
       "      <td>1991-09-08</td>\n",
       "      <td>1600</td>\n",
       "      <td>0.0</td>\n",
       "    </tr>\n",
       "    <tr>\n",
       "      <th>12</th>\n",
       "      <td>69000</td>\n",
       "      <td>JULIUS</td>\n",
       "      <td>CLERK</td>\n",
       "      <td>66928.0</td>\n",
       "      <td>1991-12-03</td>\n",
       "      <td>1050</td>\n",
       "      <td>NaN</td>\n",
       "    </tr>\n",
       "  </tbody>\n",
       "</table>\n",
       "</div>"
      ],
      "text/plain": [
       "    emp_id emp_name   job_name  manger_id  hire_date  salary  commision\n",
       "0    68319  KAYLING  PRESIDENT        NaN 1991-11-18    6000        NaN\n",
       "1    66928    BLAZE    MANAGER    68319.0 1991-05-01    2750        NaN\n",
       "2    67832    CLARE    MANAGER    68319.0 1991-06-09    2550        NaN\n",
       "3    65646    JONAS    MANAGER    68319.0 1991-04-02    2957        NaN\n",
       "5    69062    FRANK    ANALYST    65646.0 1991-12-03    3100        NaN\n",
       "7    64989   ADELYN   SALESMAN    66928.0 1991-02-20    1700      400.0\n",
       "8    65271     WADE   SALESMAN    66928.0 1991-02-22    1350      600.0\n",
       "9    66564   MADDEN   SALESMAN    66928.0 1991-09-28    1350     1500.0\n",
       "10   68454   TUCKER   SALESMAN    66928.0 1991-09-08    1600        0.0\n",
       "12   69000   JULIUS      CLERK    66928.0 1991-12-03    1050        NaN"
      ]
     },
     "execution_count": 25,
     "metadata": {},
     "output_type": "execute_result"
    }
   ],
   "source": [
    "emp[emp[\"hire_date\"].dt.year==1991]"
   ]
  },
  {
   "cell_type": "code",
   "execution_count": 26,
   "metadata": {},
   "outputs": [],
   "source": [
    "emp[\"month\"]=emp[\"hire_date\"].dt.month"
   ]
  },
  {
   "cell_type": "code",
   "execution_count": 27,
   "metadata": {},
   "outputs": [],
   "source": [
    "emp[\"year\"] =emp[\"hire_date\"].dt.year"
   ]
  },
  {
   "cell_type": "code",
   "execution_count": 28,
   "metadata": {},
   "outputs": [
    {
     "name": "stdout",
     "output_type": "stream",
     "text": [
      "BLAZE\n"
     ]
    }
   ],
   "source": [
    "for i in range(len(emp.values)):\n",
    "    if emp[\"month\"][i] == 5 and emp[\"year\"][i] == 1991:\n",
    "        print(emp[\"emp_name\"][i])"
   ]
  },
  {
   "cell_type": "code",
   "execution_count": 29,
   "metadata": {},
   "outputs": [
    {
     "data": {
      "text/plain": [
       "job_name\n",
       "ANALYST      6200\n",
       "CLERK        4550\n",
       "MANAGER      8257\n",
       "PRESIDENT    6000\n",
       "SALESMAN     6000\n",
       "Name: salary, dtype: int64"
      ]
     },
     "execution_count": 29,
     "metadata": {},
     "output_type": "execute_result"
    }
   ],
   "source": [
    "emp.groupby(\"job_name\")[\"salary\"].sum()"
   ]
  },
  {
   "cell_type": "code",
   "execution_count": 32,
   "metadata": {},
   "outputs": [],
   "source": [
    "df=emp.groupby(\"job_name\")[\"salary\"].sum()\n"
   ]
  },
  {
   "cell_type": "code",
   "execution_count": 33,
   "metadata": {},
   "outputs": [
    {
     "data": {
      "text/plain": [
       "job_name\n",
       "ANALYST      6200\n",
       "CLERK        4550\n",
       "MANAGER      8257\n",
       "PRESIDENT    6000\n",
       "SALESMAN     6000\n",
       "Name: salary, dtype: int64"
      ]
     },
     "execution_count": 33,
     "metadata": {},
     "output_type": "execute_result"
    }
   ],
   "source": [
    "df"
   ]
  },
  {
   "cell_type": "code",
   "execution_count": 34,
   "metadata": {},
   "outputs": [
    {
     "data": {
      "text/plain": [
       "6200"
      ]
     },
     "execution_count": 34,
     "metadata": {},
     "output_type": "execute_result"
    }
   ],
   "source": [
    "df.ANALYST"
   ]
  },
  {
   "cell_type": "code",
   "execution_count": 35,
   "metadata": {},
   "outputs": [
    {
     "data": {
      "text/plain": [
       "4550"
      ]
     },
     "execution_count": 35,
     "metadata": {},
     "output_type": "execute_result"
    }
   ],
   "source": [
    "df.CLERK"
   ]
  },
  {
   "cell_type": "code",
   "execution_count": null,
   "metadata": {},
   "outputs": [],
   "source": []
  }
 ],
 "metadata": {
  "kernelspec": {
   "display_name": "Python 3",
   "language": "python",
   "name": "python3"
  },
  "language_info": {
   "codemirror_mode": {
    "name": "ipython",
    "version": 3
   },
   "file_extension": ".py",
   "mimetype": "text/x-python",
   "name": "python",
   "nbconvert_exporter": "python",
   "pygments_lexer": "ipython3",
   "version": "3.12.1"
  }
 },
 "nbformat": 4,
 "nbformat_minor": 2
}
