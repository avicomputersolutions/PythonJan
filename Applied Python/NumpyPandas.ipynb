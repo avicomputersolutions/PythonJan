{
 "cells": [
  {
   "cell_type": "code",
   "execution_count": 1,
   "metadata": {},
   "outputs": [],
   "source": [
    "import numpy as np \n",
    "import pandas as pd"
   ]
  },
  {
   "cell_type": "code",
   "execution_count": 2,
   "metadata": {},
   "outputs": [],
   "source": [
    "# Creating Data Table\n",
    "datadict ={\n",
    "    \"Productname\":[],\n",
    "    \"price\":[],\n",
    "    \"quantity\":[],\n",
    "    \"sale\":[],\n",
    "    \"profit\":[],\n",
    "\n",
    "}\n",
    "\n",
    "blanktable = pd.DataFrame(datadict)"
   ]
  },
  {
   "cell_type": "code",
   "execution_count": 3,
   "metadata": {},
   "outputs": [
    {
     "data": {
      "text/html": [
       "<div>\n",
       "<style scoped>\n",
       "    .dataframe tbody tr th:only-of-type {\n",
       "        vertical-align: middle;\n",
       "    }\n",
       "\n",
       "    .dataframe tbody tr th {\n",
       "        vertical-align: top;\n",
       "    }\n",
       "\n",
       "    .dataframe thead th {\n",
       "        text-align: right;\n",
       "    }\n",
       "</style>\n",
       "<table border=\"1\" class=\"dataframe\">\n",
       "  <thead>\n",
       "    <tr style=\"text-align: right;\">\n",
       "      <th></th>\n",
       "      <th>Productname</th>\n",
       "      <th>price</th>\n",
       "      <th>quantity</th>\n",
       "      <th>sale</th>\n",
       "      <th>profit</th>\n",
       "    </tr>\n",
       "  </thead>\n",
       "  <tbody>\n",
       "  </tbody>\n",
       "</table>\n",
       "</div>"
      ],
      "text/plain": [
       "Empty DataFrame\n",
       "Columns: [Productname, price, quantity, sale, profit]\n",
       "Index: []"
      ]
     },
     "execution_count": 3,
     "metadata": {},
     "output_type": "execute_result"
    }
   ],
   "source": [
    "blanktable"
   ]
  },
  {
   "cell_type": "code",
   "execution_count": 6,
   "metadata": {},
   "outputs": [],
   "source": [
    "appdata= {'name': ['facebook',\n",
    "  'Instagram',\n",
    "  'Clash of Clans',\n",
    "  'Fruit Ninja Classic',\n",
    "  'Minecraft: Pocket Edition'],\n",
    " 'currency': ['USD', 'USD', 'USD', 'USD', 'USD'],\n",
    " 'price': [0.0, 0.0, 0.0, 1.99, 6.99],\n",
    " 'rating_count': [2974676, 2161558, 2130805, 698516, 522012],\n",
    " 'user_rating': [3.5, 4.5, 4.5, 4.5, 4.5]}\n",
    "\n",
    "App_data = pd.DataFrame(appdata)"
   ]
  },
  {
   "cell_type": "code",
   "execution_count": 7,
   "metadata": {},
   "outputs": [
    {
     "data": {
      "text/html": [
       "<div>\n",
       "<style scoped>\n",
       "    .dataframe tbody tr th:only-of-type {\n",
       "        vertical-align: middle;\n",
       "    }\n",
       "\n",
       "    .dataframe tbody tr th {\n",
       "        vertical-align: top;\n",
       "    }\n",
       "\n",
       "    .dataframe thead th {\n",
       "        text-align: right;\n",
       "    }\n",
       "</style>\n",
       "<table border=\"1\" class=\"dataframe\">\n",
       "  <thead>\n",
       "    <tr style=\"text-align: right;\">\n",
       "      <th></th>\n",
       "      <th>name</th>\n",
       "      <th>currency</th>\n",
       "      <th>price</th>\n",
       "      <th>rating_count</th>\n",
       "      <th>user_rating</th>\n",
       "    </tr>\n",
       "  </thead>\n",
       "  <tbody>\n",
       "    <tr>\n",
       "      <th>0</th>\n",
       "      <td>facebook</td>\n",
       "      <td>USD</td>\n",
       "      <td>0.00</td>\n",
       "      <td>2974676</td>\n",
       "      <td>3.5</td>\n",
       "    </tr>\n",
       "    <tr>\n",
       "      <th>1</th>\n",
       "      <td>Instagram</td>\n",
       "      <td>USD</td>\n",
       "      <td>0.00</td>\n",
       "      <td>2161558</td>\n",
       "      <td>4.5</td>\n",
       "    </tr>\n",
       "    <tr>\n",
       "      <th>2</th>\n",
       "      <td>Clash of Clans</td>\n",
       "      <td>USD</td>\n",
       "      <td>0.00</td>\n",
       "      <td>2130805</td>\n",
       "      <td>4.5</td>\n",
       "    </tr>\n",
       "    <tr>\n",
       "      <th>3</th>\n",
       "      <td>Fruit Ninja Classic</td>\n",
       "      <td>USD</td>\n",
       "      <td>1.99</td>\n",
       "      <td>698516</td>\n",
       "      <td>4.5</td>\n",
       "    </tr>\n",
       "    <tr>\n",
       "      <th>4</th>\n",
       "      <td>Minecraft: Pocket Edition</td>\n",
       "      <td>USD</td>\n",
       "      <td>6.99</td>\n",
       "      <td>522012</td>\n",
       "      <td>4.5</td>\n",
       "    </tr>\n",
       "  </tbody>\n",
       "</table>\n",
       "</div>"
      ],
      "text/plain": [
       "                        name currency  price  rating_count  user_rating\n",
       "0                   facebook      USD   0.00       2974676          3.5\n",
       "1                  Instagram      USD   0.00       2161558          4.5\n",
       "2             Clash of Clans      USD   0.00       2130805          4.5\n",
       "3        Fruit Ninja Classic      USD   1.99        698516          4.5\n",
       "4  Minecraft: Pocket Edition      USD   6.99        522012          4.5"
      ]
     },
     "execution_count": 7,
     "metadata": {},
     "output_type": "execute_result"
    }
   ],
   "source": [
    "App_data"
   ]
  },
  {
   "cell_type": "code",
   "execution_count": 8,
   "metadata": {},
   "outputs": [
    {
     "data": {
      "text/html": [
       "<div>\n",
       "<style scoped>\n",
       "    .dataframe tbody tr th:only-of-type {\n",
       "        vertical-align: middle;\n",
       "    }\n",
       "\n",
       "    .dataframe tbody tr th {\n",
       "        vertical-align: top;\n",
       "    }\n",
       "\n",
       "    .dataframe thead th {\n",
       "        text-align: right;\n",
       "    }\n",
       "</style>\n",
       "<table border=\"1\" class=\"dataframe\">\n",
       "  <thead>\n",
       "    <tr style=\"text-align: right;\">\n",
       "      <th></th>\n",
       "      <th>name</th>\n",
       "      <th>currency</th>\n",
       "      <th>price</th>\n",
       "      <th>rating_count</th>\n",
       "      <th>user_rating</th>\n",
       "    </tr>\n",
       "  </thead>\n",
       "  <tbody>\n",
       "    <tr>\n",
       "      <th>0</th>\n",
       "      <td>facebook</td>\n",
       "      <td>USD</td>\n",
       "      <td>0.00</td>\n",
       "      <td>2974676</td>\n",
       "      <td>3.5</td>\n",
       "    </tr>\n",
       "    <tr>\n",
       "      <th>1</th>\n",
       "      <td>Instagram</td>\n",
       "      <td>USD</td>\n",
       "      <td>0.00</td>\n",
       "      <td>2161558</td>\n",
       "      <td>4.5</td>\n",
       "    </tr>\n",
       "    <tr>\n",
       "      <th>2</th>\n",
       "      <td>Clash of Clans</td>\n",
       "      <td>USD</td>\n",
       "      <td>0.00</td>\n",
       "      <td>2130805</td>\n",
       "      <td>4.5</td>\n",
       "    </tr>\n",
       "    <tr>\n",
       "      <th>3</th>\n",
       "      <td>Fruit Ninja Classic</td>\n",
       "      <td>USD</td>\n",
       "      <td>1.99</td>\n",
       "      <td>698516</td>\n",
       "      <td>4.5</td>\n",
       "    </tr>\n",
       "    <tr>\n",
       "      <th>4</th>\n",
       "      <td>Minecraft: Pocket Edition</td>\n",
       "      <td>USD</td>\n",
       "      <td>6.99</td>\n",
       "      <td>522012</td>\n",
       "      <td>4.5</td>\n",
       "    </tr>\n",
       "  </tbody>\n",
       "</table>\n",
       "</div>"
      ],
      "text/plain": [
       "                        name currency  price  rating_count  user_rating\n",
       "0                   facebook      USD   0.00       2974676          3.5\n",
       "1                  Instagram      USD   0.00       2161558          4.5\n",
       "2             Clash of Clans      USD   0.00       2130805          4.5\n",
       "3        Fruit Ninja Classic      USD   1.99        698516          4.5\n",
       "4  Minecraft: Pocket Edition      USD   6.99        522012          4.5"
      ]
     },
     "execution_count": 8,
     "metadata": {},
     "output_type": "execute_result"
    }
   ],
   "source": [
    "# select * from app_data \n",
    "App_data"
   ]
  },
  {
   "cell_type": "code",
   "execution_count": 9,
   "metadata": {},
   "outputs": [
    {
     "data": {
      "text/plain": [
       "0                     facebook\n",
       "1                    Instagram\n",
       "2               Clash of Clans\n",
       "3          Fruit Ninja Classic\n",
       "4    Minecraft: Pocket Edition\n",
       "Name: name, dtype: object"
      ]
     },
     "execution_count": 9,
     "metadata": {},
     "output_type": "execute_result"
    }
   ],
   "source": [
    "# select name from app_data\n",
    "App_data[\"name\"]"
   ]
  },
  {
   "cell_type": "code",
   "execution_count": 10,
   "metadata": {},
   "outputs": [
    {
     "data": {
      "text/html": [
       "<div>\n",
       "<style scoped>\n",
       "    .dataframe tbody tr th:only-of-type {\n",
       "        vertical-align: middle;\n",
       "    }\n",
       "\n",
       "    .dataframe tbody tr th {\n",
       "        vertical-align: top;\n",
       "    }\n",
       "\n",
       "    .dataframe thead th {\n",
       "        text-align: right;\n",
       "    }\n",
       "</style>\n",
       "<table border=\"1\" class=\"dataframe\">\n",
       "  <thead>\n",
       "    <tr style=\"text-align: right;\">\n",
       "      <th></th>\n",
       "      <th>name</th>\n",
       "      <th>user_rating</th>\n",
       "    </tr>\n",
       "  </thead>\n",
       "  <tbody>\n",
       "    <tr>\n",
       "      <th>0</th>\n",
       "      <td>facebook</td>\n",
       "      <td>3.5</td>\n",
       "    </tr>\n",
       "    <tr>\n",
       "      <th>1</th>\n",
       "      <td>Instagram</td>\n",
       "      <td>4.5</td>\n",
       "    </tr>\n",
       "    <tr>\n",
       "      <th>2</th>\n",
       "      <td>Clash of Clans</td>\n",
       "      <td>4.5</td>\n",
       "    </tr>\n",
       "    <tr>\n",
       "      <th>3</th>\n",
       "      <td>Fruit Ninja Classic</td>\n",
       "      <td>4.5</td>\n",
       "    </tr>\n",
       "    <tr>\n",
       "      <th>4</th>\n",
       "      <td>Minecraft: Pocket Edition</td>\n",
       "      <td>4.5</td>\n",
       "    </tr>\n",
       "  </tbody>\n",
       "</table>\n",
       "</div>"
      ],
      "text/plain": [
       "                        name  user_rating\n",
       "0                   facebook          3.5\n",
       "1                  Instagram          4.5\n",
       "2             Clash of Clans          4.5\n",
       "3        Fruit Ninja Classic          4.5\n",
       "4  Minecraft: Pocket Edition          4.5"
      ]
     },
     "execution_count": 10,
     "metadata": {},
     "output_type": "execute_result"
    }
   ],
   "source": [
    "# select name,user_rating from app_data\n",
    "App_data[[\"name\",\"user_rating\"]]"
   ]
  },
  {
   "cell_type": "code",
   "execution_count": 11,
   "metadata": {},
   "outputs": [
    {
     "data": {
      "text/html": [
       "<div>\n",
       "<style scoped>\n",
       "    .dataframe tbody tr th:only-of-type {\n",
       "        vertical-align: middle;\n",
       "    }\n",
       "\n",
       "    .dataframe tbody tr th {\n",
       "        vertical-align: top;\n",
       "    }\n",
       "\n",
       "    .dataframe thead th {\n",
       "        text-align: right;\n",
       "    }\n",
       "</style>\n",
       "<table border=\"1\" class=\"dataframe\">\n",
       "  <thead>\n",
       "    <tr style=\"text-align: right;\">\n",
       "      <th></th>\n",
       "      <th>name</th>\n",
       "      <th>user_rating</th>\n",
       "      <th>price</th>\n",
       "    </tr>\n",
       "  </thead>\n",
       "  <tbody>\n",
       "    <tr>\n",
       "      <th>0</th>\n",
       "      <td>facebook</td>\n",
       "      <td>3.5</td>\n",
       "      <td>0.00</td>\n",
       "    </tr>\n",
       "    <tr>\n",
       "      <th>1</th>\n",
       "      <td>Instagram</td>\n",
       "      <td>4.5</td>\n",
       "      <td>0.00</td>\n",
       "    </tr>\n",
       "    <tr>\n",
       "      <th>2</th>\n",
       "      <td>Clash of Clans</td>\n",
       "      <td>4.5</td>\n",
       "      <td>0.00</td>\n",
       "    </tr>\n",
       "    <tr>\n",
       "      <th>3</th>\n",
       "      <td>Fruit Ninja Classic</td>\n",
       "      <td>4.5</td>\n",
       "      <td>1.99</td>\n",
       "    </tr>\n",
       "    <tr>\n",
       "      <th>4</th>\n",
       "      <td>Minecraft: Pocket Edition</td>\n",
       "      <td>4.5</td>\n",
       "      <td>6.99</td>\n",
       "    </tr>\n",
       "  </tbody>\n",
       "</table>\n",
       "</div>"
      ],
      "text/plain": [
       "                        name  user_rating  price\n",
       "0                   facebook          3.5   0.00\n",
       "1                  Instagram          4.5   0.00\n",
       "2             Clash of Clans          4.5   0.00\n",
       "3        Fruit Ninja Classic          4.5   1.99\n",
       "4  Minecraft: Pocket Edition          4.5   6.99"
      ]
     },
     "execution_count": 11,
     "metadata": {},
     "output_type": "execute_result"
    }
   ],
   "source": [
    "# select name,user_rating,price from app_data\n",
    "App_data[[\"name\",\"user_rating\",\"price\"]]"
   ]
  },
  {
   "cell_type": "code",
   "execution_count": 12,
   "metadata": {},
   "outputs": [
    {
     "data": {
      "text/plain": [
       "array([3.5, 4.5])"
      ]
     },
     "execution_count": 12,
     "metadata": {},
     "output_type": "execute_result"
    }
   ],
   "source": [
    "# select distinct(user_rating) from app_data\n",
    "App_data[\"user_rating\"].unique()"
   ]
  },
  {
   "cell_type": "code",
   "execution_count": 13,
   "metadata": {},
   "outputs": [
    {
     "data": {
      "text/plain": [
       "2974676"
      ]
     },
     "execution_count": 13,
     "metadata": {},
     "output_type": "execute_result"
    }
   ],
   "source": [
    "# select max(rating_count) from app_data\n",
    "App_data[\"rating_count\"].max()"
   ]
  },
  {
   "cell_type": "code",
   "execution_count": 14,
   "metadata": {},
   "outputs": [
    {
     "data": {
      "text/plain": [
       "522012"
      ]
     },
     "execution_count": 14,
     "metadata": {},
     "output_type": "execute_result"
    }
   ],
   "source": [
    "# select min(rating_count) from app_data\n",
    "App_data[\"rating_count\"].min()"
   ]
  },
  {
   "cell_type": "code",
   "execution_count": 15,
   "metadata": {},
   "outputs": [
    {
     "data": {
      "text/plain": [
       "1697513.4"
      ]
     },
     "execution_count": 15,
     "metadata": {},
     "output_type": "execute_result"
    }
   ],
   "source": [
    "# select avg(rating_count) from app_data\n",
    "App_data[\"rating_count\"].mean()"
   ]
  },
  {
   "cell_type": "code",
   "execution_count": 16,
   "metadata": {},
   "outputs": [
    {
     "data": {
      "text/plain": [
       "2130805.0"
      ]
     },
     "execution_count": 16,
     "metadata": {},
     "output_type": "execute_result"
    }
   ],
   "source": [
    "App_data[\"rating_count\"].median()"
   ]
  },
  {
   "cell_type": "code",
   "execution_count": 17,
   "metadata": {},
   "outputs": [
    {
     "name": "stdout",
     "output_type": "stream",
     "text": [
      "Requirement already satisfied: scipy in /Library/Frameworks/Python.framework/Versions/3.12/lib/python3.12/site-packages (1.13.0)\n",
      "Requirement already satisfied: numpy<2.3,>=1.22.4 in /Library/Frameworks/Python.framework/Versions/3.12/lib/python3.12/site-packages (from scipy) (1.26.4)\n",
      "\n",
      "\u001b[1m[\u001b[0m\u001b[34;49mnotice\u001b[0m\u001b[1;39;49m]\u001b[0m\u001b[39;49m A new release of pip is available: \u001b[0m\u001b[31;49m23.2.1\u001b[0m\u001b[39;49m -> \u001b[0m\u001b[32;49m25.0\u001b[0m\n",
      "\u001b[1m[\u001b[0m\u001b[34;49mnotice\u001b[0m\u001b[1;39;49m]\u001b[0m\u001b[39;49m To update, run: \u001b[0m\u001b[32;49mpython3 -m pip install --upgrade pip\u001b[0m\n",
      "Note: you may need to restart the kernel to use updated packages.\n"
     ]
    }
   ],
   "source": [
    "%pip install scipy"
   ]
  },
  {
   "cell_type": "code",
   "execution_count": 18,
   "metadata": {},
   "outputs": [
    {
     "data": {
      "text/plain": [
       "ModeResult(mode=4.5, count=4)"
      ]
     },
     "execution_count": 18,
     "metadata": {},
     "output_type": "execute_result"
    }
   ],
   "source": [
    "from scipy import stats as st\n",
    "st.mode(App_data[\"user_rating\"])"
   ]
  },
  {
   "cell_type": "code",
   "execution_count": 19,
   "metadata": {},
   "outputs": [
    {
     "data": {
      "text/plain": [
       "5"
      ]
     },
     "execution_count": 19,
     "metadata": {},
     "output_type": "execute_result"
    }
   ],
   "source": [
    "# select count(*) from app_data\n",
    "len(App_data)"
   ]
  },
  {
   "cell_type": "code",
   "execution_count": 22,
   "metadata": {},
   "outputs": [
    {
     "data": {
      "text/plain": [
       "2"
      ]
     },
     "execution_count": 22,
     "metadata": {},
     "output_type": "execute_result"
    }
   ],
   "source": [
    "#select count(distinct(user_rating)) from app_data\n",
    "len(App_data[\"user_rating\"].unique())"
   ]
  },
  {
   "cell_type": "code",
   "execution_count": 23,
   "metadata": {},
   "outputs": [
    {
     "data": {
      "text/plain": [
       "0.44721359549995787"
      ]
     },
     "execution_count": 23,
     "metadata": {},
     "output_type": "execute_result"
    }
   ],
   "source": [
    "# select std_div(user_rating) from app_data\n",
    "App_data[\"user_rating\"].std()"
   ]
  },
  {
   "cell_type": "code",
   "execution_count": 26,
   "metadata": {},
   "outputs": [
    {
     "data": {
      "text/plain": [
       "array(['USD'], dtype=object)"
      ]
     },
     "execution_count": 26,
     "metadata": {},
     "output_type": "execute_result"
    }
   ],
   "source": [
    "App_data[\"currency\"].unique()"
   ]
  },
  {
   "cell_type": "code",
   "execution_count": 27,
   "metadata": {},
   "outputs": [
    {
     "data": {
      "text/plain": [
       "2               Clash of Clans\n",
       "3          Fruit Ninja Classic\n",
       "1                    Instagram\n",
       "4    Minecraft: Pocket Edition\n",
       "0                     facebook\n",
       "Name: name, dtype: object"
      ]
     },
     "execution_count": 27,
     "metadata": {},
     "output_type": "execute_result"
    }
   ],
   "source": [
    "App_data[\"name\"].sort_values()"
   ]
  },
  {
   "cell_type": "code",
   "execution_count": 28,
   "metadata": {},
   "outputs": [
    {
     "data": {
      "text/plain": [
       "4     522012\n",
       "3     698516\n",
       "2    2130805\n",
       "1    2161558\n",
       "0    2974676\n",
       "Name: rating_count, dtype: int64"
      ]
     },
     "execution_count": 28,
     "metadata": {},
     "output_type": "execute_result"
    }
   ],
   "source": [
    "App_data[\"rating_count\"].sort_values()"
   ]
  },
  {
   "cell_type": "code",
   "execution_count": 29,
   "metadata": {},
   "outputs": [],
   "source": [
    "# select job_name,count(emp_name) from employees groub by job_name\n",
    "employees = [\n",
    "    {\"emp_id\": 68319, \"emp_name\": \"KAYLING\", \"job_name\": \"PRESIDENT\", \"manager_id\": None, \"hire_date\": \"1991-11-18\", \"salary\": 6000.00, \"commission\": None, \"dep_id\": 1001},\n",
    "    {\"emp_id\": 66928, \"emp_name\": \"BLAZE\", \"job_name\": \"MANAGER\", \"manager_id\": 68319, \"hire_date\": \"1991-05-01\", \"salary\": 2750.00, \"commission\": None, \"dep_id\": 3001},\n",
    "    {\"emp_id\": 67832, \"emp_name\": \"CLARE\", \"job_name\": \"MANAGER\", \"manager_id\": 68319, \"hire_date\": \"1991-06-09\", \"salary\": 2550.00, \"commission\": None, \"dep_id\": 1001},\n",
    "    {\"emp_id\": 65646, \"emp_name\": \"JONAS\", \"job_name\": \"MANAGER\", \"manager_id\": 68319, \"hire_date\": \"1991-04-02\", \"salary\": 2957.00, \"commission\": None, \"dep_id\": 2001},\n",
    "    {\"emp_id\": 67858, \"emp_name\": \"SCARLET\", \"job_name\": \"ANALYST\", \"manager_id\": 65646, \"hire_date\": \"1997-04-19\", \"salary\": 3100.00, \"commission\": None, \"dep_id\": 2001},\n",
    "    {\"emp_id\": 69062, \"emp_name\": \"FRANK\", \"job_name\": \"ANALYST\", \"manager_id\": 65646, \"hire_date\": \"1991-12-03\", \"salary\": 3100.00, \"commission\": None, \"dep_id\": 2001},\n",
    "    {\"emp_id\": 63679, \"emp_name\": \"SANDRINE\", \"job_name\": \"CLERK\", \"manager_id\": 69062, \"hire_date\": \"1990-12-18\", \"salary\": 900.00, \"commission\": None, \"dep_id\": 2001},\n",
    "    {\"emp_id\": 64989, \"emp_name\": \"ADELYN\", \"job_name\": \"SALESMAN\", \"manager_id\": 66928, \"hire_date\": \"1991-02-20\", \"salary\": 1700.00, \"commission\": 400.00, \"dep_id\": 3001},\n",
    "    {\"emp_id\": 65271, \"emp_name\": \"WADE\", \"job_name\": \"SALESMAN\", \"manager_id\": 66928, \"hire_date\": \"1991-02-22\", \"salary\": 1350.00, \"commission\": 600.00, \"dep_id\": 3001},\n",
    "    {\"emp_id\": 66564, \"emp_name\": \"MADDEN\", \"job_name\": \"SALESMAN\", \"manager_id\": 66928, \"hire_date\": \"1991-09-28\", \"salary\": 1350.00, \"commission\": 1500.00, \"dep_id\": 3001},\n",
    "    {\"emp_id\": 68454, \"emp_name\": \"TUCKER\", \"job_name\": \"SALESMAN\", \"manager_id\": 66928, \"hire_date\": \"1991-09-08\", \"salary\": 1600.00, \"commission\": 0.00, \"dep_id\": 3001},\n",
    "    {\"emp_id\": 68736, \"emp_name\": \"ADNRES\", \"job_name\": \"CLERK\", \"manager_id\": 67858, \"hire_date\": \"1997-05-23\", \"salary\": 1200.00, \"commission\": None, \"dep_id\": 2001},\n",
    "    {\"emp_id\": 69000, \"emp_name\": \"JULIUS\", \"job_name\": \"CLERK\", \"manager_id\": 66928, \"hire_date\": \"1991-12-03\", \"salary\": 1050.00, \"commission\": None, \"dep_id\": 3001},\n",
    "    {\"emp_id\": 69324, \"emp_name\": \"MARKER\", \"job_name\": \"CLERK\", \"manager_id\": 67832, \"hire_date\": \"1992-01-23\", \"salary\": 1400.00, \"commission\": None, \"dep_id\": 1001}\n",
    "]\n",
    "\n",
    "# Converting to DataFrame\n",
    "df = pd.DataFrame(employees)"
   ]
  },
  {
   "cell_type": "code",
   "execution_count": 30,
   "metadata": {},
   "outputs": [
    {
     "data": {
      "text/html": [
       "<div>\n",
       "<style scoped>\n",
       "    .dataframe tbody tr th:only-of-type {\n",
       "        vertical-align: middle;\n",
       "    }\n",
       "\n",
       "    .dataframe tbody tr th {\n",
       "        vertical-align: top;\n",
       "    }\n",
       "\n",
       "    .dataframe thead th {\n",
       "        text-align: right;\n",
       "    }\n",
       "</style>\n",
       "<table border=\"1\" class=\"dataframe\">\n",
       "  <thead>\n",
       "    <tr style=\"text-align: right;\">\n",
       "      <th></th>\n",
       "      <th>emp_id</th>\n",
       "      <th>emp_name</th>\n",
       "      <th>job_name</th>\n",
       "      <th>manager_id</th>\n",
       "      <th>hire_date</th>\n",
       "      <th>salary</th>\n",
       "      <th>commission</th>\n",
       "      <th>dep_id</th>\n",
       "    </tr>\n",
       "  </thead>\n",
       "  <tbody>\n",
       "    <tr>\n",
       "      <th>0</th>\n",
       "      <td>68319</td>\n",
       "      <td>KAYLING</td>\n",
       "      <td>PRESIDENT</td>\n",
       "      <td>NaN</td>\n",
       "      <td>1991-11-18</td>\n",
       "      <td>6000.0</td>\n",
       "      <td>NaN</td>\n",
       "      <td>1001</td>\n",
       "    </tr>\n",
       "    <tr>\n",
       "      <th>1</th>\n",
       "      <td>66928</td>\n",
       "      <td>BLAZE</td>\n",
       "      <td>MANAGER</td>\n",
       "      <td>68319.0</td>\n",
       "      <td>1991-05-01</td>\n",
       "      <td>2750.0</td>\n",
       "      <td>NaN</td>\n",
       "      <td>3001</td>\n",
       "    </tr>\n",
       "    <tr>\n",
       "      <th>2</th>\n",
       "      <td>67832</td>\n",
       "      <td>CLARE</td>\n",
       "      <td>MANAGER</td>\n",
       "      <td>68319.0</td>\n",
       "      <td>1991-06-09</td>\n",
       "      <td>2550.0</td>\n",
       "      <td>NaN</td>\n",
       "      <td>1001</td>\n",
       "    </tr>\n",
       "    <tr>\n",
       "      <th>3</th>\n",
       "      <td>65646</td>\n",
       "      <td>JONAS</td>\n",
       "      <td>MANAGER</td>\n",
       "      <td>68319.0</td>\n",
       "      <td>1991-04-02</td>\n",
       "      <td>2957.0</td>\n",
       "      <td>NaN</td>\n",
       "      <td>2001</td>\n",
       "    </tr>\n",
       "    <tr>\n",
       "      <th>4</th>\n",
       "      <td>67858</td>\n",
       "      <td>SCARLET</td>\n",
       "      <td>ANALYST</td>\n",
       "      <td>65646.0</td>\n",
       "      <td>1997-04-19</td>\n",
       "      <td>3100.0</td>\n",
       "      <td>NaN</td>\n",
       "      <td>2001</td>\n",
       "    </tr>\n",
       "    <tr>\n",
       "      <th>5</th>\n",
       "      <td>69062</td>\n",
       "      <td>FRANK</td>\n",
       "      <td>ANALYST</td>\n",
       "      <td>65646.0</td>\n",
       "      <td>1991-12-03</td>\n",
       "      <td>3100.0</td>\n",
       "      <td>NaN</td>\n",
       "      <td>2001</td>\n",
       "    </tr>\n",
       "    <tr>\n",
       "      <th>6</th>\n",
       "      <td>63679</td>\n",
       "      <td>SANDRINE</td>\n",
       "      <td>CLERK</td>\n",
       "      <td>69062.0</td>\n",
       "      <td>1990-12-18</td>\n",
       "      <td>900.0</td>\n",
       "      <td>NaN</td>\n",
       "      <td>2001</td>\n",
       "    </tr>\n",
       "    <tr>\n",
       "      <th>7</th>\n",
       "      <td>64989</td>\n",
       "      <td>ADELYN</td>\n",
       "      <td>SALESMAN</td>\n",
       "      <td>66928.0</td>\n",
       "      <td>1991-02-20</td>\n",
       "      <td>1700.0</td>\n",
       "      <td>400.0</td>\n",
       "      <td>3001</td>\n",
       "    </tr>\n",
       "    <tr>\n",
       "      <th>8</th>\n",
       "      <td>65271</td>\n",
       "      <td>WADE</td>\n",
       "      <td>SALESMAN</td>\n",
       "      <td>66928.0</td>\n",
       "      <td>1991-02-22</td>\n",
       "      <td>1350.0</td>\n",
       "      <td>600.0</td>\n",
       "      <td>3001</td>\n",
       "    </tr>\n",
       "    <tr>\n",
       "      <th>9</th>\n",
       "      <td>66564</td>\n",
       "      <td>MADDEN</td>\n",
       "      <td>SALESMAN</td>\n",
       "      <td>66928.0</td>\n",
       "      <td>1991-09-28</td>\n",
       "      <td>1350.0</td>\n",
       "      <td>1500.0</td>\n",
       "      <td>3001</td>\n",
       "    </tr>\n",
       "    <tr>\n",
       "      <th>10</th>\n",
       "      <td>68454</td>\n",
       "      <td>TUCKER</td>\n",
       "      <td>SALESMAN</td>\n",
       "      <td>66928.0</td>\n",
       "      <td>1991-09-08</td>\n",
       "      <td>1600.0</td>\n",
       "      <td>0.0</td>\n",
       "      <td>3001</td>\n",
       "    </tr>\n",
       "    <tr>\n",
       "      <th>11</th>\n",
       "      <td>68736</td>\n",
       "      <td>ADNRES</td>\n",
       "      <td>CLERK</td>\n",
       "      <td>67858.0</td>\n",
       "      <td>1997-05-23</td>\n",
       "      <td>1200.0</td>\n",
       "      <td>NaN</td>\n",
       "      <td>2001</td>\n",
       "    </tr>\n",
       "    <tr>\n",
       "      <th>12</th>\n",
       "      <td>69000</td>\n",
       "      <td>JULIUS</td>\n",
       "      <td>CLERK</td>\n",
       "      <td>66928.0</td>\n",
       "      <td>1991-12-03</td>\n",
       "      <td>1050.0</td>\n",
       "      <td>NaN</td>\n",
       "      <td>3001</td>\n",
       "    </tr>\n",
       "    <tr>\n",
       "      <th>13</th>\n",
       "      <td>69324</td>\n",
       "      <td>MARKER</td>\n",
       "      <td>CLERK</td>\n",
       "      <td>67832.0</td>\n",
       "      <td>1992-01-23</td>\n",
       "      <td>1400.0</td>\n",
       "      <td>NaN</td>\n",
       "      <td>1001</td>\n",
       "    </tr>\n",
       "  </tbody>\n",
       "</table>\n",
       "</div>"
      ],
      "text/plain": [
       "    emp_id  emp_name   job_name  manager_id   hire_date  salary  commission  \\\n",
       "0    68319   KAYLING  PRESIDENT         NaN  1991-11-18  6000.0         NaN   \n",
       "1    66928     BLAZE    MANAGER     68319.0  1991-05-01  2750.0         NaN   \n",
       "2    67832     CLARE    MANAGER     68319.0  1991-06-09  2550.0         NaN   \n",
       "3    65646     JONAS    MANAGER     68319.0  1991-04-02  2957.0         NaN   \n",
       "4    67858   SCARLET    ANALYST     65646.0  1997-04-19  3100.0         NaN   \n",
       "5    69062     FRANK    ANALYST     65646.0  1991-12-03  3100.0         NaN   \n",
       "6    63679  SANDRINE      CLERK     69062.0  1990-12-18   900.0         NaN   \n",
       "7    64989    ADELYN   SALESMAN     66928.0  1991-02-20  1700.0       400.0   \n",
       "8    65271      WADE   SALESMAN     66928.0  1991-02-22  1350.0       600.0   \n",
       "9    66564    MADDEN   SALESMAN     66928.0  1991-09-28  1350.0      1500.0   \n",
       "10   68454    TUCKER   SALESMAN     66928.0  1991-09-08  1600.0         0.0   \n",
       "11   68736    ADNRES      CLERK     67858.0  1997-05-23  1200.0         NaN   \n",
       "12   69000    JULIUS      CLERK     66928.0  1991-12-03  1050.0         NaN   \n",
       "13   69324    MARKER      CLERK     67832.0  1992-01-23  1400.0         NaN   \n",
       "\n",
       "    dep_id  \n",
       "0     1001  \n",
       "1     3001  \n",
       "2     1001  \n",
       "3     2001  \n",
       "4     2001  \n",
       "5     2001  \n",
       "6     2001  \n",
       "7     3001  \n",
       "8     3001  \n",
       "9     3001  \n",
       "10    3001  \n",
       "11    2001  \n",
       "12    3001  \n",
       "13    1001  "
      ]
     },
     "execution_count": 30,
     "metadata": {},
     "output_type": "execute_result"
    }
   ],
   "source": [
    "df"
   ]
  },
  {
   "cell_type": "code",
   "execution_count": null,
   "metadata": {},
   "outputs": [],
   "source": []
  }
 ],
 "metadata": {
  "kernelspec": {
   "display_name": "Python 3",
   "language": "python",
   "name": "python3"
  },
  "language_info": {
   "codemirror_mode": {
    "name": "ipython",
    "version": 3
   },
   "file_extension": ".py",
   "mimetype": "text/x-python",
   "name": "python",
   "nbconvert_exporter": "python",
   "pygments_lexer": "ipython3",
   "version": "3.12.1"
  }
 },
 "nbformat": 4,
 "nbformat_minor": 2
}
