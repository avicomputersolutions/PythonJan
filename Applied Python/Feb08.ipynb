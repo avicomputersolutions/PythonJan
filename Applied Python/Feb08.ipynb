{
 "cells": [
  {
   "cell_type": "code",
   "execution_count": 1,
   "metadata": {},
   "outputs": [],
   "source": [
    "import numpy as np \n",
    "import pandas as pd"
   ]
  },
  {
   "cell_type": "code",
   "execution_count": 2,
   "metadata": {},
   "outputs": [],
   "source": [
    "Employee = pd.read_excel(\"Emplyee.xlsx\")"
   ]
  },
  {
   "cell_type": "code",
   "execution_count": 5,
   "metadata": {},
   "outputs": [
    {
     "data": {
      "text/html": [
       "<div>\n",
       "<style scoped>\n",
       "    .dataframe tbody tr th:only-of-type {\n",
       "        vertical-align: middle;\n",
       "    }\n",
       "\n",
       "    .dataframe tbody tr th {\n",
       "        vertical-align: top;\n",
       "    }\n",
       "\n",
       "    .dataframe thead th {\n",
       "        text-align: right;\n",
       "    }\n",
       "</style>\n",
       "<table border=\"1\" class=\"dataframe\">\n",
       "  <thead>\n",
       "    <tr style=\"text-align: right;\">\n",
       "      <th></th>\n",
       "      <th>emp_id</th>\n",
       "      <th>emp_name</th>\n",
       "      <th>job_name</th>\n",
       "      <th>manger_id</th>\n",
       "      <th>hire_date</th>\n",
       "      <th>salary</th>\n",
       "      <th>commision</th>\n",
       "    </tr>\n",
       "  </thead>\n",
       "  <tbody>\n",
       "    <tr>\n",
       "      <th>0</th>\n",
       "      <td>68319</td>\n",
       "      <td>KAYLING</td>\n",
       "      <td>PRESIDENT</td>\n",
       "      <td>NaN</td>\n",
       "      <td>1991-11-18</td>\n",
       "      <td>6000</td>\n",
       "      <td>NaN</td>\n",
       "    </tr>\n",
       "    <tr>\n",
       "      <th>1</th>\n",
       "      <td>66928</td>\n",
       "      <td>BLAZE</td>\n",
       "      <td>MANAGER</td>\n",
       "      <td>68319.0</td>\n",
       "      <td>1991-05-01</td>\n",
       "      <td>2750</td>\n",
       "      <td>NaN</td>\n",
       "    </tr>\n",
       "    <tr>\n",
       "      <th>2</th>\n",
       "      <td>67832</td>\n",
       "      <td>CLARE</td>\n",
       "      <td>MANAGER</td>\n",
       "      <td>68319.0</td>\n",
       "      <td>1991-06-09</td>\n",
       "      <td>2550</td>\n",
       "      <td>NaN</td>\n",
       "    </tr>\n",
       "    <tr>\n",
       "      <th>3</th>\n",
       "      <td>65646</td>\n",
       "      <td>JONAS</td>\n",
       "      <td>MANAGER</td>\n",
       "      <td>68319.0</td>\n",
       "      <td>1991-04-02</td>\n",
       "      <td>2957</td>\n",
       "      <td>NaN</td>\n",
       "    </tr>\n",
       "    <tr>\n",
       "      <th>4</th>\n",
       "      <td>67858</td>\n",
       "      <td>SCARLET</td>\n",
       "      <td>ANALYST</td>\n",
       "      <td>65646.0</td>\n",
       "      <td>1997-04-19</td>\n",
       "      <td>3100</td>\n",
       "      <td>NaN</td>\n",
       "    </tr>\n",
       "    <tr>\n",
       "      <th>5</th>\n",
       "      <td>69062</td>\n",
       "      <td>FRANK</td>\n",
       "      <td>ANALYST</td>\n",
       "      <td>65646.0</td>\n",
       "      <td>1991-12-03</td>\n",
       "      <td>3100</td>\n",
       "      <td>NaN</td>\n",
       "    </tr>\n",
       "    <tr>\n",
       "      <th>6</th>\n",
       "      <td>63679</td>\n",
       "      <td>SANDRINE</td>\n",
       "      <td>CLERK</td>\n",
       "      <td>69062.0</td>\n",
       "      <td>1990-12-18</td>\n",
       "      <td>900</td>\n",
       "      <td>NaN</td>\n",
       "    </tr>\n",
       "    <tr>\n",
       "      <th>7</th>\n",
       "      <td>64989</td>\n",
       "      <td>ADELYN</td>\n",
       "      <td>SALESMAN</td>\n",
       "      <td>66928.0</td>\n",
       "      <td>1991-02-20</td>\n",
       "      <td>1700</td>\n",
       "      <td>400.0</td>\n",
       "    </tr>\n",
       "    <tr>\n",
       "      <th>8</th>\n",
       "      <td>65271</td>\n",
       "      <td>WADE</td>\n",
       "      <td>SALESMAN</td>\n",
       "      <td>66928.0</td>\n",
       "      <td>1991-02-22</td>\n",
       "      <td>1350</td>\n",
       "      <td>600.0</td>\n",
       "    </tr>\n",
       "    <tr>\n",
       "      <th>9</th>\n",
       "      <td>66564</td>\n",
       "      <td>MADDEN</td>\n",
       "      <td>SALESMAN</td>\n",
       "      <td>66928.0</td>\n",
       "      <td>1991-09-28</td>\n",
       "      <td>1350</td>\n",
       "      <td>1500.0</td>\n",
       "    </tr>\n",
       "    <tr>\n",
       "      <th>10</th>\n",
       "      <td>68454</td>\n",
       "      <td>TUCKER</td>\n",
       "      <td>SALESMAN</td>\n",
       "      <td>66928.0</td>\n",
       "      <td>1991-09-08</td>\n",
       "      <td>1600</td>\n",
       "      <td>0.0</td>\n",
       "    </tr>\n",
       "    <tr>\n",
       "      <th>11</th>\n",
       "      <td>68736</td>\n",
       "      <td>ADNRES</td>\n",
       "      <td>CLERK</td>\n",
       "      <td>67858.0</td>\n",
       "      <td>1997-05-23</td>\n",
       "      <td>1200</td>\n",
       "      <td>NaN</td>\n",
       "    </tr>\n",
       "    <tr>\n",
       "      <th>12</th>\n",
       "      <td>69000</td>\n",
       "      <td>JULIUS</td>\n",
       "      <td>CLERK</td>\n",
       "      <td>66928.0</td>\n",
       "      <td>1991-12-03</td>\n",
       "      <td>1050</td>\n",
       "      <td>NaN</td>\n",
       "    </tr>\n",
       "    <tr>\n",
       "      <th>13</th>\n",
       "      <td>69324</td>\n",
       "      <td>MARKER</td>\n",
       "      <td>CLERK</td>\n",
       "      <td>67832.0</td>\n",
       "      <td>1992-01-23</td>\n",
       "      <td>1400</td>\n",
       "      <td>NaN</td>\n",
       "    </tr>\n",
       "  </tbody>\n",
       "</table>\n",
       "</div>"
      ],
      "text/plain": [
       "    emp_id  emp_name   job_name  manger_id   hire_date  salary  commision\n",
       "0    68319   KAYLING  PRESIDENT        NaN  1991-11-18    6000        NaN\n",
       "1    66928     BLAZE    MANAGER    68319.0  1991-05-01    2750        NaN\n",
       "2    67832     CLARE    MANAGER    68319.0  1991-06-09    2550        NaN\n",
       "3    65646     JONAS    MANAGER    68319.0  1991-04-02    2957        NaN\n",
       "4    67858   SCARLET    ANALYST    65646.0  1997-04-19    3100        NaN\n",
       "5    69062     FRANK    ANALYST    65646.0  1991-12-03    3100        NaN\n",
       "6    63679  SANDRINE      CLERK    69062.0  1990-12-18     900        NaN\n",
       "7    64989    ADELYN   SALESMAN    66928.0  1991-02-20    1700      400.0\n",
       "8    65271      WADE   SALESMAN    66928.0  1991-02-22    1350      600.0\n",
       "9    66564    MADDEN   SALESMAN    66928.0  1991-09-28    1350     1500.0\n",
       "10   68454    TUCKER   SALESMAN    66928.0  1991-09-08    1600        0.0\n",
       "11   68736    ADNRES      CLERK    67858.0  1997-05-23    1200        NaN\n",
       "12   69000    JULIUS      CLERK    66928.0  1991-12-03    1050        NaN\n",
       "13   69324    MARKER      CLERK    67832.0  1992-01-23    1400        NaN"
      ]
     },
     "execution_count": 5,
     "metadata": {},
     "output_type": "execute_result"
    }
   ],
   "source": [
    "# Select * from Employee\n",
    "Employee"
   ]
  },
  {
   "cell_type": "code",
   "execution_count": 6,
   "metadata": {},
   "outputs": [
    {
     "name": "stdout",
     "output_type": "stream",
     "text": [
      "<class 'pandas.core.frame.DataFrame'>\n",
      "RangeIndex: 14 entries, 0 to 13\n",
      "Data columns (total 7 columns):\n",
      " #   Column     Non-Null Count  Dtype  \n",
      "---  ------     --------------  -----  \n",
      " 0   emp_id     14 non-null     int64  \n",
      " 1   emp_name   14 non-null     object \n",
      " 2   job_name   14 non-null     object \n",
      " 3   manger_id  13 non-null     float64\n",
      " 4   hire_date  14 non-null     object \n",
      " 5   salary     14 non-null     int64  \n",
      " 6   commision  4 non-null      float64\n",
      "dtypes: float64(2), int64(2), object(3)\n",
      "memory usage: 916.0+ bytes\n"
     ]
    }
   ],
   "source": [
    "# Describe Table  --- Structure of Table  for example - Describe Employee\n",
    "Employee.info()\n"
   ]
  },
  {
   "cell_type": "code",
   "execution_count": 7,
   "metadata": {},
   "outputs": [
    {
     "data": {
      "text/plain": [
       "0     6000\n",
       "1     2750\n",
       "2     2550\n",
       "3     2957\n",
       "4     3100\n",
       "5     3100\n",
       "6      900\n",
       "7     1700\n",
       "8     1350\n",
       "9     1350\n",
       "10    1600\n",
       "11    1200\n",
       "12    1050\n",
       "13    1400\n",
       "Name: salary, dtype: int64"
      ]
     },
     "execution_count": 7,
     "metadata": {},
     "output_type": "execute_result"
    }
   ],
   "source": [
    "# DML - Data Manipulation Language - Select, Where, Order by ,Group by, Comparison Operation , Aggreation Function\n",
    "# String Operation , Date Function , Math Function \n",
    "\n",
    "# 2 . Return Salary\n",
    "# Select salary from employee\n",
    "Employee[\"salary\"]\n",
    "\n"
   ]
  },
  {
   "cell_type": "code",
   "execution_count": 8,
   "metadata": {},
   "outputs": [
    {
     "data": {
      "text/plain": [
       "array(['PRESIDENT', 'MANAGER', 'ANALYST', 'CLERK', 'SALESMAN'],\n",
       "      dtype=object)"
      ]
     },
     "execution_count": 8,
     "metadata": {},
     "output_type": "execute_result"
    }
   ],
   "source": [
    "# Unique Job_nmae\n",
    "Employee[\"job_name\"].unique()"
   ]
  },
  {
   "cell_type": "code",
   "execution_count": 33,
   "metadata": {},
   "outputs": [],
   "source": [
    "#  Question -4\n",
    "#copy \n",
    "emp_copy = Employee[[\"emp_name\",\"salary\"]]"
   ]
  },
  {
   "cell_type": "code",
   "execution_count": 34,
   "metadata": {},
   "outputs": [
    {
     "name": "stderr",
     "output_type": "stream",
     "text": [
      "/var/folders/dy/q69lm6yx7cg8tqqkmwwbbzmm0000gn/T/ipykernel_1951/3747384176.py:1: SettingWithCopyWarning: \n",
      "A value is trying to be set on a copy of a slice from a DataFrame.\n",
      "Try using .loc[row_indexer,col_indexer] = value instead\n",
      "\n",
      "See the caveats in the documentation: https://pandas.pydata.org/pandas-docs/stable/user_guide/indexing.html#returning-a-view-versus-a-copy\n",
      "  emp_copy[\"salary\"] = emp_copy[\"salary\"] + 0.15 * emp_copy[\"salary\"]\n"
     ]
    }
   ],
   "source": [
    "emp_copy[\"salary\"] = emp_copy[\"salary\"] + 0.15 * emp_copy[\"salary\"]"
   ]
  },
  {
   "cell_type": "code",
   "execution_count": null,
   "metadata": {},
   "outputs": [],
   "source": []
  },
  {
   "cell_type": "code",
   "execution_count": null,
   "metadata": {},
   "outputs": [],
   "source": []
  },
  {
   "cell_type": "code",
   "execution_count": 35,
   "metadata": {},
   "outputs": [
    {
     "data": {
      "text/html": [
       "<div>\n",
       "<style scoped>\n",
       "    .dataframe tbody tr th:only-of-type {\n",
       "        vertical-align: middle;\n",
       "    }\n",
       "\n",
       "    .dataframe tbody tr th {\n",
       "        vertical-align: top;\n",
       "    }\n",
       "\n",
       "    .dataframe thead th {\n",
       "        text-align: right;\n",
       "    }\n",
       "</style>\n",
       "<table border=\"1\" class=\"dataframe\">\n",
       "  <thead>\n",
       "    <tr style=\"text-align: right;\">\n",
       "      <th></th>\n",
       "      <th>emp_name</th>\n",
       "      <th>salary</th>\n",
       "    </tr>\n",
       "  </thead>\n",
       "  <tbody>\n",
       "    <tr>\n",
       "      <th>0</th>\n",
       "      <td>KAYLING</td>\n",
       "      <td>6900.00</td>\n",
       "    </tr>\n",
       "    <tr>\n",
       "      <th>1</th>\n",
       "      <td>BLAZE</td>\n",
       "      <td>3162.50</td>\n",
       "    </tr>\n",
       "    <tr>\n",
       "      <th>2</th>\n",
       "      <td>CLARE</td>\n",
       "      <td>2932.50</td>\n",
       "    </tr>\n",
       "    <tr>\n",
       "      <th>3</th>\n",
       "      <td>JONAS</td>\n",
       "      <td>3400.55</td>\n",
       "    </tr>\n",
       "    <tr>\n",
       "      <th>4</th>\n",
       "      <td>SCARLET</td>\n",
       "      <td>3565.00</td>\n",
       "    </tr>\n",
       "    <tr>\n",
       "      <th>5</th>\n",
       "      <td>FRANK</td>\n",
       "      <td>3565.00</td>\n",
       "    </tr>\n",
       "    <tr>\n",
       "      <th>6</th>\n",
       "      <td>SANDRINE</td>\n",
       "      <td>1035.00</td>\n",
       "    </tr>\n",
       "    <tr>\n",
       "      <th>7</th>\n",
       "      <td>ADELYN</td>\n",
       "      <td>1955.00</td>\n",
       "    </tr>\n",
       "    <tr>\n",
       "      <th>8</th>\n",
       "      <td>WADE</td>\n",
       "      <td>1552.50</td>\n",
       "    </tr>\n",
       "    <tr>\n",
       "      <th>9</th>\n",
       "      <td>MADDEN</td>\n",
       "      <td>1552.50</td>\n",
       "    </tr>\n",
       "    <tr>\n",
       "      <th>10</th>\n",
       "      <td>TUCKER</td>\n",
       "      <td>1840.00</td>\n",
       "    </tr>\n",
       "    <tr>\n",
       "      <th>11</th>\n",
       "      <td>ADNRES</td>\n",
       "      <td>1380.00</td>\n",
       "    </tr>\n",
       "    <tr>\n",
       "      <th>12</th>\n",
       "      <td>JULIUS</td>\n",
       "      <td>1207.50</td>\n",
       "    </tr>\n",
       "    <tr>\n",
       "      <th>13</th>\n",
       "      <td>MARKER</td>\n",
       "      <td>1610.00</td>\n",
       "    </tr>\n",
       "  </tbody>\n",
       "</table>\n",
       "</div>"
      ],
      "text/plain": [
       "    emp_name   salary\n",
       "0    KAYLING  6900.00\n",
       "1      BLAZE  3162.50\n",
       "2      CLARE  2932.50\n",
       "3      JONAS  3400.55\n",
       "4    SCARLET  3565.00\n",
       "5      FRANK  3565.00\n",
       "6   SANDRINE  1035.00\n",
       "7     ADELYN  1955.00\n",
       "8       WADE  1552.50\n",
       "9     MADDEN  1552.50\n",
       "10    TUCKER  1840.00\n",
       "11    ADNRES  1380.00\n",
       "12    JULIUS  1207.50\n",
       "13    MARKER  1610.00"
      ]
     },
     "execution_count": 35,
     "metadata": {},
     "output_type": "execute_result"
    }
   ],
   "source": [
    "emp_copy"
   ]
  },
  {
   "cell_type": "code",
   "execution_count": 36,
   "metadata": {},
   "outputs": [],
   "source": [
    "# emp_copy[\"salary\"] =emp_copy[\"salary\"].astype(\"str\")"
   ]
  },
  {
   "cell_type": "code",
   "execution_count": 37,
   "metadata": {},
   "outputs": [
    {
     "name": "stdout",
     "output_type": "stream",
     "text": [
      "<class 'pandas.core.frame.DataFrame'>\n",
      "RangeIndex: 14 entries, 0 to 13\n",
      "Data columns (total 2 columns):\n",
      " #   Column    Non-Null Count  Dtype  \n",
      "---  ------    --------------  -----  \n",
      " 0   emp_name  14 non-null     object \n",
      " 1   salary    14 non-null     float64\n",
      "dtypes: float64(1), object(1)\n",
      "memory usage: 356.0+ bytes\n"
     ]
    }
   ],
   "source": [
    "emp_copy.info()"
   ]
  },
  {
   "cell_type": "code",
   "execution_count": 39,
   "metadata": {},
   "outputs": [
    {
     "name": "stderr",
     "output_type": "stream",
     "text": [
      "/var/folders/dy/q69lm6yx7cg8tqqkmwwbbzmm0000gn/T/ipykernel_1951/2503607402.py:2: FutureWarning: ChainedAssignmentError: behaviour will change in pandas 3.0!\n",
      "You are setting values through chained assignment. Currently this works in certain cases, but when using Copy-on-Write (which will become the default behaviour in pandas 3.0) this will never work to update the original DataFrame or Series, because the intermediate object on which we are setting values will behave as a copy.\n",
      "A typical example is when you are setting values in a column of a DataFrame, like:\n",
      "\n",
      "df[\"col\"][row_indexer] = value\n",
      "\n",
      "Use `df.loc[row_indexer, \"col\"] = values` instead, to perform the assignment in a single step and ensure this keeps updating the original `df`.\n",
      "\n",
      "See the caveats in the documentation: https://pandas.pydata.org/pandas-docs/stable/user_guide/indexing.html#returning-a-view-versus-a-copy\n",
      "\n",
      "  emp_copy[\"salary\"][i] = \"$\" + str(emp_copy[\"salary\"][i])\n",
      "/var/folders/dy/q69lm6yx7cg8tqqkmwwbbzmm0000gn/T/ipykernel_1951/2503607402.py:2: SettingWithCopyWarning: \n",
      "A value is trying to be set on a copy of a slice from a DataFrame\n",
      "\n",
      "See the caveats in the documentation: https://pandas.pydata.org/pandas-docs/stable/user_guide/indexing.html#returning-a-view-versus-a-copy\n",
      "  emp_copy[\"salary\"][i] = \"$\" + str(emp_copy[\"salary\"][i])\n",
      "/var/folders/dy/q69lm6yx7cg8tqqkmwwbbzmm0000gn/T/ipykernel_1951/2503607402.py:2: FutureWarning: Setting an item of incompatible dtype is deprecated and will raise an error in a future version of pandas. Value '$6900.0' has dtype incompatible with float64, please explicitly cast to a compatible dtype first.\n",
      "  emp_copy[\"salary\"][i] = \"$\" + str(emp_copy[\"salary\"][i])\n"
     ]
    }
   ],
   "source": [
    "for i in range(len(emp_copy[\"salary\"])):\n",
    "    emp_copy[\"salary\"][i] = \"$\" + str(emp_copy[\"salary\"][i])"
   ]
  },
  {
   "cell_type": "code",
   "execution_count": 40,
   "metadata": {},
   "outputs": [
    {
     "data": {
      "text/html": [
       "<div>\n",
       "<style scoped>\n",
       "    .dataframe tbody tr th:only-of-type {\n",
       "        vertical-align: middle;\n",
       "    }\n",
       "\n",
       "    .dataframe tbody tr th {\n",
       "        vertical-align: top;\n",
       "    }\n",
       "\n",
       "    .dataframe thead th {\n",
       "        text-align: right;\n",
       "    }\n",
       "</style>\n",
       "<table border=\"1\" class=\"dataframe\">\n",
       "  <thead>\n",
       "    <tr style=\"text-align: right;\">\n",
       "      <th></th>\n",
       "      <th>emp_name</th>\n",
       "      <th>salary</th>\n",
       "    </tr>\n",
       "  </thead>\n",
       "  <tbody>\n",
       "    <tr>\n",
       "      <th>0</th>\n",
       "      <td>KAYLING</td>\n",
       "      <td>$6900.0</td>\n",
       "    </tr>\n",
       "    <tr>\n",
       "      <th>1</th>\n",
       "      <td>BLAZE</td>\n",
       "      <td>$3162.5</td>\n",
       "    </tr>\n",
       "    <tr>\n",
       "      <th>2</th>\n",
       "      <td>CLARE</td>\n",
       "      <td>$2932.5</td>\n",
       "    </tr>\n",
       "    <tr>\n",
       "      <th>3</th>\n",
       "      <td>JONAS</td>\n",
       "      <td>$3400.55</td>\n",
       "    </tr>\n",
       "    <tr>\n",
       "      <th>4</th>\n",
       "      <td>SCARLET</td>\n",
       "      <td>$3565.0</td>\n",
       "    </tr>\n",
       "    <tr>\n",
       "      <th>5</th>\n",
       "      <td>FRANK</td>\n",
       "      <td>$3565.0</td>\n",
       "    </tr>\n",
       "    <tr>\n",
       "      <th>6</th>\n",
       "      <td>SANDRINE</td>\n",
       "      <td>$1035.0</td>\n",
       "    </tr>\n",
       "    <tr>\n",
       "      <th>7</th>\n",
       "      <td>ADELYN</td>\n",
       "      <td>$1955.0</td>\n",
       "    </tr>\n",
       "    <tr>\n",
       "      <th>8</th>\n",
       "      <td>WADE</td>\n",
       "      <td>$1552.5</td>\n",
       "    </tr>\n",
       "    <tr>\n",
       "      <th>9</th>\n",
       "      <td>MADDEN</td>\n",
       "      <td>$1552.5</td>\n",
       "    </tr>\n",
       "    <tr>\n",
       "      <th>10</th>\n",
       "      <td>TUCKER</td>\n",
       "      <td>$1840.0</td>\n",
       "    </tr>\n",
       "    <tr>\n",
       "      <th>11</th>\n",
       "      <td>ADNRES</td>\n",
       "      <td>$1380.0</td>\n",
       "    </tr>\n",
       "    <tr>\n",
       "      <th>12</th>\n",
       "      <td>JULIUS</td>\n",
       "      <td>$1207.5</td>\n",
       "    </tr>\n",
       "    <tr>\n",
       "      <th>13</th>\n",
       "      <td>MARKER</td>\n",
       "      <td>$1610.0</td>\n",
       "    </tr>\n",
       "  </tbody>\n",
       "</table>\n",
       "</div>"
      ],
      "text/plain": [
       "    emp_name    salary\n",
       "0    KAYLING   $6900.0\n",
       "1      BLAZE   $3162.5\n",
       "2      CLARE   $2932.5\n",
       "3      JONAS  $3400.55\n",
       "4    SCARLET   $3565.0\n",
       "5      FRANK   $3565.0\n",
       "6   SANDRINE   $1035.0\n",
       "7     ADELYN   $1955.0\n",
       "8       WADE   $1552.5\n",
       "9     MADDEN   $1552.5\n",
       "10    TUCKER   $1840.0\n",
       "11    ADNRES   $1380.0\n",
       "12    JULIUS   $1207.5\n",
       "13    MARKER   $1610.0"
      ]
     },
     "execution_count": 40,
     "metadata": {},
     "output_type": "execute_result"
    }
   ],
   "source": [
    "emp_copy"
   ]
  },
  {
   "cell_type": "code",
   "execution_count": 42,
   "metadata": {},
   "outputs": [
    {
     "name": "stdout",
     "output_type": "stream",
     "text": [
      "<class 'pandas.core.frame.DataFrame'>\n",
      "RangeIndex: 14 entries, 0 to 13\n",
      "Data columns (total 2 columns):\n",
      " #   Column    Non-Null Count  Dtype \n",
      "---  ------    --------------  ----- \n",
      " 0   emp_name  14 non-null     object\n",
      " 1   salary    14 non-null     object\n",
      "dtypes: object(2)\n",
      "memory usage: 356.0+ bytes\n"
     ]
    }
   ],
   "source": [
    "emp_copy.info()"
   ]
  },
  {
   "cell_type": "code",
   "execution_count": 43,
   "metadata": {},
   "outputs": [],
   "source": [
    "# QUESTION -5\n",
    "emp_copy2= Employee[[\"emp_name\",\"job_name\"]]"
   ]
  },
  {
   "cell_type": "code",
   "execution_count": 45,
   "metadata": {},
   "outputs": [
    {
     "name": "stderr",
     "output_type": "stream",
     "text": [
      "/var/folders/dy/q69lm6yx7cg8tqqkmwwbbzmm0000gn/T/ipykernel_1951/405757018.py:1: SettingWithCopyWarning: \n",
      "A value is trying to be set on a copy of a slice from a DataFrame.\n",
      "Try using .loc[row_indexer,col_indexer] = value instead\n",
      "\n",
      "See the caveats in the documentation: https://pandas.pydata.org/pandas-docs/stable/user_guide/indexing.html#returning-a-view-versus-a-copy\n",
      "  emp_copy2[\"Employee & job\"] = emp_copy2[\"emp_name\"] +\" \"+ emp_copy2[\"job_name\"]\n"
     ]
    }
   ],
   "source": [
    "emp_copy2[\"Employee & job\"] = emp_copy2[\"emp_name\"] +\" \"+ emp_copy2[\"job_name\"]"
   ]
  },
  {
   "cell_type": "code",
   "execution_count": 46,
   "metadata": {},
   "outputs": [
    {
     "data": {
      "text/plain": [
       "0     KAYLING PRESIDENT\n",
       "1         BLAZE MANAGER\n",
       "2         CLARE MANAGER\n",
       "3         JONAS MANAGER\n",
       "4       SCARLET ANALYST\n",
       "5         FRANK ANALYST\n",
       "6        SANDRINE CLERK\n",
       "7       ADELYN SALESMAN\n",
       "8         WADE SALESMAN\n",
       "9       MADDEN SALESMAN\n",
       "10      TUCKER SALESMAN\n",
       "11         ADNRES CLERK\n",
       "12         JULIUS CLERK\n",
       "13         MARKER CLERK\n",
       "Name: Employee & job, dtype: object"
      ]
     },
     "execution_count": 46,
     "metadata": {},
     "output_type": "execute_result"
    }
   ],
   "source": [
    "emp_copy2[\"Employee & job\"]"
   ]
  },
  {
   "cell_type": "code",
   "execution_count": 49,
   "metadata": {},
   "outputs": [
    {
     "name": "stderr",
     "output_type": "stream",
     "text": [
      "/var/folders/dy/q69lm6yx7cg8tqqkmwwbbzmm0000gn/T/ipykernel_1951/2410337798.py:1: SettingWithCopyWarning: \n",
      "A value is trying to be set on a copy of a slice from a DataFrame.\n",
      "Try using .loc[row_indexer,col_indexer] = value instead\n",
      "\n",
      "See the caveats in the documentation: https://pandas.pydata.org/pandas-docs/stable/user_guide/indexing.html#returning-a-view-versus-a-copy\n",
      "  emp_copy2[\"Employee\"] = emp_copy2[\"emp_name\"] +\"(\"+emp_copy2[\"job_name\"].str.lower()+\")\"\n"
     ]
    }
   ],
   "source": [
    "emp_copy2[\"Employee\"] = emp_copy2[\"emp_name\"] +\"(\"+emp_copy2[\"job_name\"].str.lower()+\")\""
   ]
  },
  {
   "cell_type": "code",
   "execution_count": 50,
   "metadata": {},
   "outputs": [
    {
     "data": {
      "text/plain": [
       "0     KAYLING(president)\n",
       "1         BLAZE(manager)\n",
       "2         CLARE(manager)\n",
       "3         JONAS(manager)\n",
       "4       SCARLET(analyst)\n",
       "5         FRANK(analyst)\n",
       "6        SANDRINE(clerk)\n",
       "7       ADELYN(salesman)\n",
       "8         WADE(salesman)\n",
       "9       MADDEN(salesman)\n",
       "10      TUCKER(salesman)\n",
       "11         ADNRES(clerk)\n",
       "12         JULIUS(clerk)\n",
       "13         MARKER(clerk)\n",
       "Name: Employee, dtype: object"
      ]
     },
     "execution_count": 50,
     "metadata": {},
     "output_type": "execute_result"
    }
   ],
   "source": [
    "emp_copy2[\"Employee\"]"
   ]
  },
  {
   "cell_type": "code",
   "execution_count": 51,
   "metadata": {},
   "outputs": [],
   "source": [
    "# Question 7\n",
    "copy7 = Employee"
   ]
  },
  {
   "cell_type": "code",
   "execution_count": 52,
   "metadata": {},
   "outputs": [
    {
     "data": {
      "text/html": [
       "<div>\n",
       "<style scoped>\n",
       "    .dataframe tbody tr th:only-of-type {\n",
       "        vertical-align: middle;\n",
       "    }\n",
       "\n",
       "    .dataframe tbody tr th {\n",
       "        vertical-align: top;\n",
       "    }\n",
       "\n",
       "    .dataframe thead th {\n",
       "        text-align: right;\n",
       "    }\n",
       "</style>\n",
       "<table border=\"1\" class=\"dataframe\">\n",
       "  <thead>\n",
       "    <tr style=\"text-align: right;\">\n",
       "      <th></th>\n",
       "      <th>emp_id</th>\n",
       "      <th>emp_name</th>\n",
       "      <th>job_name</th>\n",
       "      <th>manger_id</th>\n",
       "      <th>hire_date</th>\n",
       "      <th>salary</th>\n",
       "      <th>commision</th>\n",
       "    </tr>\n",
       "  </thead>\n",
       "  <tbody>\n",
       "    <tr>\n",
       "      <th>0</th>\n",
       "      <td>68319</td>\n",
       "      <td>KAYLING</td>\n",
       "      <td>PRESIDENT</td>\n",
       "      <td>NaN</td>\n",
       "      <td>1991-11-18</td>\n",
       "      <td>6000</td>\n",
       "      <td>NaN</td>\n",
       "    </tr>\n",
       "    <tr>\n",
       "      <th>1</th>\n",
       "      <td>66928</td>\n",
       "      <td>BLAZE</td>\n",
       "      <td>MANAGER</td>\n",
       "      <td>68319.0</td>\n",
       "      <td>1991-05-01</td>\n",
       "      <td>2750</td>\n",
       "      <td>NaN</td>\n",
       "    </tr>\n",
       "    <tr>\n",
       "      <th>2</th>\n",
       "      <td>67832</td>\n",
       "      <td>CLARE</td>\n",
       "      <td>MANAGER</td>\n",
       "      <td>68319.0</td>\n",
       "      <td>1991-06-09</td>\n",
       "      <td>2550</td>\n",
       "      <td>NaN</td>\n",
       "    </tr>\n",
       "    <tr>\n",
       "      <th>3</th>\n",
       "      <td>65646</td>\n",
       "      <td>JONAS</td>\n",
       "      <td>MANAGER</td>\n",
       "      <td>68319.0</td>\n",
       "      <td>1991-04-02</td>\n",
       "      <td>2957</td>\n",
       "      <td>NaN</td>\n",
       "    </tr>\n",
       "    <tr>\n",
       "      <th>4</th>\n",
       "      <td>67858</td>\n",
       "      <td>SCARLET</td>\n",
       "      <td>ANALYST</td>\n",
       "      <td>65646.0</td>\n",
       "      <td>1997-04-19</td>\n",
       "      <td>3100</td>\n",
       "      <td>NaN</td>\n",
       "    </tr>\n",
       "    <tr>\n",
       "      <th>5</th>\n",
       "      <td>69062</td>\n",
       "      <td>FRANK</td>\n",
       "      <td>ANALYST</td>\n",
       "      <td>65646.0</td>\n",
       "      <td>1991-12-03</td>\n",
       "      <td>3100</td>\n",
       "      <td>NaN</td>\n",
       "    </tr>\n",
       "    <tr>\n",
       "      <th>6</th>\n",
       "      <td>63679</td>\n",
       "      <td>SANDRINE</td>\n",
       "      <td>CLERK</td>\n",
       "      <td>69062.0</td>\n",
       "      <td>1990-12-18</td>\n",
       "      <td>900</td>\n",
       "      <td>NaN</td>\n",
       "    </tr>\n",
       "    <tr>\n",
       "      <th>7</th>\n",
       "      <td>64989</td>\n",
       "      <td>ADELYN</td>\n",
       "      <td>SALESMAN</td>\n",
       "      <td>66928.0</td>\n",
       "      <td>1991-02-20</td>\n",
       "      <td>1700</td>\n",
       "      <td>400.0</td>\n",
       "    </tr>\n",
       "    <tr>\n",
       "      <th>8</th>\n",
       "      <td>65271</td>\n",
       "      <td>WADE</td>\n",
       "      <td>SALESMAN</td>\n",
       "      <td>66928.0</td>\n",
       "      <td>1991-02-22</td>\n",
       "      <td>1350</td>\n",
       "      <td>600.0</td>\n",
       "    </tr>\n",
       "    <tr>\n",
       "      <th>9</th>\n",
       "      <td>66564</td>\n",
       "      <td>MADDEN</td>\n",
       "      <td>SALESMAN</td>\n",
       "      <td>66928.0</td>\n",
       "      <td>1991-09-28</td>\n",
       "      <td>1350</td>\n",
       "      <td>1500.0</td>\n",
       "    </tr>\n",
       "    <tr>\n",
       "      <th>10</th>\n",
       "      <td>68454</td>\n",
       "      <td>TUCKER</td>\n",
       "      <td>SALESMAN</td>\n",
       "      <td>66928.0</td>\n",
       "      <td>1991-09-08</td>\n",
       "      <td>1600</td>\n",
       "      <td>0.0</td>\n",
       "    </tr>\n",
       "    <tr>\n",
       "      <th>11</th>\n",
       "      <td>68736</td>\n",
       "      <td>ADNRES</td>\n",
       "      <td>CLERK</td>\n",
       "      <td>67858.0</td>\n",
       "      <td>1997-05-23</td>\n",
       "      <td>1200</td>\n",
       "      <td>NaN</td>\n",
       "    </tr>\n",
       "    <tr>\n",
       "      <th>12</th>\n",
       "      <td>69000</td>\n",
       "      <td>JULIUS</td>\n",
       "      <td>CLERK</td>\n",
       "      <td>66928.0</td>\n",
       "      <td>1991-12-03</td>\n",
       "      <td>1050</td>\n",
       "      <td>NaN</td>\n",
       "    </tr>\n",
       "    <tr>\n",
       "      <th>13</th>\n",
       "      <td>69324</td>\n",
       "      <td>MARKER</td>\n",
       "      <td>CLERK</td>\n",
       "      <td>67832.0</td>\n",
       "      <td>1992-01-23</td>\n",
       "      <td>1400</td>\n",
       "      <td>NaN</td>\n",
       "    </tr>\n",
       "  </tbody>\n",
       "</table>\n",
       "</div>"
      ],
      "text/plain": [
       "    emp_id  emp_name   job_name  manger_id   hire_date  salary  commision\n",
       "0    68319   KAYLING  PRESIDENT        NaN  1991-11-18    6000        NaN\n",
       "1    66928     BLAZE    MANAGER    68319.0  1991-05-01    2750        NaN\n",
       "2    67832     CLARE    MANAGER    68319.0  1991-06-09    2550        NaN\n",
       "3    65646     JONAS    MANAGER    68319.0  1991-04-02    2957        NaN\n",
       "4    67858   SCARLET    ANALYST    65646.0  1997-04-19    3100        NaN\n",
       "5    69062     FRANK    ANALYST    65646.0  1991-12-03    3100        NaN\n",
       "6    63679  SANDRINE      CLERK    69062.0  1990-12-18     900        NaN\n",
       "7    64989    ADELYN   SALESMAN    66928.0  1991-02-20    1700      400.0\n",
       "8    65271      WADE   SALESMAN    66928.0  1991-02-22    1350      600.0\n",
       "9    66564    MADDEN   SALESMAN    66928.0  1991-09-28    1350     1500.0\n",
       "10   68454    TUCKER   SALESMAN    66928.0  1991-09-08    1600        0.0\n",
       "11   68736    ADNRES      CLERK    67858.0  1997-05-23    1200        NaN\n",
       "12   69000    JULIUS      CLERK    66928.0  1991-12-03    1050        NaN\n",
       "13   69324    MARKER      CLERK    67832.0  1992-01-23    1400        NaN"
      ]
     },
     "execution_count": 52,
     "metadata": {},
     "output_type": "execute_result"
    }
   ],
   "source": [
    "copy7"
   ]
  },
  {
   "cell_type": "code",
   "execution_count": 53,
   "metadata": {},
   "outputs": [],
   "source": [
    "copy7[\"hire_date\"] = pd.to_datetime(copy7[\"hire_date\"])"
   ]
  },
  {
   "cell_type": "code",
   "execution_count": 54,
   "metadata": {},
   "outputs": [
    {
     "name": "stdout",
     "output_type": "stream",
     "text": [
      "<class 'pandas.core.frame.DataFrame'>\n",
      "RangeIndex: 14 entries, 0 to 13\n",
      "Data columns (total 7 columns):\n",
      " #   Column     Non-Null Count  Dtype         \n",
      "---  ------     --------------  -----         \n",
      " 0   emp_id     14 non-null     int64         \n",
      " 1   emp_name   14 non-null     object        \n",
      " 2   job_name   14 non-null     object        \n",
      " 3   manger_id  13 non-null     float64       \n",
      " 4   hire_date  14 non-null     datetime64[ns]\n",
      " 5   salary     14 non-null     int64         \n",
      " 6   commision  4 non-null      float64       \n",
      "dtypes: datetime64[ns](1), float64(2), int64(2), object(2)\n",
      "memory usage: 916.0+ bytes\n"
     ]
    }
   ],
   "source": [
    "copy7.info()"
   ]
  },
  {
   "cell_type": "code",
   "execution_count": 55,
   "metadata": {},
   "outputs": [],
   "source": [
    "copy7[\"month\"]=copy7[\"hire_date\"].dt.month_name()"
   ]
  },
  {
   "cell_type": "code",
   "execution_count": 66,
   "metadata": {},
   "outputs": [],
   "source": [
    "copy7[\"day\"] = copy7[\"hire_date\"].dt.day\n",
    "copy7[\"day\"] = copy7[\"day\"].astype('str')"
   ]
  },
  {
   "cell_type": "code",
   "execution_count": 67,
   "metadata": {},
   "outputs": [
    {
     "name": "stdout",
     "output_type": "stream",
     "text": [
      "<class 'pandas.core.frame.DataFrame'>\n",
      "RangeIndex: 14 entries, 0 to 13\n",
      "Data columns (total 11 columns):\n",
      " #   Column     Non-Null Count  Dtype         \n",
      "---  ------     --------------  -----         \n",
      " 0   emp_id     14 non-null     int64         \n",
      " 1   emp_name   14 non-null     object        \n",
      " 2   job_name   14 non-null     object        \n",
      " 3   manger_id  13 non-null     float64       \n",
      " 4   hire_date  14 non-null     datetime64[ns]\n",
      " 5   salary     14 non-null     int64         \n",
      " 6   commision  4 non-null      float64       \n",
      " 7   month      14 non-null     object        \n",
      " 8   day        14 non-null     object        \n",
      " 9   year       14 non-null     object        \n",
      " 10  Date       14 non-null     object        \n",
      "dtypes: datetime64[ns](1), float64(2), int64(2), object(6)\n",
      "memory usage: 1.3+ KB\n"
     ]
    }
   ],
   "source": [
    "copy7[\"year\"] = copy7[\"hire_date\"].dt.year\n",
    "copy7[\"year\"] = copy7[\"year\"].astype('str')\n",
    "copy7.info()"
   ]
  },
  {
   "cell_type": "code",
   "execution_count": 68,
   "metadata": {},
   "outputs": [],
   "source": [
    "copy7[\"Date\"] = copy7[\"month\"] + \" \"+ copy7[\"day\"]+\" \"+  copy7[\"year\"]"
   ]
  },
  {
   "cell_type": "code",
   "execution_count": 69,
   "metadata": {},
   "outputs": [
    {
     "data": {
      "text/plain": [
       "0      November 18 1991\n",
       "1            May 1 1991\n",
       "2           June 9 1991\n",
       "3          April 2 1991\n",
       "4         April 19 1997\n",
       "5       December 3 1991\n",
       "6      December 18 1990\n",
       "7      February 20 1991\n",
       "8      February 22 1991\n",
       "9     September 28 1991\n",
       "10     September 8 1991\n",
       "11          May 23 1997\n",
       "12      December 3 1991\n",
       "13      January 23 1992\n",
       "Name: Date, dtype: object"
      ]
     },
     "execution_count": 69,
     "metadata": {},
     "output_type": "execute_result"
    }
   ],
   "source": [
    "copy7[\"Date\"]"
   ]
  },
  {
   "cell_type": "code",
   "execution_count": null,
   "metadata": {},
   "outputs": [],
   "source": []
  },
  {
   "cell_type": "code",
   "execution_count": null,
   "metadata": {},
   "outputs": [],
   "source": []
  }
 ],
 "metadata": {
  "kernelspec": {
   "display_name": "Python 3",
   "language": "python",
   "name": "python3"
  },
  "language_info": {
   "codemirror_mode": {
    "name": "ipython",
    "version": 3
   },
   "file_extension": ".py",
   "mimetype": "text/x-python",
   "name": "python",
   "nbconvert_exporter": "python",
   "pygments_lexer": "ipython3",
   "version": "3.12.1"
  }
 },
 "nbformat": 4,
 "nbformat_minor": 2
}
