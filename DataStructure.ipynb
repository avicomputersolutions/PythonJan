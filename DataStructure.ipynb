{
 "cells": [
  {
   "cell_type": "code",
   "execution_count": 1,
   "metadata": {},
   "outputs": [],
   "source": [
    "# List\n",
    "# tuple\n",
    "# Set\n",
    "# dictionary\n",
    "#"
   ]
  },
  {
   "cell_type": "code",
   "execution_count": 3,
   "metadata": {},
   "outputs": [],
   "source": [
    "facebook_data = [\"facebook\",0.0,\"USD\",2974676,3.5]\n",
    "instagram =[\"Instagram\",0.0,\"USD\",2161558,4.5]\n",
    "clashofclan=[\"Clash of Clans\",0.0,\"USD\",2130805,4.5]"
   ]
  },
  {
   "cell_type": "code",
   "execution_count": 4,
   "metadata": {},
   "outputs": [
    {
     "data": {
      "text/plain": [
       "3.5"
      ]
     },
     "execution_count": 4,
     "metadata": {},
     "output_type": "execute_result"
    }
   ],
   "source": [
    "facebook_data[4]"
   ]
  },
  {
   "cell_type": "code",
   "execution_count": 5,
   "metadata": {},
   "outputs": [
    {
     "data": {
      "text/plain": [
       "4.5"
      ]
     },
     "execution_count": 5,
     "metadata": {},
     "output_type": "execute_result"
    }
   ],
   "source": [
    "instagram[4]"
   ]
  },
  {
   "cell_type": "code",
   "execution_count": 6,
   "metadata": {},
   "outputs": [
    {
     "data": {
      "text/plain": [
       "4.5"
      ]
     },
     "execution_count": 6,
     "metadata": {},
     "output_type": "execute_result"
    }
   ],
   "source": [
    "clashofclan[4]"
   ]
  },
  {
   "cell_type": "code",
   "execution_count": 7,
   "metadata": {},
   "outputs": [
    {
     "name": "stdout",
     "output_type": "stream",
     "text": [
      "4.166666666666667\n"
     ]
    }
   ],
   "source": [
    "avg_rating =  (facebook_data[4] + instagram[4] + clashofclan[4]) / 3\n",
    "print(avg_rating)"
   ]
  },
  {
   "cell_type": "code",
   "execution_count": 8,
   "metadata": {},
   "outputs": [
    {
     "data": {
      "text/plain": [
       "2974676"
      ]
     },
     "execution_count": 8,
     "metadata": {},
     "output_type": "execute_result"
    }
   ],
   "source": [
    "facebook_data[3]"
   ]
  },
  {
   "cell_type": "code",
   "execution_count": 9,
   "metadata": {},
   "outputs": [
    {
     "name": "stdout",
     "output_type": "stream",
     "text": [
      "2422346\n"
     ]
    }
   ],
   "source": [
    "avg_rating_count = (facebook_data[3]+instagram[3]+clashofclan[3]) // 3\n",
    "print(avg_rating_count)"
   ]
  },
  {
   "cell_type": "code",
   "execution_count": 10,
   "metadata": {},
   "outputs": [
    {
     "name": "stdout",
     "output_type": "stream",
     "text": [
      "2422346.3333333335\n",
      "2422346.0\n",
      "2422346\n"
     ]
    }
   ],
   "source": [
    "avg_rating_count = (facebook_data[3]+instagram[3]+clashofclan[3]) / 3\n",
    "print(avg_rating_count)\n",
    "print(round(avg_rating_count,0))\n",
    "print(int(avg_rating_count))"
   ]
  },
  {
   "cell_type": "code",
   "execution_count": 11,
   "metadata": {},
   "outputs": [
    {
     "name": "stdout",
     "output_type": "stream",
     "text": [
      "2422346.3333333335\n"
     ]
    }
   ],
   "source": [
    "avg_rating_count = (facebook_data[3]+instagram[3]+clashofclan[3]) / 3\n",
    "print(avg_rating_count)"
   ]
  },
  {
   "cell_type": "code",
   "execution_count": 12,
   "metadata": {},
   "outputs": [
    {
     "name": "stdout",
     "output_type": "stream",
     "text": [
      "2422346\n"
     ]
    }
   ],
   "source": [
    "from math import floor\n",
    "avg_rating_count = (facebook_data[3]+instagram[3]+clashofclan[3]) / 3\n",
    "print(floor(avg_rating_count))"
   ]
  },
  {
   "cell_type": "code",
   "execution_count": 13,
   "metadata": {},
   "outputs": [],
   "source": [
    "# 1- D list\n",
    "fruitNinja=[\"Fruit Ninja Classic\",1.99,\"USD\",698516,4.5]\n",
    "minecraft =[\"Minecraft: Pocket Edition\",6.99,\"USD\",522012,4.5]"
   ]
  },
  {
   "cell_type": "code",
   "execution_count": 14,
   "metadata": {},
   "outputs": [],
   "source": [
    "# 2-D List\n",
    "App_data=[\n",
    "    [\"facebook\",0.0,\"USD\",2974676,3.5],\n",
    "    [\"Instagram\",0.0,\"USD\",2161558,4.5],\n",
    "    [\"Clash of Clans\",0.0,\"USD\",2130805,4.5],\n",
    "    [\"Fruit Ninja Classic\",1.99,\"USD\",698516,4.5],\n",
    "    [\"Minecraft: Pocket Edition\",6.99,\"USD\",522012,4.5]\n",
    "]"
   ]
  },
  {
   "cell_type": "code",
   "execution_count": 15,
   "metadata": {},
   "outputs": [
    {
     "data": {
      "text/plain": [
       "4.5"
      ]
     },
     "execution_count": 15,
     "metadata": {},
     "output_type": "execute_result"
    }
   ],
   "source": [
    "App_data[2][4]"
   ]
  },
  {
   "cell_type": "code",
   "execution_count": 16,
   "metadata": {},
   "outputs": [
    {
     "name": "stdout",
     "output_type": "stream",
     "text": [
      "['Fruit Ninja Classic', 1.99, 'USD', 698516, 4.5]\n"
     ]
    }
   ],
   "source": [
    "# 1-D Slicing\n",
    "fruitNinja=[\"Fruit Ninja Classic\",1.99,\"USD\",698516,4.5]\n",
    "print(fruitNinja)"
   ]
  },
  {
   "cell_type": "code",
   "execution_count": 17,
   "metadata": {},
   "outputs": [
    {
     "name": "stdout",
     "output_type": "stream",
     "text": [
      "['Fruit Ninja Classic', 1.99, 'USD']\n"
     ]
    }
   ],
   "source": [
    "fruitNinja=[\"Fruit Ninja Classic\",1.99,\"USD\",698516,4.5]\n",
    "print(fruitNinja[0:3])"
   ]
  },
  {
   "cell_type": "code",
   "execution_count": 18,
   "metadata": {},
   "outputs": [
    {
     "name": "stdout",
     "output_type": "stream",
     "text": [
      "[['facebook', 0.0, 'USD', 2974676, 3.5], ['Instagram', 0.0, 'USD', 2161558, 4.5], ['Clash of Clans', 0.0, 'USD', 2130805, 4.5]]\n"
     ]
    }
   ],
   "source": [
    "# 2-D Slicing\n",
    "App_data=[\n",
    "    [\"facebook\",0.0,\"USD\",2974676,3.5],\n",
    "    [\"Instagram\",0.0,\"USD\",2161558,4.5],\n",
    "    [\"Clash of Clans\",0.0,\"USD\",2130805,4.5],\n",
    "    [\"Fruit Ninja Classic\",1.99,\"USD\",698516,4.5],\n",
    "    [\"Minecraft: Pocket Edition\",6.99,\"USD\",522012,4.5]\n",
    "]\n",
    "\n",
    "print(App_data[0:3])"
   ]
  },
  {
   "cell_type": "code",
   "execution_count": 19,
   "metadata": {},
   "outputs": [
    {
     "name": "stdout",
     "output_type": "stream",
     "text": [
      "3.5\n",
      "4.5\n",
      "4.5\n"
     ]
    }
   ],
   "source": [
    "# 2-D Slicing\n",
    "App_data=[\n",
    "    [\"facebook\",0.0,\"USD\",2974676,3.5],\n",
    "    [\"Instagram\",0.0,\"USD\",2161558,4.5],\n",
    "    [\"Clash of Clans\",0.0,\"USD\",2130805,4.5],\n",
    "    [\"Fruit Ninja Classic\",1.99,\"USD\",698516,4.5],\n",
    "    [\"Minecraft: Pocket Edition\",6.99,\"USD\",522012,4.5]\n",
    "]\n",
    "# first three app ki rating\n",
    "for row in App_data[0:3]:\n",
    "    print(row[4])"
   ]
  },
  {
   "cell_type": "code",
   "execution_count": 20,
   "metadata": {},
   "outputs": [
    {
     "name": "stdout",
     "output_type": "stream",
     "text": [
      "3.5\n",
      "4.5\n",
      "4.5\n"
     ]
    }
   ],
   "source": [
    "App_data=[\n",
    "    [\"facebook\",0.0,\"USD\",2974676,3.5],\n",
    "    [\"Instagram\",0.0,\"USD\",2161558,4.5],\n",
    "    [\"Clash of Clans\",0.0,\"USD\",2130805,4.5],\n",
    "    [\"Fruit Ninja Classic\",1.99,\"USD\",698516,4.5],\n",
    "    [\"Minecraft: Pocket Edition\",6.99,\"USD\",522012,4.5]\n",
    "]\n",
    "row = 0\n",
    "while(row<3):\n",
    "    print(App_data[row][4])\n",
    "\n",
    "    row =row+1"
   ]
  },
  {
   "cell_type": "code",
   "execution_count": 21,
   "metadata": {},
   "outputs": [
    {
     "name": "stdout",
     "output_type": "stream",
     "text": [
      "4.3\n"
     ]
    }
   ],
   "source": [
    "App_data=[\n",
    "    [\"facebook\",0.0,\"USD\",2974676,3.5],\n",
    "    [\"Instagram\",0.0,\"USD\",2161558,4.5],\n",
    "    [\"Clash of Clans\",0.0,\"USD\",2130805,4.5],\n",
    "    [\"Fruit Ninja Classic\",1.99,\"USD\",698516,4.5],\n",
    "    [\"Minecraft: Pocket Edition\",6.99,\"USD\",522012,4.5]\n",
    "]\n",
    "\n",
    "rating = 0\n",
    "for row in App_data:\n",
    "    rating = rating+row[4]\n",
    "\n",
    "\n",
    "avg_rating = rating / len(App_data)\n",
    "print(avg_rating)"
   ]
  },
  {
   "cell_type": "code",
   "execution_count": 22,
   "metadata": {},
   "outputs": [
    {
     "name": "stdout",
     "output_type": "stream",
     "text": [
      "4.3\n"
     ]
    }
   ],
   "source": [
    "App_data=[\n",
    "    [\"facebook\",0.0,\"USD\",2974676,3.5],\n",
    "    [\"Instagram\",0.0,\"USD\",2161558,4.5],\n",
    "    [\"Clash of Clans\",0.0,\"USD\",2130805,4.5],\n",
    "    [\"Fruit Ninja Classic\",1.99,\"USD\",698516,4.5],\n",
    "    [\"Minecraft: Pocket Edition\",6.99,\"USD\",522012,4.5]\n",
    "]\n",
    "\n",
    "rating = App_data[0][4] +App_data[1][4] +App_data[2][4]+App_data[3][4]+App_data[4][4]\n",
    "avg_rating= rating / len(App_data)\n",
    "print(avg_rating)"
   ]
  },
  {
   "cell_type": "code",
   "execution_count": 23,
   "metadata": {},
   "outputs": [
    {
     "name": "stdout",
     "output_type": "stream",
     "text": [
      "[3.5, 4.5, 4.5, 4.5, 4.5]\n",
      "4.3\n"
     ]
    }
   ],
   "source": [
    "App_data=[\n",
    "    [\"facebook\",0.0,\"USD\",2974676,3.5],\n",
    "    [\"Instagram\",0.0,\"USD\",2161558,4.5],\n",
    "    [\"Clash of Clans\",0.0,\"USD\",2130805,4.5],\n",
    "    [\"Fruit Ninja Classic\",1.99,\"USD\",698516,4.5],\n",
    "    [\"Minecraft: Pocket Edition\",6.99,\"USD\",522012,4.5]\n",
    "]\n",
    "\n",
    "rating = []\n",
    "\n",
    "for row in App_data :\n",
    "    rating.append(row[4])\n",
    "\n",
    "\n",
    "print(rating)\n",
    "\n",
    "avg_rating = sum(rating) / len(App_data)\n",
    "print(avg_rating)"
   ]
  },
  {
   "cell_type": "code",
   "execution_count": 24,
   "metadata": {},
   "outputs": [
    {
     "data": {
      "text/plain": [
       "[3.5, 4.5, 4.5, 4.5, 4.5]"
      ]
     },
     "execution_count": 24,
     "metadata": {},
     "output_type": "execute_result"
    }
   ],
   "source": [
    "rating"
   ]
  },
  {
   "cell_type": "code",
   "execution_count": 26,
   "metadata": {},
   "outputs": [
    {
     "name": "stdout",
     "output_type": "stream",
     "text": [
      "[2974676, 2161558, 2130805, 698516, 522012]\n"
     ]
    }
   ],
   "source": [
    "App_data=[\n",
    "    [\"facebook\",0.0,\"USD\",2974676,3.5],\n",
    "    [\"Instagram\",0.0,\"USD\",2161558,4.5],\n",
    "    [\"Clash of Clans\",0.0,\"USD\",2130805,4.5],\n",
    "    [\"Fruit Ninja Classic\",1.99,\"USD\",698516,4.5],\n",
    "    [\"Minecraft: Pocket Edition\",6.99,\"USD\",522012,4.5]\n",
    "]\n",
    "rating_count= []\n",
    "\n",
    "for i in App_data:\n",
    "    rating_count.append(i[3])\n",
    "\n",
    "\n",
    "print(rating_count)"
   ]
  },
  {
   "cell_type": "code",
   "execution_count": 28,
   "metadata": {},
   "outputs": [
    {
     "name": "stdout",
     "output_type": "stream",
     "text": [
      "[522012, 698516, 2130805, 2161558, 2974676]\n"
     ]
    }
   ],
   "source": [
    "rating_count.sort()\n",
    "print(rating_count)"
   ]
  },
  {
   "cell_type": "code",
   "execution_count": 29,
   "metadata": {},
   "outputs": [
    {
     "data": {
      "text/plain": [
       "2974676"
      ]
     },
     "execution_count": 29,
     "metadata": {},
     "output_type": "execute_result"
    }
   ],
   "source": [
    "rating_count[-1]"
   ]
  },
  {
   "cell_type": "code",
   "execution_count": 31,
   "metadata": {},
   "outputs": [
    {
     "name": "stdout",
     "output_type": "stream",
     "text": [
      "[2974676, 2161558, 2130805, 698516, 522012]\n"
     ]
    }
   ],
   "source": [
    "App_data=[\n",
    "    [\"facebook\",0.0,\"USD\",2974676,3.5],\n",
    "    [\"Instagram\",0.0,\"USD\",2161558,4.5],\n",
    "    [\"Clash of Clans\",0.0,\"USD\",2130805,4.5],\n",
    "    [\"Fruit Ninja Classic\",1.99,\"USD\",698516,4.5],\n",
    "    [\"Minecraft: Pocket Edition\",6.99,\"USD\",522012,4.5]\n",
    "]\n",
    "rating_count= []\n",
    "\n",
    "for i in App_data:\n",
    "    rating_count.append(i[3])\n",
    "\n",
    "\n",
    "print(rating_count)"
   ]
  },
  {
   "cell_type": "code",
   "execution_count": 32,
   "metadata": {},
   "outputs": [
    {
     "data": {
      "text/plain": [
       "2974676"
      ]
     },
     "execution_count": 32,
     "metadata": {},
     "output_type": "execute_result"
    }
   ],
   "source": [
    "max(rating_count)"
   ]
  },
  {
   "cell_type": "code",
   "execution_count": 33,
   "metadata": {},
   "outputs": [
    {
     "name": "stdout",
     "output_type": "stream",
     "text": [
      "['facebook', 0.0, 'USD', 2974676, 3.5]\n"
     ]
    }
   ],
   "source": [
    "# App with Max Rating Count\n",
    "for i in App_data:\n",
    "    if i[3]== max(rating_count):\n",
    "        print(i)"
   ]
  },
  {
   "cell_type": "code",
   "execution_count": 1,
   "metadata": {},
   "outputs": [],
   "source": [
    "# dictionary- Key , Value\n",
    "\n",
    "app_dict = {\"name\" : \"facebook\",\n",
    "            \"price\" :0.0,\n",
    "            \"currency\": \"USD\",\n",
    "            \"rating_count\" :2974676,\n",
    "            \"user_rating\" :3.5}"
   ]
  },
  {
   "cell_type": "code",
   "execution_count": 2,
   "metadata": {},
   "outputs": [
    {
     "ename": "KeyError",
     "evalue": "0",
     "output_type": "error",
     "traceback": [
      "\u001b[0;31m---------------------------------------------------------------------------\u001b[0m",
      "\u001b[0;31mKeyError\u001b[0m                                  Traceback (most recent call last)",
      "\u001b[1;32m/Volumes/Avinash/Python project/PythonJan/DataStructure.ipynb Cell 31\u001b[0m line \u001b[0;36m1\n\u001b[0;32m----> <a href='vscode-notebook-cell:/Volumes/Avinash/Python%20project/PythonJan/DataStructure.ipynb#X42sZmlsZQ%3D%3D?line=0'>1</a>\u001b[0m app_dict[\u001b[39m0\u001b[39;49m]\n",
      "\u001b[0;31mKeyError\u001b[0m: 0"
     ]
    }
   ],
   "source": [
    "app_dict[0]"
   ]
  },
  {
   "cell_type": "code",
   "execution_count": 3,
   "metadata": {},
   "outputs": [
    {
     "data": {
      "text/plain": [
       "'facebook'"
      ]
     },
     "execution_count": 3,
     "metadata": {},
     "output_type": "execute_result"
    }
   ],
   "source": [
    "app_dict[\"name\"]"
   ]
  },
  {
   "cell_type": "code",
   "execution_count": 4,
   "metadata": {},
   "outputs": [
    {
     "data": {
      "text/plain": [
       "'USD'"
      ]
     },
     "execution_count": 4,
     "metadata": {},
     "output_type": "execute_result"
    }
   ],
   "source": [
    "app_dict[\"currency\"]"
   ]
  },
  {
   "cell_type": "code",
   "execution_count": 5,
   "metadata": {},
   "outputs": [
    {
     "data": {
      "text/plain": [
       "0.0"
      ]
     },
     "execution_count": 5,
     "metadata": {},
     "output_type": "execute_result"
    }
   ],
   "source": [
    "app_dict[\"price\"]"
   ]
  },
  {
   "cell_type": "code",
   "execution_count": 6,
   "metadata": {},
   "outputs": [
    {
     "data": {
      "text/plain": [
       "2974676"
      ]
     },
     "execution_count": 6,
     "metadata": {},
     "output_type": "execute_result"
    }
   ],
   "source": [
    "app_dict[\"rating_count\"]"
   ]
  },
  {
   "cell_type": "code",
   "execution_count": 7,
   "metadata": {},
   "outputs": [],
   "source": [
    "App_data_dict=[\n",
    "    [\"facebook\",0.0,\"USD\",2974676,3.5],\n",
    "    [\"Instagram\",0.0,\"USD\",2161558,4.5],\n",
    "    [\"Clash of Clans\",0.0,\"USD\",2130805,4.5],\n",
    "    [\"Fruit Ninja Classic\",1.99,\"USD\",698516,4.5],\n",
    "    [\"Minecraft: Pocket Edition\",6.99,\"USD\",522012,4.5]\n",
    "]\n",
    "\n",
    "name =[]\n",
    "price = []\n",
    "currency=[]\n",
    "rating_count=[]\n",
    "user_rating=[]\n",
    "\n",
    "for i in App_data_dict:\n",
    "    name.append(i[0])\n",
    "    price.append(i[1])\n",
    "    currency.append(i[2])\n",
    "    rating_count.append(i[3])\n",
    "    user_rating.append(i[4])"
   ]
  },
  {
   "cell_type": "code",
   "execution_count": 8,
   "metadata": {},
   "outputs": [
    {
     "name": "stdout",
     "output_type": "stream",
     "text": [
      "['facebook', 'Instagram', 'Clash of Clans', 'Fruit Ninja Classic', 'Minecraft: Pocket Edition']\n"
     ]
    }
   ],
   "source": [
    "print(name)"
   ]
  },
  {
   "cell_type": "code",
   "execution_count": 9,
   "metadata": {},
   "outputs": [],
   "source": [
    "App_data_dictionary ={\n",
    "    \"name\" : name,\n",
    "    \"currency\" : currency,\n",
    "    \"price\" :price,\n",
    "    \"rating_count\" : rating_count,\n",
    "    \"user_rating\" : user_rating\n",
    "}"
   ]
  },
  {
   "cell_type": "code",
   "execution_count": 10,
   "metadata": {},
   "outputs": [
    {
     "data": {
      "text/plain": [
       "{'name': ['facebook',\n",
       "  'Instagram',\n",
       "  'Clash of Clans',\n",
       "  'Fruit Ninja Classic',\n",
       "  'Minecraft: Pocket Edition'],\n",
       " 'currency': ['USD', 'USD', 'USD', 'USD', 'USD'],\n",
       " 'price': [0.0, 0.0, 0.0, 1.99, 6.99],\n",
       " 'rating_count': [2974676, 2161558, 2130805, 698516, 522012],\n",
       " 'user_rating': [3.5, 4.5, 4.5, 4.5, 4.5]}"
      ]
     },
     "execution_count": 10,
     "metadata": {},
     "output_type": "execute_result"
    }
   ],
   "source": [
    "App_data_dictionary"
   ]
  },
  {
   "cell_type": "code",
   "execution_count": 11,
   "metadata": {},
   "outputs": [
    {
     "data": {
      "text/plain": [
       "['facebook',\n",
       " 'Instagram',\n",
       " 'Clash of Clans',\n",
       " 'Fruit Ninja Classic',\n",
       " 'Minecraft: Pocket Edition']"
      ]
     },
     "execution_count": 11,
     "metadata": {},
     "output_type": "execute_result"
    }
   ],
   "source": [
    "App_data_dictionary[\"name\"]"
   ]
  },
  {
   "cell_type": "code",
   "execution_count": 12,
   "metadata": {},
   "outputs": [
    {
     "data": {
      "text/plain": [
       "[2974676, 2161558, 2130805, 698516, 522012]"
      ]
     },
     "execution_count": 12,
     "metadata": {},
     "output_type": "execute_result"
    }
   ],
   "source": [
    "App_data_dictionary[\"rating_count\"]"
   ]
  },
  {
   "cell_type": "code",
   "execution_count": 14,
   "metadata": {},
   "outputs": [
    {
     "name": "stdout",
     "output_type": "stream",
     "text": [
      "1697513.4\n"
     ]
    }
   ],
   "source": [
    "avg = sum(App_data_dictionary[\"rating_count\"])/ len(App_data_dictionary[\"rating_count\"])\n",
    "print(avg)"
   ]
  },
  {
   "cell_type": "code",
   "execution_count": 16,
   "metadata": {},
   "outputs": [
    {
     "name": "stdout",
     "output_type": "stream",
     "text": [
      "4.3\n"
     ]
    }
   ],
   "source": [
    "avg_rating= sum(App_data_dictionary[\"user_rating\"]) / len(App_data_dictionary[\"user_rating\"])\n",
    "print(avg_rating)"
   ]
  },
  {
   "cell_type": "code",
   "execution_count": 17,
   "metadata": {},
   "outputs": [
    {
     "data": {
      "text/plain": [
       "dict_keys(['name', 'currency', 'price', 'rating_count', 'user_rating'])"
      ]
     },
     "execution_count": 17,
     "metadata": {},
     "output_type": "execute_result"
    }
   ],
   "source": [
    "App_data_dictionary.keys()"
   ]
  },
  {
   "cell_type": "code",
   "execution_count": 18,
   "metadata": {},
   "outputs": [
    {
     "data": {
      "text/plain": [
       "dict_values([['facebook', 'Instagram', 'Clash of Clans', 'Fruit Ninja Classic', 'Minecraft: Pocket Edition'], ['USD', 'USD', 'USD', 'USD', 'USD'], [0.0, 0.0, 0.0, 1.99, 6.99], [2974676, 2161558, 2130805, 698516, 522012], [3.5, 4.5, 4.5, 4.5, 4.5]])"
      ]
     },
     "execution_count": 18,
     "metadata": {},
     "output_type": "execute_result"
    }
   ],
   "source": [
    "App_data_dictionary.values()"
   ]
  },
  {
   "cell_type": "code",
   "execution_count": 19,
   "metadata": {},
   "outputs": [
    {
     "name": "stdout",
     "output_type": "stream",
     "text": [
      "name\n",
      "currency\n",
      "price\n",
      "rating_count\n",
      "user_rating\n"
     ]
    }
   ],
   "source": [
    "# App with Maxing rating count \n",
    "for i in App_data_dictionary.keys():\n",
    "    print(i)"
   ]
  },
  {
   "cell_type": "code",
   "execution_count": 21,
   "metadata": {},
   "outputs": [
    {
     "name": "stdout",
     "output_type": "stream",
     "text": [
      "facebook\n"
     ]
    }
   ],
   "source": [
    "index= 0\n",
    "for i in App_data_dictionary[\"rating_count\"] :\n",
    "    if i == max(App_data_dictionary[\"rating_count\"]):\n",
    "        print(App_data_dictionary[\"name\"][index])\n",
    "    index += 1"
   ]
  },
  {
   "cell_type": "code",
   "execution_count": 25,
   "metadata": {},
   "outputs": [
    {
     "name": "stdout",
     "output_type": "stream",
     "text": [
      "2974676\n"
     ]
    },
    {
     "ename": "IndexError",
     "evalue": "list index out of range",
     "output_type": "error",
     "traceback": [
      "\u001b[0;31m---------------------------------------------------------------------------\u001b[0m",
      "\u001b[0;31mIndexError\u001b[0m                                Traceback (most recent call last)",
      "\u001b[1;32m/Volumes/Avinash/Python project/PythonJan/DataStructure.ipynb Cell 48\u001b[0m line \u001b[0;36m7\n\u001b[1;32m      <a href='vscode-notebook-cell:/Volumes/Avinash/Python%20project/PythonJan/DataStructure.ipynb#X65sZmlsZQ%3D%3D?line=4'>5</a>\u001b[0m i \u001b[39m=\u001b[39m \u001b[39mmax\u001b[39m(App_data_dictionary[\u001b[39m\"\u001b[39m\u001b[39mrating_count\u001b[39m\u001b[39m\"\u001b[39m]) \n\u001b[1;32m      <a href='vscode-notebook-cell:/Volumes/Avinash/Python%20project/PythonJan/DataStructure.ipynb#X65sZmlsZQ%3D%3D?line=5'>6</a>\u001b[0m \u001b[39mprint\u001b[39m(i)\n\u001b[0;32m----> <a href='vscode-notebook-cell:/Volumes/Avinash/Python%20project/PythonJan/DataStructure.ipynb#X65sZmlsZQ%3D%3D?line=6'>7</a>\u001b[0m App_data_dictionary[\u001b[39m\"\u001b[39;49m\u001b[39mname\u001b[39;49m\u001b[39m\"\u001b[39;49m][\u001b[39m2974676\u001b[39;49m]\n",
      "\u001b[0;31mIndexError\u001b[0m: list index out of range"
     ]
    }
   ],
   "source": [
    "\n",
    "# for i in App_data_dictionary[\"rating_count\"] :\n",
    "#     if i == max(App_data_dictionary[\"rating_count\"]):\n",
    "#         print(App_data_dictionary[\"name\"][i])\n",
    "\n",
    "i = max(App_data_dictionary[\"rating_count\"]) \n",
    "print(i)\n",
    "App_data_dictionary[\"name\"][2974676]"
   ]
  },
  {
   "cell_type": "code",
   "execution_count": null,
   "metadata": {},
   "outputs": [],
   "source": []
  }
 ],
 "metadata": {
  "kernelspec": {
   "display_name": "Python 3 (ipykernel)",
   "language": "python",
   "name": "python3"
  },
  "language_info": {
   "codemirror_mode": {
    "name": "ipython",
    "version": 3
   },
   "file_extension": ".py",
   "mimetype": "text/x-python",
   "name": "python",
   "nbconvert_exporter": "python",
   "pygments_lexer": "ipython3",
   "version": "3.12.1"
  }
 },
 "nbformat": 4,
 "nbformat_minor": 4
}
