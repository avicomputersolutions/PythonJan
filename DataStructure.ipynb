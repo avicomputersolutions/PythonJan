{
 "cells": [
  {
   "cell_type": "code",
   "execution_count": 1,
   "metadata": {},
   "outputs": [],
   "source": [
    "# List\n",
    "# tuple\n",
    "# Set\n",
    "# dictionary\n",
    "#"
   ]
  },
  {
   "cell_type": "code",
   "execution_count": 3,
   "metadata": {},
   "outputs": [],
   "source": [
    "facebook_data = [\"facebook\",0.0,\"USD\",2974676,3.5]\n",
    "instagram =[\"Instagram\",0.0,\"USD\",2161558,4.5]\n",
    "clashofclan=[\"Clash of Clans\",0.0,\"USD\",2130805,4.5]"
   ]
  },
  {
   "cell_type": "code",
   "execution_count": 4,
   "metadata": {},
   "outputs": [
    {
     "data": {
      "text/plain": [
       "3.5"
      ]
     },
     "execution_count": 4,
     "metadata": {},
     "output_type": "execute_result"
    }
   ],
   "source": [
    "facebook_data[4]"
   ]
  },
  {
   "cell_type": "code",
   "execution_count": 5,
   "metadata": {},
   "outputs": [
    {
     "data": {
      "text/plain": [
       "4.5"
      ]
     },
     "execution_count": 5,
     "metadata": {},
     "output_type": "execute_result"
    }
   ],
   "source": [
    "instagram[4]"
   ]
  },
  {
   "cell_type": "code",
   "execution_count": 6,
   "metadata": {},
   "outputs": [
    {
     "data": {
      "text/plain": [
       "4.5"
      ]
     },
     "execution_count": 6,
     "metadata": {},
     "output_type": "execute_result"
    }
   ],
   "source": [
    "clashofclan[4]"
   ]
  },
  {
   "cell_type": "code",
   "execution_count": 7,
   "metadata": {},
   "outputs": [
    {
     "name": "stdout",
     "output_type": "stream",
     "text": [
      "4.166666666666667\n"
     ]
    }
   ],
   "source": [
    "avg_rating =  (facebook_data[4] + instagram[4] + clashofclan[4]) / 3\n",
    "print(avg_rating)"
   ]
  },
  {
   "cell_type": "code",
   "execution_count": 8,
   "metadata": {},
   "outputs": [
    {
     "data": {
      "text/plain": [
       "2974676"
      ]
     },
     "execution_count": 8,
     "metadata": {},
     "output_type": "execute_result"
    }
   ],
   "source": [
    "facebook_data[3]"
   ]
  },
  {
   "cell_type": "code",
   "execution_count": 9,
   "metadata": {},
   "outputs": [
    {
     "name": "stdout",
     "output_type": "stream",
     "text": [
      "2422346\n"
     ]
    }
   ],
   "source": [
    "avg_rating_count = (facebook_data[3]+instagram[3]+clashofclan[3]) // 3\n",
    "print(avg_rating_count)"
   ]
  },
  {
   "cell_type": "code",
   "execution_count": 10,
   "metadata": {},
   "outputs": [
    {
     "name": "stdout",
     "output_type": "stream",
     "text": [
      "2422346.3333333335\n",
      "2422346.0\n",
      "2422346\n"
     ]
    }
   ],
   "source": [
    "avg_rating_count = (facebook_data[3]+instagram[3]+clashofclan[3]) / 3\n",
    "print(avg_rating_count)\n",
    "print(round(avg_rating_count,0))\n",
    "print(int(avg_rating_count))"
   ]
  },
  {
   "cell_type": "code",
   "execution_count": 11,
   "metadata": {},
   "outputs": [
    {
     "name": "stdout",
     "output_type": "stream",
     "text": [
      "2422346.3333333335\n"
     ]
    }
   ],
   "source": [
    "avg_rating_count = (facebook_data[3]+instagram[3]+clashofclan[3]) / 3\n",
    "print(avg_rating_count)"
   ]
  },
  {
   "cell_type": "code",
   "execution_count": 12,
   "metadata": {},
   "outputs": [
    {
     "name": "stdout",
     "output_type": "stream",
     "text": [
      "2422346\n"
     ]
    }
   ],
   "source": [
    "from math import floor\n",
    "avg_rating_count = (facebook_data[3]+instagram[3]+clashofclan[3]) / 3\n",
    "print(floor(avg_rating_count))"
   ]
  },
  {
   "cell_type": "code",
   "execution_count": 13,
   "metadata": {},
   "outputs": [],
   "source": [
    "# 1- D list\n",
    "fruitNinja=[\"Fruit Ninja Classic\",1.99,\"USD\",698516,4.5]\n",
    "minecraft =[\"Minecraft: Pocket Edition\",6.99,\"USD\",522012,4.5]"
   ]
  },
  {
   "cell_type": "code",
   "execution_count": 14,
   "metadata": {},
   "outputs": [],
   "source": [
    "# 2-D List\n",
    "App_data=[\n",
    "    [\"facebook\",0.0,\"USD\",2974676,3.5],\n",
    "    [\"Instagram\",0.0,\"USD\",2161558,4.5],\n",
    "    [\"Clash of Clans\",0.0,\"USD\",2130805,4.5],\n",
    "    [\"Fruit Ninja Classic\",1.99,\"USD\",698516,4.5],\n",
    "    [\"Minecraft: Pocket Edition\",6.99,\"USD\",522012,4.5]\n",
    "]"
   ]
  },
  {
   "cell_type": "code",
   "execution_count": 15,
   "metadata": {},
   "outputs": [
    {
     "data": {
      "text/plain": [
       "4.5"
      ]
     },
     "execution_count": 15,
     "metadata": {},
     "output_type": "execute_result"
    }
   ],
   "source": [
    "App_data[2][4]"
   ]
  },
  {
   "cell_type": "code",
   "execution_count": 16,
   "metadata": {},
   "outputs": [
    {
     "name": "stdout",
     "output_type": "stream",
     "text": [
      "['Fruit Ninja Classic', 1.99, 'USD', 698516, 4.5]\n"
     ]
    }
   ],
   "source": [
    "# 1-D Slicing\n",
    "fruitNinja=[\"Fruit Ninja Classic\",1.99,\"USD\",698516,4.5]\n",
    "print(fruitNinja)"
   ]
  },
  {
   "cell_type": "code",
   "execution_count": 17,
   "metadata": {},
   "outputs": [
    {
     "name": "stdout",
     "output_type": "stream",
     "text": [
      "['Fruit Ninja Classic', 1.99, 'USD']\n"
     ]
    }
   ],
   "source": [
    "fruitNinja=[\"Fruit Ninja Classic\",1.99,\"USD\",698516,4.5]\n",
    "print(fruitNinja[0:3])"
   ]
  },
  {
   "cell_type": "code",
   "execution_count": 18,
   "metadata": {},
   "outputs": [
    {
     "name": "stdout",
     "output_type": "stream",
     "text": [
      "[['facebook', 0.0, 'USD', 2974676, 3.5], ['Instagram', 0.0, 'USD', 2161558, 4.5], ['Clash of Clans', 0.0, 'USD', 2130805, 4.5]]\n"
     ]
    }
   ],
   "source": [
    "# 2-D Slicing\n",
    "App_data=[\n",
    "    [\"facebook\",0.0,\"USD\",2974676,3.5],\n",
    "    [\"Instagram\",0.0,\"USD\",2161558,4.5],\n",
    "    [\"Clash of Clans\",0.0,\"USD\",2130805,4.5],\n",
    "    [\"Fruit Ninja Classic\",1.99,\"USD\",698516,4.5],\n",
    "    [\"Minecraft: Pocket Edition\",6.99,\"USD\",522012,4.5]\n",
    "]\n",
    "\n",
    "print(App_data[0:3])"
   ]
  },
  {
   "cell_type": "code",
   "execution_count": 19,
   "metadata": {},
   "outputs": [
    {
     "name": "stdout",
     "output_type": "stream",
     "text": [
      "3.5\n",
      "4.5\n",
      "4.5\n"
     ]
    }
   ],
   "source": [
    "# 2-D Slicing\n",
    "App_data=[\n",
    "    [\"facebook\",0.0,\"USD\",2974676,3.5],\n",
    "    [\"Instagram\",0.0,\"USD\",2161558,4.5],\n",
    "    [\"Clash of Clans\",0.0,\"USD\",2130805,4.5],\n",
    "    [\"Fruit Ninja Classic\",1.99,\"USD\",698516,4.5],\n",
    "    [\"Minecraft: Pocket Edition\",6.99,\"USD\",522012,4.5]\n",
    "]\n",
    "# first three app ki rating\n",
    "for row in App_data[0:3]:\n",
    "    print(row[4])"
   ]
  },
  {
   "cell_type": "code",
   "execution_count": 20,
   "metadata": {},
   "outputs": [
    {
     "name": "stdout",
     "output_type": "stream",
     "text": [
      "3.5\n",
      "4.5\n",
      "4.5\n"
     ]
    }
   ],
   "source": [
    "App_data=[\n",
    "    [\"facebook\",0.0,\"USD\",2974676,3.5],\n",
    "    [\"Instagram\",0.0,\"USD\",2161558,4.5],\n",
    "    [\"Clash of Clans\",0.0,\"USD\",2130805,4.5],\n",
    "    [\"Fruit Ninja Classic\",1.99,\"USD\",698516,4.5],\n",
    "    [\"Minecraft: Pocket Edition\",6.99,\"USD\",522012,4.5]\n",
    "]\n",
    "row = 0\n",
    "while(row<3):\n",
    "    print(App_data[row][4])\n",
    "\n",
    "    row =row+1"
   ]
  },
  {
   "cell_type": "code",
   "execution_count": 21,
   "metadata": {},
   "outputs": [
    {
     "name": "stdout",
     "output_type": "stream",
     "text": [
      "4.3\n"
     ]
    }
   ],
   "source": [
    "App_data=[\n",
    "    [\"facebook\",0.0,\"USD\",2974676,3.5],\n",
    "    [\"Instagram\",0.0,\"USD\",2161558,4.5],\n",
    "    [\"Clash of Clans\",0.0,\"USD\",2130805,4.5],\n",
    "    [\"Fruit Ninja Classic\",1.99,\"USD\",698516,4.5],\n",
    "    [\"Minecraft: Pocket Edition\",6.99,\"USD\",522012,4.5]\n",
    "]\n",
    "\n",
    "rating = 0\n",
    "for row in App_data:\n",
    "    rating = rating+row[4]\n",
    "\n",
    "\n",
    "avg_rating = rating / len(App_data)\n",
    "print(avg_rating)"
   ]
  },
  {
   "cell_type": "code",
   "execution_count": 22,
   "metadata": {},
   "outputs": [
    {
     "name": "stdout",
     "output_type": "stream",
     "text": [
      "4.3\n"
     ]
    }
   ],
   "source": [
    "App_data=[\n",
    "    [\"facebook\",0.0,\"USD\",2974676,3.5],\n",
    "    [\"Instagram\",0.0,\"USD\",2161558,4.5],\n",
    "    [\"Clash of Clans\",0.0,\"USD\",2130805,4.5],\n",
    "    [\"Fruit Ninja Classic\",1.99,\"USD\",698516,4.5],\n",
    "    [\"Minecraft: Pocket Edition\",6.99,\"USD\",522012,4.5]\n",
    "]\n",
    "\n",
    "rating = App_data[0][4] +App_data[1][4] +App_data[2][4]+App_data[3][4]+App_data[4][4]\n",
    "avg_rating= rating / len(App_data)\n",
    "print(avg_rating)"
   ]
  },
  {
   "cell_type": "code",
   "execution_count": 23,
   "metadata": {},
   "outputs": [
    {
     "name": "stdout",
     "output_type": "stream",
     "text": [
      "[3.5, 4.5, 4.5, 4.5, 4.5]\n",
      "4.3\n"
     ]
    }
   ],
   "source": [
    "App_data=[\n",
    "    [\"facebook\",0.0,\"USD\",2974676,3.5],\n",
    "    [\"Instagram\",0.0,\"USD\",2161558,4.5],\n",
    "    [\"Clash of Clans\",0.0,\"USD\",2130805,4.5],\n",
    "    [\"Fruit Ninja Classic\",1.99,\"USD\",698516,4.5],\n",
    "    [\"Minecraft: Pocket Edition\",6.99,\"USD\",522012,4.5]\n",
    "]\n",
    "\n",
    "rating = []\n",
    "\n",
    "for row in App_data :\n",
    "    rating.append(row[4])\n",
    "\n",
    "\n",
    "print(rating)\n",
    "\n",
    "avg_rating = sum(rating) / len(App_data)\n",
    "print(avg_rating)"
   ]
  },
  {
   "cell_type": "code",
   "execution_count": 24,
   "metadata": {},
   "outputs": [
    {
     "data": {
      "text/plain": [
       "[3.5, 4.5, 4.5, 4.5, 4.5]"
      ]
     },
     "execution_count": 24,
     "metadata": {},
     "output_type": "execute_result"
    }
   ],
   "source": [
    "rating"
   ]
  },
  {
   "cell_type": "code",
   "execution_count": 26,
   "metadata": {},
   "outputs": [
    {
     "name": "stdout",
     "output_type": "stream",
     "text": [
      "[2974676, 2161558, 2130805, 698516, 522012]\n"
     ]
    }
   ],
   "source": [
    "App_data=[\n",
    "    [\"facebook\",0.0,\"USD\",2974676,3.5],\n",
    "    [\"Instagram\",0.0,\"USD\",2161558,4.5],\n",
    "    [\"Clash of Clans\",0.0,\"USD\",2130805,4.5],\n",
    "    [\"Fruit Ninja Classic\",1.99,\"USD\",698516,4.5],\n",
    "    [\"Minecraft: Pocket Edition\",6.99,\"USD\",522012,4.5]\n",
    "]\n",
    "rating_count= []\n",
    "\n",
    "for i in App_data:\n",
    "    rating_count.append(i[3])\n",
    "\n",
    "\n",
    "print(rating_count)"
   ]
  },
  {
   "cell_type": "code",
   "execution_count": 28,
   "metadata": {},
   "outputs": [
    {
     "name": "stdout",
     "output_type": "stream",
     "text": [
      "[522012, 698516, 2130805, 2161558, 2974676]\n"
     ]
    }
   ],
   "source": [
    "rating_count.sort()\n",
    "print(rating_count)"
   ]
  },
  {
   "cell_type": "code",
   "execution_count": 29,
   "metadata": {},
   "outputs": [
    {
     "data": {
      "text/plain": [
       "2974676"
      ]
     },
     "execution_count": 29,
     "metadata": {},
     "output_type": "execute_result"
    }
   ],
   "source": [
    "rating_count[-1]"
   ]
  },
  {
   "cell_type": "code",
   "execution_count": 31,
   "metadata": {},
   "outputs": [
    {
     "name": "stdout",
     "output_type": "stream",
     "text": [
      "[2974676, 2161558, 2130805, 698516, 522012]\n"
     ]
    }
   ],
   "source": [
    "App_data=[\n",
    "    [\"facebook\",0.0,\"USD\",2974676,3.5],\n",
    "    [\"Instagram\",0.0,\"USD\",2161558,4.5],\n",
    "    [\"Clash of Clans\",0.0,\"USD\",2130805,4.5],\n",
    "    [\"Fruit Ninja Classic\",1.99,\"USD\",698516,4.5],\n",
    "    [\"Minecraft: Pocket Edition\",6.99,\"USD\",522012,4.5]\n",
    "]\n",
    "rating_count= []\n",
    "\n",
    "for i in App_data:\n",
    "    rating_count.append(i[3])\n",
    "\n",
    "\n",
    "print(rating_count)"
   ]
  },
  {
   "cell_type": "code",
   "execution_count": 32,
   "metadata": {},
   "outputs": [
    {
     "data": {
      "text/plain": [
       "2974676"
      ]
     },
     "execution_count": 32,
     "metadata": {},
     "output_type": "execute_result"
    }
   ],
   "source": [
    "max(rating_count)"
   ]
  },
  {
   "cell_type": "code",
   "execution_count": 33,
   "metadata": {},
   "outputs": [
    {
     "name": "stdout",
     "output_type": "stream",
     "text": [
      "['facebook', 0.0, 'USD', 2974676, 3.5]\n"
     ]
    }
   ],
   "source": [
    "# App with Max Rating Count\n",
    "for i in App_data:\n",
    "    if i[3]== max(rating_count):\n",
    "        print(i)"
   ]
  },
  {
   "cell_type": "code",
   "execution_count": null,
   "metadata": {},
   "outputs": [],
   "source": []
  }
 ],
 "metadata": {
  "kernelspec": {
   "display_name": "Python 3 (ipykernel)",
   "language": "python",
   "name": "python3"
  },
  "language_info": {
   "codemirror_mode": {
    "name": "ipython",
    "version": 3
   },
   "file_extension": ".py",
   "mimetype": "text/x-python",
   "name": "python",
   "nbconvert_exporter": "python",
   "pygments_lexer": "ipython3",
   "version": "3.12.1"
  }
 },
 "nbformat": 4,
 "nbformat_minor": 4
}
