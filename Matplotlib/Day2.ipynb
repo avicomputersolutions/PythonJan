{
 "cells": [
  {
   "cell_type": "code",
   "execution_count": 1,
   "metadata": {},
   "outputs": [],
   "source": [
    "import matplotlib.pyplot as plt \n",
    "import seaborn as sns"
   ]
  },
  {
   "cell_type": "code",
   "execution_count": 2,
   "metadata": {},
   "outputs": [],
   "source": [
    "import numpy as np \n",
    "import pandas as pd"
   ]
  },
  {
   "cell_type": "code",
   "execution_count": 4,
   "metadata": {},
   "outputs": [],
   "source": [
    "data = pd.read_csv(\"../sales_data.csv\")"
   ]
  },
  {
   "cell_type": "code",
   "execution_count": 5,
   "metadata": {},
   "outputs": [
    {
     "data": {
      "text/html": [
       "<div>\n",
       "<style scoped>\n",
       "    .dataframe tbody tr th:only-of-type {\n",
       "        vertical-align: middle;\n",
       "    }\n",
       "\n",
       "    .dataframe tbody tr th {\n",
       "        vertical-align: top;\n",
       "    }\n",
       "\n",
       "    .dataframe thead th {\n",
       "        text-align: right;\n",
       "    }\n",
       "</style>\n",
       "<table border=\"1\" class=\"dataframe\">\n",
       "  <thead>\n",
       "    <tr style=\"text-align: right;\">\n",
       "      <th></th>\n",
       "      <th>date</th>\n",
       "      <th>product</th>\n",
       "      <th>category</th>\n",
       "      <th>price</th>\n",
       "      <th>quantity</th>\n",
       "      <th>revenue</th>\n",
       "    </tr>\n",
       "  </thead>\n",
       "  <tbody>\n",
       "    <tr>\n",
       "      <th>0</th>\n",
       "      <td>2022-01-01</td>\n",
       "      <td>Smartphone</td>\n",
       "      <td>Electronics</td>\n",
       "      <td>600.0</td>\n",
       "      <td>10.0</td>\n",
       "      <td>6000.0</td>\n",
       "    </tr>\n",
       "    <tr>\n",
       "      <th>1</th>\n",
       "      <td>2022-01-01</td>\n",
       "      <td>Laptop</td>\n",
       "      <td>Electronics</td>\n",
       "      <td>1200.0</td>\n",
       "      <td>5.0</td>\n",
       "      <td>6000.0</td>\n",
       "    </tr>\n",
       "    <tr>\n",
       "      <th>2</th>\n",
       "      <td>2022-01-02</td>\n",
       "      <td>T-Shirt</td>\n",
       "      <td>Clothing</td>\n",
       "      <td>20.0</td>\n",
       "      <td>50.0</td>\n",
       "      <td>1000.0</td>\n",
       "    </tr>\n",
       "    <tr>\n",
       "      <th>3</th>\n",
       "      <td>2022-01-03</td>\n",
       "      <td>Headphones</td>\n",
       "      <td>Electronics</td>\n",
       "      <td>100.0</td>\n",
       "      <td>20.0</td>\n",
       "      <td>2000.0</td>\n",
       "    </tr>\n",
       "    <tr>\n",
       "      <th>4</th>\n",
       "      <td>2022-01-04</td>\n",
       "      <td>T-Shirt</td>\n",
       "      <td>Clothing</td>\n",
       "      <td>20.0</td>\n",
       "      <td>25.0</td>\n",
       "      <td>500.0</td>\n",
       "    </tr>\n",
       "    <tr>\n",
       "      <th>...</th>\n",
       "      <td>...</td>\n",
       "      <td>...</td>\n",
       "      <td>...</td>\n",
       "      <td>...</td>\n",
       "      <td>...</td>\n",
       "      <td>...</td>\n",
       "    </tr>\n",
       "    <tr>\n",
       "      <th>364</th>\n",
       "      <td>2022-12-27</td>\n",
       "      <td>Watch</td>\n",
       "      <td>Accessories</td>\n",
       "      <td>150.0</td>\n",
       "      <td>5.0</td>\n",
       "      <td>750.0</td>\n",
       "    </tr>\n",
       "    <tr>\n",
       "      <th>365</th>\n",
       "      <td>2022-12-28</td>\n",
       "      <td>Coat</td>\n",
       "      <td>Clothing</td>\n",
       "      <td>100.0</td>\n",
       "      <td>5.0</td>\n",
       "      <td>500.0</td>\n",
       "    </tr>\n",
       "    <tr>\n",
       "      <th>366</th>\n",
       "      <td>2022-12-29</td>\n",
       "      <td>Headphones</td>\n",
       "      <td>Electronics</td>\n",
       "      <td>100.0</td>\n",
       "      <td>10.0</td>\n",
       "      <td>1000.0</td>\n",
       "    </tr>\n",
       "    <tr>\n",
       "      <th>367</th>\n",
       "      <td>2022-12-30</td>\n",
       "      <td>Smartphone</td>\n",
       "      <td>Electronics</td>\n",
       "      <td>600.0</td>\n",
       "      <td>11.0</td>\n",
       "      <td>6600.0</td>\n",
       "    </tr>\n",
       "    <tr>\n",
       "      <th>368</th>\n",
       "      <td>2022-12-31</td>\n",
       "      <td>Hoodie</td>\n",
       "      <td>Clothing</td>\n",
       "      <td>40.0</td>\n",
       "      <td>30.0</td>\n",
       "      <td>1200.0</td>\n",
       "    </tr>\n",
       "  </tbody>\n",
       "</table>\n",
       "<p>369 rows × 6 columns</p>\n",
       "</div>"
      ],
      "text/plain": [
       "           date     product     category   price  quantity  revenue\n",
       "0    2022-01-01  Smartphone  Electronics   600.0      10.0   6000.0\n",
       "1    2022-01-01      Laptop  Electronics  1200.0       5.0   6000.0\n",
       "2    2022-01-02     T-Shirt     Clothing    20.0      50.0   1000.0\n",
       "3    2022-01-03  Headphones  Electronics   100.0      20.0   2000.0\n",
       "4    2022-01-04     T-Shirt     Clothing    20.0      25.0    500.0\n",
       "..          ...         ...          ...     ...       ...      ...\n",
       "364  2022-12-27       Watch  Accessories   150.0       5.0    750.0\n",
       "365  2022-12-28        Coat     Clothing   100.0       5.0    500.0\n",
       "366  2022-12-29  Headphones  Electronics   100.0      10.0   1000.0\n",
       "367  2022-12-30  Smartphone  Electronics   600.0      11.0   6600.0\n",
       "368  2022-12-31      Hoodie     Clothing    40.0      30.0   1200.0\n",
       "\n",
       "[369 rows x 6 columns]"
      ]
     },
     "execution_count": 5,
     "metadata": {},
     "output_type": "execute_result"
    }
   ],
   "source": [
    "data"
   ]
  },
  {
   "cell_type": "code",
   "execution_count": 11,
   "metadata": {},
   "outputs": [],
   "source": [
    "data =data.dropna()"
   ]
  },
  {
   "cell_type": "code",
   "execution_count": 12,
   "metadata": {},
   "outputs": [
    {
     "name": "stdout",
     "output_type": "stream",
     "text": [
      "(19,) (19,)\n"
     ]
    }
   ],
   "source": [
    "# Scatter \n",
    "x = data[\"quantity\"].unique()\n",
    "y = data.groupby(by=\"quantity\")[\"revenue\"].sum() \n",
    "\n",
    "print(x.shape,y.shape)"
   ]
  },
  {
   "cell_type": "code",
   "execution_count": 15,
   "metadata": {},
   "outputs": [],
   "source": [
    "x1 = data[\"price\"].unique()\n",
    "y1 = data.groupby(by=\"price\")[\"revenue\"].sum() "
   ]
  },
  {
   "cell_type": "code",
   "execution_count": 14,
   "metadata": {},
   "outputs": [
    {
     "data": {
      "image/png": "[encoded data removed]",
      "text/plain": [
       "<Figure size 640x480 with 1 Axes>"
      ]
     },
     "metadata": {},
     "output_type": "display_data"
    }
   ],
   "source": [
    "plt.scatter(x,y,marker=\"^\")\n",
    "\n",
    "plt.show()"
   ]
  },
  {
   "cell_type": "code",
   "execution_count": 17,
   "metadata": {},
   "outputs": [
    {
     "data": {
      "image/png": "[encoded data removed]",
      "text/plain": [
       "<Figure size 640x480 with 1 Axes>"
      ]
     },
     "metadata": {},
     "output_type": "display_data"
    }
   ],
   "source": [
    "plt.scatter(x,y,marker=\"^\")\n",
    "plt.scatter(x1,y1,marker=\">\")\n",
    "plt.legend([\"Quantity\",\"Price\"])\n",
    "plt.show()"
   ]
  },
  {
   "cell_type": "code",
   "execution_count": 18,
   "metadata": {},
   "outputs": [
    {
     "data": {
      "text/plain": [
       "<Axes: xlabel='price', ylabel='revenue'>"
      ]
     },
     "execution_count": 18,
     "metadata": {},
     "output_type": "execute_result"
    },
    {
     "data": {
      "image/png": "[encoded data removed]",
      "text/plain": [
       "<Figure size 640x480 with 1 Axes>"
      ]
     },
     "metadata": {},
     "output_type": "display_data"
    }
   ],
   "source": [
    "# Scatter using Seaborn\n",
    "sns.scatterplot(data,x=\"price\",y=\"revenue\")"
   ]
  },
  {
   "cell_type": "code",
   "execution_count": 19,
   "metadata": {},
   "outputs": [
    {
     "data": {
      "text/plain": [
       "<Axes: xlabel='quantity', ylabel='revenue'>"
      ]
     },
     "execution_count": 19,
     "metadata": {},
     "output_type": "execute_result"
    },
    {
     "data": {
      "image/png": "[encoded data removed]",
      "text/plain": [
       "<Figure size 640x480 with 1 Axes>"
      ]
     },
     "metadata": {},
     "output_type": "display_data"
    }
   ],
   "source": [
    "sns.scatterplot(data,x=\"quantity\",y=\"revenue\")"
   ]
  },
  {
   "cell_type": "code",
   "execution_count": 20,
   "metadata": {},
   "outputs": [
    {
     "data": {
      "text/plain": [
       "<Axes: xlabel='quantity', ylabel='Count'>"
      ]
     },
     "execution_count": 20,
     "metadata": {},
     "output_type": "execute_result"
    },
    {
     "data": {
      "image/png": "[encoded data removed]",
      "text/plain": [
       "<Figure size 640x480 with 1 Axes>"
      ]
     },
     "metadata": {},
     "output_type": "display_data"
    }
   ],
   "source": [
    "# Histogram\n",
    "sns.histplot(data,x=\"quantity\")"
   ]
  },
  {
   "cell_type": "code",
   "execution_count": 27,
   "metadata": {},
   "outputs": [
    {
     "data": {
      "text/plain": [
       "(<Figure size 640x480 with 16 Axes>,\n",
       " array([[<Axes: >, <Axes: >, <Axes: >, <Axes: >],\n",
       "        [<Axes: >, <Axes: >, <Axes: >, <Axes: >],\n",
       "        [<Axes: >, <Axes: >, <Axes: >, <Axes: >],\n",
       "        [<Axes: >, <Axes: >, <Axes: >, <Axes: >]], dtype=object))"
      ]
     },
     "execution_count": 27,
     "metadata": {},
     "output_type": "execute_result"
    },
    {
     "data": {
      "text/plain": [
       "<Figure size 1200x800 with 0 Axes>"
      ]
     },
     "metadata": {},
     "output_type": "display_data"
    },
    {
     "data": {
      "image/png": "[encoded data removed]",
      "text/plain": [
       "<Figure size 640x480 with 16 Axes>"
      ]
     },
     "metadata": {},
     "output_type": "display_data"
    }
   ],
   "source": [
    "# subplots\n",
    "\n",
    "plt.subplots(4,4)\n",
    "# plt.subplot(2,2,1)\n",
    "# sns.histplot(data,x=\"quantity\")\n",
    "\n",
    "# plt.subplot(2,2,2)\n",
    "# sns.scatterplot(data,x=\"quantity\",y=\"revenue\")\n",
    "\n",
    "# plt.subplot(2,2,3)\n",
    "# sns.scatterplot(data,x=\"price\",y=\"revenue\")"
   ]
  },
  {
   "cell_type": "code",
   "execution_count": 33,
   "metadata": {},
   "outputs": [
    {
     "data": {
      "text/plain": [
       "([<matplotlib.patches.Wedge at 0x13568fef0>,\n",
       "  <matplotlib.patches.Wedge at 0x135acc170>,\n",
       "  <matplotlib.patches.Wedge at 0x134fc46e0>,\n",
       "  <matplotlib.patches.Wedge at 0x134fc4e30>,\n",
       "  <matplotlib.patches.Wedge at 0x135146b70>,\n",
       "  <matplotlib.patches.Wedge at 0x135144d40>,\n",
       "  <matplotlib.patches.Wedge at 0x135146e10>,\n",
       "  <matplotlib.patches.Wedge at 0x135146840>,\n",
       "  <matplotlib.patches.Wedge at 0x135147590>,\n",
       "  <matplotlib.patches.Wedge at 0x135146300>,\n",
       "  <matplotlib.patches.Wedge at 0x135147920>,\n",
       "  <matplotlib.patches.Wedge at 0x135145f40>,\n",
       "  <matplotlib.patches.Wedge at 0x135147a10>,\n",
       "  <matplotlib.patches.Wedge at 0x1351468d0>,\n",
       "  <matplotlib.patches.Wedge at 0x135147290>,\n",
       "  <matplotlib.patches.Wedge at 0x135144fe0>,\n",
       "  <matplotlib.patches.Wedge at 0x1351446e0>,\n",
       "  <matplotlib.patches.Wedge at 0x135144500>,\n",
       "  <matplotlib.patches.Wedge at 0x1351457f0>],\n",
       " [Text(1.099944181410948, 0.011081415983509027, ''),\n",
       "  Text(1.0996030883115564, 0.029547388644136172, ''),\n",
       "  Text(1.0892070157019265, 0.15371427046863068, ''),\n",
       "  Text(0.9725883106028754, 0.5138793419457965, ''),\n",
       "  Text(0.4801672801235324, 0.9896662988597567, ''),\n",
       "  Text(-0.1283688392972546, 1.0924840690360094, ''),\n",
       "  Text(-0.6157814768824136, 0.9114895351722442, ''),\n",
       "  Text(-1.0684781745793959, 0.26144672583048784, ''),\n",
       "  Text(-0.9934345983236026, -0.4723216053216522, ''),\n",
       "  Text(-0.3909619449664457, -1.0281773959721416, ''),\n",
       "  Text(0.3731663773939378, -1.0347689861909688, ''),\n",
       "  Text(0.624742555958636, -0.9053710503292397, ''),\n",
       "  Text(0.8243855212057013, -0.7282777714762441, ''),\n",
       "  Text(0.9581165049108085, -0.5403820528269762, ''),\n",
       "  Text(1.022773830081495, -0.4048872589998719, ''),\n",
       "  Text(1.076530507446543, -0.2260134211432779, ''),\n",
       "  Text(1.0929690369484946, -0.12417199471652449, ''),\n",
       "  Text(1.098869854921666, -0.04985019502907469, ''),\n",
       "  Text(1.0999903089612681, -0.0046173792668540705, '')])"
      ]
     },
     "execution_count": 33,
     "metadata": {},
     "output_type": "execute_result"
    },
    {
     "data": {
      "image/png": "[encoded data removed]",
      "text/plain": [
       "<Figure size 1200x800 with 16 Axes>"
      ]
     },
     "metadata": {},
     "output_type": "display_data"
    }
   ],
   "source": [
    "figure, ax = plt.subplots(4,4)\n",
    "figure.set(size_inches=(12,8))\n",
    "ax[0,0].pie(y)"
   ]
  },
  {
   "cell_type": "code",
   "execution_count": 34,
   "metadata": {},
   "outputs": [
    {
     "data": {
      "text/plain": [
       "<seaborn.axisgrid.PairGrid at 0x1354a94c0>"
      ]
     },
     "execution_count": 34,
     "metadata": {},
     "output_type": "execute_result"
    },
    {
     "data": {
      "image/png": "[encoded data removed]",
      "text/plain": [
       "<Figure size 881x750 with 12 Axes>"
      ]
     },
     "metadata": {},
     "output_type": "display_data"
    }
   ],
   "source": [
    "sns.pairplot(data,hue=\"category\")"
   ]
  },
  {
   "cell_type": "code",
   "execution_count": 42,
   "metadata": {},
   "outputs": [
    {
     "name": "stdout",
     "output_type": "stream",
     "text": [
      "Requirement already satisfied: plotly in /Library/Frameworks/Python.framework/Versions/3.12/lib/python3.12/site-packages (5.24.1)\n",
      "Requirement already satisfied: tenacity>=6.2.0 in /Library/Frameworks/Python.framework/Versions/3.12/lib/python3.12/site-packages (from plotly) (9.0.0)\n",
      "Requirement already satisfied: packaging in /Users/macpc/Library/Python/3.12/lib/python/site-packages (from plotly) (24.0)\n",
      "\n",
      "\u001b[1m[\u001b[0m\u001b[34;49mnotice\u001b[0m\u001b[1;39;49m]\u001b[0m\u001b[39;49m A new release of pip is available: \u001b[0m\u001b[31;49m23.2.1\u001b[0m\u001b[39;49m -> \u001b[0m\u001b[32;49m25.0.1\u001b[0m\n",
      "\u001b[1m[\u001b[0m\u001b[34;49mnotice\u001b[0m\u001b[1;39;49m]\u001b[0m\u001b[39;49m To update, run: \u001b[0m\u001b[32;49mpython3 -m pip install --upgrade pip\u001b[0m\n",
      "Note: you may need to restart the kernel to use updated packages.\n",
      "Collecting nbformat\n",
      "  Obtaining dependency information for nbformat from https://files.pythonhosted.org/packages/a9/82/0340caa499416c78e5d8f5f05947ae4bc3cba53c9f038ab6e9ed964e22f1/nbformat-5.10.4-py3-none-any.whl.metadata\n",
      "  Using cached nbformat-5.10.4-py3-none-any.whl.metadata (3.6 kB)\n",
      "Collecting fastjsonschema>=2.15 (from nbformat)\n",
      "  Obtaining dependency information for fastjsonschema>=2.15 from https://files.pythonhosted.org/packages/90/2b/0817a2b257fe88725c25589d89aec060581aabf668707a8d03b2e9e0cb2a/fastjsonschema-2.21.1-py3-none-any.whl.metadata\n",
      "  Downloading fastjsonschema-2.21.1-py3-none-any.whl.metadata (2.2 kB)\n",
      "Collecting jsonschema>=2.6 (from nbformat)\n",
      "  Obtaining dependency information for jsonschema>=2.6 from https://files.pythonhosted.org/packages/69/4a/4f9dbeb84e8850557c02365a0eee0649abe5eb1d84af92a25731c6c0f922/jsonschema-4.23.0-py3-none-any.whl.metadata\n",
      "  Using cached jsonschema-4.23.0-py3-none-any.whl.metadata (7.9 kB)\n",
      "Requirement already satisfied: jupyter-core!=5.0.*,>=4.12 in /Users/macpc/Library/Python/3.12/lib/python/site-packages (from nbformat) (5.7.2)\n",
      "Requirement already satisfied: traitlets>=5.1 in /Users/macpc/Library/Python/3.12/lib/python/site-packages (from nbformat) (5.14.2)\n",
      "Requirement already satisfied: attrs>=22.2.0 in /Library/Frameworks/Python.framework/Versions/3.12/lib/python3.12/site-packages (from jsonschema>=2.6->nbformat) (24.3.0)\n",
      "Collecting jsonschema-specifications>=2023.03.6 (from jsonschema>=2.6->nbformat)\n",
      "  Obtaining dependency information for jsonschema-specifications>=2023.03.6 from https://files.pythonhosted.org/packages/d1/0f/8910b19ac0670a0f80ce1008e5e751c4a57e14d2c4c13a482aa6079fa9d6/jsonschema_specifications-2024.10.1-py3-none-any.whl.metadata\n",
      "  Downloading jsonschema_specifications-2024.10.1-py3-none-any.whl.metadata (3.0 kB)\n",
      "Collecting referencing>=0.28.4 (from jsonschema>=2.6->nbformat)\n",
      "  Obtaining dependency information for referencing>=0.28.4 from https://files.pythonhosted.org/packages/c1/b1/3baf80dc6d2b7bc27a95a67752d0208e410351e3feb4eb78de5f77454d8d/referencing-0.36.2-py3-none-any.whl.metadata\n",
      "  Downloading referencing-0.36.2-py3-none-any.whl.metadata (2.8 kB)\n",
      "Collecting rpds-py>=0.7.1 (from jsonschema>=2.6->nbformat)\n",
      "  Obtaining dependency information for rpds-py>=0.7.1 from https://files.pythonhosted.org/packages/f3/8c/d17efccb9f5b9137ddea706664aebae694384ae1d5997c0202093e37185a/rpds_py-0.23.1-cp312-cp312-macosx_10_12_x86_64.whl.metadata\n",
      "  Downloading rpds_py-0.23.1-cp312-cp312-macosx_10_12_x86_64.whl.metadata (4.1 kB)\n",
      "Requirement already satisfied: platformdirs>=2.5 in /Users/macpc/Library/Python/3.12/lib/python/site-packages (from jupyter-core!=5.0.*,>=4.12->nbformat) (4.2.0)\n",
      "Requirement already satisfied: typing-extensions>=4.4.0 in /Library/Frameworks/Python.framework/Versions/3.12/lib/python3.12/site-packages (from referencing>=0.28.4->jsonschema>=2.6->nbformat) (4.12.2)\n",
      "Using cached nbformat-5.10.4-py3-none-any.whl (78 kB)\n",
      "Downloading fastjsonschema-2.21.1-py3-none-any.whl (23 kB)\n",
      "Using cached jsonschema-4.23.0-py3-none-any.whl (88 kB)\n",
      "Downloading jsonschema_specifications-2024.10.1-py3-none-any.whl (18 kB)\n",
      "Downloading referencing-0.36.2-py3-none-any.whl (26 kB)\n",
      "Downloading rpds_py-0.23.1-cp312-cp312-macosx_10_12_x86_64.whl (364 kB)\n",
      "\u001b[2K   \u001b[90m━━━━━━━━━━━━━━━━━━━━━━━━━━━━━━━━━━━━━━━\u001b[0m \u001b[32m364.4/364.4 kB\u001b[0m \u001b[31m182.1 kB/s\u001b[0m eta \u001b[36m0:00:00\u001b[0ma \u001b[36m0:00:01\u001b[0m\n",
      "\u001b[?25hInstalling collected packages: fastjsonschema, rpds-py, referencing, jsonschema-specifications, jsonschema, nbformat\n",
      "Successfully installed fastjsonschema-2.21.1 jsonschema-4.23.0 jsonschema-specifications-2024.10.1 nbformat-5.10.4 referencing-0.36.2 rpds-py-0.23.1\n",
      "\n",
      "\u001b[1m[\u001b[0m\u001b[34;49mnotice\u001b[0m\u001b[1;39;49m]\u001b[0m\u001b[39;49m A new release of pip is available: \u001b[0m\u001b[31;49m23.2.1\u001b[0m\u001b[39;49m -> \u001b[0m\u001b[32;49m25.0.1\u001b[0m\n",
      "\u001b[1m[\u001b[0m\u001b[34;49mnotice\u001b[0m\u001b[1;39;49m]\u001b[0m\u001b[39;49m To update, run: \u001b[0m\u001b[32;49mpython3 -m pip install --upgrade pip\u001b[0m\n",
      "Note: you may need to restart the kernel to use updated packages.\n"
     ]
    }
   ],
   "source": [
    "%pip install plotly\n",
    "%pip install nbformat"
   ]
  },
  {
   "cell_type": "code",
   "execution_count": 45,
   "metadata": {},
   "outputs": [],
   "source": [
    "import plotly.express as px"
   ]
  },
  {
   "cell_type": "code",
   "execution_count": 46,
   "metadata": {},
   "outputs": [
    {
     "ename": "ValueError",
     "evalue": "Mime type rendering requires nbformat>=4.2.0 but it is not installed",
     "output_type": "error",
     "traceback": [
      "\u001b[0;31m---------------------------------------------------------------------------\u001b[0m",
      "\u001b[0;31mValueError\u001b[0m                                Traceback (most recent call last)",
      "File \u001b[0;32m~/Library/Python/3.12/lib/python/site-packages/IPython/core/formatters.py:925\u001b[0m, in \u001b[0;36mIPythonDisplayFormatter.__call__\u001b[0;34m(self, obj)\u001b[0m\n\u001b[1;32m    923\u001b[0m method \u001b[39m=\u001b[39m get_real_method(obj, \u001b[39mself\u001b[39m\u001b[39m.\u001b[39mprint_method)\n\u001b[1;32m    924\u001b[0m \u001b[39mif\u001b[39;00m method \u001b[39mis\u001b[39;00m \u001b[39mnot\u001b[39;00m \u001b[39mNone\u001b[39;00m:\n\u001b[0;32m--> 925\u001b[0m     method()\n\u001b[1;32m    926\u001b[0m     \u001b[39mreturn\u001b[39;00m \u001b[39mTrue\u001b[39;00m\n",
      "File \u001b[0;32m/Library/Frameworks/Python.framework/Versions/3.12/lib/python3.12/site-packages/plotly/basedatatypes.py:832\u001b[0m, in \u001b[0;36mBaseFigure._ipython_display_\u001b[0;34m(self)\u001b[0m\n\u001b[1;32m    829\u001b[0m \u001b[39mimport\u001b[39;00m \u001b[39mplotly\u001b[39;00m\u001b[39m.\u001b[39;00m\u001b[39mio\u001b[39;00m \u001b[39mas\u001b[39;00m \u001b[39mpio\u001b[39;00m\n\u001b[1;32m    831\u001b[0m \u001b[39mif\u001b[39;00m pio\u001b[39m.\u001b[39mrenderers\u001b[39m.\u001b[39mrender_on_display \u001b[39mand\u001b[39;00m pio\u001b[39m.\u001b[39mrenderers\u001b[39m.\u001b[39mdefault:\n\u001b[0;32m--> 832\u001b[0m     pio\u001b[39m.\u001b[39;49mshow(\u001b[39mself\u001b[39;49m)\n\u001b[1;32m    833\u001b[0m \u001b[39melse\u001b[39;00m:\n\u001b[1;32m    834\u001b[0m     \u001b[39mprint\u001b[39m(\u001b[39mrepr\u001b[39m(\u001b[39mself\u001b[39m))\n",
      "File \u001b[0;32m/Library/Frameworks/Python.framework/Versions/3.12/lib/python3.12/site-packages/plotly/io/_renderers.py:394\u001b[0m, in \u001b[0;36mshow\u001b[0;34m(fig, renderer, validate, **kwargs)\u001b[0m\n\u001b[1;32m    389\u001b[0m         \u001b[39mraise\u001b[39;00m \u001b[39mValueError\u001b[39;00m(\n\u001b[1;32m    390\u001b[0m             \u001b[39m\"\u001b[39m\u001b[39mMime type rendering requires ipython but it is not installed\u001b[39m\u001b[39m\"\u001b[39m\n\u001b[1;32m    391\u001b[0m         )\n\u001b[1;32m    393\u001b[0m     \u001b[39mif\u001b[39;00m \u001b[39mnot\u001b[39;00m nbformat \u001b[39mor\u001b[39;00m Version(nbformat\u001b[39m.\u001b[39m__version__) \u001b[39m<\u001b[39m Version(\u001b[39m\"\u001b[39m\u001b[39m4.2.0\u001b[39m\u001b[39m\"\u001b[39m):\n\u001b[0;32m--> 394\u001b[0m         \u001b[39mraise\u001b[39;00m \u001b[39mValueError\u001b[39;00m(\n\u001b[1;32m    395\u001b[0m             \u001b[39m\"\u001b[39m\u001b[39mMime type rendering requires nbformat>=4.2.0 but it is not installed\u001b[39m\u001b[39m\"\u001b[39m\n\u001b[1;32m    396\u001b[0m         )\n\u001b[1;32m    398\u001b[0m     ipython_display\u001b[39m.\u001b[39mdisplay(bundle, raw\u001b[39m=\u001b[39m\u001b[39mTrue\u001b[39;00m)\n\u001b[1;32m    400\u001b[0m \u001b[39m# external renderers\u001b[39;00m\n",
      "\u001b[0;31mValueError\u001b[0m: Mime type rendering requires nbformat>=4.2.0 but it is not installed"
     ]
    },
    {
     "data": {
      "application/vnd.plotly.v1+json": {
       "config": {
        "plotlyServerURL": "https://plot.ly"
       },
       "data": [
        {
         "alignmentgroup": "True",
         "hovertemplate": "category=%{x}<br>revenue=%{y}<extra></extra>",
         "legendgroup": "",
         "marker": {
          "color": "#636efa",
          "pattern": {
           "shape": ""
          }
         },
         "name": "",
         "offsetgroup": "",
         "orientation": "v",
         "showlegend": false,
         "textposition": "auto",
         "type": "bar",
         "x": [
          "Electronics",
          "Electronics",
          "Clothing",
          "Electronics",
          "Clothing",
          "Accessories",
          "Electronics",
          "Electronics",
          "Clothing",
          "Accessories",
          "Electronics",
          "Bags",
          "Clothing",
          "Electronics",
          "Shoes",
          "Accessories",
          "Clothing",
          "Accessories",
          "Electronics",
          "Clothing",
          "Electronics",
          "Bags",
          "Clothing",
          "Electronics",
          "Electronics",
          "Clothing",
          "Accessories",
          "Shoes",
          "Clothing",
          "Electronics",
          "Clothing",
          "Electronics",
          "Clothing",
          "Clothing",
          "Electronics",
          "Electronics",
          "Clothing",
          "Accessories",
          "Electronics",
          "Electronics",
          "Bags",
          "Accessories",
          "Clothing",
          "Clothing",
          "Electronics",
          "Shoes",
          "Accessories",
          "Electronics",
          "Accessories",
          "Electronics",
          "Clothing",
          "Electronics",
          "Bags",
          "Shoes",
          "Electronics",
          "Clothing",
          "Clothing",
          "Accessories",
          "Clothing",
          "Electronics",
          "Accessories",
          "Clothing",
          "Electronics",
          "Electronics",
          "Clothing",
          "Accessories",
          "Electronics",
          "Electronics",
          "Bags",
          "Clothing",
          "Clothing",
          "Clothing",
          "Electronics",
          "Shoes",
          "Accessories",
          "Accessories",
          "Electronics",
          "Clothing",
          "Electronics",
          "Bags",
          "Clothing",
          "Electronics",
          "Electronics",
          "Shoes",
          "Clothing",
          "Accessories",
          "Clothing",
          "Electronics",
          "Accessories",
          "Clothing",
          "Electronics",
          "Electronics",
          "Clothing",
          "Electronics",
          "Electronics",
          "Clothing",
          "Electronics",
          "Bags",
          "Clothing",
          "Clothing",
          "Accessories",
          "Clothing",
          "Electronics",
          "Shoes",
          "Accessories",
          "Accessories",
          "Electronics",
          "Clothing",
          "Electronics",
          "Bags",
          "Clothing",
          "Electronics",
          "Electronics",
          "Shoes",
          "Clothing",
          "Accessories",
          "Clothing",
          "Electronics",
          "Accessories",
          "Clothing",
          "Electronics",
          "Clothing",
          "Electronics",
          "Electronics",
          "Clothing",
          "Accessories",
          "Electronics",
          "Bags",
          "Clothing",
          "Clothing",
          "Accessories",
          "Clothing",
          "Electronics",
          "Shoes",
          "Accessories",
          "Accessories",
          "Electronics",
          "Clothing",
          "Electronics",
          "Bags",
          "Clothing",
          "Electronics",
          "Shoes",
          "Clothing",
          "Accessories",
          "Clothing",
          "Electronics",
          "Accessories",
          "Clothing",
          "Electronics",
          "Electronics",
          "Clothing",
          "Electronics",
          "Electronics",
          "Clothing",
          "Accessories",
          "Electronics",
          "Bags",
          "Clothing",
          "Clothing",
          "Accessories",
          "Clothing",
          "Electronics",
          "Shoes",
          "Accessories",
          "Accessories",
          "Electronics",
          "Clothing",
          "Electronics",
          "Bags",
          "Clothing",
          "Electronics",
          "Electronics",
          "Shoes",
          "Clothing",
          "Accessories",
          "Clothing",
          "Electronics",
          "Accessories",
          "Clothing",
          "Electronics",
          "Electronics",
          "Clothing",
          "Electronics",
          "Electronics",
          "Clothing",
          "Accessories",
          "Electronics",
          "Bags",
          "Clothing",
          "Clothing",
          "Clothing",
          "Electronics",
          "Shoes",
          "Accessories",
          "Accessories",
          "Electronics",
          "Clothing",
          "Electronics",
          "Bags",
          "Clothing",
          "Electronics",
          "Shoes",
          "Clothing",
          "Accessories",
          "Clothing",
          "Electronics",
          "Accessories",
          "Clothing",
          "Electronics",
          "Electronics",
          "Clohting",
          "Electronics",
          "Electronics",
          "Clothing",
          "Accessories",
          "Electronics",
          "Bags",
          "Clothing",
          "Clothing",
          "Accessories",
          "Clothing",
          "Electronics",
          "Shoes",
          "Accessories",
          "Accessories",
          "Electronics",
          "Clothing",
          "Electronics",
          "Bags",
          "Clothing",
          "Electronics",
          "Electronics",
          "Shoes",
          "Clothing",
          "Accessories",
          "Clothing",
          "Electronics",
          "Accessories",
          "Clothing",
          "Electronics",
          "Electronics",
          "Clothing",
          "Electronics",
          "Electronics",
          "Clothing",
          "Accessories",
          "Electronics",
          "Bags",
          "Clothing",
          "Clothing",
          "Accessories",
          "Clothing",
          "Electronics",
          "Shoes",
          "Accessories",
          "Accessories",
          "Electronics",
          "Clothing",
          "Electronics",
          "Bags",
          "Clothing",
          "Electronics",
          "Shoes",
          "Clothing",
          "Accessories",
          "Clothing",
          "Electronics",
          "Accessories",
          "Clothing",
          "Electronics",
          "Electronics",
          "Clothing",
          "Clothing",
          "Electronics",
          "Electronics",
          "Clothing",
          "Accessories",
          "Electronics",
          "Bags",
          "Clothing",
          "Clothing",
          "Accessories",
          "Clothing",
          "Electronics",
          "Shoes",
          "Accessories",
          "Accessories",
          "Electronics",
          "Clothing",
          "Electronics",
          "Bags",
          "Clothing",
          "Electronics",
          "Electronics",
          "Shoes",
          "Clothing",
          "Accessories",
          "Clothing",
          "Electronics",
          "Accessories",
          "Clothing",
          "Electronics",
          "Electronics",
          "Clothing",
          "Electronics",
          "Electronics",
          "Clothing",
          "Accessories",
          "Electronics",
          "Bags",
          "Clothing",
          "Clothing",
          "Accessories",
          "Clothing",
          "Electronics",
          "Shoes",
          "Accessories",
          "Electronics",
          "Clothing",
          "Electronics",
          "Bags",
          "Clothing",
          "Electronics",
          "Shoes",
          "Clothing",
          "Accessories",
          "Clothing",
          "Electronics",
          "Accessories",
          "Clothing",
          "Electronics",
          "Electronics",
          "Clothing",
          "Electronics",
          "Electronics",
          "Clothing",
          "Accessories",
          "Electronics",
          "Bgas",
          "Clothing",
          "Clothing",
          "Accessories",
          "Clothing",
          "Electronics",
          "Shoes",
          "Accessories",
          "Accessories",
          "Electronics",
          "Clothing",
          "Electronics",
          "Bags",
          "Clothing",
          "Electronics",
          "Electronics",
          "Shoeses",
          "Clothing",
          "Accessories",
          "Clothing",
          "Electronics",
          "Accessories",
          "Clothing",
          "Electronics",
          "Electronics",
          "Clothing"
         ],
         "xaxis": "x",
         "y": [
          6000,
          6000,
          1000,
          2000,
          500,
          1500,
          4800,
          2000,
          1000,
          2400,
          1200,
          1000,
          1200,
          7200,
          800,
          1200,
          1000,
          1000,
          3600,
          800,
          1600,
          750,
          800,
          4200,
          1200,
          600,
          1600,
          960,
          500,
          640,
          600,
          5400,
          750,
          700,
          6000,
          2500,
          1200,
          1200,
          4200,
          1440,
          1250,
          1200,
          500,
          400,
          7200,
          640,
          900,
          1600,
          1400,
          3600,
          800,
          960,
          900,
          400,
          4800,
          600,
          300,
          2000,
          900,
          5400,
          750,
          800,
          6000,
          1500,
          2000,
          2400,
          4200,
          800,
          750,
          1250,
          600,
          400,
          7200,
          1200,
          1200,
          1000,
          3600,
          800,
          1600,
          500,
          500,
          1200,
          4200,
          960,
          300,
          1600,
          1000,
          5400,
          1500,
          500,
          1000,
          6600,
          1200,
          6000,
          2000,
          1500,
          4200,
          900,
          700,
          500,
          1800,
          800,
          7200,
          640,
          900,
          1000,
          3600,
          800,
          1600,
          750,
          400,
          2400,
          4200,
          960,
          500,
          1600,
          750,
          5400,
          1500,
          500,
          1500,
          800,
          6000,
          1760,
          1800,
          2400,
          4200,
          1000,
          600,
          1250,
          2250,
          600,
          7200,
          640,
          1050,
          1800,
          3600,
          800,
          1600,
          750,
          500,
          4200,
          960,
          300,
          1600,
          1000,
          5400,
          750,
          500,
          1000,
          6600,
          1200,
          6000,
          2000,
          1500,
          2000,
          4200,
          900,
          700,
          500,
          1800,
          800,
          7200,
          1200,
          1200,
          1000,
          3600,
          800,
          1600,
          750,
          400,
          2400,
          4200,
          960,
          500,
          1600,
          750,
          5400,
          1500,
          500,
          1500,
          6600,
          800,
          6000,
          1760,
          1800,
          2400,
          4200,
          1000,
          600,
          1250,
          600,
          7200,
          640,
          1050,
          1800,
          3600,
          800,
          1600,
          750,
          500,
          4200,
          960,
          300,
          1600,
          1000,
          5400,
          750,
          500,
          1000,
          6600,
          1200,
          6000,
          2000,
          1500,
          2000,
          4200,
          900,
          700,
          500,
          1800,
          800,
          7200,
          1200,
          1200,
          1000,
          3600,
          800,
          1600,
          750,
          400,
          2400,
          4200,
          960,
          500,
          1600,
          750,
          5400,
          1500,
          500,
          1500,
          6600,
          800,
          6000,
          1760,
          1800,
          2400,
          4200,
          1000,
          600,
          1250,
          2250,
          600,
          7200,
          640,
          1050,
          1800,
          3600,
          800,
          1600,
          750,
          500,
          4200,
          960,
          300,
          1600,
          1000,
          5400,
          750,
          500,
          1000,
          6600,
          1200,
          1200,
          6000,
          2000,
          1500,
          2000,
          4200,
          900,
          700,
          500,
          1800,
          800,
          7200,
          1200,
          1200,
          1000,
          3600,
          800,
          1600,
          750,
          400,
          2400,
          4200,
          960,
          500,
          1600,
          750,
          5400,
          1500,
          500,
          1500,
          6600,
          800,
          6000,
          1760,
          1800,
          2400,
          4200,
          1000,
          600,
          1250,
          2250,
          600,
          7200,
          640,
          1800,
          3600,
          800,
          1600,
          750,
          500,
          4200,
          960,
          300,
          1600,
          1000,
          5400,
          750,
          500,
          1000,
          6600,
          1200,
          6000,
          2000,
          1500,
          2000,
          4200,
          900,
          700,
          500,
          1800,
          800,
          7200,
          1200,
          1200,
          1000,
          3600,
          800,
          1600,
          750,
          400,
          2400,
          4200,
          960,
          500,
          1600,
          750,
          5400,
          750,
          500,
          1000,
          6600,
          1200
         ],
         "yaxis": "y"
        }
       ],
       "layout": {
        "barmode": "relative",
        "legend": {
         "tracegroupgap": 0
        },
        "margin": {
         "t": 60
        },
        "template": {
         "data": {
          "bar": [
           {
            "error_x": {
             "color": "#2a3f5f"
            },
            "error_y": {
             "color": "#2a3f5f"
            },
            "marker": {
             "line": {
              "color": "#E5ECF6",
              "width": 0.5
             },
             "pattern": {
              "fillmode": "overlay",
              "size": 10,
              "solidity": 0.2
             }
            },
            "type": "bar"
           }
          ],
          "barpolar": [
           {
            "marker": {
             "line": {
              "color": "#E5ECF6",
              "width": 0.5
             },
             "pattern": {
              "fillmode": "overlay",
              "size": 10,
              "solidity": 0.2
             }
            },
            "type": "barpolar"
           }
          ],
          "carpet": [
           {
            "aaxis": {
             "endlinecolor": "#2a3f5f",
             "gridcolor": "white",
             "linecolor": "white",
             "minorgridcolor": "white",
             "startlinecolor": "#2a3f5f"
            },
            "baxis": {
             "endlinecolor": "#2a3f5f",
             "gridcolor": "white",
             "linecolor": "white",
             "minorgridcolor": "white",
             "startlinecolor": "#2a3f5f"
            },
            "type": "carpet"
           }
          ],
          "choropleth": [
           {
            "colorbar": {
             "outlinewidth": 0,
             "ticks": ""
            },
            "type": "choropleth"
           }
          ],
          "contour": [
           {
            "colorbar": {
             "outlinewidth": 0,
             "ticks": ""
            },
            "colorscale": [
             [
              0,
              "#0d0887"
             ],
             [
              0.1111111111111111,
              "#46039f"
             ],
             [
              0.2222222222222222,
              "#7201a8"
             ],
             [
              0.3333333333333333,
              "#9c179e"
             ],
             [
              0.4444444444444444,
              "#bd3786"
             ],
             [
              0.5555555555555556,
              "#d8576b"
             ],
             [
              0.6666666666666666,
              "#ed7953"
             ],
             [
              0.7777777777777778,
              "#fb9f3a"
             ],
             [
              0.8888888888888888,
              "#fdca26"
             ],
             [
              1,
              "#f0f921"
             ]
            ],
            "type": "contour"
           }
          ],
          "contourcarpet": [
           {
            "colorbar": {
             "outlinewidth": 0,
             "ticks": ""
            },
            "type": "contourcarpet"
           }
          ],
          "heatmap": [
           {
            "colorbar": {
             "outlinewidth": 0,
             "ticks": ""
            },
            "colorscale": [
             [
              0,
              "#0d0887"
             ],
             [
              0.1111111111111111,
              "#46039f"
             ],
             [
              0.2222222222222222,
              "#7201a8"
             ],
             [
              0.3333333333333333,
              "#9c179e"
             ],
             [
              0.4444444444444444,
              "#bd3786"
             ],
             [
              0.5555555555555556,
              "#d8576b"
             ],
             [
              0.6666666666666666,
              "#ed7953"
             ],
             [
              0.7777777777777778,
              "#fb9f3a"
             ],
             [
              0.8888888888888888,
              "#fdca26"
             ],
             [
              1,
              "#f0f921"
             ]
            ],
            "type": "heatmap"
           }
          ],
          "heatmapgl": [
           {
            "colorbar": {
             "outlinewidth": 0,
             "ticks": ""
            },
            "colorscale": [
             [
              0,
              "#0d0887"
             ],
             [
              0.1111111111111111,
              "#46039f"
             ],
             [
              0.2222222222222222,
              "#7201a8"
             ],
             [
              0.3333333333333333,
              "#9c179e"
             ],
             [
              0.4444444444444444,
              "#bd3786"
             ],
             [
              0.5555555555555556,
              "#d8576b"
             ],
             [
              0.6666666666666666,
              "#ed7953"
             ],
             [
              0.7777777777777778,
              "#fb9f3a"
             ],
             [
              0.8888888888888888,
              "#fdca26"
             ],
             [
              1,
              "#f0f921"
             ]
            ],
            "type": "heatmapgl"
           }
          ],
          "histogram": [
           {
            "marker": {
             "pattern": {
              "fillmode": "overlay",
              "size": 10,
              "solidity": 0.2
             }
            },
            "type": "histogram"
           }
          ],
          "histogram2d": [
           {
            "colorbar": {
             "outlinewidth": 0,
             "ticks": ""
            },
            "colorscale": [
             [
              0,
              "#0d0887"
             ],
             [
              0.1111111111111111,
              "#46039f"
             ],
             [
              0.2222222222222222,
              "#7201a8"
             ],
             [
              0.3333333333333333,
              "#9c179e"
             ],
             [
              0.4444444444444444,
              "#bd3786"
             ],
             [
              0.5555555555555556,
              "#d8576b"
             ],
             [
              0.6666666666666666,
              "#ed7953"
             ],
             [
              0.7777777777777778,
              "#fb9f3a"
             ],
             [
              0.8888888888888888,
              "#fdca26"
             ],
             [
              1,
              "#f0f921"
             ]
            ],
            "type": "histogram2d"
           }
          ],
          "histogram2dcontour": [
           {
            "colorbar": {
             "outlinewidth": 0,
             "ticks": ""
            },
            "colorscale": [
             [
              0,
              "#0d0887"
             ],
             [
              0.1111111111111111,
              "#46039f"
             ],
             [
              0.2222222222222222,
              "#7201a8"
             ],
             [
              0.3333333333333333,
              "#9c179e"
             ],
             [
              0.4444444444444444,
              "#bd3786"
             ],
             [
              0.5555555555555556,
              "#d8576b"
             ],
             [
              0.6666666666666666,
              "#ed7953"
             ],
             [
              0.7777777777777778,
              "#fb9f3a"
             ],
             [
              0.8888888888888888,
              "#fdca26"
             ],
             [
              1,
              "#f0f921"
             ]
            ],
            "type": "histogram2dcontour"
           }
          ],
          "mesh3d": [
           {
            "colorbar": {
             "outlinewidth": 0,
             "ticks": ""
            },
            "type": "mesh3d"
           }
          ],
          "parcoords": [
           {
            "line": {
             "colorbar": {
              "outlinewidth": 0,
              "ticks": ""
             }
            },
            "type": "parcoords"
           }
          ],
          "pie": [
           {
            "automargin": true,
            "type": "pie"
           }
          ],
          "scatter": [
           {
            "fillpattern": {
             "fillmode": "overlay",
             "size": 10,
             "solidity": 0.2
            },
            "type": "scatter"
           }
          ],
          "scatter3d": [
           {
            "line": {
             "colorbar": {
              "outlinewidth": 0,
              "ticks": ""
             }
            },
            "marker": {
             "colorbar": {
              "outlinewidth": 0,
              "ticks": ""
             }
            },
            "type": "scatter3d"
           }
          ],
          "scattercarpet": [
           {
            "marker": {
             "colorbar": {
              "outlinewidth": 0,
              "ticks": ""
             }
            },
            "type": "scattercarpet"
           }
          ],
          "scattergeo": [
           {
            "marker": {
             "colorbar": {
              "outlinewidth": 0,
              "ticks": ""
             }
            },
            "type": "scattergeo"
           }
          ],
          "scattergl": [
           {
            "marker": {
             "colorbar": {
              "outlinewidth": 0,
              "ticks": ""
             }
            },
            "type": "scattergl"
           }
          ],
          "scattermapbox": [
           {
            "marker": {
             "colorbar": {
              "outlinewidth": 0,
              "ticks": ""
             }
            },
            "type": "scattermapbox"
           }
          ],
          "scatterpolar": [
           {
            "marker": {
             "colorbar": {
              "outlinewidth": 0,
              "ticks": ""
             }
            },
            "type": "scatterpolar"
           }
          ],
          "scatterpolargl": [
           {
            "marker": {
             "colorbar": {
              "outlinewidth": 0,
              "ticks": ""
             }
            },
            "type": "scatterpolargl"
           }
          ],
          "scatterternary": [
           {
            "marker": {
             "colorbar": {
              "outlinewidth": 0,
              "ticks": ""
             }
            },
            "type": "scatterternary"
           }
          ],
          "surface": [
           {
            "colorbar": {
             "outlinewidth": 0,
             "ticks": ""
            },
            "colorscale": [
             [
              0,
              "#0d0887"
             ],
             [
              0.1111111111111111,
              "#46039f"
             ],
             [
              0.2222222222222222,
              "#7201a8"
             ],
             [
              0.3333333333333333,
              "#9c179e"
             ],
             [
              0.4444444444444444,
              "#bd3786"
             ],
             [
              0.5555555555555556,
              "#d8576b"
             ],
             [
              0.6666666666666666,
              "#ed7953"
             ],
             [
              0.7777777777777778,
              "#fb9f3a"
             ],
             [
              0.8888888888888888,
              "#fdca26"
             ],
             [
              1,
              "#f0f921"
             ]
            ],
            "type": "surface"
           }
          ],
          "table": [
           {
            "cells": {
             "fill": {
              "color": "#EBF0F8"
             },
             "line": {
              "color": "white"
             }
            },
            "header": {
             "fill": {
              "color": "#C8D4E3"
             },
             "line": {
              "color": "white"
             }
            },
            "type": "table"
           }
          ]
         },
         "layout": {
          "annotationdefaults": {
           "arrowcolor": "#2a3f5f",
           "arrowhead": 0,
           "arrowwidth": 1
          },
          "autotypenumbers": "strict",
          "coloraxis": {
           "colorbar": {
            "outlinewidth": 0,
            "ticks": ""
           }
          },
          "colorscale": {
           "diverging": [
            [
             0,
             "#8e0152"
            ],
            [
             0.1,
             "#c51b7d"
            ],
            [
             0.2,
             "#de77ae"
            ],
            [
             0.3,
             "#f1b6da"
            ],
            [
             0.4,
             "#fde0ef"
            ],
            [
             0.5,
             "#f7f7f7"
            ],
            [
             0.6,
             "#e6f5d0"
            ],
            [
             0.7,
             "#b8e186"
            ],
            [
             0.8,
             "#7fbc41"
            ],
            [
             0.9,
             "#4d9221"
            ],
            [
             1,
             "#276419"
            ]
           ],
           "sequential": [
            [
             0,
             "#0d0887"
            ],
            [
             0.1111111111111111,
             "#46039f"
            ],
            [
             0.2222222222222222,
             "#7201a8"
            ],
            [
             0.3333333333333333,
             "#9c179e"
            ],
            [
             0.4444444444444444,
             "#bd3786"
            ],
            [
             0.5555555555555556,
             "#d8576b"
            ],
            [
             0.6666666666666666,
             "#ed7953"
            ],
            [
             0.7777777777777778,
             "#fb9f3a"
            ],
            [
             0.8888888888888888,
             "#fdca26"
            ],
            [
             1,
             "#f0f921"
            ]
           ],
           "sequentialminus": [
            [
             0,
             "#0d0887"
            ],
            [
             0.1111111111111111,
             "#46039f"
            ],
            [
             0.2222222222222222,
             "#7201a8"
            ],
            [
             0.3333333333333333,
             "#9c179e"
            ],
            [
             0.4444444444444444,
             "#bd3786"
            ],
            [
             0.5555555555555556,
             "#d8576b"
            ],
            [
             0.6666666666666666,
             "#ed7953"
            ],
            [
             0.7777777777777778,
             "#fb9f3a"
            ],
            [
             0.8888888888888888,
             "#fdca26"
            ],
            [
             1,
             "#f0f921"
            ]
           ]
          },
          "colorway": [
           "#636efa",
           "#EF553B",
           "#00cc96",
           "#ab63fa",
           "#FFA15A",
           "#19d3f3",
           "#FF6692",
           "#B6E880",
           "#FF97FF",
           "#FECB52"
          ],
          "font": {
           "color": "#2a3f5f"
          },
          "geo": {
           "bgcolor": "white",
           "lakecolor": "white",
           "landcolor": "#E5ECF6",
           "showlakes": true,
           "showland": true,
           "subunitcolor": "white"
          },
          "hoverlabel": {
           "align": "left"
          },
          "hovermode": "closest",
          "mapbox": {
           "style": "light"
          },
          "paper_bgcolor": "white",
          "plot_bgcolor": "#E5ECF6",
          "polar": {
           "angularaxis": {
            "gridcolor": "white",
            "linecolor": "white",
            "ticks": ""
           },
           "bgcolor": "#E5ECF6",
           "radialaxis": {
            "gridcolor": "white",
            "linecolor": "white",
            "ticks": ""
           }
          },
          "scene": {
           "xaxis": {
            "backgroundcolor": "#E5ECF6",
            "gridcolor": "white",
            "gridwidth": 2,
            "linecolor": "white",
            "showbackground": true,
            "ticks": "",
            "zerolinecolor": "white"
           },
           "yaxis": {
            "backgroundcolor": "#E5ECF6",
            "gridcolor": "white",
            "gridwidth": 2,
            "linecolor": "white",
            "showbackground": true,
            "ticks": "",
            "zerolinecolor": "white"
           },
           "zaxis": {
            "backgroundcolor": "#E5ECF6",
            "gridcolor": "white",
            "gridwidth": 2,
            "linecolor": "white",
            "showbackground": true,
            "ticks": "",
            "zerolinecolor": "white"
           }
          },
          "shapedefaults": {
           "line": {
            "color": "#2a3f5f"
           }
          },
          "ternary": {
           "aaxis": {
            "gridcolor": "white",
            "linecolor": "white",
            "ticks": ""
           },
           "baxis": {
            "gridcolor": "white",
            "linecolor": "white",
            "ticks": ""
           },
           "bgcolor": "#E5ECF6",
           "caxis": {
            "gridcolor": "white",
            "linecolor": "white",
            "ticks": ""
           }
          },
          "title": {
           "x": 0.05
          },
          "xaxis": {
           "automargin": true,
           "gridcolor": "white",
           "linecolor": "white",
           "ticks": "",
           "title": {
            "standoff": 15
           },
           "zerolinecolor": "white",
           "zerolinewidth": 2
          },
          "yaxis": {
           "automargin": true,
           "gridcolor": "white",
           "linecolor": "white",
           "ticks": "",
           "title": {
            "standoff": 15
           },
           "zerolinecolor": "white",
           "zerolinewidth": 2
          }
         }
        },
        "xaxis": {
         "anchor": "y",
         "domain": [
          0,
          1
         ],
         "title": {
          "text": "category"
         }
        },
        "yaxis": {
         "anchor": "x",
         "domain": [
          0,
          1
         ],
         "title": {
          "text": "revenue"
         }
        }
       }
      },
      "text/html": [
       "<div>                        <script type=\"text/javascript\">window.PlotlyConfig = {MathJaxConfig: 'local'};</script>\n",
       "        <script charset=\"utf-8\" src=\"https://cdn.plot.ly/plotly-2.35.2.min.js\"></script>                <div id=\"e3ba1dad-3fba-40e9-a847-e6e4bafb1408\" class=\"plotly-graph-div\" style=\"height:100%; width:100%;\"></div>            <script type=\"text/javascript\">                                    window.PLOTLYENV=window.PLOTLYENV || {};                                    if (document.getElementById(\"e3ba1dad-3fba-40e9-a847-e6e4bafb1408\")) {                    Plotly.newPlot(                        \"e3ba1dad-3fba-40e9-a847-e6e4bafb1408\",                        [{\"alignmentgroup\":\"True\",\"hovertemplate\":\"category=%{x}\\u003cbr\\u003erevenue=%{y}\\u003cextra\\u003e\\u003c\\u002fextra\\u003e\",\"legendgroup\":\"\",\"marker\":{\"color\":\"#636efa\",\"pattern\":{\"shape\":\"\"}},\"name\":\"\",\"offsetgroup\":\"\",\"orientation\":\"v\",\"showlegend\":false,\"textposition\":\"auto\",\"x\":[\"Electronics\",\"Electronics\",\"Clothing\",\"Electronics\",\"Clothing\",\"Accessories\",\"Electronics\",\"Electronics\",\"Clothing\",\"Accessories\",\"Electronics\",\"Bags\",\"Clothing\",\"Electronics\",\"Shoes\",\"Accessories\",\"Clothing\",\"Accessories\",\"Electronics\",\"Clothing\",\"Electronics\",\"Bags\",\"Clothing\",\"Electronics\",\"Electronics\",\"Clothing\",\"Accessories\",\"Shoes\",\"Clothing\",\"Electronics\",\"Clothing\",\"Electronics\",\"Clothing\",\"Clothing\",\"Electronics\",\"Electronics\",\"Clothing\",\"Accessories\",\"Electronics\",\"Electronics\",\"Bags\",\"Accessories\",\"Clothing\",\"Clothing\",\"Electronics\",\"Shoes\",\"Accessories\",\"Electronics\",\"Accessories\",\"Electronics\",\"Clothing\",\"Electronics\",\"Bags\",\"Shoes\",\"Electronics\",\"Clothing\",\"Clothing\",\"Accessories\",\"Clothing\",\"Electronics\",\"Accessories\",\"Clothing\",\"Electronics\",\"Electronics\",\"Clothing\",\"Accessories\",\"Electronics\",\"Electronics\",\"Bags\",\"Clothing\",\"Clothing\",\"Clothing\",\"Electronics\",\"Shoes\",\"Accessories\",\"Accessories\",\"Electronics\",\"Clothing\",\"Electronics\",\"Bags\",\"Clothing\",\"Electronics\",\"Electronics\",\"Shoes\",\"Clothing\",\"Accessories\",\"Clothing\",\"Electronics\",\"Accessories\",\"Clothing\",\"Electronics\",\"Electronics\",\"Clothing\",\"Electronics\",\"Electronics\",\"Clothing\",\"Electronics\",\"Bags\",\"Clothing\",\"Clothing\",\"Accessories\",\"Clothing\",\"Electronics\",\"Shoes\",\"Accessories\",\"Accessories\",\"Electronics\",\"Clothing\",\"Electronics\",\"Bags\",\"Clothing\",\"Electronics\",\"Electronics\",\"Shoes\",\"Clothing\",\"Accessories\",\"Clothing\",\"Electronics\",\"Accessories\",\"Clothing\",\"Electronics\",\"Clothing\",\"Electronics\",\"Electronics\",\"Clothing\",\"Accessories\",\"Electronics\",\"Bags\",\"Clothing\",\"Clothing\",\"Accessories\",\"Clothing\",\"Electronics\",\"Shoes\",\"Accessories\",\"Accessories\",\"Electronics\",\"Clothing\",\"Electronics\",\"Bags\",\"Clothing\",\"Electronics\",\"Shoes\",\"Clothing\",\"Accessories\",\"Clothing\",\"Electronics\",\"Accessories\",\"Clothing\",\"Electronics\",\"Electronics\",\"Clothing\",\"Electronics\",\"Electronics\",\"Clothing\",\"Accessories\",\"Electronics\",\"Bags\",\"Clothing\",\"Clothing\",\"Accessories\",\"Clothing\",\"Electronics\",\"Shoes\",\"Accessories\",\"Accessories\",\"Electronics\",\"Clothing\",\"Electronics\",\"Bags\",\"Clothing\",\"Electronics\",\"Electronics\",\"Shoes\",\"Clothing\",\"Accessories\",\"Clothing\",\"Electronics\",\"Accessories\",\"Clothing\",\"Electronics\",\"Electronics\",\"Clothing\",\"Electronics\",\"Electronics\",\"Clothing\",\"Accessories\",\"Electronics\",\"Bags\",\"Clothing\",\"Clothing\",\"Clothing\",\"Electronics\",\"Shoes\",\"Accessories\",\"Accessories\",\"Electronics\",\"Clothing\",\"Electronics\",\"Bags\",\"Clothing\",\"Electronics\",\"Shoes\",\"Clothing\",\"Accessories\",\"Clothing\",\"Electronics\",\"Accessories\",\"Clothing\",\"Electronics\",\"Electronics\",\"Clohting\",\"Electronics\",\"Electronics\",\"Clothing\",\"Accessories\",\"Electronics\",\"Bags\",\"Clothing\",\"Clothing\",\"Accessories\",\"Clothing\",\"Electronics\",\"Shoes\",\"Accessories\",\"Accessories\",\"Electronics\",\"Clothing\",\"Electronics\",\"Bags\",\"Clothing\",\"Electronics\",\"Electronics\",\"Shoes\",\"Clothing\",\"Accessories\",\"Clothing\",\"Electronics\",\"Accessories\",\"Clothing\",\"Electronics\",\"Electronics\",\"Clothing\",\"Electronics\",\"Electronics\",\"Clothing\",\"Accessories\",\"Electronics\",\"Bags\",\"Clothing\",\"Clothing\",\"Accessories\",\"Clothing\",\"Electronics\",\"Shoes\",\"Accessories\",\"Accessories\",\"Electronics\",\"Clothing\",\"Electronics\",\"Bags\",\"Clothing\",\"Electronics\",\"Shoes\",\"Clothing\",\"Accessories\",\"Clothing\",\"Electronics\",\"Accessories\",\"Clothing\",\"Electronics\",\"Electronics\",\"Clothing\",\"Clothing\",\"Electronics\",\"Electronics\",\"Clothing\",\"Accessories\",\"Electronics\",\"Bags\",\"Clothing\",\"Clothing\",\"Accessories\",\"Clothing\",\"Electronics\",\"Shoes\",\"Accessories\",\"Accessories\",\"Electronics\",\"Clothing\",\"Electronics\",\"Bags\",\"Clothing\",\"Electronics\",\"Electronics\",\"Shoes\",\"Clothing\",\"Accessories\",\"Clothing\",\"Electronics\",\"Accessories\",\"Clothing\",\"Electronics\",\"Electronics\",\"Clothing\",\"Electronics\",\"Electronics\",\"Clothing\",\"Accessories\",\"Electronics\",\"Bags\",\"Clothing\",\"Clothing\",\"Accessories\",\"Clothing\",\"Electronics\",\"Shoes\",\"Accessories\",\"Electronics\",\"Clothing\",\"Electronics\",\"Bags\",\"Clothing\",\"Electronics\",\"Shoes\",\"Clothing\",\"Accessories\",\"Clothing\",\"Electronics\",\"Accessories\",\"Clothing\",\"Electronics\",\"Electronics\",\"Clothing\",\"Electronics\",\"Electronics\",\"Clothing\",\"Accessories\",\"Electronics\",\"Bgas\",\"Clothing\",\"Clothing\",\"Accessories\",\"Clothing\",\"Electronics\",\"Shoes\",\"Accessories\",\"Accessories\",\"Electronics\",\"Clothing\",\"Electronics\",\"Bags\",\"Clothing\",\"Electronics\",\"Electronics\",\"Shoeses\",\"Clothing\",\"Accessories\",\"Clothing\",\"Electronics\",\"Accessories\",\"Clothing\",\"Electronics\",\"Electronics\",\"Clothing\"],\"xaxis\":\"x\",\"y\":[6000.0,6000.0,1000.0,2000.0,500.0,1500.0,4800.0,2000.0,1000.0,2400.0,1200.0,1000.0,1200.0,7200.0,800.0,1200.0,1000.0,1000.0,3600.0,800.0,1600.0,750.0,800.0,4200.0,1200.0,600.0,1600.0,960.0,500.0,640.0,600.0,5400.0,750.0,700.0,6000.0,2500.0,1200.0,1200.0,4200.0,1440.0,1250.0,1200.0,500.0,400.0,7200.0,640.0,900.0,1600.0,1400.0,3600.0,800.0,960.0,900.0,400.0,4800.0,600.0,300.0,2000.0,900.0,5400.0,750.0,800.0,6000.0,1500.0,2000.0,2400.0,4200.0,800.0,750.0,1250.0,600.0,400.0,7200.0,1200.0,1200.0,1000.0,3600.0,800.0,1600.0,500.0,500.0,1200.0,4200.0,960.0,300.0,1600.0,1000.0,5400.0,1500.0,500.0,1000.0,6600.0,1200.0,6000.0,2000.0,1500.0,4200.0,900.0,700.0,500.0,1800.0,800.0,7200.0,640.0,900.0,1000.0,3600.0,800.0,1600.0,750.0,400.0,2400.0,4200.0,960.0,500.0,1600.0,750.0,5400.0,1500.0,500.0,1500.0,800.0,6000.0,1760.0,1800.0,2400.0,4200.0,1000.0,600.0,1250.0,2250.0,600.0,7200.0,640.0,1050.0,1800.0,3600.0,800.0,1600.0,750.0,500.0,4200.0,960.0,300.0,1600.0,1000.0,5400.0,750.0,500.0,1000.0,6600.0,1200.0,6000.0,2000.0,1500.0,2000.0,4200.0,900.0,700.0,500.0,1800.0,800.0,7200.0,1200.0,1200.0,1000.0,3600.0,800.0,1600.0,750.0,400.0,2400.0,4200.0,960.0,500.0,1600.0,750.0,5400.0,1500.0,500.0,1500.0,6600.0,800.0,6000.0,1760.0,1800.0,2400.0,4200.0,1000.0,600.0,1250.0,600.0,7200.0,640.0,1050.0,1800.0,3600.0,800.0,1600.0,750.0,500.0,4200.0,960.0,300.0,1600.0,1000.0,5400.0,750.0,500.0,1000.0,6600.0,1200.0,6000.0,2000.0,1500.0,2000.0,4200.0,900.0,700.0,500.0,1800.0,800.0,7200.0,1200.0,1200.0,1000.0,3600.0,800.0,1600.0,750.0,400.0,2400.0,4200.0,960.0,500.0,1600.0,750.0,5400.0,1500.0,500.0,1500.0,6600.0,800.0,6000.0,1760.0,1800.0,2400.0,4200.0,1000.0,600.0,1250.0,2250.0,600.0,7200.0,640.0,1050.0,1800.0,3600.0,800.0,1600.0,750.0,500.0,4200.0,960.0,300.0,1600.0,1000.0,5400.0,750.0,500.0,1000.0,6600.0,1200.0,1200.0,6000.0,2000.0,1500.0,2000.0,4200.0,900.0,700.0,500.0,1800.0,800.0,7200.0,1200.0,1200.0,1000.0,3600.0,800.0,1600.0,750.0,400.0,2400.0,4200.0,960.0,500.0,1600.0,750.0,5400.0,1500.0,500.0,1500.0,6600.0,800.0,6000.0,1760.0,1800.0,2400.0,4200.0,1000.0,600.0,1250.0,2250.0,600.0,7200.0,640.0,1800.0,3600.0,800.0,1600.0,750.0,500.0,4200.0,960.0,300.0,1600.0,1000.0,5400.0,750.0,500.0,1000.0,6600.0,1200.0,6000.0,2000.0,1500.0,2000.0,4200.0,900.0,700.0,500.0,1800.0,800.0,7200.0,1200.0,1200.0,1000.0,3600.0,800.0,1600.0,750.0,400.0,2400.0,4200.0,960.0,500.0,1600.0,750.0,5400.0,750.0,500.0,1000.0,6600.0,1200.0],\"yaxis\":\"y\",\"type\":\"bar\"}],                        {\"template\":{\"data\":{\"histogram2dcontour\":[{\"type\":\"histogram2dcontour\",\"colorbar\":{\"outlinewidth\":0,\"ticks\":\"\"},\"colorscale\":[[0.0,\"#0d0887\"],[0.1111111111111111,\"#46039f\"],[0.2222222222222222,\"#7201a8\"],[0.3333333333333333,\"#9c179e\"],[0.4444444444444444,\"#bd3786\"],[0.5555555555555556,\"#d8576b\"],[0.6666666666666666,\"#ed7953\"],[0.7777777777777778,\"#fb9f3a\"],[0.8888888888888888,\"#fdca26\"],[1.0,\"#f0f921\"]]}],\"choropleth\":[{\"type\":\"choropleth\",\"colorbar\":{\"outlinewidth\":0,\"ticks\":\"\"}}],\"histogram2d\":[{\"type\":\"histogram2d\",\"colorbar\":{\"outlinewidth\":0,\"ticks\":\"\"},\"colorscale\":[[0.0,\"#0d0887\"],[0.1111111111111111,\"#46039f\"],[0.2222222222222222,\"#7201a8\"],[0.3333333333333333,\"#9c179e\"],[0.4444444444444444,\"#bd3786\"],[0.5555555555555556,\"#d8576b\"],[0.6666666666666666,\"#ed7953\"],[0.7777777777777778,\"#fb9f3a\"],[0.8888888888888888,\"#fdca26\"],[1.0,\"#f0f921\"]]}],\"heatmap\":[{\"type\":\"heatmap\",\"colorbar\":{\"outlinewidth\":0,\"ticks\":\"\"},\"colorscale\":[[0.0,\"#0d0887\"],[0.1111111111111111,\"#46039f\"],[0.2222222222222222,\"#7201a8\"],[0.3333333333333333,\"#9c179e\"],[0.4444444444444444,\"#bd3786\"],[0.5555555555555556,\"#d8576b\"],[0.6666666666666666,\"#ed7953\"],[0.7777777777777778,\"#fb9f3a\"],[0.8888888888888888,\"#fdca26\"],[1.0,\"#f0f921\"]]}],\"heatmapgl\":[{\"type\":\"heatmapgl\",\"colorbar\":{\"outlinewidth\":0,\"ticks\":\"\"},\"colorscale\":[[0.0,\"#0d0887\"],[0.1111111111111111,\"#46039f\"],[0.2222222222222222,\"#7201a8\"],[0.3333333333333333,\"#9c179e\"],[0.4444444444444444,\"#bd3786\"],[0.5555555555555556,\"#d8576b\"],[0.6666666666666666,\"#ed7953\"],[0.7777777777777778,\"#fb9f3a\"],[0.8888888888888888,\"#fdca26\"],[1.0,\"#f0f921\"]]}],\"contourcarpet\":[{\"type\":\"contourcarpet\",\"colorbar\":{\"outlinewidth\":0,\"ticks\":\"\"}}],\"contour\":[{\"type\":\"contour\",\"colorbar\":{\"outlinewidth\":0,\"ticks\":\"\"},\"colorscale\":[[0.0,\"#0d0887\"],[0.1111111111111111,\"#46039f\"],[0.2222222222222222,\"#7201a8\"],[0.3333333333333333,\"#9c179e\"],[0.4444444444444444,\"#bd3786\"],[0.5555555555555556,\"#d8576b\"],[0.6666666666666666,\"#ed7953\"],[0.7777777777777778,\"#fb9f3a\"],[0.8888888888888888,\"#fdca26\"],[1.0,\"#f0f921\"]]}],\"surface\":[{\"type\":\"surface\",\"colorbar\":{\"outlinewidth\":0,\"ticks\":\"\"},\"colorscale\":[[0.0,\"#0d0887\"],[0.1111111111111111,\"#46039f\"],[0.2222222222222222,\"#7201a8\"],[0.3333333333333333,\"#9c179e\"],[0.4444444444444444,\"#bd3786\"],[0.5555555555555556,\"#d8576b\"],[0.6666666666666666,\"#ed7953\"],[0.7777777777777778,\"#fb9f3a\"],[0.8888888888888888,\"#fdca26\"],[1.0,\"#f0f921\"]]}],\"mesh3d\":[{\"type\":\"mesh3d\",\"colorbar\":{\"outlinewidth\":0,\"ticks\":\"\"}}],\"scatter\":[{\"fillpattern\":{\"fillmode\":\"overlay\",\"size\":10,\"solidity\":0.2},\"type\":\"scatter\"}],\"parcoords\":[{\"type\":\"parcoords\",\"line\":{\"colorbar\":{\"outlinewidth\":0,\"ticks\":\"\"}}}],\"scatterpolargl\":[{\"type\":\"scatterpolargl\",\"marker\":{\"colorbar\":{\"outlinewidth\":0,\"ticks\":\"\"}}}],\"bar\":[{\"error_x\":{\"color\":\"#2a3f5f\"},\"error_y\":{\"color\":\"#2a3f5f\"},\"marker\":{\"line\":{\"color\":\"#E5ECF6\",\"width\":0.5},\"pattern\":{\"fillmode\":\"overlay\",\"size\":10,\"solidity\":0.2}},\"type\":\"bar\"}],\"scattergeo\":[{\"type\":\"scattergeo\",\"marker\":{\"colorbar\":{\"outlinewidth\":0,\"ticks\":\"\"}}}],\"scatterpolar\":[{\"type\":\"scatterpolar\",\"marker\":{\"colorbar\":{\"outlinewidth\":0,\"ticks\":\"\"}}}],\"histogram\":[{\"marker\":{\"pattern\":{\"fillmode\":\"overlay\",\"size\":10,\"solidity\":0.2}},\"type\":\"histogram\"}],\"scattergl\":[{\"type\":\"scattergl\",\"marker\":{\"colorbar\":{\"outlinewidth\":0,\"ticks\":\"\"}}}],\"scatter3d\":[{\"type\":\"scatter3d\",\"line\":{\"colorbar\":{\"outlinewidth\":0,\"ticks\":\"\"}},\"marker\":{\"colorbar\":{\"outlinewidth\":0,\"ticks\":\"\"}}}],\"scattermapbox\":[{\"type\":\"scattermapbox\",\"marker\":{\"colorbar\":{\"outlinewidth\":0,\"ticks\":\"\"}}}],\"scatterternary\":[{\"type\":\"scatterternary\",\"marker\":{\"colorbar\":{\"outlinewidth\":0,\"ticks\":\"\"}}}],\"scattercarpet\":[{\"type\":\"scattercarpet\",\"marker\":{\"colorbar\":{\"outlinewidth\":0,\"ticks\":\"\"}}}],\"carpet\":[{\"aaxis\":{\"endlinecolor\":\"#2a3f5f\",\"gridcolor\":\"white\",\"linecolor\":\"white\",\"minorgridcolor\":\"white\",\"startlinecolor\":\"#2a3f5f\"},\"baxis\":{\"endlinecolor\":\"#2a3f5f\",\"gridcolor\":\"white\",\"linecolor\":\"white\",\"minorgridcolor\":\"white\",\"startlinecolor\":\"#2a3f5f\"},\"type\":\"carpet\"}],\"table\":[{\"cells\":{\"fill\":{\"color\":\"#EBF0F8\"},\"line\":{\"color\":\"white\"}},\"header\":{\"fill\":{\"color\":\"#C8D4E3\"},\"line\":{\"color\":\"white\"}},\"type\":\"table\"}],\"barpolar\":[{\"marker\":{\"line\":{\"color\":\"#E5ECF6\",\"width\":0.5},\"pattern\":{\"fillmode\":\"overlay\",\"size\":10,\"solidity\":0.2}},\"type\":\"barpolar\"}],\"pie\":[{\"automargin\":true,\"type\":\"pie\"}]},\"layout\":{\"autotypenumbers\":\"strict\",\"colorway\":[\"#636efa\",\"#EF553B\",\"#00cc96\",\"#ab63fa\",\"#FFA15A\",\"#19d3f3\",\"#FF6692\",\"#B6E880\",\"#FF97FF\",\"#FECB52\"],\"font\":{\"color\":\"#2a3f5f\"},\"hovermode\":\"closest\",\"hoverlabel\":{\"align\":\"left\"},\"paper_bgcolor\":\"white\",\"plot_bgcolor\":\"#E5ECF6\",\"polar\":{\"bgcolor\":\"#E5ECF6\",\"angularaxis\":{\"gridcolor\":\"white\",\"linecolor\":\"white\",\"ticks\":\"\"},\"radialaxis\":{\"gridcolor\":\"white\",\"linecolor\":\"white\",\"ticks\":\"\"}},\"ternary\":{\"bgcolor\":\"#E5ECF6\",\"aaxis\":{\"gridcolor\":\"white\",\"linecolor\":\"white\",\"ticks\":\"\"},\"baxis\":{\"gridcolor\":\"white\",\"linecolor\":\"white\",\"ticks\":\"\"},\"caxis\":{\"gridcolor\":\"white\",\"linecolor\":\"white\",\"ticks\":\"\"}},\"coloraxis\":{\"colorbar\":{\"outlinewidth\":0,\"ticks\":\"\"}},\"colorscale\":{\"sequential\":[[0.0,\"#0d0887\"],[0.1111111111111111,\"#46039f\"],[0.2222222222222222,\"#7201a8\"],[0.3333333333333333,\"#9c179e\"],[0.4444444444444444,\"#bd3786\"],[0.5555555555555556,\"#d8576b\"],[0.6666666666666666,\"#ed7953\"],[0.7777777777777778,\"#fb9f3a\"],[0.8888888888888888,\"#fdca26\"],[1.0,\"#f0f921\"]],\"sequentialminus\":[[0.0,\"#0d0887\"],[0.1111111111111111,\"#46039f\"],[0.2222222222222222,\"#7201a8\"],[0.3333333333333333,\"#9c179e\"],[0.4444444444444444,\"#bd3786\"],[0.5555555555555556,\"#d8576b\"],[0.6666666666666666,\"#ed7953\"],[0.7777777777777778,\"#fb9f3a\"],[0.8888888888888888,\"#fdca26\"],[1.0,\"#f0f921\"]],\"diverging\":[[0,\"#8e0152\"],[0.1,\"#c51b7d\"],[0.2,\"#de77ae\"],[0.3,\"#f1b6da\"],[0.4,\"#fde0ef\"],[0.5,\"#f7f7f7\"],[0.6,\"#e6f5d0\"],[0.7,\"#b8e186\"],[0.8,\"#7fbc41\"],[0.9,\"#4d9221\"],[1,\"#276419\"]]},\"xaxis\":{\"gridcolor\":\"white\",\"linecolor\":\"white\",\"ticks\":\"\",\"title\":{\"standoff\":15},\"zerolinecolor\":\"white\",\"automargin\":true,\"zerolinewidth\":2},\"yaxis\":{\"gridcolor\":\"white\",\"linecolor\":\"white\",\"ticks\":\"\",\"title\":{\"standoff\":15},\"zerolinecolor\":\"white\",\"automargin\":true,\"zerolinewidth\":2},\"scene\":{\"xaxis\":{\"backgroundcolor\":\"#E5ECF6\",\"gridcolor\":\"white\",\"linecolor\":\"white\",\"showbackground\":true,\"ticks\":\"\",\"zerolinecolor\":\"white\",\"gridwidth\":2},\"yaxis\":{\"backgroundcolor\":\"#E5ECF6\",\"gridcolor\":\"white\",\"linecolor\":\"white\",\"showbackground\":true,\"ticks\":\"\",\"zerolinecolor\":\"white\",\"gridwidth\":2},\"zaxis\":{\"backgroundcolor\":\"#E5ECF6\",\"gridcolor\":\"white\",\"linecolor\":\"white\",\"showbackground\":true,\"ticks\":\"\",\"zerolinecolor\":\"white\",\"gridwidth\":2}},\"shapedefaults\":{\"line\":{\"color\":\"#2a3f5f\"}},\"annotationdefaults\":{\"arrowcolor\":\"#2a3f5f\",\"arrowhead\":0,\"arrowwidth\":1},\"geo\":{\"bgcolor\":\"white\",\"landcolor\":\"#E5ECF6\",\"subunitcolor\":\"white\",\"showland\":true,\"showlakes\":true,\"lakecolor\":\"white\"},\"title\":{\"x\":0.05},\"mapbox\":{\"style\":\"light\"}}},\"xaxis\":{\"anchor\":\"y\",\"domain\":[0.0,1.0],\"title\":{\"text\":\"category\"}},\"yaxis\":{\"anchor\":\"x\",\"domain\":[0.0,1.0],\"title\":{\"text\":\"revenue\"}},\"legend\":{\"tracegroupgap\":0},\"margin\":{\"t\":60},\"barmode\":\"relative\"},                        {\"responsive\": true}                    )                };                            </script>        </div>"
      ],
      "text/plain": [
       "Figure({\n",
       "    'data': [{'alignmentgroup': 'True',\n",
       "              'hovertemplate': 'category=%{x}<br>revenue=%{y}<extra></extra>',\n",
       "              'legendgroup': '',\n",
       "              'marker': {'color': '#636efa', 'pattern': {'shape': ''}},\n",
       "              'name': '',\n",
       "              'offsetgroup': '',\n",
       "              'orientation': 'v',\n",
       "              'showlegend': False,\n",
       "              'textposition': 'auto',\n",
       "              'type': 'bar',\n",
       "              'x': array(['Electronics', 'Electronics', 'Clothing', ..., 'Electronics',\n",
       "                          'Electronics', 'Clothing'], dtype=object),\n",
       "              'xaxis': 'x',\n",
       "              'y': array([6000., 6000., 1000., ..., 1000., 6600., 1200.]),\n",
       "              'yaxis': 'y'}],\n",
       "    'layout': {'barmode': 'relative',\n",
       "               'legend': {'tracegroupgap': 0},\n",
       "               'margin': {'t': 60},\n",
       "               'template': '...',\n",
       "               'xaxis': {'anchor': 'y', 'domain': [0.0, 1.0], 'title': {'text': 'category'}},\n",
       "               'yaxis': {'anchor': 'x', 'domain': [0.0, 1.0], 'title': {'text': 'revenue'}}}\n",
       "})"
      ]
     },
     "execution_count": 46,
     "metadata": {},
     "output_type": "execute_result"
    }
   ],
   "source": [
    "px.bar(data,x=\"category\",y=\"revenue\")"
   ]
  },
  {
   "cell_type": "code",
   "execution_count": 47,
   "metadata": {},
   "outputs": [
    {
     "ename": "ValueError",
     "evalue": "Mime type rendering requires nbformat>=4.2.0 but it is not installed",
     "output_type": "error",
     "traceback": [
      "\u001b[0;31m---------------------------------------------------------------------------\u001b[0m",
      "\u001b[0;31mValueError\u001b[0m                                Traceback (most recent call last)",
      "File \u001b[0;32m~/Library/Python/3.12/lib/python/site-packages/IPython/core/formatters.py:925\u001b[0m, in \u001b[0;36mIPythonDisplayFormatter.__call__\u001b[0;34m(self, obj)\u001b[0m\n\u001b[1;32m    923\u001b[0m method \u001b[39m=\u001b[39m get_real_method(obj, \u001b[39mself\u001b[39m\u001b[39m.\u001b[39mprint_method)\n\u001b[1;32m    924\u001b[0m \u001b[39mif\u001b[39;00m method \u001b[39mis\u001b[39;00m \u001b[39mnot\u001b[39;00m \u001b[39mNone\u001b[39;00m:\n\u001b[0;32m--> 925\u001b[0m     method()\n\u001b[1;32m    926\u001b[0m     \u001b[39mreturn\u001b[39;00m \u001b[39mTrue\u001b[39;00m\n",
      "File \u001b[0;32m/Library/Frameworks/Python.framework/Versions/3.12/lib/python3.12/site-packages/plotly/basedatatypes.py:832\u001b[0m, in \u001b[0;36mBaseFigure._ipython_display_\u001b[0;34m(self)\u001b[0m\n\u001b[1;32m    829\u001b[0m \u001b[39mimport\u001b[39;00m \u001b[39mplotly\u001b[39;00m\u001b[39m.\u001b[39;00m\u001b[39mio\u001b[39;00m \u001b[39mas\u001b[39;00m \u001b[39mpio\u001b[39;00m\n\u001b[1;32m    831\u001b[0m \u001b[39mif\u001b[39;00m pio\u001b[39m.\u001b[39mrenderers\u001b[39m.\u001b[39mrender_on_display \u001b[39mand\u001b[39;00m pio\u001b[39m.\u001b[39mrenderers\u001b[39m.\u001b[39mdefault:\n\u001b[0;32m--> 832\u001b[0m     pio\u001b[39m.\u001b[39;49mshow(\u001b[39mself\u001b[39;49m)\n\u001b[1;32m    833\u001b[0m \u001b[39melse\u001b[39;00m:\n\u001b[1;32m    834\u001b[0m     \u001b[39mprint\u001b[39m(\u001b[39mrepr\u001b[39m(\u001b[39mself\u001b[39m))\n",
      "File \u001b[0;32m/Library/Frameworks/Python.framework/Versions/3.12/lib/python3.12/site-packages/plotly/io/_renderers.py:394\u001b[0m, in \u001b[0;36mshow\u001b[0;34m(fig, renderer, validate, **kwargs)\u001b[0m\n\u001b[1;32m    389\u001b[0m         \u001b[39mraise\u001b[39;00m \u001b[39mValueError\u001b[39;00m(\n\u001b[1;32m    390\u001b[0m             \u001b[39m\"\u001b[39m\u001b[39mMime type rendering requires ipython but it is not installed\u001b[39m\u001b[39m\"\u001b[39m\n\u001b[1;32m    391\u001b[0m         )\n\u001b[1;32m    393\u001b[0m     \u001b[39mif\u001b[39;00m \u001b[39mnot\u001b[39;00m nbformat \u001b[39mor\u001b[39;00m Version(nbformat\u001b[39m.\u001b[39m__version__) \u001b[39m<\u001b[39m Version(\u001b[39m\"\u001b[39m\u001b[39m4.2.0\u001b[39m\u001b[39m\"\u001b[39m):\n\u001b[0;32m--> 394\u001b[0m         \u001b[39mraise\u001b[39;00m \u001b[39mValueError\u001b[39;00m(\n\u001b[1;32m    395\u001b[0m             \u001b[39m\"\u001b[39m\u001b[39mMime type rendering requires nbformat>=4.2.0 but it is not installed\u001b[39m\u001b[39m\"\u001b[39m\n\u001b[1;32m    396\u001b[0m         )\n\u001b[1;32m    398\u001b[0m     ipython_display\u001b[39m.\u001b[39mdisplay(bundle, raw\u001b[39m=\u001b[39m\u001b[39mTrue\u001b[39;00m)\n\u001b[1;32m    400\u001b[0m \u001b[39m# external renderers\u001b[39;00m\n",
      "\u001b[0;31mValueError\u001b[0m: Mime type rendering requires nbformat>=4.2.0 but it is not installed"
     ]
    },
    {
     "data": {
      "application/vnd.plotly.v1+json": {
       "config": {
        "plotlyServerURL": "https://plot.ly"
       },
       "data": [
        {
         "fillpattern": {
          "shape": ""
         },
         "hovertemplate": "price=%{x}<br>revenue=%{y}<extra></extra>",
         "legendgroup": "",
         "line": {
          "color": "#636efa"
         },
         "marker": {
          "symbol": "circle"
         },
         "mode": "lines",
         "name": "",
         "orientation": "v",
         "showlegend": false,
         "stackgroup": "1",
         "type": "scatter",
         "x": [
          600,
          1200,
          20,
          100,
          20,
          150,
          600,
          400,
          100,
          200,
          80,
          50,
          40,
          600,
          80,
          30,
          50,
          200,
          600,
          100,
          80,
          50,
          20,
          600,
          400,
          40,
          200,
          80,
          100,
          80,
          20,
          600,
          50,
          20,
          600,
          100,
          100,
          150,
          600,
          80,
          50,
          200,
          50,
          20,
          600,
          80,
          30,
          400,
          200,
          600,
          40,
          80,
          50,
          80,
          600,
          100,
          20,
          200,
          50,
          600,
          150,
          20,
          600,
          100,
          100,
          200,
          600,
          80,
          50,
          50,
          20,
          40,
          600,
          80,
          30,
          200,
          600,
          100,
          80,
          50,
          20,
          400,
          600,
          80,
          20,
          200,
          50,
          600,
          150,
          100,
          100,
          600,
          40,
          600,
          80,
          100,
          600,
          50,
          20,
          50,
          150,
          40,
          600,
          80,
          30,
          200,
          600,
          100,
          80,
          50,
          20,
          400,
          600,
          80,
          20,
          200,
          50,
          600,
          150,
          100,
          100,
          40,
          600,
          80,
          100,
          200,
          600,
          50,
          20,
          50,
          150,
          40,
          600,
          80,
          30,
          200,
          600,
          100,
          80,
          50,
          20,
          600,
          80,
          20,
          200,
          50,
          600,
          150,
          100,
          100,
          600,
          40,
          600,
          80,
          100,
          200,
          600,
          50,
          20,
          50,
          150,
          40,
          600,
          80,
          30,
          200,
          600,
          100,
          80,
          50,
          20,
          400,
          600,
          80,
          20,
          200,
          50,
          600,
          150,
          100,
          100,
          600,
          40,
          600,
          80,
          100,
          200,
          600,
          50,
          20,
          50,
          40,
          600,
          80,
          30,
          200,
          600,
          100,
          80,
          50,
          20,
          600,
          80,
          20,
          200,
          50,
          600,
          150,
          100,
          100,
          600,
          40,
          600,
          80,
          100,
          200,
          600,
          50,
          20,
          50,
          150,
          40,
          600,
          80,
          30,
          200,
          600,
          100,
          80,
          50,
          20,
          400,
          600,
          80,
          20,
          200,
          50,
          600,
          150,
          100,
          100,
          600,
          40,
          600,
          80,
          100,
          200,
          600,
          50,
          20,
          50,
          150,
          40,
          600,
          80,
          30,
          200,
          600,
          100,
          80,
          50,
          20,
          600,
          80,
          20,
          200,
          50,
          600,
          150,
          100,
          100,
          600,
          40,
          40,
          600,
          80,
          100,
          200,
          600,
          50,
          20,
          50,
          150,
          40,
          600,
          80,
          30,
          200,
          600,
          100,
          80,
          50,
          20,
          400,
          600,
          80,
          20,
          200,
          50,
          600,
          150,
          100,
          100,
          600,
          40,
          600,
          80,
          100,
          200,
          600,
          50,
          20,
          50,
          150,
          40,
          600,
          80,
          200,
          600,
          100,
          80,
          50,
          20,
          600,
          80,
          20,
          200,
          50,
          600,
          150,
          100,
          100,
          600,
          40,
          600,
          80,
          100,
          200,
          600,
          50,
          20,
          50,
          150,
          40,
          600,
          80,
          30,
          200,
          600,
          100,
          80,
          50,
          20,
          400,
          600,
          80,
          20,
          200,
          50,
          600,
          150,
          100,
          100,
          600,
          40
         ],
         "xaxis": "x",
         "y": [
          6000,
          6000,
          1000,
          2000,
          500,
          1500,
          4800,
          2000,
          1000,
          2400,
          1200,
          1000,
          1200,
          7200,
          800,
          1200,
          1000,
          1000,
          3600,
          800,
          1600,
          750,
          800,
          4200,
          1200,
          600,
          1600,
          960,
          500,
          640,
          600,
          5400,
          750,
          700,
          6000,
          2500,
          1200,
          1200,
          4200,
          1440,
          1250,
          1200,
          500,
          400,
          7200,
          640,
          900,
          1600,
          1400,
          3600,
          800,
          960,
          900,
          400,
          4800,
          600,
          300,
          2000,
          900,
          5400,
          750,
          800,
          6000,
          1500,
          2000,
          2400,
          4200,
          800,
          750,
          1250,
          600,
          400,
          7200,
          1200,
          1200,
          1000,
          3600,
          800,
          1600,
          500,
          500,
          1200,
          4200,
          960,
          300,
          1600,
          1000,
          5400,
          1500,
          500,
          1000,
          6600,
          1200,
          6000,
          2000,
          1500,
          4200,
          900,
          700,
          500,
          1800,
          800,
          7200,
          640,
          900,
          1000,
          3600,
          800,
          1600,
          750,
          400,
          2400,
          4200,
          960,
          500,
          1600,
          750,
          5400,
          1500,
          500,
          1500,
          800,
          6000,
          1760,
          1800,
          2400,
          4200,
          1000,
          600,
          1250,
          2250,
          600,
          7200,
          640,
          1050,
          1800,
          3600,
          800,
          1600,
          750,
          500,
          4200,
          960,
          300,
          1600,
          1000,
          5400,
          750,
          500,
          1000,
          6600,
          1200,
          6000,
          2000,
          1500,
          2000,
          4200,
          900,
          700,
          500,
          1800,
          800,
          7200,
          1200,
          1200,
          1000,
          3600,
          800,
          1600,
          750,
          400,
          2400,
          4200,
          960,
          500,
          1600,
          750,
          5400,
          1500,
          500,
          1500,
          6600,
          800,
          6000,
          1760,
          1800,
          2400,
          4200,
          1000,
          600,
          1250,
          600,
          7200,
          640,
          1050,
          1800,
          3600,
          800,
          1600,
          750,
          500,
          4200,
          960,
          300,
          1600,
          1000,
          5400,
          750,
          500,
          1000,
          6600,
          1200,
          6000,
          2000,
          1500,
          2000,
          4200,
          900,
          700,
          500,
          1800,
          800,
          7200,
          1200,
          1200,
          1000,
          3600,
          800,
          1600,
          750,
          400,
          2400,
          4200,
          960,
          500,
          1600,
          750,
          5400,
          1500,
          500,
          1500,
          6600,
          800,
          6000,
          1760,
          1800,
          2400,
          4200,
          1000,
          600,
          1250,
          2250,
          600,
          7200,
          640,
          1050,
          1800,
          3600,
          800,
          1600,
          750,
          500,
          4200,
          960,
          300,
          1600,
          1000,
          5400,
          750,
          500,
          1000,
          6600,
          1200,
          1200,
          6000,
          2000,
          1500,
          2000,
          4200,
          900,
          700,
          500,
          1800,
          800,
          7200,
          1200,
          1200,
          1000,
          3600,
          800,
          1600,
          750,
          400,
          2400,
          4200,
          960,
          500,
          1600,
          750,
          5400,
          1500,
          500,
          1500,
          6600,
          800,
          6000,
          1760,
          1800,
          2400,
          4200,
          1000,
          600,
          1250,
          2250,
          600,
          7200,
          640,
          1800,
          3600,
          800,
          1600,
          750,
          500,
          4200,
          960,
          300,
          1600,
          1000,
          5400,
          750,
          500,
          1000,
          6600,
          1200,
          6000,
          2000,
          1500,
          2000,
          4200,
          900,
          700,
          500,
          1800,
          800,
          7200,
          1200,
          1200,
          1000,
          3600,
          800,
          1600,
          750,
          400,
          2400,
          4200,
          960,
          500,
          1600,
          750,
          5400,
          750,
          500,
          1000,
          6600,
          1200
         ],
         "yaxis": "y"
        }
       ],
       "layout": {
        "legend": {
         "tracegroupgap": 0
        },
        "margin": {
         "t": 60
        },
        "template": {
         "data": {
          "bar": [
           {
            "error_x": {
             "color": "#2a3f5f"
            },
            "error_y": {
             "color": "#2a3f5f"
            },
            "marker": {
             "line": {
              "color": "#E5ECF6",
              "width": 0.5
             },
             "pattern": {
              "fillmode": "overlay",
              "size": 10,
              "solidity": 0.2
             }
            },
            "type": "bar"
           }
          ],
          "barpolar": [
           {
            "marker": {
             "line": {
              "color": "#E5ECF6",
              "width": 0.5
             },
             "pattern": {
              "fillmode": "overlay",
              "size": 10,
              "solidity": 0.2
             }
            },
            "type": "barpolar"
           }
          ],
          "carpet": [
           {
            "aaxis": {
             "endlinecolor": "#2a3f5f",
             "gridcolor": "white",
             "linecolor": "white",
             "minorgridcolor": "white",
             "startlinecolor": "#2a3f5f"
            },
            "baxis": {
             "endlinecolor": "#2a3f5f",
             "gridcolor": "white",
             "linecolor": "white",
             "minorgridcolor": "white",
             "startlinecolor": "#2a3f5f"
            },
            "type": "carpet"
           }
          ],
          "choropleth": [
           {
            "colorbar": {
             "outlinewidth": 0,
             "ticks": ""
            },
            "type": "choropleth"
           }
          ],
          "contour": [
           {
            "colorbar": {
             "outlinewidth": 0,
             "ticks": ""
            },
            "colorscale": [
             [
              0,
              "#0d0887"
             ],
             [
              0.1111111111111111,
              "#46039f"
             ],
             [
              0.2222222222222222,
              "#7201a8"
             ],
             [
              0.3333333333333333,
              "#9c179e"
             ],
             [
              0.4444444444444444,
              "#bd3786"
             ],
             [
              0.5555555555555556,
              "#d8576b"
             ],
             [
              0.6666666666666666,
              "#ed7953"
             ],
             [
              0.7777777777777778,
              "#fb9f3a"
             ],
             [
              0.8888888888888888,
              "#fdca26"
             ],
             [
              1,
              "#f0f921"
             ]
            ],
            "type": "contour"
           }
          ],
          "contourcarpet": [
           {
            "colorbar": {
             "outlinewidth": 0,
             "ticks": ""
            },
            "type": "contourcarpet"
           }
          ],
          "heatmap": [
           {
            "colorbar": {
             "outlinewidth": 0,
             "ticks": ""
            },
            "colorscale": [
             [
              0,
              "#0d0887"
             ],
             [
              0.1111111111111111,
              "#46039f"
             ],
             [
              0.2222222222222222,
              "#7201a8"
             ],
             [
              0.3333333333333333,
              "#9c179e"
             ],
             [
              0.4444444444444444,
              "#bd3786"
             ],
             [
              0.5555555555555556,
              "#d8576b"
             ],
             [
              0.6666666666666666,
              "#ed7953"
             ],
             [
              0.7777777777777778,
              "#fb9f3a"
             ],
             [
              0.8888888888888888,
              "#fdca26"
             ],
             [
              1,
              "#f0f921"
             ]
            ],
            "type": "heatmap"
           }
          ],
          "heatmapgl": [
           {
            "colorbar": {
             "outlinewidth": 0,
             "ticks": ""
            },
            "colorscale": [
             [
              0,
              "#0d0887"
             ],
             [
              0.1111111111111111,
              "#46039f"
             ],
             [
              0.2222222222222222,
              "#7201a8"
             ],
             [
              0.3333333333333333,
              "#9c179e"
             ],
             [
              0.4444444444444444,
              "#bd3786"
             ],
             [
              0.5555555555555556,
              "#d8576b"
             ],
             [
              0.6666666666666666,
              "#ed7953"
             ],
             [
              0.7777777777777778,
              "#fb9f3a"
             ],
             [
              0.8888888888888888,
              "#fdca26"
             ],
             [
              1,
              "#f0f921"
             ]
            ],
            "type": "heatmapgl"
           }
          ],
          "histogram": [
           {
            "marker": {
             "pattern": {
              "fillmode": "overlay",
              "size": 10,
              "solidity": 0.2
             }
            },
            "type": "histogram"
           }
          ],
          "histogram2d": [
           {
            "colorbar": {
             "outlinewidth": 0,
             "ticks": ""
            },
            "colorscale": [
             [
              0,
              "#0d0887"
             ],
             [
              0.1111111111111111,
              "#46039f"
             ],
             [
              0.2222222222222222,
              "#7201a8"
             ],
             [
              0.3333333333333333,
              "#9c179e"
             ],
             [
              0.4444444444444444,
              "#bd3786"
             ],
             [
              0.5555555555555556,
              "#d8576b"
             ],
             [
              0.6666666666666666,
              "#ed7953"
             ],
             [
              0.7777777777777778,
              "#fb9f3a"
             ],
             [
              0.8888888888888888,
              "#fdca26"
             ],
             [
              1,
              "#f0f921"
             ]
            ],
            "type": "histogram2d"
           }
          ],
          "histogram2dcontour": [
           {
            "colorbar": {
             "outlinewidth": 0,
             "ticks": ""
            },
            "colorscale": [
             [
              0,
              "#0d0887"
             ],
             [
              0.1111111111111111,
              "#46039f"
             ],
             [
              0.2222222222222222,
              "#7201a8"
             ],
             [
              0.3333333333333333,
              "#9c179e"
             ],
             [
              0.4444444444444444,
              "#bd3786"
             ],
             [
              0.5555555555555556,
              "#d8576b"
             ],
             [
              0.6666666666666666,
              "#ed7953"
             ],
             [
              0.7777777777777778,
              "#fb9f3a"
             ],
             [
              0.8888888888888888,
              "#fdca26"
             ],
             [
              1,
              "#f0f921"
             ]
            ],
            "type": "histogram2dcontour"
           }
          ],
          "mesh3d": [
           {
            "colorbar": {
             "outlinewidth": 0,
             "ticks": ""
            },
            "type": "mesh3d"
           }
          ],
          "parcoords": [
           {
            "line": {
             "colorbar": {
              "outlinewidth": 0,
              "ticks": ""
             }
            },
            "type": "parcoords"
           }
          ],
          "pie": [
           {
            "automargin": true,
            "type": "pie"
           }
          ],
          "scatter": [
           {
            "fillpattern": {
             "fillmode": "overlay",
             "size": 10,
             "solidity": 0.2
            },
            "type": "scatter"
           }
          ],
          "scatter3d": [
           {
            "line": {
             "colorbar": {
              "outlinewidth": 0,
              "ticks": ""
             }
            },
            "marker": {
             "colorbar": {
              "outlinewidth": 0,
              "ticks": ""
             }
            },
            "type": "scatter3d"
           }
          ],
          "scattercarpet": [
           {
            "marker": {
             "colorbar": {
              "outlinewidth": 0,
              "ticks": ""
             }
            },
            "type": "scattercarpet"
           }
          ],
          "scattergeo": [
           {
            "marker": {
             "colorbar": {
              "outlinewidth": 0,
              "ticks": ""
             }
            },
            "type": "scattergeo"
           }
          ],
          "scattergl": [
           {
            "marker": {
             "colorbar": {
              "outlinewidth": 0,
              "ticks": ""
             }
            },
            "type": "scattergl"
           }
          ],
          "scattermapbox": [
           {
            "marker": {
             "colorbar": {
              "outlinewidth": 0,
              "ticks": ""
             }
            },
            "type": "scattermapbox"
           }
          ],
          "scatterpolar": [
           {
            "marker": {
             "colorbar": {
              "outlinewidth": 0,
              "ticks": ""
             }
            },
            "type": "scatterpolar"
           }
          ],
          "scatterpolargl": [
           {
            "marker": {
             "colorbar": {
              "outlinewidth": 0,
              "ticks": ""
             }
            },
            "type": "scatterpolargl"
           }
          ],
          "scatterternary": [
           {
            "marker": {
             "colorbar": {
              "outlinewidth": 0,
              "ticks": ""
             }
            },
            "type": "scatterternary"
           }
          ],
          "surface": [
           {
            "colorbar": {
             "outlinewidth": 0,
             "ticks": ""
            },
            "colorscale": [
             [
              0,
              "#0d0887"
             ],
             [
              0.1111111111111111,
              "#46039f"
             ],
             [
              0.2222222222222222,
              "#7201a8"
             ],
             [
              0.3333333333333333,
              "#9c179e"
             ],
             [
              0.4444444444444444,
              "#bd3786"
             ],
             [
              0.5555555555555556,
              "#d8576b"
             ],
             [
              0.6666666666666666,
              "#ed7953"
             ],
             [
              0.7777777777777778,
              "#fb9f3a"
             ],
             [
              0.8888888888888888,
              "#fdca26"
             ],
             [
              1,
              "#f0f921"
             ]
            ],
            "type": "surface"
           }
          ],
          "table": [
           {
            "cells": {
             "fill": {
              "color": "#EBF0F8"
             },
             "line": {
              "color": "white"
             }
            },
            "header": {
             "fill": {
              "color": "#C8D4E3"
             },
             "line": {
              "color": "white"
             }
            },
            "type": "table"
           }
          ]
         },
         "layout": {
          "annotationdefaults": {
           "arrowcolor": "#2a3f5f",
           "arrowhead": 0,
           "arrowwidth": 1
          },
          "autotypenumbers": "strict",
          "coloraxis": {
           "colorbar": {
            "outlinewidth": 0,
            "ticks": ""
           }
          },
          "colorscale": {
           "diverging": [
            [
             0,
             "#8e0152"
            ],
            [
             0.1,
             "#c51b7d"
            ],
            [
             0.2,
             "#de77ae"
            ],
            [
             0.3,
             "#f1b6da"
            ],
            [
             0.4,
             "#fde0ef"
            ],
            [
             0.5,
             "#f7f7f7"
            ],
            [
             0.6,
             "#e6f5d0"
            ],
            [
             0.7,
             "#b8e186"
            ],
            [
             0.8,
             "#7fbc41"
            ],
            [
             0.9,
             "#4d9221"
            ],
            [
             1,
             "#276419"
            ]
           ],
           "sequential": [
            [
             0,
             "#0d0887"
            ],
            [
             0.1111111111111111,
             "#46039f"
            ],
            [
             0.2222222222222222,
             "#7201a8"
            ],
            [
             0.3333333333333333,
             "#9c179e"
            ],
            [
             0.4444444444444444,
             "#bd3786"
            ],
            [
             0.5555555555555556,
             "#d8576b"
            ],
            [
             0.6666666666666666,
             "#ed7953"
            ],
            [
             0.7777777777777778,
             "#fb9f3a"
            ],
            [
             0.8888888888888888,
             "#fdca26"
            ],
            [
             1,
             "#f0f921"
            ]
           ],
           "sequentialminus": [
            [
             0,
             "#0d0887"
            ],
            [
             0.1111111111111111,
             "#46039f"
            ],
            [
             0.2222222222222222,
             "#7201a8"
            ],
            [
             0.3333333333333333,
             "#9c179e"
            ],
            [
             0.4444444444444444,
             "#bd3786"
            ],
            [
             0.5555555555555556,
             "#d8576b"
            ],
            [
             0.6666666666666666,
             "#ed7953"
            ],
            [
             0.7777777777777778,
             "#fb9f3a"
            ],
            [
             0.8888888888888888,
             "#fdca26"
            ],
            [
             1,
             "#f0f921"
            ]
           ]
          },
          "colorway": [
           "#636efa",
           "#EF553B",
           "#00cc96",
           "#ab63fa",
           "#FFA15A",
           "#19d3f3",
           "#FF6692",
           "#B6E880",
           "#FF97FF",
           "#FECB52"
          ],
          "font": {
           "color": "#2a3f5f"
          },
          "geo": {
           "bgcolor": "white",
           "lakecolor": "white",
           "landcolor": "#E5ECF6",
           "showlakes": true,
           "showland": true,
           "subunitcolor": "white"
          },
          "hoverlabel": {
           "align": "left"
          },
          "hovermode": "closest",
          "mapbox": {
           "style": "light"
          },
          "paper_bgcolor": "white",
          "plot_bgcolor": "#E5ECF6",
          "polar": {
           "angularaxis": {
            "gridcolor": "white",
            "linecolor": "white",
            "ticks": ""
           },
           "bgcolor": "#E5ECF6",
           "radialaxis": {
            "gridcolor": "white",
            "linecolor": "white",
            "ticks": ""
           }
          },
          "scene": {
           "xaxis": {
            "backgroundcolor": "#E5ECF6",
            "gridcolor": "white",
            "gridwidth": 2,
            "linecolor": "white",
            "showbackground": true,
            "ticks": "",
            "zerolinecolor": "white"
           },
           "yaxis": {
            "backgroundcolor": "#E5ECF6",
            "gridcolor": "white",
            "gridwidth": 2,
            "linecolor": "white",
            "showbackground": true,
            "ticks": "",
            "zerolinecolor": "white"
           },
           "zaxis": {
            "backgroundcolor": "#E5ECF6",
            "gridcolor": "white",
            "gridwidth": 2,
            "linecolor": "white",
            "showbackground": true,
            "ticks": "",
            "zerolinecolor": "white"
           }
          },
          "shapedefaults": {
           "line": {
            "color": "#2a3f5f"
           }
          },
          "ternary": {
           "aaxis": {
            "gridcolor": "white",
            "linecolor": "white",
            "ticks": ""
           },
           "baxis": {
            "gridcolor": "white",
            "linecolor": "white",
            "ticks": ""
           },
           "bgcolor": "#E5ECF6",
           "caxis": {
            "gridcolor": "white",
            "linecolor": "white",
            "ticks": ""
           }
          },
          "title": {
           "x": 0.05
          },
          "xaxis": {
           "automargin": true,
           "gridcolor": "white",
           "linecolor": "white",
           "ticks": "",
           "title": {
            "standoff": 15
           },
           "zerolinecolor": "white",
           "zerolinewidth": 2
          },
          "yaxis": {
           "automargin": true,
           "gridcolor": "white",
           "linecolor": "white",
           "ticks": "",
           "title": {
            "standoff": 15
           },
           "zerolinecolor": "white",
           "zerolinewidth": 2
          }
         }
        },
        "xaxis": {
         "anchor": "y",
         "domain": [
          0,
          1
         ],
         "title": {
          "text": "price"
         }
        },
        "yaxis": {
         "anchor": "x",
         "domain": [
          0,
          1
         ],
         "title": {
          "text": "revenue"
         }
        }
       }
      },
      "text/html": [
       "<div>                        <script type=\"text/javascript\">window.PlotlyConfig = {MathJaxConfig: 'local'};</script>\n",
       "        <script charset=\"utf-8\" src=\"https://cdn.plot.ly/plotly-2.35.2.min.js\"></script>                <div id=\"795e919a-2c05-484a-898f-4f0a1cdd1e0a\" class=\"plotly-graph-div\" style=\"height:100%; width:100%;\"></div>            <script type=\"text/javascript\">                                    window.PLOTLYENV=window.PLOTLYENV || {};                                    if (document.getElementById(\"795e919a-2c05-484a-898f-4f0a1cdd1e0a\")) {                    Plotly.newPlot(                        \"795e919a-2c05-484a-898f-4f0a1cdd1e0a\",                        [{\"fillpattern\":{\"shape\":\"\"},\"hovertemplate\":\"price=%{x}\\u003cbr\\u003erevenue=%{y}\\u003cextra\\u003e\\u003c\\u002fextra\\u003e\",\"legendgroup\":\"\",\"line\":{\"color\":\"#636efa\"},\"marker\":{\"symbol\":\"circle\"},\"mode\":\"lines\",\"name\":\"\",\"orientation\":\"v\",\"showlegend\":false,\"stackgroup\":\"1\",\"x\":[600.0,1200.0,20.0,100.0,20.0,150.0,600.0,400.0,100.0,200.0,80.0,50.0,40.0,600.0,80.0,30.0,50.0,200.0,600.0,100.0,80.0,50.0,20.0,600.0,400.0,40.0,200.0,80.0,100.0,80.0,20.0,600.0,50.0,20.0,600.0,100.0,100.0,150.0,600.0,80.0,50.0,200.0,50.0,20.0,600.0,80.0,30.0,400.0,200.0,600.0,40.0,80.0,50.0,80.0,600.0,100.0,20.0,200.0,50.0,600.0,150.0,20.0,600.0,100.0,100.0,200.0,600.0,80.0,50.0,50.0,20.0,40.0,600.0,80.0,30.0,200.0,600.0,100.0,80.0,50.0,20.0,400.0,600.0,80.0,20.0,200.0,50.0,600.0,150.0,100.0,100.0,600.0,40.0,600.0,80.0,100.0,600.0,50.0,20.0,50.0,150.0,40.0,600.0,80.0,30.0,200.0,600.0,100.0,80.0,50.0,20.0,400.0,600.0,80.0,20.0,200.0,50.0,600.0,150.0,100.0,100.0,40.0,600.0,80.0,100.0,200.0,600.0,50.0,20.0,50.0,150.0,40.0,600.0,80.0,30.0,200.0,600.0,100.0,80.0,50.0,20.0,600.0,80.0,20.0,200.0,50.0,600.0,150.0,100.0,100.0,600.0,40.0,600.0,80.0,100.0,200.0,600.0,50.0,20.0,50.0,150.0,40.0,600.0,80.0,30.0,200.0,600.0,100.0,80.0,50.0,20.0,400.0,600.0,80.0,20.0,200.0,50.0,600.0,150.0,100.0,100.0,600.0,40.0,600.0,80.0,100.0,200.0,600.0,50.0,20.0,50.0,40.0,600.0,80.0,30.0,200.0,600.0,100.0,80.0,50.0,20.0,600.0,80.0,20.0,200.0,50.0,600.0,150.0,100.0,100.0,600.0,40.0,600.0,80.0,100.0,200.0,600.0,50.0,20.0,50.0,150.0,40.0,600.0,80.0,30.0,200.0,600.0,100.0,80.0,50.0,20.0,400.0,600.0,80.0,20.0,200.0,50.0,600.0,150.0,100.0,100.0,600.0,40.0,600.0,80.0,100.0,200.0,600.0,50.0,20.0,50.0,150.0,40.0,600.0,80.0,30.0,200.0,600.0,100.0,80.0,50.0,20.0,600.0,80.0,20.0,200.0,50.0,600.0,150.0,100.0,100.0,600.0,40.0,40.0,600.0,80.0,100.0,200.0,600.0,50.0,20.0,50.0,150.0,40.0,600.0,80.0,30.0,200.0,600.0,100.0,80.0,50.0,20.0,400.0,600.0,80.0,20.0,200.0,50.0,600.0,150.0,100.0,100.0,600.0,40.0,600.0,80.0,100.0,200.0,600.0,50.0,20.0,50.0,150.0,40.0,600.0,80.0,200.0,600.0,100.0,80.0,50.0,20.0,600.0,80.0,20.0,200.0,50.0,600.0,150.0,100.0,100.0,600.0,40.0,600.0,80.0,100.0,200.0,600.0,50.0,20.0,50.0,150.0,40.0,600.0,80.0,30.0,200.0,600.0,100.0,80.0,50.0,20.0,400.0,600.0,80.0,20.0,200.0,50.0,600.0,150.0,100.0,100.0,600.0,40.0],\"xaxis\":\"x\",\"y\":[6000.0,6000.0,1000.0,2000.0,500.0,1500.0,4800.0,2000.0,1000.0,2400.0,1200.0,1000.0,1200.0,7200.0,800.0,1200.0,1000.0,1000.0,3600.0,800.0,1600.0,750.0,800.0,4200.0,1200.0,600.0,1600.0,960.0,500.0,640.0,600.0,5400.0,750.0,700.0,6000.0,2500.0,1200.0,1200.0,4200.0,1440.0,1250.0,1200.0,500.0,400.0,7200.0,640.0,900.0,1600.0,1400.0,3600.0,800.0,960.0,900.0,400.0,4800.0,600.0,300.0,2000.0,900.0,5400.0,750.0,800.0,6000.0,1500.0,2000.0,2400.0,4200.0,800.0,750.0,1250.0,600.0,400.0,7200.0,1200.0,1200.0,1000.0,3600.0,800.0,1600.0,500.0,500.0,1200.0,4200.0,960.0,300.0,1600.0,1000.0,5400.0,1500.0,500.0,1000.0,6600.0,1200.0,6000.0,2000.0,1500.0,4200.0,900.0,700.0,500.0,1800.0,800.0,7200.0,640.0,900.0,1000.0,3600.0,800.0,1600.0,750.0,400.0,2400.0,4200.0,960.0,500.0,1600.0,750.0,5400.0,1500.0,500.0,1500.0,800.0,6000.0,1760.0,1800.0,2400.0,4200.0,1000.0,600.0,1250.0,2250.0,600.0,7200.0,640.0,1050.0,1800.0,3600.0,800.0,1600.0,750.0,500.0,4200.0,960.0,300.0,1600.0,1000.0,5400.0,750.0,500.0,1000.0,6600.0,1200.0,6000.0,2000.0,1500.0,2000.0,4200.0,900.0,700.0,500.0,1800.0,800.0,7200.0,1200.0,1200.0,1000.0,3600.0,800.0,1600.0,750.0,400.0,2400.0,4200.0,960.0,500.0,1600.0,750.0,5400.0,1500.0,500.0,1500.0,6600.0,800.0,6000.0,1760.0,1800.0,2400.0,4200.0,1000.0,600.0,1250.0,600.0,7200.0,640.0,1050.0,1800.0,3600.0,800.0,1600.0,750.0,500.0,4200.0,960.0,300.0,1600.0,1000.0,5400.0,750.0,500.0,1000.0,6600.0,1200.0,6000.0,2000.0,1500.0,2000.0,4200.0,900.0,700.0,500.0,1800.0,800.0,7200.0,1200.0,1200.0,1000.0,3600.0,800.0,1600.0,750.0,400.0,2400.0,4200.0,960.0,500.0,1600.0,750.0,5400.0,1500.0,500.0,1500.0,6600.0,800.0,6000.0,1760.0,1800.0,2400.0,4200.0,1000.0,600.0,1250.0,2250.0,600.0,7200.0,640.0,1050.0,1800.0,3600.0,800.0,1600.0,750.0,500.0,4200.0,960.0,300.0,1600.0,1000.0,5400.0,750.0,500.0,1000.0,6600.0,1200.0,1200.0,6000.0,2000.0,1500.0,2000.0,4200.0,900.0,700.0,500.0,1800.0,800.0,7200.0,1200.0,1200.0,1000.0,3600.0,800.0,1600.0,750.0,400.0,2400.0,4200.0,960.0,500.0,1600.0,750.0,5400.0,1500.0,500.0,1500.0,6600.0,800.0,6000.0,1760.0,1800.0,2400.0,4200.0,1000.0,600.0,1250.0,2250.0,600.0,7200.0,640.0,1800.0,3600.0,800.0,1600.0,750.0,500.0,4200.0,960.0,300.0,1600.0,1000.0,5400.0,750.0,500.0,1000.0,6600.0,1200.0,6000.0,2000.0,1500.0,2000.0,4200.0,900.0,700.0,500.0,1800.0,800.0,7200.0,1200.0,1200.0,1000.0,3600.0,800.0,1600.0,750.0,400.0,2400.0,4200.0,960.0,500.0,1600.0,750.0,5400.0,750.0,500.0,1000.0,6600.0,1200.0],\"yaxis\":\"y\",\"type\":\"scatter\"}],                        {\"template\":{\"data\":{\"histogram2dcontour\":[{\"type\":\"histogram2dcontour\",\"colorbar\":{\"outlinewidth\":0,\"ticks\":\"\"},\"colorscale\":[[0.0,\"#0d0887\"],[0.1111111111111111,\"#46039f\"],[0.2222222222222222,\"#7201a8\"],[0.3333333333333333,\"#9c179e\"],[0.4444444444444444,\"#bd3786\"],[0.5555555555555556,\"#d8576b\"],[0.6666666666666666,\"#ed7953\"],[0.7777777777777778,\"#fb9f3a\"],[0.8888888888888888,\"#fdca26\"],[1.0,\"#f0f921\"]]}],\"choropleth\":[{\"type\":\"choropleth\",\"colorbar\":{\"outlinewidth\":0,\"ticks\":\"\"}}],\"histogram2d\":[{\"type\":\"histogram2d\",\"colorbar\":{\"outlinewidth\":0,\"ticks\":\"\"},\"colorscale\":[[0.0,\"#0d0887\"],[0.1111111111111111,\"#46039f\"],[0.2222222222222222,\"#7201a8\"],[0.3333333333333333,\"#9c179e\"],[0.4444444444444444,\"#bd3786\"],[0.5555555555555556,\"#d8576b\"],[0.6666666666666666,\"#ed7953\"],[0.7777777777777778,\"#fb9f3a\"],[0.8888888888888888,\"#fdca26\"],[1.0,\"#f0f921\"]]}],\"heatmap\":[{\"type\":\"heatmap\",\"colorbar\":{\"outlinewidth\":0,\"ticks\":\"\"},\"colorscale\":[[0.0,\"#0d0887\"],[0.1111111111111111,\"#46039f\"],[0.2222222222222222,\"#7201a8\"],[0.3333333333333333,\"#9c179e\"],[0.4444444444444444,\"#bd3786\"],[0.5555555555555556,\"#d8576b\"],[0.6666666666666666,\"#ed7953\"],[0.7777777777777778,\"#fb9f3a\"],[0.8888888888888888,\"#fdca26\"],[1.0,\"#f0f921\"]]}],\"heatmapgl\":[{\"type\":\"heatmapgl\",\"colorbar\":{\"outlinewidth\":0,\"ticks\":\"\"},\"colorscale\":[[0.0,\"#0d0887\"],[0.1111111111111111,\"#46039f\"],[0.2222222222222222,\"#7201a8\"],[0.3333333333333333,\"#9c179e\"],[0.4444444444444444,\"#bd3786\"],[0.5555555555555556,\"#d8576b\"],[0.6666666666666666,\"#ed7953\"],[0.7777777777777778,\"#fb9f3a\"],[0.8888888888888888,\"#fdca26\"],[1.0,\"#f0f921\"]]}],\"contourcarpet\":[{\"type\":\"contourcarpet\",\"colorbar\":{\"outlinewidth\":0,\"ticks\":\"\"}}],\"contour\":[{\"type\":\"contour\",\"colorbar\":{\"outlinewidth\":0,\"ticks\":\"\"},\"colorscale\":[[0.0,\"#0d0887\"],[0.1111111111111111,\"#46039f\"],[0.2222222222222222,\"#7201a8\"],[0.3333333333333333,\"#9c179e\"],[0.4444444444444444,\"#bd3786\"],[0.5555555555555556,\"#d8576b\"],[0.6666666666666666,\"#ed7953\"],[0.7777777777777778,\"#fb9f3a\"],[0.8888888888888888,\"#fdca26\"],[1.0,\"#f0f921\"]]}],\"surface\":[{\"type\":\"surface\",\"colorbar\":{\"outlinewidth\":0,\"ticks\":\"\"},\"colorscale\":[[0.0,\"#0d0887\"],[0.1111111111111111,\"#46039f\"],[0.2222222222222222,\"#7201a8\"],[0.3333333333333333,\"#9c179e\"],[0.4444444444444444,\"#bd3786\"],[0.5555555555555556,\"#d8576b\"],[0.6666666666666666,\"#ed7953\"],[0.7777777777777778,\"#fb9f3a\"],[0.8888888888888888,\"#fdca26\"],[1.0,\"#f0f921\"]]}],\"mesh3d\":[{\"type\":\"mesh3d\",\"colorbar\":{\"outlinewidth\":0,\"ticks\":\"\"}}],\"scatter\":[{\"fillpattern\":{\"fillmode\":\"overlay\",\"size\":10,\"solidity\":0.2},\"type\":\"scatter\"}],\"parcoords\":[{\"type\":\"parcoords\",\"line\":{\"colorbar\":{\"outlinewidth\":0,\"ticks\":\"\"}}}],\"scatterpolargl\":[{\"type\":\"scatterpolargl\",\"marker\":{\"colorbar\":{\"outlinewidth\":0,\"ticks\":\"\"}}}],\"bar\":[{\"error_x\":{\"color\":\"#2a3f5f\"},\"error_y\":{\"color\":\"#2a3f5f\"},\"marker\":{\"line\":{\"color\":\"#E5ECF6\",\"width\":0.5},\"pattern\":{\"fillmode\":\"overlay\",\"size\":10,\"solidity\":0.2}},\"type\":\"bar\"}],\"scattergeo\":[{\"type\":\"scattergeo\",\"marker\":{\"colorbar\":{\"outlinewidth\":0,\"ticks\":\"\"}}}],\"scatterpolar\":[{\"type\":\"scatterpolar\",\"marker\":{\"colorbar\":{\"outlinewidth\":0,\"ticks\":\"\"}}}],\"histogram\":[{\"marker\":{\"pattern\":{\"fillmode\":\"overlay\",\"size\":10,\"solidity\":0.2}},\"type\":\"histogram\"}],\"scattergl\":[{\"type\":\"scattergl\",\"marker\":{\"colorbar\":{\"outlinewidth\":0,\"ticks\":\"\"}}}],\"scatter3d\":[{\"type\":\"scatter3d\",\"line\":{\"colorbar\":{\"outlinewidth\":0,\"ticks\":\"\"}},\"marker\":{\"colorbar\":{\"outlinewidth\":0,\"ticks\":\"\"}}}],\"scattermapbox\":[{\"type\":\"scattermapbox\",\"marker\":{\"colorbar\":{\"outlinewidth\":0,\"ticks\":\"\"}}}],\"scatterternary\":[{\"type\":\"scatterternary\",\"marker\":{\"colorbar\":{\"outlinewidth\":0,\"ticks\":\"\"}}}],\"scattercarpet\":[{\"type\":\"scattercarpet\",\"marker\":{\"colorbar\":{\"outlinewidth\":0,\"ticks\":\"\"}}}],\"carpet\":[{\"aaxis\":{\"endlinecolor\":\"#2a3f5f\",\"gridcolor\":\"white\",\"linecolor\":\"white\",\"minorgridcolor\":\"white\",\"startlinecolor\":\"#2a3f5f\"},\"baxis\":{\"endlinecolor\":\"#2a3f5f\",\"gridcolor\":\"white\",\"linecolor\":\"white\",\"minorgridcolor\":\"white\",\"startlinecolor\":\"#2a3f5f\"},\"type\":\"carpet\"}],\"table\":[{\"cells\":{\"fill\":{\"color\":\"#EBF0F8\"},\"line\":{\"color\":\"white\"}},\"header\":{\"fill\":{\"color\":\"#C8D4E3\"},\"line\":{\"color\":\"white\"}},\"type\":\"table\"}],\"barpolar\":[{\"marker\":{\"line\":{\"color\":\"#E5ECF6\",\"width\":0.5},\"pattern\":{\"fillmode\":\"overlay\",\"size\":10,\"solidity\":0.2}},\"type\":\"barpolar\"}],\"pie\":[{\"automargin\":true,\"type\":\"pie\"}]},\"layout\":{\"autotypenumbers\":\"strict\",\"colorway\":[\"#636efa\",\"#EF553B\",\"#00cc96\",\"#ab63fa\",\"#FFA15A\",\"#19d3f3\",\"#FF6692\",\"#B6E880\",\"#FF97FF\",\"#FECB52\"],\"font\":{\"color\":\"#2a3f5f\"},\"hovermode\":\"closest\",\"hoverlabel\":{\"align\":\"left\"},\"paper_bgcolor\":\"white\",\"plot_bgcolor\":\"#E5ECF6\",\"polar\":{\"bgcolor\":\"#E5ECF6\",\"angularaxis\":{\"gridcolor\":\"white\",\"linecolor\":\"white\",\"ticks\":\"\"},\"radialaxis\":{\"gridcolor\":\"white\",\"linecolor\":\"white\",\"ticks\":\"\"}},\"ternary\":{\"bgcolor\":\"#E5ECF6\",\"aaxis\":{\"gridcolor\":\"white\",\"linecolor\":\"white\",\"ticks\":\"\"},\"baxis\":{\"gridcolor\":\"white\",\"linecolor\":\"white\",\"ticks\":\"\"},\"caxis\":{\"gridcolor\":\"white\",\"linecolor\":\"white\",\"ticks\":\"\"}},\"coloraxis\":{\"colorbar\":{\"outlinewidth\":0,\"ticks\":\"\"}},\"colorscale\":{\"sequential\":[[0.0,\"#0d0887\"],[0.1111111111111111,\"#46039f\"],[0.2222222222222222,\"#7201a8\"],[0.3333333333333333,\"#9c179e\"],[0.4444444444444444,\"#bd3786\"],[0.5555555555555556,\"#d8576b\"],[0.6666666666666666,\"#ed7953\"],[0.7777777777777778,\"#fb9f3a\"],[0.8888888888888888,\"#fdca26\"],[1.0,\"#f0f921\"]],\"sequentialminus\":[[0.0,\"#0d0887\"],[0.1111111111111111,\"#46039f\"],[0.2222222222222222,\"#7201a8\"],[0.3333333333333333,\"#9c179e\"],[0.4444444444444444,\"#bd3786\"],[0.5555555555555556,\"#d8576b\"],[0.6666666666666666,\"#ed7953\"],[0.7777777777777778,\"#fb9f3a\"],[0.8888888888888888,\"#fdca26\"],[1.0,\"#f0f921\"]],\"diverging\":[[0,\"#8e0152\"],[0.1,\"#c51b7d\"],[0.2,\"#de77ae\"],[0.3,\"#f1b6da\"],[0.4,\"#fde0ef\"],[0.5,\"#f7f7f7\"],[0.6,\"#e6f5d0\"],[0.7,\"#b8e186\"],[0.8,\"#7fbc41\"],[0.9,\"#4d9221\"],[1,\"#276419\"]]},\"xaxis\":{\"gridcolor\":\"white\",\"linecolor\":\"white\",\"ticks\":\"\",\"title\":{\"standoff\":15},\"zerolinecolor\":\"white\",\"automargin\":true,\"zerolinewidth\":2},\"yaxis\":{\"gridcolor\":\"white\",\"linecolor\":\"white\",\"ticks\":\"\",\"title\":{\"standoff\":15},\"zerolinecolor\":\"white\",\"automargin\":true,\"zerolinewidth\":2},\"scene\":{\"xaxis\":{\"backgroundcolor\":\"#E5ECF6\",\"gridcolor\":\"white\",\"linecolor\":\"white\",\"showbackground\":true,\"ticks\":\"\",\"zerolinecolor\":\"white\",\"gridwidth\":2},\"yaxis\":{\"backgroundcolor\":\"#E5ECF6\",\"gridcolor\":\"white\",\"linecolor\":\"white\",\"showbackground\":true,\"ticks\":\"\",\"zerolinecolor\":\"white\",\"gridwidth\":2},\"zaxis\":{\"backgroundcolor\":\"#E5ECF6\",\"gridcolor\":\"white\",\"linecolor\":\"white\",\"showbackground\":true,\"ticks\":\"\",\"zerolinecolor\":\"white\",\"gridwidth\":2}},\"shapedefaults\":{\"line\":{\"color\":\"#2a3f5f\"}},\"annotationdefaults\":{\"arrowcolor\":\"#2a3f5f\",\"arrowhead\":0,\"arrowwidth\":1},\"geo\":{\"bgcolor\":\"white\",\"landcolor\":\"#E5ECF6\",\"subunitcolor\":\"white\",\"showland\":true,\"showlakes\":true,\"lakecolor\":\"white\"},\"title\":{\"x\":0.05},\"mapbox\":{\"style\":\"light\"}}},\"xaxis\":{\"anchor\":\"y\",\"domain\":[0.0,1.0],\"title\":{\"text\":\"price\"}},\"yaxis\":{\"anchor\":\"x\",\"domain\":[0.0,1.0],\"title\":{\"text\":\"revenue\"}},\"legend\":{\"tracegroupgap\":0},\"margin\":{\"t\":60}},                        {\"responsive\": true}                    )                };                            </script>        </div>"
      ],
      "text/plain": [
       "Figure({\n",
       "    'data': [{'fillpattern': {'shape': ''},\n",
       "              'hovertemplate': 'price=%{x}<br>revenue=%{y}<extra></extra>',\n",
       "              'legendgroup': '',\n",
       "              'line': {'color': '#636efa'},\n",
       "              'marker': {'symbol': 'circle'},\n",
       "              'mode': 'lines',\n",
       "              'name': '',\n",
       "              'orientation': 'v',\n",
       "              'showlegend': False,\n",
       "              'stackgroup': '1',\n",
       "              'type': 'scatter',\n",
       "              'x': array([ 600., 1200.,   20., ...,  100.,  600.,   40.]),\n",
       "              'xaxis': 'x',\n",
       "              'y': array([6000., 6000., 1000., ..., 1000., 6600., 1200.]),\n",
       "              'yaxis': 'y'}],\n",
       "    'layout': {'legend': {'tracegroupgap': 0},\n",
       "               'margin': {'t': 60},\n",
       "               'template': '...',\n",
       "               'xaxis': {'anchor': 'y', 'domain': [0.0, 1.0], 'title': {'text': 'price'}},\n",
       "               'yaxis': {'anchor': 'x', 'domain': [0.0, 1.0], 'title': {'text': 'revenue'}}}\n",
       "})"
      ]
     },
     "execution_count": 47,
     "metadata": {},
     "output_type": "execute_result"
    }
   ],
   "source": [
    "px.area(data,x=\"price\",y=\"revenue\")"
   ]
  },
  {
   "cell_type": "code",
   "execution_count": null,
   "metadata": {},
   "outputs": [],
   "source": []
  }
 ],
 "metadata": {
  "kernelspec": {
   "display_name": "Python 3",
   "language": "python",
   "name": "python3"
  },
  "language_info": {
   "codemirror_mode": {
    "name": "ipython",
    "version": 3
   },
   "file_extension": ".py",
   "mimetype": "text/x-python",
   "name": "python",
   "nbconvert_exporter": "python",
   "pygments_lexer": "ipython3",
   "version": "3.12.1"
  }
 },
 "nbformat": 4,
 "nbformat_minor": 2
}
