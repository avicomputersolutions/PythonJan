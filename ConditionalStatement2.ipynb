{
 "cells": [
  {
   "cell_type": "code",
   "execution_count": 3,
   "metadata": {},
   "outputs": [
    {
     "name": "stdout",
     "output_type": "stream",
     "text": [
      "Negative\n"
     ]
    }
   ],
   "source": [
    "num =-1\n",
    "\n",
    "if num > 0:\n",
    "    print(\"Positive\")\n",
    "elif num < 0:\n",
    "    print(\"Negative\")\n",
    "else:\n",
    "    print(\"Zero\")"
   ]
  },
  {
   "cell_type": "code",
   "execution_count": 7,
   "metadata": {},
   "outputs": [
    {
     "name": "stdout",
     "output_type": "stream",
     "text": [
      "6.8\n",
      "3400.0\n"
     ]
    }
   ],
   "source": [
    "# variable  = Input\n",
    "unit = 500\n",
    "rate = 0\n",
    "#Process\n",
    "if unit <= 30:\n",
    "    rate = 3.34\n",
    "elif unit > 30   and   unit<=50 :  # and = &&\n",
    "    rate = 4.27\n",
    "elif unit > 50 and unit <=150  :\n",
    "    rate= 5.23\n",
    "elif unit > 150 and unit <= 300:\n",
    "    rate =6.61\n",
    "else :\n",
    "    rate = 6.80\n",
    "\n",
    "# Output\n",
    "print(rate)\n",
    "print(rate * unit)"
   ]
  },
  {
   "cell_type": "code",
   "execution_count": 15,
   "metadata": {},
   "outputs": [
    {
     "name": "stdout",
     "output_type": "stream",
     "text": [
      "Saturday\n"
     ]
    }
   ],
   "source": [
    "day = int(input(\"Enter Number of the day in year\"))\n",
    "\n",
    "day = day % 7\n",
    "\n",
    "if day != 0 :\n",
    "    if day == 1:\n",
    "        print(\"Monday\")\n",
    "    elif day == 2:\n",
    "        print(\"tuesday\")\n",
    "    elif day == 3:\n",
    "        print(\"Wedday\")\n",
    "    elif day == 4:\n",
    "        print(\"thursday\")\n",
    "    elif day == 5:\n",
    "        print(\"Friday\")\n",
    "    elif day == 6:\n",
    "        print(\"Saturday\")\n",
    "else :\n",
    "    print(\"Sunday\")\n"
   ]
  },
  {
   "cell_type": "code",
   "execution_count": null,
   "metadata": {},
   "outputs": [],
   "source": []
  },
  {
   "cell_type": "code",
   "execution_count": null,
   "metadata": {},
   "outputs": [],
   "source": [
    "int(input(\"Enter Number of the day in year\")) # Integer\n",
    "float(input(\"Enter Number of the day in year\")) # flaoting\n",
    "input(\"Enter Number of the day in year\") # Character"
   ]
  },
  {
   "cell_type": "code",
   "execution_count": 1,
   "metadata": {},
   "outputs": [
    {
     "name": "stdout",
     "output_type": "stream",
     "text": [
      "Friday\n"
     ]
    }
   ],
   "source": [
    "day = int(input(\"Enter Number of the day in year\"))\n",
    "\n",
    "# day = day % 7\n",
    "match day :\n",
    "    case 1 :\n",
    "        print(\"Monday\")\n",
    "    case 2:\n",
    "        print(\"Tuesday\")\n",
    "    case 3:\n",
    "        print(\"Wed\")\n",
    "    case 4:\n",
    "        print(\"Thursday\")\n",
    "    case 5:\n",
    "        print(\"Friday\")\n",
    "    case 6:\n",
    "        print(\"Saturday\")\n",
    "    case 7:\n",
    "        print(\"Sunday\")\n",
    "    case _ :\n",
    "        print(\"invaild\")\n"
   ]
  },
  {
   "cell_type": "code",
   "execution_count": 3,
   "metadata": {},
   "outputs": [
    {
     "name": "stdout",
     "output_type": "stream",
     "text": [
      "Tuesday\n"
     ]
    }
   ],
   "source": [
    "day = int(input(\"Enter Number of the day in year\"))\n",
    "\n",
    "day = day % 7\n",
    "match day :\n",
    "    \n",
    "    case 0:\n",
    "        print(\"Sunday\")\n",
    "    case _ :\n",
    "        match day :\n",
    "            case 1 :\n",
    "                print(\"Monday\")\n",
    "            case 2:\n",
    "                print(\"Tuesday\")\n",
    "            case 3:\n",
    "                print(\"Wed\")\n",
    "            case 4:\n",
    "                print(\"Thursday\")\n",
    "            case 5:\n",
    "                print(\"Friday\")\n",
    "            case 6:\n",
    "                print(\"Saturday\")\n",
    "            case 7:\n",
    "                print(\"Sunday\")\n",
    "            "
   ]
  },
  {
   "cell_type": "code",
   "execution_count": 4,
   "metadata": {},
   "outputs": [
    {
     "name": "stdout",
     "output_type": "stream",
     "text": [
      "12\n"
     ]
    }
   ],
   "source": [
    "num1 = int(input(\"Enter Number 1\"))\n",
    "symbol = input(\"What you want to do(+, - , x , / )\")\n",
    "num2 = int(input(\"Enter Number 2\"))\n",
    "\n",
    "result = 0\n",
    "\n",
    "match symbol :\n",
    "    case \"+\" :\n",
    "        result = num1 + num2\n",
    "    case \"-\":\n",
    "        result = num1 - num2\n",
    "    case \"x\" :\n",
    "        result = num1 * num2\n",
    "    case \"/\" :\n",
    "        result = num1 / num2\n",
    "\n",
    "\n",
    "\n",
    "\n",
    "print(result)"
   ]
  },
  {
   "cell_type": "code",
   "execution_count": null,
   "metadata": {},
   "outputs": [],
   "source": [
    "gender =  input(\"Enter Gender\")\n",
    "age = int(input(\"Enter your age\"))\n",
    "\n",
    "match gender :\n",
    "    case \"male\" :\n",
    "        if age >=60:\n",
    "            print(\"Eligible for booking\")\n",
    "        else:\n",
    "            print(\"Not Eligible for booking\")\n",
    "    case \"female\" :\n",
    "        if age >= 45:\n",
    "            print(\"Eligible for booking\")\n",
    "        else:\n",
    "            print(\"Not Eligible for booking\")"
   ]
  },
  {
   "cell_type": "code",
   "execution_count": null,
   "metadata": {},
   "outputs": [],
   "source": [
    "gender =  input(\"Enter Gender\")\n",
    "age = int(input(\"Enter your age\"))\n",
    "\n",
    "if (gender == \"male\" and age >=60) :\n",
    "    print(\"Eligible\")\n",
    "elif (gender == \"female\" and age >=45):\n",
    "    print(\"Eligible\")\n",
    "else:\n",
    "    print(\"Not Eligible\")"
   ]
  },
  {
   "cell_type": "code",
   "execution_count": null,
   "metadata": {},
   "outputs": [],
   "source": [
    "vowle=\"aeiouAEIOU\"\n",
    "inp = input(\"Enter a character\")\n",
    "\n",
    "if  inp in vowle:\n",
    "    print(\"Input is vowle\")\n",
    "else:\n",
    "    print(\"Input is not vowle\")"
   ]
  }
 ],
 "metadata": {
  "kernelspec": {
   "display_name": "Python 3",
   "language": "python",
   "name": "python3"
  },
  "language_info": {
   "codemirror_mode": {
    "name": "ipython",
    "version": 3
   },
   "file_extension": ".py",
   "mimetype": "text/x-python",
   "name": "python",
   "nbconvert_exporter": "python",
   "pygments_lexer": "ipython3",
   "version": "3.12.1"
  }
 },
 "nbformat": 4,
 "nbformat_minor": 2
}
